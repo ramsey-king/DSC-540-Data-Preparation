{
 "cells": [
  {
   "cell_type": "code",
   "execution_count": 1,
   "source": [
    "# Ramsey King\n",
    "# DSC 540 - Data Preparation\n",
    "# Week 7 & 8 Assignment\n",
    "# July 31, 2021"
   ],
   "outputs": [],
   "metadata": {
    "collapsed": true
   }
  },
  {
   "cell_type": "markdown",
   "source": [
    "## Data Wrangling with Python: Activity 9 (pg 294)\n",
    "\n",
    "### Project Guttenberg encourages the creation and distribution of eBooks by encouraging volunteer efforts to digitize\n",
    "### and archive cultural works.  This activity aims to scrape the URL of Project Guttenberg's Top 100 eBooks to\n",
    "### identify the eBooks' links.  It uses BeautifulSoup4 to parse the HTML and regular expression code to identify the\n",
    "### Top 100 eBook file numbers"
   ],
   "metadata": {
    "collapsed": false
   }
  },
  {
   "cell_type": "code",
   "execution_count": 2,
   "source": [
    "# 1. Import the necessary libraries, including regex and beautifulsoup.\n",
    "\n",
    "import re\n",
    "from bs4 import BeautifulSoup\n",
    "import requests"
   ],
   "outputs": [],
   "metadata": {
    "collapsed": false,
    "pycharm": {
     "name": "#%%\n"
    }
   }
  },
  {
   "cell_type": "code",
   "execution_count": 3,
   "source": [
    "# 2. Check the SSL Certificate.\n",
    "url = 'https://www.gutenberg.org/browse/scores/top'\n",
    "response = requests.get(url, verify = True)\n",
    "response"
   ],
   "outputs": [
    {
     "data": {
      "text/plain": "<Response [200]>"
     },
     "execution_count": 3,
     "metadata": {},
     "output_type": "execute_result"
    }
   ],
   "metadata": {
    "collapsed": false,
    "pycharm": {
     "name": "#%%\n"
    }
   }
  },
  {
   "cell_type": "code",
   "execution_count": 4,
   "source": [
    "# 3. Read the HTML from the URL.\n",
    "webpage_contents = requests.get(url).text\n",
    "soup = BeautifulSoup(webpage_contents)\n",
    "soup.prettify"
   ],
   "outputs": [
    {
     "data": {
      "text/plain": "<bound method Tag.prettify of <!DOCTYPE html>\n<html class=\"client-nojs\" dir=\"ltr\" lang=\"en\">\n<head>\n<meta charset=\"utf-8\"/>\n<title>Top 100 | Project Gutenberg</title>\n<link href=\"/gutenberg/style.css?v=1.1\" rel=\"stylesheet\"/>\n<link href=\"/gutenberg/collapsible.css?1.1\" rel=\"stylesheet\"/>\n<link href=\"/gutenberg/new_nav.css?v=1.321231\" rel=\"stylesheet\"/>\n<link href=\"/gutenberg/pg-desktop-one.css\" rel=\"stylesheet\"/>\n<meta content=\"width=device-width, initial-scale=1\" name=\"viewport\"/>\n<meta content=\"books, ebooks, free, kindle, android, iphone, ipad\" name=\"keywords\"/>\n<meta content=\"wucOEvSnj5kP3Ts_36OfP64laakK-1mVTg-ptrGC9io\" name=\"google-site-verification\"/>\n<meta content=\"4WNaCljsE-A82vP_ih2H_UqXZvM\" name=\"alexaVerifyID\"/>\n<link href=\"https://www.gnu.org/copyleft/fdl.html\" rel=\"copyright\"/>\n<link href=\"/gutenberg/favicon.ico?v=1.1\" rel=\"shortcut icon\"/>\n<meta content=\"Project Gutenberg\" property=\"og:title\"/>\n<meta content=\"website\" property=\"og:type\"/>\n<meta content=\"https://www.gutenberg.org/\" property=\"og:url\"/>\n<meta content=\"Project Gutenberg is a library of free eBooks.\" property=\"og:description\"/>\n<meta content=\"615269807\" property=\"fb:admins\"/>\n<meta content=\"115319388529183\" property=\"fb:app_id\"/>\n<meta content=\"Project Gutenberg\" property=\"og:site_name\"/>\n<meta content=\"https://www.gutenberg.org/gutenberg/pg-logo-144x144.png\" property=\"og:image\"/>\n</head>\n<body>\n<div class=\"container\"><!-- start body --><nav>\n<!--<div id=\"main_logo\"> -->\n<a class=\"no-hover\" href=\"/\" id=\"main_logo\">\n<img alt=\"Project Gutenberg\" draggable=\"false\" src=\"/gutenberg/pg-logo-129x80.png\"/>\n</a>\n<!--\t</div>-->\n<div id=\"menu\">\n<label for=\"tm\" id=\"toggle-menu\">Menu<span class=\"drop-icon\">▾</span></label>\n<input id=\"tm\" type=\"checkbox\"/>\n<ul class=\"main-menu cf\">\n<li>\n<a href=\"/about/\">About\n          <span class=\"drop-icon\">▾</span>\n</a>\n<label class=\"drop-icon\" for=\"sm0\" title=\"Toggle Drop-down\">▾</label>\n<input id=\"sm0\" type=\"checkbox\"/>\n<ul class=\"sub-menu\">\n<li><a href=\"/about/\">About Project Gutenberg</a></li>\n<li><a href=\"/policy/collection_development.html\">Collection Development</a></li>\n<li><a href=\"/about/contact_information.html\">Contact Us</a></li>\n<li><a href=\"/about/background/\">History &amp; Philosophy</a></li>\n<li><a href=\"/policy/permission.html\">Permissions &amp; License</a></li>\n<li><a href=\"/policy/privacy_policy.html\">Privacy Policy</a></li>\n<li><a href=\"/policy/terms_of_use.html\">Terms of Use</a></li>\n</ul>\n</li>\n<li>\n<a href=\"/ebooks/\">Search and Browse\n      \t  <span class=\"drop-icon\">▾</span>\n</a>\n<label class=\"drop-icon\" for=\"sm8\" title=\"Toggle Drop-down\">▾</label>\n<input id=\"sm8\" type=\"checkbox\"/>\n<ul class=\"sub-menu\">\n<li><a href=\"/ebooks/\">Book Search</a></li>\n<li><a href=\"/ebooks/bookshelf/\">Bookshelves</a></li>\n<li><a href=\"/browse/scores/top\">Frequently Downloaded</a></li>\n<li><a href=\"/ebooks/offline_catalogs.html\">Offline Catalogs</a></li>\n</ul>\n</li>\n<li>\n<a href=\"/help/\">Help\n          <span class=\"drop-icon\">▾</span>\n</a>\n<label class=\"drop-icon\" for=\"sm3\" title=\"Toggle Drop-down\">▾</label>\n<input id=\"sm3\" type=\"checkbox\"/>\n<ul class=\"sub-menu\">\n<li><a href=\"/help/\">All help topics →</a></li>\n<li><a href=\"/help/copyright.html\">Copyright Procedures</a></li>\n<li><a href=\"/help/errata.html\">Errata, Fixes and Bug Reports</a></li>\n<li><a href=\"/help/file_formats.html\">File Formats</a></li>\n<li><a href=\"/help/faq.html\">Frequently Asked Questions</a></li>\n<li><a href=\"/policy/\">Policies →</a></li>\n<li><a href=\"/help/public_domain_ebook_submission.html\">Public Domain eBook Submission</a></li>\n<li><a href=\"/help/submitting_your_own_work.html\">Submitting Your Own Work</a></li>\n<li><a href=\"/help/mobile.html\">Tablets, Phones and eReaders</a></li>\n<li><a href=\"/attic/\">The Attic →</a></li>\n</ul>\n</li>\n<li><a href=\"/donate/\">Donate</a></li>\n</ul>\n</div>\n<div class=\"donate\">\n<div class=\"searchbox\">\n<form accept-charset=\"utf-8\" action=\"/ebooks/search/\" class=\"searchbox\" enctype=\"multipart/form-data\" method=\"get\">\n<input class=\"searchInput\" id=\"menu-book-search\" maxlength=\"80\" name=\"query\" placeholder=\"  Quick search\" size=\"20\" tabindex=\"20\" title=\"Quick search\" type=\"text\" value=\"\"/>\n<input name=\"submit_search\" style=\"vertical-align:middle;\" type=\"submit\" value=\"Go!\"/>\n</form>\n</div>\n<form action=\"https://www.paypal.com/cgi-bin/webscr\" class=\"donatelink\" method=\"post\" target=\"new\">\n<p><a href=\"/donate/\">Donation</a></p>\n<input name=\"cmd\" type=\"hidden\" value=\"_s-xclick\"/>\n<input name=\"hosted_button_id\" type=\"hidden\" value=\"XKAL6BZL3YPSN\"/>\n<input alt=\"Donate via PayPal\" class=\"donbtn\" name=\"submit\" src=\"/pics/en_US.gif\" type=\"image\"/>\n</form>\n</div>\n</nav>\n<div class=\"page_content\"><!-- start content -->\n<h1>Frequently Viewed or Downloaded</h1>\n<p>These listings are based on the number of times each eBook gets downloaded.\n      Multiple downloads from the same Internet address on the same day count as one download, and addresses that download more than 100 eBooks in a day are considered robots and are not counted.</p>\n<table>\n<caption>Downloaded Books</caption>\n<tr><th>2021-07-28</th><td class=\"right\">132846</td></tr>\n<tr><th>last 7 days</th><td class=\"right\">925605</td></tr>\n<tr><th>last 30 days</th><td class=\"right\">4017756</td></tr>\n</table>\n<div class=\"padded\">\n<ul>\n<li><a href=\"#books-last1\">Top 100 EBooks yesterday</a></li>\n<li><a href=\"#authors-last1\">Top 100 Authors yesterday</a></li>\n<li><a href=\"#books-last7\">Top 100 EBooks last 7 days</a></li>\n<li><a href=\"#authors-last7\">Top 100 Authors last 7 days</a></li>\n<li><a href=\"#books-last30\">Top 100 EBooks last 30 days</a></li>\n<li><a href=\"#authors-last30\">Top 100 Authors last 30 days</a></li>\n</ul>\n</div>\n<h2 id=\"books-last1\">Top 100 EBooks yesterday</h2>\n<ol>\n<li><a href=\"/ebooks/1342\">Pride and Prejudice by Jane Austen (1471)</a></li>\n<li><a href=\"/ebooks/11\">Alice's Adventures in Wonderland by Lewis Carroll (752)</a></li>\n<li><a href=\"/ebooks/1661\">The Adventures of Sherlock Holmes by Arthur Conan Doyle (684)</a></li>\n<li><a href=\"/ebooks/84\">Frankenstein; Or, The Modern Prometheus by Mary Wollstonecraft Shelley (653)</a></li>\n<li><a href=\"/ebooks/2701\">Moby Dick; Or, The Whale by Herman Melville (599)</a></li>\n<li><a href=\"/ebooks/98\">A Tale of Two Cities by Charles Dickens (540)</a></li>\n<li><a href=\"/ebooks/174\">The Picture of Dorian Gray by Oscar Wilde (480)</a></li>\n<li><a href=\"/ebooks/65931\">No Time For Toffee! by Henry Farrell (469)</a></li>\n<li><a href=\"/ebooks/33283\">Calculus Made Easy by Silvanus P.  Thompson (444)</a></li>\n<li><a href=\"/ebooks/2600\">War and Peace by graf Leo Tolstoy (424)</a></li>\n<li><a href=\"/ebooks/64317\">The Great Gatsby by F. Scott  Fitzgerald (401)</a></li>\n<li><a href=\"/ebooks/345\">Dracula by Bram Stoker (391)</a></li>\n<li><a href=\"/ebooks/4300\">Ulysses by James Joyce (380)</a></li>\n<li><a href=\"/ebooks/5200\">Metamorphosis by Franz Kafka (376)</a></li>\n<li><a href=\"/ebooks/1232\">The Prince by Niccolò Machiavelli (355)</a></li>\n<li><a href=\"/ebooks/65929\">The Illustrators of Montmartre by Frank L. Emanuel (341)</a></li>\n<li><a href=\"/ebooks/2554\">Crime and Punishment by Fyodor Dostoyevsky (335)</a></li>\n<li><a href=\"/ebooks/26184\">Simple Sabotage Field Manual by United States. Office of Strategic Services (329)</a></li>\n<li><a href=\"/ebooks/65930\">Marcel Proust (320)</a></li>\n<li><a href=\"/ebooks/1260\">Jane Eyre: An Autobiography by Charlotte Brontë (315)</a></li>\n<li><a href=\"/ebooks/2591\">Grimms' Fairy Tales by Jacob Grimm and Wilhelm Grimm (313)</a></li>\n<li><a href=\"/ebooks/45\">Anne of Green Gables by L. M.  Montgomery (304)</a></li>\n<li><a href=\"/ebooks/219\">Heart of Darkness by Joseph Conrad (303)</a></li>\n<li><a href=\"/ebooks/1497\">The Republic by Plato (302)</a></li>\n<li><a href=\"/ebooks/2542\">A Doll's House : a play by Henrik Ibsen (301)</a></li>\n<li><a href=\"/ebooks/1400\">Great Expectations by Charles Dickens (300)</a></li>\n<li><a href=\"/ebooks/1952\">The Yellow Wallpaper by Charlotte Perkins Gilman (295)</a></li>\n<li><a href=\"/ebooks/16\">Peter Pan by J. M.  Barrie (293)</a></li>\n<li><a href=\"/ebooks/58585\">The Prophet by Kahlil Gibran (291)</a></li>\n<li><a href=\"/ebooks/46\">A Christmas Carol in Prose; Being a Ghost Story of Christmas by Charles Dickens (291)</a></li>\n<li><a href=\"/ebooks/6130\">The Iliad by Homer (282)</a></li>\n<li><a href=\"/ebooks/844\">The Importance of Being Earnest: A Trivial Comedy for Serious People by Oscar Wilde (277)</a></li>\n<li><a href=\"/ebooks/205\">Walden, and On The Duty Of Civil Disobedience by Henry David Thoreau (276)</a></li>\n<li><a href=\"/ebooks/996\">Don Quixote by Miguel de Cervantes Saavedra (270)</a></li>\n<li><a href=\"/ebooks/43\">The Strange Case of Dr. Jekyll and Mr. Hyde by Robert Louis Stevenson (270)</a></li>\n<li><a href=\"/ebooks/55\">The Wonderful Wizard of Oz by L. Frank  Baum (261)</a></li>\n<li><a href=\"/ebooks/14568\">Sir Gawayne and the Green Knight (260)</a></li>\n<li><a href=\"/ebooks/65932\">The Royal Regiment and Other Novelettes by James Grant (257)</a></li>\n<li><a href=\"/ebooks/27827\">The Kama Sutra of Vatsyayana by Vatsyayana (255)</a></li>\n<li><a href=\"/ebooks/120\">Treasure Island by Robert Louis Stevenson (253)</a></li>\n<li><a href=\"/ebooks/74\">The Adventures of Tom Sawyer, Complete by Mark Twain (249)</a></li>\n<li><a href=\"/ebooks/1184\">The Count of Monte Cristo, Illustrated by Alexandre Dumas (243)</a></li>\n<li><a href=\"/ebooks/63256\">The American Diary of a Japanese Girl by Yoné Noguchi (242)</a></li>\n<li><a href=\"/ebooks/6133\">The Extraordinary Adventures of Arsene Lupin, Gentleman-Burglar by Maurice Leblanc (242)</a></li>\n<li><a href=\"/ebooks/3618\">Arms and the Man by Bernard Shaw (242)</a></li>\n<li><a href=\"/ebooks/65938\">The Cosmic Bluff by Mack Reynolds (238)</a></li>\n<li><a href=\"/ebooks/65939\">Fortune's Fool by Rafael Sabatini (233)</a></li>\n<li><a href=\"/ebooks/5739\">Korean—English Dictionary by Leon Kuperman (230)</a></li>\n<li><a href=\"/ebooks/1080\">A Modest Proposal by Jonathan Swift (227)</a></li>\n<li><a href=\"/ebooks/514\">Little Women by Louisa May Alcott (219)</a></li>\n<li><a href=\"/ebooks/244\">A Study in Scarlet by Arthur Conan Doyle (216)</a></li>\n<li><a href=\"/ebooks/135\">Les Misérables by Victor Hugo (212)</a></li>\n<li><a href=\"/ebooks/113\">The Secret Garden by Frances Hodgson Burnett (211)</a></li>\n<li><a href=\"/ebooks/76\">Adventures of Huckleberry Finn by Mark Twain (208)</a></li>\n<li><a href=\"/ebooks/5740\">Tractatus Logico-Philosophicus by Ludwig Wittgenstein (208)</a></li>\n<li><a href=\"/ebooks/158\">Emma by Jane Austen (208)</a></li>\n<li><a href=\"/ebooks/65936\">Wanderlust by Alan Edward Nourse (208)</a></li>\n<li><a href=\"/ebooks/28054\">The Brothers Karamazov by Fyodor Dostoyevsky (205)</a></li>\n<li><a href=\"/ebooks/30254\">The Romance of Lust: A classic Victorian erotic novel by Anonymous (203)</a></li>\n<li><a href=\"/ebooks/1727\">The Odyssey by Homer (199)</a></li>\n<li><a href=\"/ebooks/768\">Wuthering Heights by Emily Brontë (199)</a></li>\n<li><a href=\"/ebooks/25344\">The Scarlet Letter by Nathaniel Hawthorne (198)</a></li>\n<li><a href=\"/ebooks/902\">The Happy Prince, and Other Tales by Oscar Wilde (195)</a></li>\n<li><a href=\"/ebooks/203\">Uncle Tom's Cabin by Harriet Beecher Stowe (188)</a></li>\n<li><a href=\"/ebooks/16328\">Beowulf: An Anglo-Saxon Epic Poem (188)</a></li>\n<li><a href=\"/ebooks/1998\">Thus Spake Zarathustra: A Book for All and None by Friedrich Wilhelm Nietzsche (186)</a></li>\n<li><a href=\"/ebooks/65942\">Jim Long-Knife by Florance Walton Taylor (186)</a></li>\n<li><a href=\"/ebooks/65943\">A Soldier's Life on the Western Frontier in 1813 by Anonymous (185)</a></li>\n<li><a href=\"/ebooks/65944\">Bread by Charles G. Norris (180)</a></li>\n<li><a href=\"/ebooks/236\">The Jungle Book by Rudyard Kipling (180)</a></li>\n<li><a href=\"/ebooks/2814\">Dubliners by James Joyce (179)</a></li>\n<li><a href=\"/ebooks/408\">The Souls of Black Folk by W. E. B.  Du Bois (176)</a></li>\n<li><a href=\"/ebooks/308\">Three Men in a Boat (To Say Nothing of the Dog) by Jerome K.  Jerome (174)</a></li>\n<li><a href=\"/ebooks/2680\">Meditations by Emperor of Rome Marcus Aurelius (171)</a></li>\n<li><a href=\"/ebooks/35\">The Time Machine by H. G.  Wells (171)</a></li>\n<li><a href=\"/ebooks/4363\">Beyond Good and Evil by Friedrich Wilhelm Nietzsche (170)</a></li>\n<li><a href=\"/ebooks/766\">David Copperfield by Charles Dickens (166)</a></li>\n<li><a href=\"/ebooks/36\">The War of the Worlds by H. G.  Wells (165)</a></li>\n<li><a href=\"/ebooks/863\">The Mysterious Affair at Styles by Agatha Christie (165)</a></li>\n<li><a href=\"/ebooks/215\">The Call of the Wild by Jack London (165)</a></li>\n<li><a href=\"/ebooks/829\">Gulliver's Travels into Several Remote Nations of the World by Jonathan Swift (165)</a></li>\n<li><a href=\"/ebooks/10\">The King James Version of the Bible (162)</a></li>\n<li><a href=\"/ebooks/3600\">Essays of Michel de Montaigne — Complete by Michel de Montaigne (162)</a></li>\n<li><a href=\"/ebooks/2199\">The Iliad by Homer (160)</a></li>\n<li><a href=\"/ebooks/1399\">Anna Karenina by graf Leo Tolstoy (159)</a></li>\n<li><a href=\"/ebooks/43453\">A Pickle for the Knowing Ones by Timothy Dexter (156)</a></li>\n<li><a href=\"/ebooks/2852\">The Hound of the Baskervilles by Arthur Conan Doyle (152)</a></li>\n<li><a href=\"/ebooks/35899\">The Philippines a Century Hence by José Rizal (150)</a></li>\n<li><a href=\"/ebooks/65923\">Little Rifle, The Boy Trapper; or The Young Fur Hunters by Capt. \"Bruin\" Adams (150)</a></li>\n<li><a href=\"/ebooks/42108\">The Slang Dictionary: Etymological, Historical and Andecdotal by John Camden Hotten (148)</a></li>\n<li><a href=\"/ebooks/1250\">Anthem by Ayn Rand (147)</a></li>\n<li><a href=\"/ebooks/103\">Around the World in Eighty Days by Jules Verne (143)</a></li>\n<li><a href=\"/ebooks/2500\">Siddhartha by Hermann Hesse (143)</a></li>\n<li><a href=\"/ebooks/4980\">Old Granny Fox by Thornton W.  Burgess (142)</a></li>\n<li><a href=\"/ebooks/160\">The Awakening, and Selected Short Stories by Kate Chopin (141)</a></li>\n<li><a href=\"/ebooks/730\">Oliver Twist by Charles Dickens (141)</a></li>\n<li><a href=\"/ebooks/65945\">The Toy by Kris Neville (141)</a></li>\n<li><a href=\"/ebooks/8800\">An Index of The Divine Comedy by Dante by Dante Alighieri (138)</a></li>\n<li><a href=\"/ebooks/25717\">The History of the Decline and Fall of the Roman Empire by Edward Gibbon (134)</a></li>\n<li><a href=\"/ebooks/14838\">The Tale of Peter Rabbit by Beatrix Potter (132)</a></li>\n</ol>\n<div class=\"padded\">\n<ul>\n<li><a href=\"#books-last1\">Top 100 EBooks yesterday</a></li>\n<li><a href=\"#authors-last1\">Top 100 Authors yesterday</a></li>\n<li><a href=\"#books-last7\">Top 100 EBooks last 7 days</a></li>\n<li><a href=\"#authors-last7\">Top 100 Authors last 7 days</a></li>\n<li><a href=\"#books-last30\">Top 100 EBooks last 30 days</a></li>\n<li><a href=\"#authors-last30\">Top 100 Authors last 30 days</a></li>\n</ul>\n</div>\n<h2 id=\"authors-last1\">Top 100 Authors yesterday</h2>\n<ol>\n<li><a href=\"/browse/authors/a#a68\">Austen, Jane (2322)</a></li>\n<li><a href=\"/browse/authors/d#a37\">Dickens, Charles (2254)</a></li>\n<li><a href=\"/browse/authors/d#a69\">Doyle, Arthur Conan (1776)</a></li>\n<li><a href=\"/browse/authors/t#a53\">Twain, Mark (1505)</a></li>\n<li><a href=\"/browse/authors/w#a111\">Wilde, Oscar (1291)</a></li>\n<li><a href=\"/browse/authors/c#a7\">Carroll, Lewis (1190)</a></li>\n<li><a href=\"/browse/authors/d#a314\">Dostoyevsky, Fyodor (1039)</a></li>\n<li><a href=\"/browse/authors/s#a35\">Stevenson, Robert Louis (949)</a></li>\n<li><a href=\"/browse/authors/s#a65\">Shakespeare, William (937)</a></li>\n<li><a href=\"/browse/authors/t#a136\">Tolstoy, Leo, graf (911)</a></li>\n<li><a href=\"/browse/authors/w#a30\">Wells, H. G. (Herbert George) (860)</a></li>\n<li><a href=\"/browse/authors/s#a61\">Shelley, Mary Wollstonecraft (813)</a></li>\n<li><a href=\"/browse/authors/h#a705\">Homer (799)</a></li>\n<li><a href=\"/browse/authors/g#a2858\">Garnett, Constance (772)</a></li>\n<li><a href=\"/browse/authors/m#a9\">Melville, Herman (753)</a></li>\n<li><a href=\"/browse/authors/n#a779\">Nietzsche, Friedrich Wilhelm (725)</a></li>\n<li><a href=\"/browse/authors/m#a36\">Montgomery, L. M. (Lucy Maud) (702)</a></li>\n<li><a href=\"/browse/authors/v#a60\">Verne, Jules (700)</a></li>\n<li><a href=\"/browse/authors/k#a132\">Kipling, Rudyard (674)</a></li>\n<li><a href=\"/browse/authors/p#a93\">Plato (671)</a></li>\n<li><a href=\"/browse/authors/j#a1039\">Joyce, James (661)</a></li>\n<li><a href=\"/browse/authors/j#a94\">Jowett, Benjamin (651)</a></li>\n<li><a href=\"/browse/authors/d#a492\">Dumas, Alexandre (645)</a></li>\n<li><a href=\"/browse/authors/b#a42\">Baum, L. Frank (Lyman Frank) (628)</a></li>\n<li><a href=\"/browse/authors/l#a120\">London, Jack (619)</a></li>\n<li><a href=\"/browse/authors/c#a125\">Conrad, Joseph (573)</a></li>\n<li><a href=\"/browse/authors/d#a1896\">Doré, Gustave (568)</a></li>\n<li><a href=\"/browse/authors/d#a507\">Dante Alighieri (565)</a></li>\n<li><a href=\"/browse/authors/k#a1735\">Kafka, Franz (550)</a></li>\n<li><a href=\"/browse/authors/p#a481\">Poe, Edgar Allan (546)</a></li>\n<li><a href=\"/browse/authors/l#a79\">Lang, Andrew (543)</a></li>\n<li><a href=\"/browse/authors/s#a467\">Shaw, Bernard (540)</a></li>\n<li><a href=\"/browse/authors/j#a113\">James, Henry (533)</a></li>\n<li><a href=\"/browse/authors/l#a1358\">Leblanc, Maurice (531)</a></li>\n<li><a href=\"/browse/authors/m#a500\">Maude, Louise (516)</a></li>\n<li><a href=\"/browse/authors/m#a4589\">Maude, Aylmer (515)</a></li>\n<li><a href=\"/browse/authors/s#a190\">Stoker, Bram (514)</a></li>\n<li><a href=\"/browse/authors/f#a420\">Fitzgerald, F. Scott (Francis Scott) (511)</a></li>\n<li><a href=\"/browse/authors/f#a53188\">Farrell, Henry (500)</a></li>\n<li><a href=\"/browse/authors/c#a451\">Christie, Agatha (499)</a></li>\n<li><a href=\"/browse/authors/p#a292\">Potter, Beatrix (493)</a></li>\n<li><a href=\"/browse/authors/w#a1961\">Widger, David (484)</a></li>\n<li><a href=\"/browse/authors/s#a59\">Scott, Walter (482)</a></li>\n<li><a href=\"/browse/authors/c#a505\">Cervantes Saavedra, Miguel de (481)</a></li>\n<li><a href=\"/browse/authors/s#a326\">Swift, Jonathan (469)</a></li>\n<li><a href=\"/browse/authors/b#a73\">Burnett, Frances Hodgson (469)</a></li>\n<li><a href=\"/browse/authors/c#a80\">Chesterton, G. K. (Gilbert Keith) (458)</a></li>\n<li><a href=\"/browse/authors/i#a861\">Ibsen, Henrik (457)</a></li>\n<li><a href=\"/browse/authors/t#a36308\">Thompson, Silvanus P. (Silvanus Phillips) (456)</a></li>\n<li><a href=\"/browse/authors/r#a2183\">Rizal, José (455)</a></li>\n<li><a href=\"/browse/authors/w#a1736\">Wyllie, David (Translator) (451)</a></li>\n<li><a href=\"/browse/authors/a#a102\">Alcott, Louisa May (450)</a></li>\n<li><a href=\"/browse/authors/p#a907\">Pope, Alexander (442)</a></li>\n<li><a href=\"/browse/authors/h#a28\">Hawthorne, Nathaniel (441)</a></li>\n<li><a href=\"/browse/authors/h#a85\">Hugo, Victor (440)</a></li>\n<li><a href=\"/browse/authors/b#a898\">Burton, Richard Francis, Sir (433)</a></li>\n<li><a href=\"/browse/authors/b#a10\">Barrie, J. M. (James Matthew) (432)</a></li>\n<li><a href=\"/browse/authors/g#a972\">Grimm, Wilhelm (424)</a></li>\n<li><a href=\"/browse/authors/g#a971\">Grimm, Jacob (424)</a></li>\n<li><a href=\"/browse/authors/t#a54\">Thoreau, Henry David (422)</a></li>\n<li><a href=\"/browse/authors/b#a748\">Butler, Samuel (411)</a></li>\n<li><a href=\"/browse/authors/r#a355\">Russell, Bertrand (406)</a></li>\n<li><a href=\"/browse/authors/c#a708\">Chekhov, Anton Pavlovich (395)</a></li>\n<li><a href=\"/browse/authors/m#a563\">Machiavelli, Niccolò (392)</a></li>\n<li><a href=\"/browse/authors/b#a408\">Brontë, Charlotte (385)</a></li>\n<li><a href=\"/browse/authors/g#a8949\">Grant, James (364)</a></li>\n<li><a href=\"/browse/authors/o#a506\">Ormsby, John (363)</a></li>\n<li><a href=\"/browse/authors/m#a564\">Marriott, W. K. (William Kenaz) (358)</a></li>\n<li><a href=\"/browse/authors/l#a9473\">Leech, John (349)</a></li>\n<li><a href=\"/browse/authors/m#a1355\">Morley, Henry (348)</a></li>\n<li><a href=\"/browse/authors/s#a640\">Sabatini, Rafael (348)</a></li>\n<li><a href=\"/browse/authors/e#a53555\">Emanuel, Frank L. (341)</a></li>\n<li><a href=\"/browse/authors/g#a27\">Gilman, Charlotte Perkins (340)</a></li>\n<li><a href=\"/browse/authors/g#a850\">Galsworthy, John (337)</a></li>\n<li><a href=\"/browse/authors/c#a3622\">Cary, Henry Francis (336)</a></li>\n<li><a href=\"/browse/authors/t#a9854\">Townsend, F. H. (Frederick Henry) (329)</a></li>\n<li><a href=\"/browse/authors/r#a25744\">Reynolds, Mack (329)</a></li>\n<li><a href=\"/browse/authors/u#a31855\">United States. Office of Strategic Services (329)</a></li>\n<li><a href=\"/browse/authors/b#a251\">Balzac, Honoré de (327)</a></li>\n<li><a href=\"/browse/authors/d#a204\">Defoe, Daniel (325)</a></li>\n<li><a href=\"/browse/authors/m#a306\">Maupassant, Guy de (325)</a></li>\n<li><a href=\"/browse/authors/m#a53556\">Moncrieff, C. K. Scott (320)</a></li>\n<li><a href=\"/browse/authors/g#a586\">Goethe, Johann Wolfgang von (314)</a></li>\n<li><a href=\"/browse/authors/b#a25301\">Buckley, Theodore Alois (311)</a></li>\n<li><a href=\"/browse/authors/t#a942\">Tagore, Rabindranath (307)</a></li>\n<li><a href=\"/browse/authors/g#a1813\">Gibran, Kahlil (306)</a></li>\n<li><a href=\"/browse/authors/h#a33608\">Hapgood, Isabel Florence (292)</a></li>\n<li><a href=\"/browse/authors/h#a23\">Hardy, Thomas (289)</a></li>\n<li><a href=\"/browse/authors/w#a783\">Wodehouse, P. G. (Pelham Grenville) (279)</a></li>\n<li><a href=\"/browse/authors/n#a25579\">Nourse, Alan Edward (278)</a></li>\n<li><a href=\"/browse/authors/n#a407\">Nesbit, E. (Edith) (277)</a></li>\n<li><a href=\"/browse/authors/d#a4931\">Derbyshire, Charles E. (274)</a></li>\n<li><a href=\"/browse/authors/i#a34\">Irving, Washington (270)</a></li>\n<li><a href=\"/browse/authors/o#a963\">Oliphant, Mrs. (Margaret) (268)</a></li>\n<li><a href=\"/browse/authors/m#a34489\">Morris, Richard (267)</a></li>\n<li><a href=\"/browse/authors/e#a90\">Eliot, George (260)</a></li>\n<li><a href=\"/browse/authors/v#a5593\">Vatsyayana (259)</a></li>\n<li><a href=\"/browse/authors/w#a104\">Wharton, Edith (258)</a></li>\n<li><a href=\"/browse/authors/i#a32930\">Indrajit, Bhagavanlal (255)</a></li>\n<li><a href=\"/browse/authors/b#a32931\">Bhide, Shivaram Parashuram (255)</a></li>\n</ol>\n<div class=\"padded\">\n<ul>\n<li><a href=\"#books-last1\">Top 100 EBooks yesterday</a></li>\n<li><a href=\"#authors-last1\">Top 100 Authors yesterday</a></li>\n<li><a href=\"#books-last7\">Top 100 EBooks last 7 days</a></li>\n<li><a href=\"#authors-last7\">Top 100 Authors last 7 days</a></li>\n<li><a href=\"#books-last30\">Top 100 EBooks last 30 days</a></li>\n<li><a href=\"#authors-last30\">Top 100 Authors last 30 days</a></li>\n</ul>\n</div>\n<h2 id=\"books-last7\">Top 100 EBooks last 7 days</h2>\n<ol>\n<li><a href=\"/ebooks/1342\">Pride and Prejudice by Jane Austen (10691)</a></li>\n<li><a href=\"/ebooks/11\">Alice's Adventures in Wonderland by Lewis Carroll (5150)</a></li>\n<li><a href=\"/ebooks/1661\">The Adventures of Sherlock Holmes by Arthur Conan Doyle (4623)</a></li>\n<li><a href=\"/ebooks/84\">Frankenstein; Or, The Modern Prometheus by Mary Wollstonecraft Shelley (4223)</a></li>\n<li><a href=\"/ebooks/2701\">Moby Dick; Or, The Whale by Herman Melville (3910)</a></li>\n<li><a href=\"/ebooks/98\">A Tale of Two Cities by Charles Dickens (3752)</a></li>\n<li><a href=\"/ebooks/174\">The Picture of Dorian Gray by Oscar Wilde (3266)</a></li>\n<li><a href=\"/ebooks/64317\">The Great Gatsby by F. Scott  Fitzgerald (2851)</a></li>\n<li><a href=\"/ebooks/2600\">War and Peace by graf Leo Tolstoy (2755)</a></li>\n<li><a href=\"/ebooks/345\">Dracula by Bram Stoker (2706)</a></li>\n<li><a href=\"/ebooks/4300\">Ulysses by James Joyce (2451)</a></li>\n<li><a href=\"/ebooks/1232\">The Prince by Niccolò Machiavelli (2446)</a></li>\n<li><a href=\"/ebooks/5200\">Metamorphosis by Franz Kafka (2417)</a></li>\n<li><a href=\"/ebooks/1260\">Jane Eyre: An Autobiography by Charlotte Brontë (2305)</a></li>\n<li><a href=\"/ebooks/1952\">The Yellow Wallpaper by Charlotte Perkins Gilman (2292)</a></li>\n<li><a href=\"/ebooks/2542\">A Doll's House : a play by Henrik Ibsen (2281)</a></li>\n<li><a href=\"/ebooks/2591\">Grimms' Fairy Tales by Jacob Grimm and Wilhelm Grimm (2228)</a></li>\n<li><a href=\"/ebooks/2554\">Crime and Punishment by Fyodor Dostoyevsky (2205)</a></li>\n<li><a href=\"/ebooks/58585\">The Prophet by Kahlil Gibran (2096)</a></li>\n<li><a href=\"/ebooks/1400\">Great Expectations by Charles Dickens (1949)</a></li>\n<li><a href=\"/ebooks/43\">The Strange Case of Dr. Jekyll and Mr. Hyde by Robert Louis Stevenson (1924)</a></li>\n<li><a href=\"/ebooks/16\">Peter Pan by J. M.  Barrie (1916)</a></li>\n<li><a href=\"/ebooks/45\">Anne of Green Gables by L. M.  Montgomery (1909)</a></li>\n<li><a href=\"/ebooks/74\">The Adventures of Tom Sawyer, Complete by Mark Twain (1899)</a></li>\n<li><a href=\"/ebooks/46\">A Christmas Carol in Prose; Being a Ghost Story of Christmas by Charles Dickens (1877)</a></li>\n<li><a href=\"/ebooks/6130\">The Iliad by Homer (1853)</a></li>\n<li><a href=\"/ebooks/63256\">The American Diary of a Japanese Girl by Yoné Noguchi (1845)</a></li>\n<li><a href=\"/ebooks/205\">Walden, and On The Duty Of Civil Disobedience by Henry David Thoreau (1839)</a></li>\n<li><a href=\"/ebooks/6133\">The Extraordinary Adventures of Arsene Lupin, Gentleman-Burglar by Maurice Leblanc (1828)</a></li>\n<li><a href=\"/ebooks/1184\">The Count of Monte Cristo, Illustrated by Alexandre Dumas (1812)</a></li>\n<li><a href=\"/ebooks/55\">The Wonderful Wizard of Oz by L. Frank  Baum (1763)</a></li>\n<li><a href=\"/ebooks/514\">Little Women by Louisa May Alcott (1733)</a></li>\n<li><a href=\"/ebooks/27827\">The Kama Sutra of Vatsyayana by Vatsyayana (1727)</a></li>\n<li><a href=\"/ebooks/844\">The Importance of Being Earnest: A Trivial Comedy for Serious People by Oscar Wilde (1695)</a></li>\n<li><a href=\"/ebooks/996\">Don Quixote by Miguel de Cervantes Saavedra (1686)</a></li>\n<li><a href=\"/ebooks/5740\">Tractatus Logico-Philosophicus by Ludwig Wittgenstein (1642)</a></li>\n<li><a href=\"/ebooks/30254\">The Romance of Lust: A classic Victorian erotic novel by Anonymous (1630)</a></li>\n<li><a href=\"/ebooks/219\">Heart of Darkness by Joseph Conrad (1622)</a></li>\n<li><a href=\"/ebooks/1497\">The Republic by Plato (1622)</a></li>\n<li><a href=\"/ebooks/5739\">Korean—English Dictionary by Leon Kuperman (1606)</a></li>\n<li><a href=\"/ebooks/65903\">Psychology of the Unconscious by C. G.  Jung (1576)</a></li>\n<li><a href=\"/ebooks/26184\">Simple Sabotage Field Manual by United States. Office of Strategic Services (1574)</a></li>\n<li><a href=\"/ebooks/244\">A Study in Scarlet by Arthur Conan Doyle (1544)</a></li>\n<li><a href=\"/ebooks/1080\">A Modest Proposal by Jonathan Swift (1539)</a></li>\n<li><a href=\"/ebooks/76\">Adventures of Huckleberry Finn by Mark Twain (1514)</a></li>\n<li><a href=\"/ebooks/120\">Treasure Island by Robert Louis Stevenson (1497)</a></li>\n<li><a href=\"/ebooks/135\">Les Misérables by Victor Hugo (1472)</a></li>\n<li><a href=\"/ebooks/1998\">Thus Spake Zarathustra: A Book for All and None by Friedrich Wilhelm Nietzsche (1409)</a></li>\n<li><a href=\"/ebooks/768\">Wuthering Heights by Emily Brontë (1399)</a></li>\n<li><a href=\"/ebooks/158\">Emma by Jane Austen (1365)</a></li>\n<li><a href=\"/ebooks/28054\">The Brothers Karamazov by Fyodor Dostoyevsky (1338)</a></li>\n<li><a href=\"/ebooks/33283\">Calculus Made Easy by Silvanus P.  Thompson (1309)</a></li>\n<li><a href=\"/ebooks/35899\">The Philippines a Century Hence by José Rizal (1302)</a></li>\n<li><a href=\"/ebooks/203\">Uncle Tom's Cabin by Harriet Beecher Stowe (1283)</a></li>\n<li><a href=\"/ebooks/408\">The Souls of Black Folk by W. E. B.  Du Bois (1272)</a></li>\n<li><a href=\"/ebooks/902\">The Happy Prince, and Other Tales by Oscar Wilde (1262)</a></li>\n<li><a href=\"/ebooks/1727\">The Odyssey by Homer (1259)</a></li>\n<li><a href=\"/ebooks/863\">The Mysterious Affair at Styles by Agatha Christie (1241)</a></li>\n<li><a href=\"/ebooks/25344\">The Scarlet Letter by Nathaniel Hawthorne (1231)</a></li>\n<li><a href=\"/ebooks/65890\">The Death of Captain Wells by Allan H. Dougall (1223)</a></li>\n<li><a href=\"/ebooks/236\">The Jungle Book by Rudyard Kipling (1220)</a></li>\n<li><a href=\"/ebooks/65910\">Norse mythology; or, The religion of our forefathers, containing all the myths of the Eddas, systema (1207)</a></li>\n<li><a href=\"/ebooks/113\">The Secret Garden by Frances Hodgson Burnett (1206)</a></li>\n<li><a href=\"/ebooks/829\">Gulliver's Travels into Several Remote Nations of the World by Jonathan Swift (1204)</a></li>\n<li><a href=\"/ebooks/2852\">The Hound of the Baskervilles by Arthur Conan Doyle (1192)</a></li>\n<li><a href=\"/ebooks/4363\">Beyond Good and Evil by Friedrich Wilhelm Nietzsche (1187)</a></li>\n<li><a href=\"/ebooks/730\">Oliver Twist by Charles Dickens (1170)</a></li>\n<li><a href=\"/ebooks/25717\">The History of the Decline and Fall of the Roman Empire by Edward Gibbon (1166)</a></li>\n<li><a href=\"/ebooks/36\">The War of the Worlds by H. G.  Wells (1164)</a></li>\n<li><a href=\"/ebooks/16328\">Beowulf: An Anglo-Saxon Epic Poem (1163)</a></li>\n<li><a href=\"/ebooks/2680\">Meditations by Emperor of Rome Marcus Aurelius (1143)</a></li>\n<li><a href=\"/ebooks/1399\">Anna Karenina by graf Leo Tolstoy (1114)</a></li>\n<li><a href=\"/ebooks/4980\">Old Granny Fox by Thornton W.  Burgess (1079)</a></li>\n<li><a href=\"/ebooks/3600\">Essays of Michel de Montaigne — Complete by Michel de Montaigne (1065)</a></li>\n<li><a href=\"/ebooks/766\">David Copperfield by Charles Dickens (1058)</a></li>\n<li><a href=\"/ebooks/14568\">Sir Gawayne and the Green Knight (1038)</a></li>\n<li><a href=\"/ebooks/308\">Three Men in a Boat (To Say Nothing of the Dog) by Jerome K.  Jerome (1038)</a></li>\n<li><a href=\"/ebooks/35\">The Time Machine by H. G.  Wells (1026)</a></li>\n<li><a href=\"/ebooks/2814\">Dubliners by James Joyce (1025)</a></li>\n<li><a href=\"/ebooks/65901\">Heart of the World by H. Rider  Haggard (1011)</a></li>\n<li><a href=\"/ebooks/132\">The Art of War by active 6th century B.C. Sunzi (998)</a></li>\n<li><a href=\"/ebooks/42108\">The Slang Dictionary: Etymological, Historical and Andecdotal by John Camden Hotten (991)</a></li>\n<li><a href=\"/ebooks/2500\">Siddhartha by Hermann Hesse (989)</a></li>\n<li><a href=\"/ebooks/65896\">So Many Worlds Away... by Dwight V. Swain (960)</a></li>\n<li><a href=\"/ebooks/10\">The King James Version of the Bible (939)</a></li>\n<li><a href=\"/ebooks/65902\">Tomorrow the World! by Robert W. Krepps (931)</a></li>\n<li><a href=\"/ebooks/43453\">A Pickle for the Knowing Ones by Timothy Dexter (924)</a></li>\n<li><a href=\"/ebooks/8800\">An Index of The Divine Comedy by Dante by Dante Alighieri (924)</a></li>\n<li><a href=\"/ebooks/65908\">Illuminated illustrations of Froissart; Selected from the ms. in the British museum. by Froissart (912)</a></li>\n<li><a href=\"/ebooks/160\">The Awakening, and Selected Short Stories by Kate Chopin (904)</a></li>\n<li><a href=\"/ebooks/103\">Around the World in Eighty Days by Jules Verne (901)</a></li>\n<li><a href=\"/ebooks/215\">The Call of the Wild by Jack London (900)</a></li>\n<li><a href=\"/ebooks/65912\">\"Swat the Fly!\": A One-Act Fantasy by Eleanor Gates (892)</a></li>\n<li><a href=\"/ebooks/161\">Sense and Sensibility by Jane Austen (884)</a></li>\n<li><a href=\"/ebooks/41\">The Legend of Sleepy Hollow by Washington Irving (881)</a></li>\n<li><a href=\"/ebooks/3090\">Complete Original Short Stories of Guy De Maupassant by Guy de Maupassant (876)</a></li>\n<li><a href=\"/ebooks/23\">Narrative of the Life of Frederick Douglass, an American Slave by Frederick Douglass (875)</a></li>\n<li><a href=\"/ebooks/105\">Persuasion by Jane Austen (864)</a></li>\n<li><a href=\"/ebooks/61\">The Communist Manifesto by Friedrich Engels and Karl Marx (857)</a></li>\n<li><a href=\"/ebooks/1250\">Anthem by Ayn Rand (849)</a></li>\n</ol>\n<div class=\"padded\">\n<ul>\n<li><a href=\"#books-last1\">Top 100 EBooks yesterday</a></li>\n<li><a href=\"#authors-last1\">Top 100 Authors yesterday</a></li>\n<li><a href=\"#books-last7\">Top 100 EBooks last 7 days</a></li>\n<li><a href=\"#authors-last7\">Top 100 Authors last 7 days</a></li>\n<li><a href=\"#books-last30\">Top 100 EBooks last 30 days</a></li>\n<li><a href=\"#authors-last30\">Top 100 Authors last 30 days</a></li>\n</ul>\n</div>\n<h2 id=\"authors-last7\">Top 100 Authors last 7 days</h2>\n<ol>\n<li><a href=\"/browse/authors/a#a68\">Austen, Jane (16400)</a></li>\n<li><a href=\"/browse/authors/d#a37\">Dickens, Charles (15996)</a></li>\n<li><a href=\"/browse/authors/d#a69\">Doyle, Arthur Conan (12731)</a></li>\n<li><a href=\"/browse/authors/t#a53\">Twain, Mark (10016)</a></li>\n<li><a href=\"/browse/authors/w#a111\">Wilde, Oscar (8675)</a></li>\n<li><a href=\"/browse/authors/c#a7\">Carroll, Lewis (8030)</a></li>\n<li><a href=\"/browse/authors/d#a314\">Dostoyevsky, Fyodor (6831)</a></li>\n<li><a href=\"/browse/authors/t#a136\">Tolstoy, Leo, graf (6292)</a></li>\n<li><a href=\"/browse/authors/s#a35\">Stevenson, Robert Louis (6284)</a></li>\n<li><a href=\"/browse/authors/s#a65\">Shakespeare, William (6099)</a></li>\n<li><a href=\"/browse/authors/w#a30\">Wells, H. G. (Herbert George) (5609)</a></li>\n<li><a href=\"/browse/authors/n#a779\">Nietzsche, Friedrich Wilhelm (5414)</a></li>\n<li><a href=\"/browse/authors/s#a61\">Shelley, Mary Wollstonecraft (5181)</a></li>\n<li><a href=\"/browse/authors/g#a2858\">Garnett, Constance (5106)</a></li>\n<li><a href=\"/browse/authors/m#a9\">Melville, Herman (5032)</a></li>\n<li><a href=\"/browse/authors/h#a705\">Homer (4788)</a></li>\n<li><a href=\"/browse/authors/v#a60\">Verne, Jules (4572)</a></li>\n<li><a href=\"/browse/authors/d#a492\">Dumas, Alexandre (4539)</a></li>\n<li><a href=\"/browse/authors/p#a93\">Plato (4350)</a></li>\n<li><a href=\"/browse/authors/m#a36\">Montgomery, L. M. (Lucy Maud) (4348)</a></li>\n<li><a href=\"/browse/authors/b#a42\">Baum, L. Frank (Lyman Frank) (4335)</a></li>\n<li><a href=\"/browse/authors/k#a132\">Kipling, Rudyard (4186)</a></li>\n<li><a href=\"/browse/authors/j#a1039\">Joyce, James (4153)</a></li>\n<li><a href=\"/browse/authors/j#a94\">Jowett, Benjamin (4097)</a></li>\n<li><a href=\"/browse/authors/p#a481\">Poe, Edgar Allan (3811)</a></li>\n<li><a href=\"/browse/authors/d#a1896\">Doré, Gustave (3760)</a></li>\n<li><a href=\"/browse/authors/c#a451\">Christie, Agatha (3718)</a></li>\n<li><a href=\"/browse/authors/l#a1358\">Leblanc, Maurice (3678)</a></li>\n<li><a href=\"/browse/authors/c#a80\">Chesterton, G. K. (Gilbert Keith) (3658)</a></li>\n<li><a href=\"/browse/authors/d#a507\">Dante Alighieri (3642)</a></li>\n<li><a href=\"/browse/authors/w#a1961\">Widger, David (3638)</a></li>\n<li><a href=\"/browse/authors/l#a120\">London, Jack (3622)</a></li>\n<li><a href=\"/browse/authors/f#a420\">Fitzgerald, F. Scott (Francis Scott) (3552)</a></li>\n<li><a href=\"/browse/authors/r#a2183\">Rizal, José (3542)</a></li>\n<li><a href=\"/browse/authors/c#a125\">Conrad, Joseph (3478)</a></li>\n<li><a href=\"/browse/authors/k#a1735\">Kafka, Franz (3468)</a></li>\n<li><a href=\"/browse/authors/l#a79\">Lang, Andrew (3462)</a></li>\n<li><a href=\"/browse/authors/m#a4589\">Maude, Aylmer (3383)</a></li>\n<li><a href=\"/browse/authors/s#a190\">Stoker, Bram (3377)</a></li>\n<li><a href=\"/browse/authors/m#a500\">Maude, Louise (3357)</a></li>\n<li><a href=\"/browse/authors/i#a861\">Ibsen, Henrik (3352)</a></li>\n<li><a href=\"/browse/authors/s#a326\">Swift, Jonathan (3346)</a></li>\n<li><a href=\"/browse/authors/a#a102\">Alcott, Louisa May (3294)</a></li>\n<li><a href=\"/browse/authors/j#a113\">James, Henry (3238)</a></li>\n<li><a href=\"/browse/authors/h#a28\">Hawthorne, Nathaniel (3174)</a></li>\n<li><a href=\"/browse/authors/h#a85\">Hugo, Victor (3070)</a></li>\n<li><a href=\"/browse/authors/r#a355\">Russell, Bertrand (3005)</a></li>\n<li><a href=\"/browse/authors/g#a972\">Grimm, Wilhelm (2952)</a></li>\n<li><a href=\"/browse/authors/g#a971\">Grimm, Jacob (2952)</a></li>\n<li><a href=\"/browse/authors/w#a1736\">Wyllie, David (Translator) (2947)</a></li>\n<li><a href=\"/browse/authors/t#a34265\">Terry, W. E. (2936)</a></li>\n<li><a href=\"/browse/authors/c#a505\">Cervantes Saavedra, Miguel de (2933)</a></li>\n<li><a href=\"/browse/authors/b#a10\">Barrie, J. M. (James Matthew) (2840)</a></li>\n<li><a href=\"/browse/authors/b#a408\">Brontë, Charlotte (2818)</a></li>\n<li><a href=\"/browse/authors/b#a73\">Burnett, Frances Hodgson (2817)</a></li>\n<li><a href=\"/browse/authors/p#a907\">Pope, Alexander (2786)</a></li>\n<li><a href=\"/browse/authors/s#a467\">Shaw, Bernard (2743)</a></li>\n<li><a href=\"/browse/authors/b#a898\">Burton, Richard Francis, Sir (2741)</a></li>\n<li><a href=\"/browse/authors/s#a59\">Scott, Walter (2711)</a></li>\n<li><a href=\"/browse/authors/t#a54\">Thoreau, Henry David (2681)</a></li>\n<li><a href=\"/browse/authors/m#a563\">Machiavelli, Niccolò (2675)</a></li>\n<li><a href=\"/browse/authors/c#a708\">Chekhov, Anton Pavlovich (2667)</a></li>\n<li><a href=\"/browse/authors/m#a1355\">Morley, Henry (2595)</a></li>\n<li><a href=\"/browse/authors/g#a27\">Gilman, Charlotte Perkins (2567)</a></li>\n<li><a href=\"/browse/authors/d#a204\">Defoe, Daniel (2512)</a></li>\n<li><a href=\"/browse/authors/m#a564\">Marriott, W. K. (William Kenaz) (2461)</a></li>\n<li><a href=\"/browse/authors/t#a9854\">Townsend, F. H. (Frederick Henry) (2433)</a></li>\n<li><a href=\"/browse/authors/p#a292\">Potter, Beatrix (2432)</a></li>\n<li><a href=\"/browse/authors/m#a306\">Maupassant, Guy de (2281)</a></li>\n<li><a href=\"/browse/authors/b#a251\">Balzac, Honoré de (2243)</a></li>\n<li><a href=\"/browse/authors/l#a9473\">Leech, John (2242)</a></li>\n<li><a href=\"/browse/authors/b#a748\">Butler, Samuel (2235)</a></li>\n<li><a href=\"/browse/authors/d#a4931\">Derbyshire, Charles E. (2206)</a></li>\n<li><a href=\"/browse/authors/g#a586\">Goethe, Johann Wolfgang von (2205)</a></li>\n<li><a href=\"/browse/authors/g#a1813\">Gibran, Kahlil (2194)</a></li>\n<li><a href=\"/browse/authors/c#a3622\">Cary, Henry Francis (2191)</a></li>\n<li><a href=\"/browse/authors/o#a506\">Ormsby, John (2183)</a></li>\n<li><a href=\"/browse/authors/t#a942\">Tagore, Rabindranath (2178)</a></li>\n<li><a href=\"/browse/authors/h#a365\">Haggard, H. Rider (Henry Rider) (2175)</a></li>\n<li><a href=\"/browse/authors/g#a850\">Galsworthy, John (2106)</a></li>\n<li><a href=\"/browse/authors/h#a23\">Hardy, Thomas (2088)</a></li>\n<li><a href=\"/browse/authors/h#a33608\">Hapgood, Isabel Florence (2045)</a></li>\n<li><a href=\"/browse/authors/b#a25301\">Buckley, Theodore Alois (2033)</a></li>\n<li><a href=\"/browse/authors/w#a783\">Wodehouse, P. G. (Pelham Grenville) (2028)</a></li>\n<li><a href=\"/browse/authors/y#a38503\">Yeto, Genjiro (1900)</a></li>\n<li><a href=\"/browse/authors/b#a717\">Burgess, Thornton W. (Thornton Waldo) (1884)</a></li>\n<li><a href=\"/browse/authors/n#a51851\">Noguchi, Yoné (1862)</a></li>\n<li><a href=\"/browse/authors/w#a104\">Wharton, Edith (1853)</a></li>\n<li><a href=\"/browse/authors/i#a34\">Irving, Washington (1828)</a></li>\n<li><a href=\"/browse/authors/b#a48\">Burroughs, Edgar Rice (1800)</a></li>\n<li><a href=\"/browse/authors/e#a90\">Eliot, George (1788)</a></li>\n<li><a href=\"/browse/authors/j#a44679\">Jung, C. G. (Carl Gustav) (1778)</a></li>\n<li><a href=\"/browse/authors/v#a5593\">Vatsyayana (1750)</a></li>\n<li><a href=\"/browse/authors/d#a226\">Du Bois, W. E. B. (William Edward Burghardt) (1749)</a></li>\n<li><a href=\"/browse/authors/b#a32931\">Bhide, Shivaram Parashuram (1727)</a></li>\n<li><a href=\"/browse/authors/i#a32930\">Indrajit, Bhagavanlal (1727)</a></li>\n<li><a href=\"/browse/authors/b#a206\">Bierce, Ambrose (1713)</a></li>\n<li><a href=\"/browse/authors/s#a115\">Stowe, Harriet Beecher (1675)</a></li>\n<li><a href=\"/browse/authors/a#a4534\">Anderson, Rasmus Björn (1672)</a></li>\n<li><a href=\"/browse/authors/k#a37155\">Kemble, E. W. (Edward Windsor) (1668)</a></li>\n</ol>\n<div class=\"padded\">\n<ul>\n<li><a href=\"#books-last1\">Top 100 EBooks yesterday</a></li>\n<li><a href=\"#authors-last1\">Top 100 Authors yesterday</a></li>\n<li><a href=\"#books-last7\">Top 100 EBooks last 7 days</a></li>\n<li><a href=\"#authors-last7\">Top 100 Authors last 7 days</a></li>\n<li><a href=\"#books-last30\">Top 100 EBooks last 30 days</a></li>\n<li><a href=\"#authors-last30\">Top 100 Authors last 30 days</a></li>\n</ul>\n</div>\n<h2 id=\"books-last30\">Top 100 EBooks last 30 days</h2>\n<ol>\n<li><a href=\"/ebooks/1342\">Pride and Prejudice by Jane Austen (45894)</a></li>\n<li><a href=\"/ebooks/11\">Alice's Adventures in Wonderland by Lewis Carroll (23277)</a></li>\n<li><a href=\"/ebooks/1661\">The Adventures of Sherlock Holmes by Arthur Conan Doyle (20001)</a></li>\n<li><a href=\"/ebooks/84\">Frankenstein; Or, The Modern Prometheus by Mary Wollstonecraft Shelley (19701)</a></li>\n<li><a href=\"/ebooks/2701\">Moby Dick; Or, The Whale by Herman Melville (17364)</a></li>\n<li><a href=\"/ebooks/98\">A Tale of Two Cities by Charles Dickens (15642)</a></li>\n<li><a href=\"/ebooks/174\">The Picture of Dorian Gray by Oscar Wilde (14217)</a></li>\n<li><a href=\"/ebooks/2600\">War and Peace by graf Leo Tolstoy (12237)</a></li>\n<li><a href=\"/ebooks/1952\">The Yellow Wallpaper by Charlotte Perkins Gilman (12053)</a></li>\n<li><a href=\"/ebooks/64317\">The Great Gatsby by F. Scott  Fitzgerald (11865)</a></li>\n<li><a href=\"/ebooks/345\">Dracula by Bram Stoker (11676)</a></li>\n<li><a href=\"/ebooks/25942\">The Translations of Beowulf: A Critical Bibliography by Chauncey Brewster Tinker (10856)</a></li>\n<li><a href=\"/ebooks/4300\">Ulysses by James Joyce (10725)</a></li>\n<li><a href=\"/ebooks/1232\">The Prince by Niccolò Machiavelli (10554)</a></li>\n<li><a href=\"/ebooks/5200\">Metamorphosis by Franz Kafka (10465)</a></li>\n<li><a href=\"/ebooks/1260\">Jane Eyre: An Autobiography by Charlotte Brontë (10263)</a></li>\n<li><a href=\"/ebooks/2591\">Grimms' Fairy Tales by Jacob Grimm and Wilhelm Grimm (10152)</a></li>\n<li><a href=\"/ebooks/43\">The Strange Case of Dr. Jekyll and Mr. Hyde by Robert Louis Stevenson (10053)</a></li>\n<li><a href=\"/ebooks/2542\">A Doll's House : a play by Henrik Ibsen (9642)</a></li>\n<li><a href=\"/ebooks/6133\">The Extraordinary Adventures of Arsene Lupin, Gentleman-Burglar by Maurice Leblanc (9640)</a></li>\n<li><a href=\"/ebooks/2554\">Crime and Punishment by Fyodor Dostoyevsky (9544)</a></li>\n<li><a href=\"/ebooks/46\">A Christmas Carol in Prose; Being a Ghost Story of Christmas by Charles Dickens (9406)</a></li>\n<li><a href=\"/ebooks/1400\">Great Expectations by Charles Dickens (8592)</a></li>\n<li><a href=\"/ebooks/74\">The Adventures of Tom Sawyer, Complete by Mark Twain (8516)</a></li>\n<li><a href=\"/ebooks/16\">Peter Pan by J. M.  Barrie (8485)</a></li>\n<li><a href=\"/ebooks/26184\">Simple Sabotage Field Manual by United States. Office of Strategic Services (8312)</a></li>\n<li><a href=\"/ebooks/58585\">The Prophet by Kahlil Gibran (8208)</a></li>\n<li><a href=\"/ebooks/55\">The Wonderful Wizard of Oz by L. Frank  Baum (7910)</a></li>\n<li><a href=\"/ebooks/205\">Walden, and On The Duty Of Civil Disobedience by Henry David Thoreau (7887)</a></li>\n<li><a href=\"/ebooks/45\">Anne of Green Gables by L. M.  Montgomery (7886)</a></li>\n<li><a href=\"/ebooks/1184\">The Count of Monte Cristo, Illustrated by Alexandre Dumas (7778)</a></li>\n<li><a href=\"/ebooks/6130\">The Iliad by Homer (7771)</a></li>\n<li><a href=\"/ebooks/996\">Don Quixote by Miguel de Cervantes Saavedra (7649)</a></li>\n<li><a href=\"/ebooks/844\">The Importance of Being Earnest: A Trivial Comedy for Serious People by Oscar Wilde (7606)</a></li>\n<li><a href=\"/ebooks/5740\">Tractatus Logico-Philosophicus by Ludwig Wittgenstein (7550)</a></li>\n<li><a href=\"/ebooks/63256\">The American Diary of a Japanese Girl by Yoné Noguchi (7181)</a></li>\n<li><a href=\"/ebooks/120\">Treasure Island by Robert Louis Stevenson (7176)</a></li>\n<li><a href=\"/ebooks/27827\">The Kama Sutra of Vatsyayana by Vatsyayana (7154)</a></li>\n<li><a href=\"/ebooks/514\">Little Women by Louisa May Alcott (7062)</a></li>\n<li><a href=\"/ebooks/219\">Heart of Darkness by Joseph Conrad (6909)</a></li>\n<li><a href=\"/ebooks/5739\">Korean—English Dictionary by Leon Kuperman (6860)</a></li>\n<li><a href=\"/ebooks/244\">A Study in Scarlet by Arthur Conan Doyle (6701)</a></li>\n<li><a href=\"/ebooks/1497\">The Republic by Plato (6638)</a></li>\n<li><a href=\"/ebooks/30254\">The Romance of Lust: A classic Victorian erotic novel by Anonymous (6635)</a></li>\n<li><a href=\"/ebooks/76\">Adventures of Huckleberry Finn by Mark Twain (6605)</a></li>\n<li><a href=\"/ebooks/1080\">A Modest Proposal by Jonathan Swift (6512)</a></li>\n<li><a href=\"/ebooks/902\">The Happy Prince, and Other Tales by Oscar Wilde (6264)</a></li>\n<li><a href=\"/ebooks/158\">Emma by Jane Austen (6248)</a></li>\n<li><a href=\"/ebooks/135\">Les Misérables by Victor Hugo (6158)</a></li>\n<li><a href=\"/ebooks/2852\">The Hound of the Baskervilles by Arthur Conan Doyle (6105)</a></li>\n<li><a href=\"/ebooks/23042\">The Tempest by William Shakespeare (5979)</a></li>\n<li><a href=\"/ebooks/768\">Wuthering Heights by Emily Brontë (5887)</a></li>\n<li><a href=\"/ebooks/1998\">Thus Spake Zarathustra: A Book for All and None by Friedrich Wilhelm Nietzsche (5809)</a></li>\n<li><a href=\"/ebooks/28054\">The Brothers Karamazov by Fyodor Dostoyevsky (5613)</a></li>\n<li><a href=\"/ebooks/203\">Uncle Tom's Cabin by Harriet Beecher Stowe (5607)</a></li>\n<li><a href=\"/ebooks/863\">The Mysterious Affair at Styles by Agatha Christie (5571)</a></li>\n<li><a href=\"/ebooks/236\">The Jungle Book by Rudyard Kipling (5562)</a></li>\n<li><a href=\"/ebooks/14975\">Southern Horrors: Lynch Law in All Its Phases by Ida B. Wells-Barnett (5365)</a></li>\n<li><a href=\"/ebooks/36\">The War of the Worlds by H. G.  Wells (5354)</a></li>\n<li><a href=\"/ebooks/829\">Gulliver's Travels into Several Remote Nations of the World by Jonathan Swift (5286)</a></li>\n<li><a href=\"/ebooks/1727\">The Odyssey by Homer (5185)</a></li>\n<li><a href=\"/ebooks/16328\">Beowulf: An Anglo-Saxon Epic Poem (5147)</a></li>\n<li><a href=\"/ebooks/25344\">The Scarlet Letter by Nathaniel Hawthorne (5103)</a></li>\n<li><a href=\"/ebooks/766\">David Copperfield by Charles Dickens (5096)</a></li>\n<li><a href=\"/ebooks/1399\">Anna Karenina by graf Leo Tolstoy (5083)</a></li>\n<li><a href=\"/ebooks/42108\">The Slang Dictionary: Etymological, Historical and Andecdotal by John Camden Hotten (5064)</a></li>\n<li><a href=\"/ebooks/408\">The Souls of Black Folk by W. E. B.  Du Bois (5023)</a></li>\n<li><a href=\"/ebooks/730\">Oliver Twist by Charles Dickens (4998)</a></li>\n<li><a href=\"/ebooks/4363\">Beyond Good and Evil by Friedrich Wilhelm Nietzsche (4988)</a></li>\n<li><a href=\"/ebooks/113\">The Secret Garden by Frances Hodgson Burnett (4986)</a></li>\n<li><a href=\"/ebooks/33283\">Calculus Made Easy by Silvanus P.  Thompson (4881)</a></li>\n<li><a href=\"/ebooks/2814\">Dubliners by James Joyce (4723)</a></li>\n<li><a href=\"/ebooks/3600\">Essays of Michel de Montaigne — Complete by Michel de Montaigne (4675)</a></li>\n<li><a href=\"/ebooks/2680\">Meditations by Emperor of Rome Marcus Aurelius (4550)</a></li>\n<li><a href=\"/ebooks/4980\">Old Granny Fox by Thornton W.  Burgess (4544)</a></li>\n<li><a href=\"/ebooks/160\">The Awakening, and Selected Short Stories by Kate Chopin (4511)</a></li>\n<li><a href=\"/ebooks/308\">Three Men in a Boat (To Say Nothing of the Dog) by Jerome K.  Jerome (4502)</a></li>\n<li><a href=\"/ebooks/35\">The Time Machine by H. G.  Wells (4436)</a></li>\n<li><a href=\"/ebooks/132\">The Art of War by active 6th century B.C. Sunzi (4333)</a></li>\n<li><a href=\"/ebooks/20228\">Noli Me Tangere by José Rizal (4314)</a></li>\n<li><a href=\"/ebooks/147\">Common Sense by Thomas Paine (4275)</a></li>\n<li><a href=\"/ebooks/2500\">Siddhartha by Hermann Hesse (4218)</a></li>\n<li><a href=\"/ebooks/43453\">A Pickle for the Knowing Ones by Timothy Dexter (4190)</a></li>\n<li><a href=\"/ebooks/105\">Persuasion by Jane Austen (4124)</a></li>\n<li><a href=\"/ebooks/8800\">An Index of The Divine Comedy by Dante by Dante Alighieri (4118)</a></li>\n<li><a href=\"/ebooks/35899\">The Philippines a Century Hence by José Rizal (4102)</a></li>\n<li><a href=\"/ebooks/103\">Around the World in Eighty Days by Jules Verne (4101)</a></li>\n<li><a href=\"/ebooks/61\">The Communist Manifesto by Friedrich Engels and Karl Marx (4070)</a></li>\n<li><a href=\"/ebooks/20203\">Autobiography of Benjamin Franklin by Benjamin Franklin (3980)</a></li>\n<li><a href=\"/ebooks/3090\">Complete Original Short Stories of Guy De Maupassant by Guy de Maupassant (3939)</a></li>\n<li><a href=\"/ebooks/25717\">The History of the Decline and Fall of the Roman Empire by Edward Gibbon (3936)</a></li>\n<li><a href=\"/ebooks/2148\">The Works of Edgar Allan Poe — Volume 2 by Edgar Allan Poe (3890)</a></li>\n<li><a href=\"/ebooks/100\">The Complete Works of William Shakespeare by William Shakespeare (3882)</a></li>\n<li><a href=\"/ebooks/161\">Sense and Sensibility by Jane Austen (3870)</a></li>\n<li><a href=\"/ebooks/215\">The Call of the Wild by Jack London (3851)</a></li>\n<li><a href=\"/ebooks/23\">Narrative of the Life of Frederick Douglass, an American Slave by Frederick Douglass (3849)</a></li>\n<li><a href=\"/ebooks/10\">The King James Version of the Bible (3845)</a></li>\n<li><a href=\"/ebooks/1250\">Anthem by Ayn Rand (3697)</a></li>\n<li><a href=\"/ebooks/2097\">The Sign of the Four by Arthur Conan Doyle (3627)</a></li>\n<li><a href=\"/ebooks/41\">The Legend of Sleepy Hollow by Washington Irving (3616)</a></li>\n</ol>\n<div class=\"padded\">\n<ul>\n<li><a href=\"#books-last1\">Top 100 EBooks yesterday</a></li>\n<li><a href=\"#authors-last1\">Top 100 Authors yesterday</a></li>\n<li><a href=\"#books-last7\">Top 100 EBooks last 7 days</a></li>\n<li><a href=\"#authors-last7\">Top 100 Authors last 7 days</a></li>\n<li><a href=\"#books-last30\">Top 100 EBooks last 30 days</a></li>\n<li><a href=\"#authors-last30\">Top 100 Authors last 30 days</a></li>\n</ul>\n</div>\n<h2 id=\"authors-last30\">Top 100 Authors last 30 days</h2>\n<ol>\n<li><a href=\"/browse/authors/a#a68\">Austen, Jane (71968)</a></li>\n<li><a href=\"/browse/authors/d#a37\">Dickens, Charles (70763)</a></li>\n<li><a href=\"/browse/authors/d#a69\">Doyle, Arthur Conan (55634)</a></li>\n<li><a href=\"/browse/authors/t#a53\">Twain, Mark (43742)</a></li>\n<li><a href=\"/browse/authors/w#a111\">Wilde, Oscar (38331)</a></li>\n<li><a href=\"/browse/authors/c#a7\">Carroll, Lewis (35821)</a></li>\n<li><a href=\"/browse/authors/s#a65\">Shakespeare, William (32252)</a></li>\n<li><a href=\"/browse/authors/d#a314\">Dostoyevsky, Fyodor (29679)</a></li>\n<li><a href=\"/browse/authors/s#a35\">Stevenson, Robert Louis (29071)</a></li>\n<li><a href=\"/browse/authors/t#a136\">Tolstoy, Leo, graf (28093)</a></li>\n<li><a href=\"/browse/authors/w#a30\">Wells, H. G. (Herbert George) (24679)</a></li>\n<li><a href=\"/browse/authors/s#a61\">Shelley, Mary Wollstonecraft (23834)</a></li>\n<li><a href=\"/browse/authors/n#a779\">Nietzsche, Friedrich Wilhelm (23097)</a></li>\n<li><a href=\"/browse/authors/g#a2858\">Garnett, Constance (22583)</a></li>\n<li><a href=\"/browse/authors/m#a9\">Melville, Herman (22442)</a></li>\n<li><a href=\"/browse/authors/h#a705\">Homer (20370)</a></li>\n<li><a href=\"/browse/authors/b#a42\">Baum, L. Frank (Lyman Frank) (20088)</a></li>\n<li><a href=\"/browse/authors/v#a60\">Verne, Jules (19717)</a></li>\n<li><a href=\"/browse/authors/d#a492\">Dumas, Alexandre (19009)</a></li>\n<li><a href=\"/browse/authors/k#a132\">Kipling, Rudyard (18701)</a></li>\n<li><a href=\"/browse/authors/l#a1358\">Leblanc, Maurice (18670)</a></li>\n<li><a href=\"/browse/authors/j#a1039\">Joyce, James (18619)</a></li>\n<li><a href=\"/browse/authors/p#a93\">Plato (18434)</a></li>\n<li><a href=\"/browse/authors/m#a36\">Montgomery, L. M. (Lucy Maud) (18035)</a></li>\n<li><a href=\"/browse/authors/p#a481\">Poe, Edgar Allan (17563)</a></li>\n<li><a href=\"/browse/authors/r#a2183\">Rizal, José (17559)</a></li>\n<li><a href=\"/browse/authors/j#a94\">Jowett, Benjamin (17431)</a></li>\n<li><a href=\"/browse/authors/l#a120\">London, Jack (16550)</a></li>\n<li><a href=\"/browse/authors/c#a451\">Christie, Agatha (16462)</a></li>\n<li><a href=\"/browse/authors/d#a1896\">Doré, Gustave (15995)</a></li>\n<li><a href=\"/browse/authors/d#a507\">Dante Alighieri (15850)</a></li>\n<li><a href=\"/browse/authors/s#a190\">Stoker, Bram (15304)</a></li>\n<li><a href=\"/browse/authors/m#a4589\">Maude, Aylmer (15207)</a></li>\n<li><a href=\"/browse/authors/m#a500\">Maude, Louise (15081)</a></li>\n<li><a href=\"/browse/authors/l#a79\">Lang, Andrew (15058)</a></li>\n<li><a href=\"/browse/authors/f#a420\">Fitzgerald, F. Scott (Francis Scott) (15021)</a></li>\n<li><a href=\"/browse/authors/c#a80\">Chesterton, G. K. (Gilbert Keith) (14953)</a></li>\n<li><a href=\"/browse/authors/c#a125\">Conrad, Joseph (14950)</a></li>\n<li><a href=\"/browse/authors/s#a326\">Swift, Jonathan (14756)</a></li>\n<li><a href=\"/browse/authors/k#a1735\">Kafka, Franz (14558)</a></li>\n<li><a href=\"/browse/authors/w#a1961\">Widger, David (14402)</a></li>\n<li><a href=\"/browse/authors/i#a861\">Ibsen, Henrik (14330)</a></li>\n<li><a href=\"/browse/authors/r#a355\">Russell, Bertrand (13962)</a></li>\n<li><a href=\"/browse/authors/g#a972\">Grimm, Wilhelm (13767)</a></li>\n<li><a href=\"/browse/authors/g#a971\">Grimm, Jacob (13767)</a></li>\n<li><a href=\"/browse/authors/h#a28\">Hawthorne, Nathaniel (13691)</a></li>\n<li><a href=\"/browse/authors/j#a113\">James, Henry (13689)</a></li>\n<li><a href=\"/browse/authors/a#a102\">Alcott, Louisa May (13620)</a></li>\n<li><a href=\"/browse/authors/g#a27\">Gilman, Charlotte Perkins (13420)</a></li>\n<li><a href=\"/browse/authors/h#a85\">Hugo, Victor (13364)</a></li>\n<li><a href=\"/browse/authors/b#a10\">Barrie, J. M. (James Matthew) (12869)</a></li>\n<li><a href=\"/browse/authors/c#a505\">Cervantes Saavedra, Miguel de (12827)</a></li>\n<li><a href=\"/browse/authors/w#a1736\">Wyllie, David (Translator) (12649)</a></li>\n<li><a href=\"/browse/authors/b#a408\">Brontë, Charlotte (12422)</a></li>\n<li><a href=\"/browse/authors/p#a907\">Pope, Alexander (12311)</a></li>\n<li><a href=\"/browse/authors/t#a54\">Thoreau, Henry David (12115)</a></li>\n<li><a href=\"/browse/authors/c#a708\">Chekhov, Anton Pavlovich (12071)</a></li>\n<li><a href=\"/browse/authors/b#a73\">Burnett, Frances Hodgson (11940)</a></li>\n<li><a href=\"/browse/authors/m#a563\">Machiavelli, Niccolò (11736)</a></li>\n<li><a href=\"/browse/authors/b#a898\">Burton, Richard Francis, Sir (11598)</a></li>\n<li><a href=\"/browse/authors/s#a467\">Shaw, Bernard (11486)</a></li>\n<li><a href=\"/browse/authors/m#a1355\">Morley, Henry (11250)</a></li>\n<li><a href=\"/browse/authors/b#a251\">Balzac, Honoré de (11202)</a></li>\n<li><a href=\"/browse/authors/t#a31682\">Tinker, Chauncey Brewster (10984)</a></li>\n<li><a href=\"/browse/authors/l#a9473\">Leech, John (10937)</a></li>\n<li><a href=\"/browse/authors/d#a204\">Defoe, Daniel (10900)</a></li>\n<li><a href=\"/browse/authors/t#a9854\">Townsend, F. H. (Frederick Henry) (10863)</a></li>\n<li><a href=\"/browse/authors/s#a59\">Scott, Walter (10777)</a></li>\n<li><a href=\"/browse/authors/m#a564\">Marriott, W. K. (William Kenaz) (10609)</a></li>\n<li><a href=\"/browse/authors/p#a292\">Potter, Beatrix (10043)</a></li>\n<li><a href=\"/browse/authors/g#a586\">Goethe, Johann Wolfgang von (9885)</a></li>\n<li><a href=\"/browse/authors/m#a306\">Maupassant, Guy de (9751)</a></li>\n<li><a href=\"/browse/authors/o#a506\">Ormsby, John (9528)</a></li>\n<li><a href=\"/browse/authors/h#a23\">Hardy, Thomas (9506)</a></li>\n<li><a href=\"/browse/authors/c#a3622\">Cary, Henry Francis (9457)</a></li>\n<li><a href=\"/browse/authors/t#a34265\">Terry, W. E. (9361)</a></li>\n<li><a href=\"/browse/authors/w#a783\">Wodehouse, P. G. (Pelham Grenville) (9294)</a></li>\n<li><a href=\"/browse/authors/b#a748\">Butler, Samuel (9190)</a></li>\n<li><a href=\"/browse/authors/t#a942\">Tagore, Rabindranath (8913)</a></li>\n<li><a href=\"/browse/authors/h#a33608\">Hapgood, Isabel Florence (8910)</a></li>\n<li><a href=\"/browse/authors/d#a4931\">Derbyshire, Charles E. (8665)</a></li>\n<li><a href=\"/browse/authors/g#a1813\">Gibran, Kahlil (8627)</a></li>\n<li><a href=\"/browse/authors/b#a25301\">Buckley, Theodore Alois (8534)</a></li>\n<li><a href=\"/browse/authors/u#a31855\">United States. Office of Strategic Services (8312)</a></li>\n<li><a href=\"/browse/authors/b#a717\">Burgess, Thornton W. (Thornton Waldo) (8055)</a></li>\n<li><a href=\"/browse/authors/w#a104\">Wharton, Edith (8034)</a></li>\n<li><a href=\"/browse/authors/b#a48\">Burroughs, Edgar Rice (8007)</a></li>\n<li><a href=\"/browse/authors/e#a90\">Eliot, George (7956)</a></li>\n<li><a href=\"/browse/authors/g#a850\">Galsworthy, John (7942)</a></li>\n<li><a href=\"/browse/authors/b#a206\">Bierce, Ambrose (7933)</a></li>\n<li><a href=\"/browse/authors/i#a34\">Irving, Washington (7888)</a></li>\n<li><a href=\"/browse/authors/o#a36795\">Ogden, C. K. (Charles Kay) (7596)</a></li>\n<li><a href=\"/browse/authors/w#a1861\">Wittgenstein, Ludwig (7550)</a></li>\n<li><a href=\"/browse/authors/g#a25267\">Garrett, Randall (7502)</a></li>\n<li><a href=\"/browse/authors/s#a3648\">Schopenhauer, Arthur (7492)</a></li>\n<li><a href=\"/browse/authors/r#a6335\">Rackham, Arthur (7443)</a></li>\n<li><a href=\"/browse/authors/y#a38503\">Yeto, Genjiro (7410)</a></li>\n<li><a href=\"/browse/authors/k#a37155\">Kemble, E. W. (Edward Windsor) (7389)</a></li>\n<li><a href=\"/browse/authors/s#a115\">Stowe, Harriet Beecher (7274)</a></li>\n<li><a href=\"/browse/authors/n#a51851\">Noguchi, Yoné (7266)</a></li>\n</ol>\n<div class=\"padded\">\n<ul>\n<li><a href=\"#books-last1\">Top 100 EBooks yesterday</a></li>\n<li><a href=\"#authors-last1\">Top 100 Authors yesterday</a></li>\n<li><a href=\"#books-last7\">Top 100 EBooks last 7 days</a></li>\n<li><a href=\"#authors-last7\">Top 100 Authors last 7 days</a></li>\n<li><a href=\"#books-last30\">Top 100 EBooks last 30 days</a></li>\n<li><a href=\"#authors-last30\">Top 100 Authors last 30 days</a></li>\n</ul>\n</div>\n</div><!--content ending-->\n</div>\n<div class=\"footer\"><!-- start footer --> <ul>\n<li>\n<a href=\"/policy/privacy_policy.html\" title=\"Privacy Policy\">Privacy policy</a>\n</li>\n<li>\n<a href=\"/about/\" title=\"About Project Gutenberg\">About Project Gutenberg</a>\n</li>\n<li>\n<a href=\"/policy/terms_of_use.html\" title=\"Terms of Use\">Terms of Use</a>\n</li>\n<li>\n<a href=\"/about/contact_information.html\" title=\"Contact Information\">Contact Information</a>\n</li>\n<li><a href=\"/help/\" title=\"Get Help\">Get Help</a></li>\n</ul>\n<a href=\"https://www.ibiblio.org/\" title=\"Project Gutenberg is hosted by ibiblio\">\n<img alt=\"iBiblio\" src=\"/gutenberg/ibiblio-logo.png\"/>\n</a>\n</div><!-- footer ending-->\n<!-- body ending -->\n</body>\n</html>>"
     },
     "execution_count": 4,
     "metadata": {},
     "output_type": "execute_result"
    }
   ],
   "metadata": {
    "collapsed": false,
    "pycharm": {
     "name": "#%%\n"
    }
   }
  },
  {
   "cell_type": "code",
   "execution_count": 5,
   "source": [
    "# 4. Write a small function to check the status of the web request.\n",
    "def status_check(site):\n",
    "    the_response = requests.get(site)\n",
    "    if the_response:\n",
    "        print('Success!')\n",
    "        return 1\n",
    "    else:\n",
    "        print('Failure!')\n",
    "        return -1\n",
    "\n",
    "status_check(url)"
   ],
   "outputs": [
    {
     "name": "stdout",
     "output_type": "stream",
     "text": [
      "Success!\n"
     ]
    },
    {
     "data": {
      "text/plain": "1"
     },
     "execution_count": 5,
     "metadata": {},
     "output_type": "execute_result"
    }
   ],
   "metadata": {
    "collapsed": false,
    "pycharm": {
     "name": "#%%\n"
    }
   }
  },
  {
   "cell_type": "code",
   "execution_count": 6,
   "source": [
    "# 5. Decode the response and pass this on to BeautifulSoup for HTML parsing.\n",
    "def decode_content(r, encoding):\n",
    "    print(r.encoding)\n",
    "    return r.content.decode(encoding)\n",
    "\n",
    "type(decode_content(response, response.encoding))"
   ],
   "outputs": [
    {
     "name": "stdout",
     "output_type": "stream",
     "text": [
      "UTF-8\n"
     ]
    },
    {
     "data": {
      "text/plain": "str"
     },
     "execution_count": 6,
     "metadata": {},
     "output_type": "execute_result"
    }
   ],
   "metadata": {
    "collapsed": false,
    "pycharm": {
     "name": "#%%\n"
    }
   }
  },
  {
   "cell_type": "code",
   "execution_count": 7,
   "source": [
    "'''\n",
    "6. Find all the href tags and store them in the list of links. Check what the list looks like - print the first 30\n",
    "elements.\n",
    "'''\n",
    "href_list = []\n",
    "hrefs = soup.find('ol')\n",
    "for i in hrefs.find_all('a'):\n",
    "    href_list.append(i)\n",
    "\n",
    "print(href_list[:30])\n",
    "\n"
   ],
   "outputs": [
    {
     "name": "stdout",
     "output_type": "stream",
     "text": [
      "[<a href=\"/ebooks/1342\">Pride and Prejudice by Jane Austen (1471)</a>, <a href=\"/ebooks/11\">Alice's Adventures in Wonderland by Lewis Carroll (752)</a>, <a href=\"/ebooks/1661\">The Adventures of Sherlock Holmes by Arthur Conan Doyle (684)</a>, <a href=\"/ebooks/84\">Frankenstein; Or, The Modern Prometheus by Mary Wollstonecraft Shelley (653)</a>, <a href=\"/ebooks/2701\">Moby Dick; Or, The Whale by Herman Melville (599)</a>, <a href=\"/ebooks/98\">A Tale of Two Cities by Charles Dickens (540)</a>, <a href=\"/ebooks/174\">The Picture of Dorian Gray by Oscar Wilde (480)</a>, <a href=\"/ebooks/65931\">No Time For Toffee! by Henry Farrell (469)</a>, <a href=\"/ebooks/33283\">Calculus Made Easy by Silvanus P.  Thompson (444)</a>, <a href=\"/ebooks/2600\">War and Peace by graf Leo Tolstoy (424)</a>, <a href=\"/ebooks/64317\">The Great Gatsby by F. Scott  Fitzgerald (401)</a>, <a href=\"/ebooks/345\">Dracula by Bram Stoker (391)</a>, <a href=\"/ebooks/4300\">Ulysses by James Joyce (380)</a>, <a href=\"/ebooks/5200\">Metamorphosis by Franz Kafka (376)</a>, <a href=\"/ebooks/1232\">The Prince by Niccolò Machiavelli (355)</a>, <a href=\"/ebooks/65929\">The Illustrators of Montmartre by Frank L. Emanuel (341)</a>, <a href=\"/ebooks/2554\">Crime and Punishment by Fyodor Dostoyevsky (335)</a>, <a href=\"/ebooks/26184\">Simple Sabotage Field Manual by United States. Office of Strategic Services (329)</a>, <a href=\"/ebooks/65930\">Marcel Proust (320)</a>, <a href=\"/ebooks/1260\">Jane Eyre: An Autobiography by Charlotte Brontë (315)</a>, <a href=\"/ebooks/2591\">Grimms' Fairy Tales by Jacob Grimm and Wilhelm Grimm (313)</a>, <a href=\"/ebooks/45\">Anne of Green Gables by L. M.  Montgomery (304)</a>, <a href=\"/ebooks/219\">Heart of Darkness by Joseph Conrad (303)</a>, <a href=\"/ebooks/1497\">The Republic by Plato (302)</a>, <a href=\"/ebooks/2542\">A Doll's House : a play by Henrik Ibsen (301)</a>, <a href=\"/ebooks/1400\">Great Expectations by Charles Dickens (300)</a>, <a href=\"/ebooks/1952\">The Yellow Wallpaper by Charlotte Perkins Gilman (295)</a>, <a href=\"/ebooks/16\">Peter Pan by J. M.  Barrie (293)</a>, <a href=\"/ebooks/58585\">The Prophet by Kahlil Gibran (291)</a>, <a href=\"/ebooks/46\">A Christmas Carol in Prose; Being a Ghost Story of Christmas by Charles Dickens (291)</a>]\n"
     ]
    }
   ],
   "metadata": {
    "collapsed": false,
    "pycharm": {
     "name": "#%%\n"
    }
   }
  },
  {
   "cell_type": "code",
   "execution_count": 8,
   "source": [
    "'''\n",
    "7. Use a regular expression to find the numeric digits in these links.  These are the file numbers for the top 100\n",
    "eBooks.\n",
    "8.  Initialize the empty list to hold the file numbers over an appropriate range and use regex to find the numeric\n",
    "digits in the link href string.  Use the findall method.\n",
    "'''\n",
    "import re\n",
    "ebook_file_list = []\n",
    "for links in href_list:    \n",
    "    res = re.findall('(?<=s\\/)(.*?)(?=\\\"\\>)', str(links))    \n",
    "    ebook_file_list.append(''.join(res))\n",
    "\n",
    "print(ebook_file_list)\n"
   ],
   "outputs": [
    {
     "name": "stdout",
     "output_type": "stream",
     "text": [
      "['1342', '11', '1661', '84', '2701', '98', '174', '65931', '33283', '2600', '64317', '345', '4300', '5200', '1232', '65929', '2554', '26184', '65930', '1260', '2591', '45', '219', '1497', '2542', '1400', '1952', '16', '58585', '46', '6130', '844', '205', '996', '43', '55', '14568', '65932', '27827', '120', '74', '1184', '63256', '6133', '3618', '65938', '65939', '5739', '1080', '514', '244', '135', '113', '76', '5740', '158', '65936', '28054', '30254', '1727', '768', '25344', '902', '203', '16328', '1998', '65942', '65943', '65944', '236', '2814', '408', '308', '2680', '35', '4363', '766', '36', '863', '215', '829', '10', '3600', '2199', '1399', '43453', '2852', '35899', '65923', '42108', '1250', '103', '2500', '4980', '160', '730', '65945', '8800', '25717', '14838']\n"
     ]
    }
   ],
   "metadata": {
    "collapsed": false,
    "pycharm": {
     "name": "#%%\n"
    }
   }
  },
  {
   "cell_type": "code",
   "execution_count": 9,
   "source": [
    "'''\n",
    "9.  What does the soup object's text look like?  Use the .text method and print only the first 2,000 characters (do not\n",
    "print the whole thing, as it is too long).\n",
    "'''\n",
    "print(soup.get_text()[:2000])"
   ],
   "outputs": [
    {
     "name": "stdout",
     "output_type": "stream",
     "text": [
      "\n",
      "\n",
      "\n",
      "Top 100 | Project Gutenberg\n",
      "\n",
      "\n",
      "\n",
      "\n",
      "\n",
      "\n",
      "\n",
      "\n",
      "\n",
      "\n",
      "\n",
      "\n",
      "\n",
      "\n",
      "\n",
      "\n",
      "\n",
      "\n",
      "\n",
      "\n",
      "\n",
      "\n",
      "\n",
      "\n",
      "\n",
      "\n",
      "\n",
      "Menu▾\n",
      "\n",
      "\n",
      "\n",
      "About\n",
      "          ▾\n",
      "\n",
      "▾\n",
      "\n",
      "\n",
      "About Project Gutenberg\n",
      "Collection Development\n",
      "Contact Us\n",
      "History & Philosophy\n",
      "Permissions & License\n",
      "Privacy Policy\n",
      "Terms of Use\n",
      "\n",
      "\n",
      "\n",
      "Search and Browse\n",
      "      \t  ▾\n",
      "\n",
      "▾\n",
      "\n",
      "\n",
      "Book Search\n",
      "Bookshelves\n",
      "Frequently Downloaded\n",
      "Offline Catalogs\n",
      "\n",
      "\n",
      "\n",
      "Help\n",
      "          ▾\n",
      "\n",
      "▾\n",
      "\n",
      "\n",
      "All help topics →\n",
      "Copyright Procedures\n",
      "Errata, Fixes and Bug Reports\n",
      "File Formats\n",
      "Frequently Asked Questions\n",
      "Policies →\n",
      "Public Domain eBook Submission\n",
      "Submitting Your Own Work\n",
      "Tablets, Phones and eReaders\n",
      "The Attic →\n",
      "\n",
      "\n",
      "Donate\n",
      "\n",
      "\n",
      "\n",
      "\n",
      "\n",
      "\n",
      "\n",
      "\n",
      "\n",
      "\n",
      "Donation\n",
      "\n",
      "\n",
      "\n",
      "\n",
      "\n",
      "\n",
      "\n",
      "Frequently Viewed or Downloaded\n",
      "These listings are based on the number of times each eBook gets downloaded.\n",
      "      Multiple downloads from the same Internet address on the same day count as one download, and addresses that download more than 100 eBooks in a day are considered robots and are not counted.\n",
      "\n",
      "Downloaded Books\n",
      "2021-07-28132846\n",
      "last 7 days925605\n",
      "last 30 days4017756\n",
      "\n",
      "\n",
      "\n",
      "Top 100 EBooks yesterday\n",
      "Top 100 Authors yesterday\n",
      "Top 100 EBooks last 7 days\n",
      "Top 100 Authors last 7 days\n",
      "Top 100 EBooks last 30 days\n",
      "Top 100 Authors last 30 days\n",
      "\n",
      "\n",
      "Top 100 EBooks yesterday\n",
      "\n",
      "Pride and Prejudice by Jane Austen (1471)\n",
      "Alice's Adventures in Wonderland by Lewis Carroll (752)\n",
      "The Adventures of Sherlock Holmes by Arthur Conan Doyle (684)\n",
      "Frankenstein; Or, The Modern Prometheus by Mary Wollstonecraft Shelley (653)\n",
      "Moby Dick; Or, The Whale by Herman Melville (599)\n",
      "A Tale of Two Cities by Charles Dickens (540)\n",
      "The Picture of Dorian Gray by Oscar Wilde (480)\n",
      "No Time For Toffee! by Henry Farrell (469)\n",
      "Calculus Made Easy by Silvanus P.  Thompson (444)\n",
      "War and Peace by graf Leo Tolstoy (424)\n",
      "The Great Gatsby by F. Scott  Fitzgerald (401)\n",
      "Dracula by Bram Stoker (391)\n",
      "Ulysses by James Joyce (380)\n",
      "Metamorphosis by Franz Kafka (376)\n",
      "The Prince by Niccolò Machiavelli (355)\n",
      "The Illustrators of Montmartre by Frank L. Emanuel (341)\n",
      "Crime and Punishment by Fyodor Dostoyevsky (335)\n",
      "Simple Sabotage Field Manual by U\n"
     ]
    }
   ],
   "metadata": {
    "collapsed": false,
    "pycharm": {
     "name": "#%%\n"
    }
   }
  },
  {
   "cell_type": "code",
   "execution_count": 10,
   "source": [
    "'''\n",
    "10.  Search in the extracted text (using a regular expression) from the soup object to find the names of the top 100\n",
    "eBooks (yesterday's ranking).\n",
    "'''\n",
    "\n",
    "matching_exp = '(.*?)\\(\\d'\n",
    "names = re.findall(matching_exp, soup.get_text())\n",
    "print(names[:100])"
   ],
   "outputs": [
    {
     "name": "stdout",
     "output_type": "stream",
     "text": [
      "['Pride and Prejudice by Jane Austen ', \"Alice's Adventures in Wonderland by Lewis Carroll \", 'The Adventures of Sherlock Holmes by Arthur Conan Doyle ', 'Frankenstein; Or, The Modern Prometheus by Mary Wollstonecraft Shelley ', 'Moby Dick; Or, The Whale by Herman Melville ', 'A Tale of Two Cities by Charles Dickens ', 'The Picture of Dorian Gray by Oscar Wilde ', 'No Time For Toffee! by Henry Farrell ', 'Calculus Made Easy by Silvanus P.  Thompson ', 'War and Peace by graf Leo Tolstoy ', 'The Great Gatsby by F. Scott  Fitzgerald ', 'Dracula by Bram Stoker ', 'Ulysses by James Joyce ', 'Metamorphosis by Franz Kafka ', 'The Prince by Niccolò Machiavelli ', 'The Illustrators of Montmartre by Frank L. Emanuel ', 'Crime and Punishment by Fyodor Dostoyevsky ', 'Simple Sabotage Field Manual by United States. Office of Strategic Services ', 'Marcel Proust ', 'Jane Eyre: An Autobiography by Charlotte Brontë ', \"Grimms' Fairy Tales by Jacob Grimm and Wilhelm Grimm \", 'Anne of Green Gables by L. M.  Montgomery ', 'Heart of Darkness by Joseph Conrad ', 'The Republic by Plato ', \"A Doll's House : a play by Henrik Ibsen \", 'Great Expectations by Charles Dickens ', 'The Yellow Wallpaper by Charlotte Perkins Gilman ', 'Peter Pan by J. M.  Barrie ', 'The Prophet by Kahlil Gibran ', 'A Christmas Carol in Prose; Being a Ghost Story of Christmas by Charles Dickens ', 'The Iliad by Homer ', 'The Importance of Being Earnest: A Trivial Comedy for Serious People by Oscar Wilde ', 'Walden, and On The Duty Of Civil Disobedience by Henry David Thoreau ', 'Don Quixote by Miguel de Cervantes Saavedra ', 'The Strange Case of Dr. Jekyll and Mr. Hyde by Robert Louis Stevenson ', 'The Wonderful Wizard of Oz by L. Frank  Baum ', 'Sir Gawayne and the Green Knight ', 'The Royal Regiment and Other Novelettes by James Grant ', 'The Kama Sutra of Vatsyayana by Vatsyayana ', 'Treasure Island by Robert Louis Stevenson ', 'The Adventures of Tom Sawyer, Complete by Mark Twain ', 'The Count of Monte Cristo, Illustrated by Alexandre Dumas ', 'The American Diary of a Japanese Girl by Yoné Noguchi ', 'The Extraordinary Adventures of Arsene Lupin, Gentleman-Burglar by Maurice Leblanc ', 'Arms and the Man by Bernard Shaw ', 'The Cosmic Bluff by Mack Reynolds ', \"Fortune's Fool by Rafael Sabatini \", 'Korean—English Dictionary by Leon Kuperman ', 'A Modest Proposal by Jonathan Swift ', 'Little Women by Louisa May Alcott ', 'A Study in Scarlet by Arthur Conan Doyle ', 'Les Misérables by Victor Hugo ', 'The Secret Garden by Frances Hodgson Burnett ', 'Adventures of Huckleberry Finn by Mark Twain ', 'Tractatus Logico-Philosophicus by Ludwig Wittgenstein ', 'Emma by Jane Austen ', 'Wanderlust by Alan Edward Nourse ', 'The Brothers Karamazov by Fyodor Dostoyevsky ', 'The Romance of Lust: A classic Victorian erotic novel by Anonymous ', 'The Odyssey by Homer ', 'Wuthering Heights by Emily Brontë ', 'The Scarlet Letter by Nathaniel Hawthorne ', 'The Happy Prince, and Other Tales by Oscar Wilde ', \"Uncle Tom's Cabin by Harriet Beecher Stowe \", 'Beowulf: An Anglo-Saxon Epic Poem ', 'Thus Spake Zarathustra: A Book for All and None by Friedrich Wilhelm Nietzsche ', 'Jim Long-Knife by Florance Walton Taylor ', \"A Soldier's Life on the Western Frontier in 1813 by Anonymous \", 'Bread by Charles G. Norris ', 'The Jungle Book by Rudyard Kipling ', 'Dubliners by James Joyce ', 'The Souls of Black Folk by W. E. B.  Du Bois ', 'Three Men in a Boat (To Say Nothing of the Dog) by Jerome K.  Jerome ', 'Meditations by Emperor of Rome Marcus Aurelius ', 'The Time Machine by H. G.  Wells ', 'Beyond Good and Evil by Friedrich Wilhelm Nietzsche ', 'David Copperfield by Charles Dickens ', 'The War of the Worlds by H. G.  Wells ', 'The Mysterious Affair at Styles by Agatha Christie ', 'The Call of the Wild by Jack London ', \"Gulliver's Travels into Several Remote Nations of the World by Jonathan Swift \", 'The King James Version of the Bible ', 'Essays of Michel de Montaigne — Complete by Michel de Montaigne ', 'The Iliad by Homer ', 'Anna Karenina by graf Leo Tolstoy ', 'A Pickle for the Knowing Ones by Timothy Dexter ', 'The Hound of the Baskervilles by Arthur Conan Doyle ', 'The Philippines a Century Hence by José Rizal ', 'Little Rifle, The Boy Trapper; or The Young Fur Hunters by Capt. \"Bruin\" Adams ', 'The Slang Dictionary: Etymological, Historical and Andecdotal by John Camden Hotten ', 'Anthem by Ayn Rand ', 'Around the World in Eighty Days by Jules Verne ', 'Siddhartha by Hermann Hesse ', 'Old Granny Fox by Thornton W.  Burgess ', 'The Awakening, and Selected Short Stories by Kate Chopin ', 'Oliver Twist by Charles Dickens ', 'The Toy by Kris Neville ', 'An Index of The Divine Comedy by Dante by Dante Alighieri ', 'The History of the Decline and Fall of the Roman Empire by Edward Gibbon ', 'The Tale of Peter Rabbit by Beatrix Potter ']\n"
     ]
    }
   ],
   "metadata": {
    "collapsed": false,
    "pycharm": {
     "name": "#%%\n"
    }
   }
  },
  {
   "cell_type": "code",
   "execution_count": 11,
   "source": [
    "'''\n",
    "11.  Create a starting index.  It should point at the Top 100 Ebooks yesterday.  Use the splitlines method of soup.text.\n",
    "It splits the lines of text of the soup object.\n",
    "'''\n",
    "idx = soup.text.splitlines().index('Top 100 EBooks yesterday')\n",
    "print(idx)"
   ],
   "outputs": [
    {
     "name": "stdout",
     "output_type": "stream",
     "text": [
      "112\n"
     ]
    }
   ],
   "metadata": {
    "collapsed": false,
    "pycharm": {
     "name": "#%%\n"
    }
   }
  },
  {
   "cell_type": "code",
   "execution_count": 12,
   "source": [
    "# 12. Loop 1-100 to add the strings of the next 100 lines to this temporary list.  Hint: use the splitlines method.\n",
    "temp_title_list = [soup.text.splitlines()[idx+i+10] for i in range(100) if soup.text.splitlines()[idx+1+10]]\n",
    "print(temp_title_list)\n"
   ],
   "outputs": [
    {
     "name": "stdout",
     "output_type": "stream",
     "text": [
      "['Pride and Prejudice by Jane Austen (1471)', \"Alice's Adventures in Wonderland by Lewis Carroll (752)\", 'The Adventures of Sherlock Holmes by Arthur Conan Doyle (684)', 'Frankenstein; Or, The Modern Prometheus by Mary Wollstonecraft Shelley (653)', 'Moby Dick; Or, The Whale by Herman Melville (599)', 'A Tale of Two Cities by Charles Dickens (540)', 'The Picture of Dorian Gray by Oscar Wilde (480)', 'No Time For Toffee! by Henry Farrell (469)', 'Calculus Made Easy by Silvanus P.  Thompson (444)', 'War and Peace by graf Leo Tolstoy (424)', 'The Great Gatsby by F. Scott  Fitzgerald (401)', 'Dracula by Bram Stoker (391)', 'Ulysses by James Joyce (380)', 'Metamorphosis by Franz Kafka (376)', 'The Prince by Niccolò Machiavelli (355)', 'The Illustrators of Montmartre by Frank L. Emanuel (341)', 'Crime and Punishment by Fyodor Dostoyevsky (335)', 'Simple Sabotage Field Manual by United States. Office of Strategic Services (329)', 'Marcel Proust (320)', 'Jane Eyre: An Autobiography by Charlotte Brontë (315)', \"Grimms' Fairy Tales by Jacob Grimm and Wilhelm Grimm (313)\", 'Anne of Green Gables by L. M.  Montgomery (304)', 'Heart of Darkness by Joseph Conrad (303)', 'The Republic by Plato (302)', \"A Doll's House : a play by Henrik Ibsen (301)\", 'Great Expectations by Charles Dickens (300)', 'The Yellow Wallpaper by Charlotte Perkins Gilman (295)', 'Peter Pan by J. M.  Barrie (293)', 'The Prophet by Kahlil Gibran (291)', 'A Christmas Carol in Prose; Being a Ghost Story of Christmas by Charles Dickens (291)', 'The Iliad by Homer (282)', 'The Importance of Being Earnest: A Trivial Comedy for Serious People by Oscar Wilde (277)', 'Walden, and On The Duty Of Civil Disobedience by Henry David Thoreau (276)', 'Don Quixote by Miguel de Cervantes Saavedra (270)', 'The Strange Case of Dr. Jekyll and Mr. Hyde by Robert Louis Stevenson (270)', 'The Wonderful Wizard of Oz by L. Frank  Baum (261)', 'Sir Gawayne and the Green Knight (260)', 'The Royal Regiment and Other Novelettes by James Grant (257)', 'The Kama Sutra of Vatsyayana by Vatsyayana (255)', 'Treasure Island by Robert Louis Stevenson (253)', 'The Adventures of Tom Sawyer, Complete by Mark Twain (249)', 'The Count of Monte Cristo, Illustrated by Alexandre Dumas (243)', 'The American Diary of a Japanese Girl by Yoné Noguchi (242)', 'The Extraordinary Adventures of Arsene Lupin, Gentleman-Burglar by Maurice Leblanc (242)', 'Arms and the Man by Bernard Shaw (242)', 'The Cosmic Bluff by Mack Reynolds (238)', \"Fortune's Fool by Rafael Sabatini (233)\", 'Korean—English Dictionary by Leon Kuperman (230)', 'A Modest Proposal by Jonathan Swift (227)', 'Little Women by Louisa May Alcott (219)', 'A Study in Scarlet by Arthur Conan Doyle (216)', 'Les Misérables by Victor Hugo (212)', 'The Secret Garden by Frances Hodgson Burnett (211)', 'Adventures of Huckleberry Finn by Mark Twain (208)', 'Tractatus Logico-Philosophicus by Ludwig Wittgenstein (208)', 'Emma by Jane Austen (208)', 'Wanderlust by Alan Edward Nourse (208)', 'The Brothers Karamazov by Fyodor Dostoyevsky (205)', 'The Romance of Lust: A classic Victorian erotic novel by Anonymous (203)', 'The Odyssey by Homer (199)', 'Wuthering Heights by Emily Brontë (199)', 'The Scarlet Letter by Nathaniel Hawthorne (198)', 'The Happy Prince, and Other Tales by Oscar Wilde (195)', \"Uncle Tom's Cabin by Harriet Beecher Stowe (188)\", 'Beowulf: An Anglo-Saxon Epic Poem (188)', 'Thus Spake Zarathustra: A Book for All and None by Friedrich Wilhelm Nietzsche (186)', 'Jim Long-Knife by Florance Walton Taylor (186)', \"A Soldier's Life on the Western Frontier in 1813 by Anonymous (185)\", 'Bread by Charles G. Norris (180)', 'The Jungle Book by Rudyard Kipling (180)', 'Dubliners by James Joyce (179)', 'The Souls of Black Folk by W. E. B.  Du Bois (176)', 'Three Men in a Boat (To Say Nothing of the Dog) by Jerome K.  Jerome (174)', 'Meditations by Emperor of Rome Marcus Aurelius (171)', 'The Time Machine by H. G.  Wells (171)', 'Beyond Good and Evil by Friedrich Wilhelm Nietzsche (170)', 'David Copperfield by Charles Dickens (166)', 'The War of the Worlds by H. G.  Wells (165)', 'The Mysterious Affair at Styles by Agatha Christie (165)', 'The Call of the Wild by Jack London (165)', \"Gulliver's Travels into Several Remote Nations of the World by Jonathan Swift (165)\", 'The King James Version of the Bible (162)', 'Essays of Michel de Montaigne — Complete by Michel de Montaigne (162)', 'The Iliad by Homer (160)', 'Anna Karenina by graf Leo Tolstoy (159)', 'A Pickle for the Knowing Ones by Timothy Dexter (156)', 'The Hound of the Baskervilles by Arthur Conan Doyle (152)', 'The Philippines a Century Hence by José Rizal (150)', 'Little Rifle, The Boy Trapper; or The Young Fur Hunters by Capt. \"Bruin\" Adams (150)', 'The Slang Dictionary: Etymological, Historical and Andecdotal by John Camden Hotten (148)', 'Anthem by Ayn Rand (147)', 'Around the World in Eighty Days by Jules Verne (143)', 'Siddhartha by Hermann Hesse (143)', 'Old Granny Fox by Thornton W.  Burgess (142)', 'The Awakening, and Selected Short Stories by Kate Chopin (141)', 'Oliver Twist by Charles Dickens (141)', 'The Toy by Kris Neville (141)', 'An Index of The Divine Comedy by Dante by Dante Alighieri (138)', 'The History of the Decline and Fall of the Roman Empire by Edward Gibbon (134)', 'The Tale of Peter Rabbit by Beatrix Potter (132)']\n"
     ]
    }
   ],
   "metadata": {
    "collapsed": false,
    "pycharm": {
     "name": "#%%\n"
    }
   }
  },
  {
   "cell_type": "code",
   "execution_count": 13,
   "source": [
    "'''\n",
    "13.  Use a regular expression to extract only text from the name strings and append it to an empty list.  Use match and\n",
    "span to find the indices and use them.\n",
    "'''\n",
    "\n",
    "title_list = []\n",
    "for i in range(100):\n",
    "    beg_index, end_index = re.match('^[a-zA-Z ]*', temp_title_list[i]).span()\n",
    "    title_list.append(temp_title_list[i][beg_index:end_index])\n",
    "print(title_list)"
   ],
   "outputs": [
    {
     "name": "stdout",
     "output_type": "stream",
     "text": [
      "['Pride and Prejudice by Jane Austen ', 'Alice', 'The Adventures of Sherlock Holmes by Arthur Conan Doyle ', 'Frankenstein', 'Moby Dick', 'A Tale of Two Cities by Charles Dickens ', 'The Picture of Dorian Gray by Oscar Wilde ', 'No Time For Toffee', 'Calculus Made Easy by Silvanus P', 'War and Peace by graf Leo Tolstoy ', 'The Great Gatsby by F', 'Dracula by Bram Stoker ', 'Ulysses by James Joyce ', 'Metamorphosis by Franz Kafka ', 'The Prince by Niccol', 'The Illustrators of Montmartre by Frank L', 'Crime and Punishment by Fyodor Dostoyevsky ', 'Simple Sabotage Field Manual by United States', 'Marcel Proust ', 'Jane Eyre', 'Grimms', 'Anne of Green Gables by L', 'Heart of Darkness by Joseph Conrad ', 'The Republic by Plato ', 'A Doll', 'Great Expectations by Charles Dickens ', 'The Yellow Wallpaper by Charlotte Perkins Gilman ', 'Peter Pan by J', 'The Prophet by Kahlil Gibran ', 'A Christmas Carol in Prose', 'The Iliad by Homer ', 'The Importance of Being Earnest', 'Walden', 'Don Quixote by Miguel de Cervantes Saavedra ', 'The Strange Case of Dr', 'The Wonderful Wizard of Oz by L', 'Sir Gawayne and the Green Knight ', 'The Royal Regiment and Other Novelettes by James Grant ', 'The Kama Sutra of Vatsyayana by Vatsyayana ', 'Treasure Island by Robert Louis Stevenson ', 'The Adventures of Tom Sawyer', 'The Count of Monte Cristo', 'The American Diary of a Japanese Girl by Yon', 'The Extraordinary Adventures of Arsene Lupin', 'Arms and the Man by Bernard Shaw ', 'The Cosmic Bluff by Mack Reynolds ', 'Fortune', 'Korean', 'A Modest Proposal by Jonathan Swift ', 'Little Women by Louisa May Alcott ', 'A Study in Scarlet by Arthur Conan Doyle ', 'Les Mis', 'The Secret Garden by Frances Hodgson Burnett ', 'Adventures of Huckleberry Finn by Mark Twain ', 'Tractatus Logico', 'Emma by Jane Austen ', 'Wanderlust by Alan Edward Nourse ', 'The Brothers Karamazov by Fyodor Dostoyevsky ', 'The Romance of Lust', 'The Odyssey by Homer ', 'Wuthering Heights by Emily Bront', 'The Scarlet Letter by Nathaniel Hawthorne ', 'The Happy Prince', 'Uncle Tom', 'Beowulf', 'Thus Spake Zarathustra', 'Jim Long', 'A Soldier', 'Bread by Charles G', 'The Jungle Book by Rudyard Kipling ', 'Dubliners by James Joyce ', 'The Souls of Black Folk by W', 'Three Men in a Boat ', 'Meditations by Emperor of Rome Marcus Aurelius ', 'The Time Machine by H', 'Beyond Good and Evil by Friedrich Wilhelm Nietzsche ', 'David Copperfield by Charles Dickens ', 'The War of the Worlds by H', 'The Mysterious Affair at Styles by Agatha Christie ', 'The Call of the Wild by Jack London ', 'Gulliver', 'The King James Version of the Bible ', 'Essays of Michel de Montaigne ', 'The Iliad by Homer ', 'Anna Karenina by graf Leo Tolstoy ', 'A Pickle for the Knowing Ones by Timothy Dexter ', 'The Hound of the Baskervilles by Arthur Conan Doyle ', 'The Philippines a Century Hence by Jos', 'Little Rifle', 'The Slang Dictionary', 'Anthem by Ayn Rand ', 'Around the World in Eighty Days by Jules Verne ', 'Siddhartha by Hermann Hesse ', 'Old Granny Fox by Thornton W', 'The Awakening', 'Oliver Twist by Charles Dickens ', 'The Toy by Kris Neville ', 'An Index of The Divine Comedy by Dante by Dante Alighieri ', 'The History of the Decline and Fall of the Roman Empire by Edward Gibbon ', 'The Tale of Peter Rabbit by Beatrix Potter ']\n"
     ]
    }
   ],
   "metadata": {
    "collapsed": false,
    "pycharm": {
     "name": "#%%\n"
    }
   }
  },
  {
   "cell_type": "markdown",
   "source": [
    "## Data Wrangling with Python: Activity 10 (pg 295) Building Your Own Movie Database by Reading an API\n",
    "\n",
    "### You will build a complete movie database by communicating and interfacing with a free API.\n",
    "### The aims of this activity are as follows:  To retrieve and print basic data about a movie (the title is entered\n",
    "### by the user) from the web (OMDb database)\n",
    "### If a poster of the movie is found, it downloads the file and saves it at a user-specified location"
   ],
   "metadata": {
    "collapsed": false
   }
  },
  {
   "cell_type": "code",
   "execution_count": 14,
   "source": [
    "'''\n",
    "1.  Import urllib.request, urlib.parse, urlib.error and json.\n",
    "'''\n",
    "import urllib.request\n",
    "import urllib.parse\n",
    "import urllib.error\n",
    "import json\n",
    "import os\n"
   ],
   "outputs": [],
   "metadata": {
    "collapsed": false,
    "pycharm": {
     "name": "#%%\n"
    }
   }
  },
  {
   "cell_type": "code",
   "execution_count": 15,
   "source": [
    "'''\n",
    "2.  Load the secret API key (you have to get one from the OMDb website and use that; it has a daily limit of 1,000) from\n",
    "a JSON file stored in the same folder in a variable, by using json.loads.\n",
    "3.  Obtain a key and store it in JSON as APIkeys.json\n",
    "4.  Open the APIkeys.json file.\n",
    "5.  Assign the OMDb portal as a string to a variable.\n",
    "6.  Create a variable called apikey with the last portion of the URL (&apikey=secretapikey), where secretapikey is your\n",
    "own API key.\n",
    "7.  Write a utility function called print_json to print the movie data from a JSON file (which we will get from the\n",
    "portal).\n",
    "'''\n",
    "\n",
    "serviceurl = 'http://www.omdbapi.com/'\n",
    "\n",
    "with open('APIkeys.json') as f:\n",
    "    contents = json.load(f)\n",
    "\n",
    "apikey = '?apikey='+ contents['secret_sauce'] + '&'\n",
    "\n",
    "the_url = serviceurl + apikey\n",
    "\n",
    "def print_json(movie_title):\n",
    "    movie_title = movie_title.strip().replace(' ', '+')\n",
    "    movie_url = the_url + 't=' + movie_title\n",
    "    url_decode = urllib.request.urlopen(movie_url)\n",
    "    data = url_decode.read().decode()\n",
    "    x = json.loads(data)\n",
    "    return x\n",
    "\n",
    "print_json('The Matrix')\n",
    "\n",
    "\n"
   ],
   "outputs": [
    {
     "data": {
      "text/plain": "{'Title': 'The Matrix',\n 'Year': '1999',\n 'Rated': 'R',\n 'Released': '31 Mar 1999',\n 'Runtime': '136 min',\n 'Genre': 'Action, Sci-Fi',\n 'Director': 'Lana Wachowski, Lilly Wachowski',\n 'Writer': 'Lilly Wachowski, Lana Wachowski',\n 'Actors': 'Keanu Reeves, Laurence Fishburne, Carrie-Anne Moss',\n 'Plot': 'When a beautiful stranger leads computer hacker Neo to a forbidding underworld, he discovers the shocking truth--the life he knows is the elaborate deception of an evil cyber-intelligence.',\n 'Language': 'English',\n 'Country': 'United States, Australia',\n 'Awards': 'Won 4 Oscars. 42 wins & 51 nominations total',\n 'Poster': 'https://m.media-amazon.com/images/M/MV5BNzQzOTk3OTAtNDQ0Zi00ZTVkLWI0MTEtMDllZjNkYzNjNTc4L2ltYWdlXkEyXkFqcGdeQXVyNjU0OTQ0OTY@._V1_SX300.jpg',\n 'Ratings': [{'Source': 'Internet Movie Database', 'Value': '8.7/10'},\n  {'Source': 'Rotten Tomatoes', 'Value': '88%'},\n  {'Source': 'Metacritic', 'Value': '73/100'}],\n 'Metascore': '73',\n 'imdbRating': '8.7',\n 'imdbVotes': '1,721,603',\n 'imdbID': 'tt0133093',\n 'Type': 'movie',\n 'DVD': '01 Jan 2009',\n 'BoxOffice': '$171,479,930',\n 'Production': 'Village Roadshow Prod., Silver Pictures',\n 'Website': 'N/A',\n 'Response': 'True'}"
     },
     "execution_count": 15,
     "metadata": {},
     "output_type": "execute_result"
    }
   ],
   "metadata": {
    "collapsed": false,
    "pycharm": {
     "name": "#%%\n"
    }
   }
  },
  {
   "cell_type": "code",
   "execution_count": 16,
   "source": [
    "'''\n",
    "8.  Write a utility function to download a poster of the movie based on the info from the JSON dataset and save it to your\n",
    "local folder.  Use the os module.  The poster data is stored in the JSON key Poster.  Use the Python command to open a\n",
    "file and write the poster data.  Close the file after you're done.  This function will save the poster data as an image\n",
    "file.\n",
    "'''\n",
    "def get_poster(title):\n",
    "    poster = print_json(title)\n",
    "    poster_info = poster['Poster']\n",
    "    print(poster_info)\n",
    "\n",
    "    urllib.request.urlretrieve(poster_info, \"test.jpg\")\n",
    "    # with open('test2.jpg', 'wb') as fd:\n",
    "    #     fd.write(poster_info)\n",
    "\n",
    "get_poster('The Matrix')"
   ],
   "outputs": [
    {
     "name": "stdout",
     "output_type": "stream",
     "text": [
      "https://m.media-amazon.com/images/M/MV5BNzQzOTk3OTAtNDQ0Zi00ZTVkLWI0MTEtMDllZjNkYzNjNTc4L2ltYWdlXkEyXkFqcGdeQXVyNjU0OTQ0OTY@._V1_SX300.jpg\n"
     ]
    }
   ],
   "metadata": {
    "collapsed": false,
    "pycharm": {
     "name": "#%%\n"
    }
   }
  },
  {
   "cell_type": "code",
   "execution_count": null,
   "source": [
    "'''\n",
    "9.  Write a utility function called search_movie to search for a movie by its name, print the downloaded JSON data, and\n",
    "save the movie poster in the local folder.  Use a try-except loop for this.  Use the previously created serviceurl and\n",
    "apikey variables.  You have to pass on a dictionary with key, t, and the movie name as the corresponding value to the\n",
    "urllib.parse.urlencode() function and then add the serviceurl and apikey to the output of the function to construct the\n",
    "full URL.  This URL will be use to access the data.  The JSON data has a key called Response.  If it is True, that means\n",
    "the read was successful.  Check this before processing the data.  If it's not successful, then print the JSON key Error,\n",
    "which will contain the appropriate error message returned by the movie database.\n",
    "'''\n",
    "\n",
    "def search_movie(movie_name):\n",
    "\n",
    "    search_parameters = {'t': movie_name}\n",
    "    search_url = serviceurl + apikey + urllib.parse.urlencode(search_parameters)\n",
    "    print(search_url)\n",
    "\n",
    "    while True:\n",
    "        try:\n",
    "            pass\n",
    "            '''\n",
    "            search_parameters = {'t': movie_name}\n",
    "            search_url = urllib.parse.urlencode(search_parameters) + serviceurl + apikey\n",
    "            print(search_url)'''\n",
    "            # bring in serviceurl and apikey variables\n",
    "            # use a dictionary {t:movie_name} and call the urllib.parse.urlencode() function\n",
    "            # search for movie by name\n",
    "            # print downloaded JSON data\n",
    "            # save movie poster in local folder\n",
    "        except: # JSON key error\n",
    "            pass\n",
    "            # print the JSON error as obtained by the movie database\n",
    "search_movie('The Bourne Identity')"
   ],
   "outputs": [
    {
     "name": "stdout",
     "output_type": "stream",
     "text": [
      "http://www.omdbapi.com/?apikey=6b0bce9&t=The+Bourne+Identity\n"
     ]
    }
   ],
   "metadata": {
    "collapsed": false,
    "pycharm": {
     "name": "#%%\n",
     "is_executing": true
    }
   }
  },
  {
   "cell_type": "code",
   "execution_count": null,
   "source": [
    "'''\r\n",
    "10.  Test the search_movie function by entering Titanic.\r\n",
    "'''\r\n"
   ],
   "outputs": [],
   "metadata": {
    "collapsed": false,
    "pycharm": {
     "name": "#%%\n",
     "is_executing": true
    }
   }
  },
  {
   "cell_type": "code",
   "execution_count": null,
   "source": [
    "'''\r\n",
    "11.  Test the search_movie function by entering \"Random_error\" (obviously, this will not be found, and you should be\r\n",
    "able to check whether your error catching code is working properly).\r\n",
    "'''"
   ],
   "outputs": [],
   "metadata": {
    "collapsed": false,
    "pycharm": {
     "name": "#%%\n",
     "is_executing": true
    }
   }
  }
 ],
 "metadata": {
  "kernelspec": {
   "display_name": "Python 3",
   "language": "python",
   "name": "python3"
  },
  "language_info": {
   "codemirror_mode": {
    "name": "ipython",
    "version": 2
   },
   "file_extension": ".py",
   "mimetype": "text/x-python",
   "name": "python",
   "nbconvert_exporter": "python",
   "pygments_lexer": "ipython2",
   "version": "2.7.6"
  }
 },
 "nbformat": 4,
 "nbformat_minor": 2
}