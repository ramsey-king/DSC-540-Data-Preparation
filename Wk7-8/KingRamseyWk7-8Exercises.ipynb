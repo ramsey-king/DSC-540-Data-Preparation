{
 "cells": [
  {
   "cell_type": "code",
   "execution_count": 2,
   "source": [
    "# Ramsey King\n",
    "# DSC 540 - Data Preparation\n",
    "# Week 7 & 8 Assignment\n",
    "# July 31, 2021"
   ],
   "outputs": [],
   "metadata": {
    "collapsed": true
   }
  },
  {
   "cell_type": "markdown",
   "source": [
    "## Data Wrangling with Python: Activity 9 (pg 294)\n",
    "\n",
    "### Project Guttenberg encourages the creation and distribution of eBooks by encouraging volunteer efforts to digitize\n",
    "### and archive cultural works.  This activity aims to scrape the URL of Project Guttenberg's Top 100 eBooks to\n",
    "### identify the eBooks' links.  It uses BeautifulSoup4 to parse the HTML and regular expression code to identify the\n",
    "### Top 100 eBook file numbers"
   ],
   "metadata": {
    "collapsed": false
   }
  },
  {
   "cell_type": "code",
   "execution_count": 3,
   "source": [
    "# 1. Import the necessary libraries, including regex and beautifulsoup.\n",
    "\n",
    "import re\n",
    "from bs4 import BeautifulSoup\n",
    "import requests"
   ],
   "outputs": [],
   "metadata": {
    "collapsed": false,
    "pycharm": {
     "name": "#%%\n"
    }
   }
  },
  {
   "cell_type": "code",
   "execution_count": 4,
   "source": [
    "# 2. Check the SSL Certificate.\n",
    "url = 'https://www.gutenberg.org/browse/scores/top'\n",
    "response = requests.get(url, verify = True)\n",
    "response"
   ],
   "outputs": [
    {
     "data": {
      "text/plain": "<Response [200]>"
     },
     "execution_count": 4,
     "metadata": {},
     "output_type": "execute_result"
    }
   ],
   "metadata": {
    "collapsed": false,
    "pycharm": {
     "name": "#%%\n"
    }
   }
  },
  {
   "cell_type": "code",
   "execution_count": 5,
   "source": [
    "# 3. Read the HTML from the URL.\n",
    "webpage_contents = requests.get(url).text\n",
    "soup = BeautifulSoup(webpage_contents)\n",
    "soup.prettify"
   ],
   "outputs": [
    {
     "data": {
      "text/plain": "<bound method Tag.prettify of <!DOCTYPE html>\n<html class=\"client-nojs\" dir=\"ltr\" lang=\"en\">\n<head>\n<meta charset=\"utf-8\"/>\n<title>Top 100 | Project Gutenberg</title>\n<link href=\"/gutenberg/style.css?v=1.1\" rel=\"stylesheet\"/>\n<link href=\"/gutenberg/collapsible.css?1.1\" rel=\"stylesheet\"/>\n<link href=\"/gutenberg/new_nav.css?v=1.321231\" rel=\"stylesheet\"/>\n<link href=\"/gutenberg/pg-desktop-one.css\" rel=\"stylesheet\"/>\n<meta content=\"width=device-width, initial-scale=1\" name=\"viewport\"/>\n<meta content=\"books, ebooks, free, kindle, android, iphone, ipad\" name=\"keywords\"/>\n<meta content=\"wucOEvSnj5kP3Ts_36OfP64laakK-1mVTg-ptrGC9io\" name=\"google-site-verification\"/>\n<meta content=\"4WNaCljsE-A82vP_ih2H_UqXZvM\" name=\"alexaVerifyID\"/>\n<link href=\"https://www.gnu.org/copyleft/fdl.html\" rel=\"copyright\"/>\n<link href=\"/gutenberg/favicon.ico?v=1.1\" rel=\"shortcut icon\"/>\n<meta content=\"Project Gutenberg\" property=\"og:title\"/>\n<meta content=\"website\" property=\"og:type\"/>\n<meta content=\"https://www.gutenberg.org/\" property=\"og:url\"/>\n<meta content=\"Project Gutenberg is a library of free eBooks.\" property=\"og:description\"/>\n<meta content=\"615269807\" property=\"fb:admins\"/>\n<meta content=\"115319388529183\" property=\"fb:app_id\"/>\n<meta content=\"Project Gutenberg\" property=\"og:site_name\"/>\n<meta content=\"https://www.gutenberg.org/gutenberg/pg-logo-144x144.png\" property=\"og:image\"/>\n</head>\n<body>\n<div class=\"container\"><!-- start body --><nav>\n<!--<div id=\"main_logo\"> -->\n<a class=\"no-hover\" href=\"/\" id=\"main_logo\">\n<img alt=\"Project Gutenberg\" draggable=\"false\" src=\"/gutenberg/pg-logo-129x80.png\"/>\n</a>\n<!--\t</div>-->\n<div id=\"menu\">\n<label for=\"tm\" id=\"toggle-menu\">Menu<span class=\"drop-icon\">▾</span></label>\n<input id=\"tm\" type=\"checkbox\"/>\n<ul class=\"main-menu cf\">\n<li>\n<a href=\"/about/\">About\n          <span class=\"drop-icon\">▾</span>\n</a>\n<label class=\"drop-icon\" for=\"sm0\" title=\"Toggle Drop-down\">▾</label>\n<input id=\"sm0\" type=\"checkbox\"/>\n<ul class=\"sub-menu\">\n<li><a href=\"/about/\">About Project Gutenberg</a></li>\n<li><a href=\"/policy/collection_development.html\">Collection Development</a></li>\n<li><a href=\"/about/contact_information.html\">Contact Us</a></li>\n<li><a href=\"/about/background/\">History &amp; Philosophy</a></li>\n<li><a href=\"/policy/permission.html\">Permissions &amp; License</a></li>\n<li><a href=\"/policy/privacy_policy.html\">Privacy Policy</a></li>\n<li><a href=\"/policy/terms_of_use.html\">Terms of Use</a></li>\n</ul>\n</li>\n<li>\n<a href=\"/ebooks/\">Search and Browse\n      \t  <span class=\"drop-icon\">▾</span>\n</a>\n<label class=\"drop-icon\" for=\"sm8\" title=\"Toggle Drop-down\">▾</label>\n<input id=\"sm8\" type=\"checkbox\"/>\n<ul class=\"sub-menu\">\n<li><a href=\"/ebooks/\">Book Search</a></li>\n<li><a href=\"/ebooks/bookshelf/\">Bookshelves</a></li>\n<li><a href=\"/browse/scores/top\">Frequently Downloaded</a></li>\n<li><a href=\"/ebooks/offline_catalogs.html\">Offline Catalogs</a></li>\n</ul>\n</li>\n<li>\n<a href=\"/help/\">Help\n          <span class=\"drop-icon\">▾</span>\n</a>\n<label class=\"drop-icon\" for=\"sm3\" title=\"Toggle Drop-down\">▾</label>\n<input id=\"sm3\" type=\"checkbox\"/>\n<ul class=\"sub-menu\">\n<li><a href=\"/help/\">All help topics →</a></li>\n<li><a href=\"/help/copyright.html\">Copyright Procedures</a></li>\n<li><a href=\"/help/errata.html\">Errata, Fixes and Bug Reports</a></li>\n<li><a href=\"/help/file_formats.html\">File Formats</a></li>\n<li><a href=\"/help/faq.html\">Frequently Asked Questions</a></li>\n<li><a href=\"/policy/\">Policies →</a></li>\n<li><a href=\"/help/public_domain_ebook_submission.html\">Public Domain eBook Submission</a></li>\n<li><a href=\"/help/submitting_your_own_work.html\">Submitting Your Own Work</a></li>\n<li><a href=\"/help/mobile.html\">Tablets, Phones and eReaders</a></li>\n<li><a href=\"/attic/\">The Attic →</a></li>\n</ul>\n</li>\n<li><a href=\"/donate/\">Donate</a></li>\n</ul>\n</div>\n<div class=\"donate\">\n<div class=\"searchbox\">\n<form accept-charset=\"utf-8\" action=\"/ebooks/search/\" class=\"searchbox\" enctype=\"multipart/form-data\" method=\"get\">\n<input class=\"searchInput\" id=\"menu-book-search\" maxlength=\"80\" name=\"query\" placeholder=\"  Quick search\" size=\"20\" tabindex=\"20\" title=\"Quick search\" type=\"text\" value=\"\"/>\n<input name=\"submit_search\" style=\"vertical-align:middle;\" type=\"submit\" value=\"Go!\"/>\n</form>\n</div>\n<form action=\"https://www.paypal.com/cgi-bin/webscr\" class=\"donatelink\" method=\"post\" target=\"new\">\n<p><a href=\"/donate/\">Donation</a></p>\n<input name=\"cmd\" type=\"hidden\" value=\"_s-xclick\"/>\n<input name=\"hosted_button_id\" type=\"hidden\" value=\"XKAL6BZL3YPSN\"/>\n<input alt=\"Donate via PayPal\" class=\"donbtn\" name=\"submit\" src=\"/pics/en_US.gif\" type=\"image\"/>\n</form>\n</div>\n</nav>\n<div class=\"page_content\"><!-- start content -->\n<h1>Frequently Viewed or Downloaded</h1>\n<p>These listings are based on the number of times each eBook gets downloaded.\n      Multiple downloads from the same Internet address on the same day count as one download, and addresses that download more than 100 eBooks in a day are considered robots and are not counted.</p>\n<table>\n<caption>Downloaded Books</caption>\n<tr><th>2021-07-26</th><td class=\"right\">136824</td></tr>\n<tr><th>last 7 days</th><td class=\"right\">951977</td></tr>\n<tr><th>last 30 days</th><td class=\"right\">4016141</td></tr>\n</table>\n<div class=\"padded\">\n<ul>\n<li><a href=\"#books-last1\">Top 100 EBooks yesterday</a></li>\n<li><a href=\"#authors-last1\">Top 100 Authors yesterday</a></li>\n<li><a href=\"#books-last7\">Top 100 EBooks last 7 days</a></li>\n<li><a href=\"#authors-last7\">Top 100 Authors last 7 days</a></li>\n<li><a href=\"#books-last30\">Top 100 EBooks last 30 days</a></li>\n<li><a href=\"#authors-last30\">Top 100 Authors last 30 days</a></li>\n</ul>\n</div>\n<h2 id=\"books-last1\">Top 100 EBooks yesterday</h2>\n<ol>\n<li><a href=\"/ebooks/1342\">Pride and Prejudice by Jane Austen (1492)</a></li>\n<li><a href=\"/ebooks/11\">Alice's Adventures in Wonderland by Lewis Carroll (813)</a></li>\n<li><a href=\"/ebooks/1661\">The Adventures of Sherlock Holmes by Arthur Conan Doyle (687)</a></li>\n<li><a href=\"/ebooks/84\">Frankenstein; Or, The Modern Prometheus by Mary Wollstonecraft Shelley (660)</a></li>\n<li><a href=\"/ebooks/2701\">Moby Dick; Or, The Whale by Herman Melville (584)</a></li>\n<li><a href=\"/ebooks/98\">A Tale of Two Cities by Charles Dickens (583)</a></li>\n<li><a href=\"/ebooks/174\">The Picture of Dorian Gray by Oscar Wilde (501)</a></li>\n<li><a href=\"/ebooks/345\">Dracula by Bram Stoker (434)</a></li>\n<li><a href=\"/ebooks/64317\">The Great Gatsby by F. Scott  Fitzgerald (419)</a></li>\n<li><a href=\"/ebooks/2600\">War and Peace by graf Leo Tolstoy (392)</a></li>\n<li><a href=\"/ebooks/1952\">The Yellow Wallpaper by Charlotte Perkins Gilman (388)</a></li>\n<li><a href=\"/ebooks/2542\">A Doll's House : a play by Henrik Ibsen (364)</a></li>\n<li><a href=\"/ebooks/2591\">Grimms' Fairy Tales by Jacob Grimm and Wilhelm Grimm (363)</a></li>\n<li><a href=\"/ebooks/1260\">Jane Eyre: An Autobiography by Charlotte Brontë (358)</a></li>\n<li><a href=\"/ebooks/65919\">History of the Fylde of Lancashire by John Porter (355)</a></li>\n<li><a href=\"/ebooks/1232\">The Prince by Niccolò Machiavelli (353)</a></li>\n<li><a href=\"/ebooks/5200\">Metamorphosis by Franz Kafka (351)</a></li>\n<li><a href=\"/ebooks/2554\">Crime and Punishment by Fyodor Dostoyevsky (341)</a></li>\n<li><a href=\"/ebooks/65918\">Guide to the Bayeux tapestry by F. F. L. Birrell (339)</a></li>\n<li><a href=\"/ebooks/58585\">The Prophet by Kahlil Gibran (322)</a></li>\n<li><a href=\"/ebooks/43\">The Strange Case of Dr. Jekyll and Mr. Hyde by Robert Louis Stevenson (313)</a></li>\n<li><a href=\"/ebooks/45\">Anne of Green Gables by L. M.  Montgomery (308)</a></li>\n<li><a href=\"/ebooks/55\">The Wonderful Wizard of Oz by L. Frank  Baum (298)</a></li>\n<li><a href=\"/ebooks/65910\">Norse mythology; or The religion of our forefathers, containing all the myths of the Eddas, systemat (290)</a></li>\n<li><a href=\"/ebooks/1400\">Great Expectations by Charles Dickens (288)</a></li>\n<li><a href=\"/ebooks/16\">Peter Pan by J. M.  Barrie (287)</a></li>\n<li><a href=\"/ebooks/4300\">Ulysses by James Joyce (284)</a></li>\n<li><a href=\"/ebooks/6130\">The Iliad by Homer (280)</a></li>\n<li><a href=\"/ebooks/844\">The Importance of Being Earnest: A Trivial Comedy for Serious People by Oscar Wilde (280)</a></li>\n<li><a href=\"/ebooks/63256\">The American Diary of a Japanese Girl by Yoné Noguchi (280)</a></li>\n<li><a href=\"/ebooks/74\">The Adventures of Tom Sawyer, Complete by Mark Twain (276)</a></li>\n<li><a href=\"/ebooks/46\">A Christmas Carol in Prose; Being a Ghost Story of Christmas by Charles Dickens (268)</a></li>\n<li><a href=\"/ebooks/205\">Walden, and On The Duty Of Civil Disobedience by Henry David Thoreau (266)</a></li>\n<li><a href=\"/ebooks/1184\">The Count of Monte Cristo, Illustrated by Alexandre Dumas (260)</a></li>\n<li><a href=\"/ebooks/35899\">The Philippines a Century Hence by José Rizal (255)</a></li>\n<li><a href=\"/ebooks/514\">Little Women by Louisa May Alcott (255)</a></li>\n<li><a href=\"/ebooks/65903\">Psychology of the Unconscious by C. G.  Jung (253)</a></li>\n<li><a href=\"/ebooks/5739\">Korean—English Dictionary by Leon Kuperman (250)</a></li>\n<li><a href=\"/ebooks/1497\">The Republic by Plato (246)</a></li>\n<li><a href=\"/ebooks/244\">A Study in Scarlet by Arthur Conan Doyle (244)</a></li>\n<li><a href=\"/ebooks/1080\">A Modest Proposal by Jonathan Swift (244)</a></li>\n<li><a href=\"/ebooks/1998\">Thus Spake Zarathustra: A Book for All and None by Friedrich Wilhelm Nietzsche (241)</a></li>\n<li><a href=\"/ebooks/219\">Heart of Darkness by Joseph Conrad (238)</a></li>\n<li><a href=\"/ebooks/65912\">\"Swat the Fly!\" by Eleanor Gates (235)</a></li>\n<li><a href=\"/ebooks/27827\">The Kama Sutra of Vatsyayana by Vatsyayana (234)</a></li>\n<li><a href=\"/ebooks/30254\">The Romance of Lust: A classic Victorian erotic novel by Anonymous (232)</a></li>\n<li><a href=\"/ebooks/996\">Don Quixote by Miguel de Cervantes Saavedra (231)</a></li>\n<li><a href=\"/ebooks/158\">Emma by Jane Austen (231)</a></li>\n<li><a href=\"/ebooks/6133\">The Extraordinary Adventures of Arsene Lupin, Gentleman-Burglar by Maurice Leblanc (230)</a></li>\n<li><a href=\"/ebooks/120\">Treasure Island by Robert Louis Stevenson (226)</a></li>\n<li><a href=\"/ebooks/14568\">Sir Gawayne and the Green Knight (218)</a></li>\n<li><a href=\"/ebooks/768\">Wuthering Heights by Emily Brontë (213)</a></li>\n<li><a href=\"/ebooks/408\">The Souls of Black Folk by W. E. B.  Du Bois (210)</a></li>\n<li><a href=\"/ebooks/5740\">Tractatus Logico-Philosophicus by Ludwig Wittgenstein (208)</a></li>\n<li><a href=\"/ebooks/27085\">Rootabaga Stories by Carl Sandburg (207)</a></li>\n<li><a href=\"/ebooks/28054\">The Brothers Karamazov by Fyodor Dostoyevsky (206)</a></li>\n<li><a href=\"/ebooks/26184\">Simple Sabotage Field Manual by United States. Office of Strategic Services (203)</a></li>\n<li><a href=\"/ebooks/135\">Les Misérables by Victor Hugo (202)</a></li>\n<li><a href=\"/ebooks/902\">The Happy Prince, and Other Tales by Oscar Wilde (199)</a></li>\n<li><a href=\"/ebooks/1727\">The Odyssey by Homer (196)</a></li>\n<li><a href=\"/ebooks/76\">Adventures of Huckleberry Finn by Mark Twain (194)</a></li>\n<li><a href=\"/ebooks/829\">Gulliver's Travels into Several Remote Nations of the World by Jonathan Swift (190)</a></li>\n<li><a href=\"/ebooks/863\">The Mysterious Affair at Styles by Agatha Christie (185)</a></li>\n<li><a href=\"/ebooks/25344\">The Scarlet Letter by Nathaniel Hawthorne (182)</a></li>\n<li><a href=\"/ebooks/113\">The Secret Garden by Frances Hodgson Burnett (179)</a></li>\n<li><a href=\"/ebooks/2500\">Siddhartha by Hermann Hesse (178)</a></li>\n<li><a href=\"/ebooks/2814\">Dubliners by James Joyce (177)</a></li>\n<li><a href=\"/ebooks/2852\">The Hound of the Baskervilles by Arthur Conan Doyle (175)</a></li>\n<li><a href=\"/ebooks/4363\">Beyond Good and Evil by Friedrich Wilhelm Nietzsche (173)</a></li>\n<li><a href=\"/ebooks/36\">The War of the Worlds by H. G.  Wells (169)</a></li>\n<li><a href=\"/ebooks/16328\">Beowulf: An Anglo-Saxon Epic Poem (165)</a></li>\n<li><a href=\"/ebooks/65920\">St. Nicholas Book of Plays &amp; Operettas (Second Series) by Various (164)</a></li>\n<li><a href=\"/ebooks/730\">Oliver Twist by Charles Dickens (163)</a></li>\n<li><a href=\"/ebooks/42108\">The Slang Dictionary: Etymological, Historical and Andecdotal by John Camden Hotten (162)</a></li>\n<li><a href=\"/ebooks/308\">Three Men in a Boat (To Say Nothing of the Dog) by Jerome K.  Jerome (160)</a></li>\n<li><a href=\"/ebooks/1399\">Anna Karenina by graf Leo Tolstoy (159)</a></li>\n<li><a href=\"/ebooks/203\">Uncle Tom's Cabin by Harriet Beecher Stowe (158)</a></li>\n<li><a href=\"/ebooks/766\">David Copperfield by Charles Dickens (156)</a></li>\n<li><a href=\"/ebooks/3600\">Essays of Michel de Montaigne — Complete by Michel de Montaigne (156)</a></li>\n<li><a href=\"/ebooks/236\">The Jungle Book by Rudyard Kipling (156)</a></li>\n<li><a href=\"/ebooks/3090\">Complete Original Short Stories of Guy De Maupassant by Guy de Maupassant (155)</a></li>\n<li><a href=\"/ebooks/35\">The Time Machine by H. G.  Wells (155)</a></li>\n<li><a href=\"/ebooks/33283\">Calculus Made Easy by Silvanus P.  Thompson (154)</a></li>\n<li><a href=\"/ebooks/132\">The Art of War by active 6th century B.C. Sunzi (151)</a></li>\n<li><a href=\"/ebooks/2680\">Meditations by Emperor of Rome Marcus Aurelius (150)</a></li>\n<li><a href=\"/ebooks/10\">The King James Version of the Bible (149)</a></li>\n<li><a href=\"/ebooks/20203\">Autobiography of Benjamin Franklin by Benjamin Franklin (148)</a></li>\n<li><a href=\"/ebooks/23\">Narrative of the Life of Frederick Douglass, an American Slave by Frederick Douglass (142)</a></li>\n<li><a href=\"/ebooks/105\">Persuasion by Jane Austen (139)</a></li>\n<li><a href=\"/ebooks/161\">Sense and Sensibility by Jane Austen (139)</a></li>\n<li><a href=\"/ebooks/215\">The Call of the Wild by Jack London (134)</a></li>\n<li><a href=\"/ebooks/61\">The Communist Manifesto by Friedrich Engels and Karl Marx (134)</a></li>\n<li><a href=\"/ebooks/1250\">Anthem by Ayn Rand (132)</a></li>\n<li><a href=\"/ebooks/25717\">The History of the Decline and Fall of the Roman Empire by Edward Gibbon (130)</a></li>\n<li><a href=\"/ebooks/972\">The Devil's Dictionary by Ambrose Bierce (128)</a></li>\n<li><a href=\"/ebooks/21524\">Robinson Crusoe by Daniel Defoe (127)</a></li>\n<li><a href=\"/ebooks/4980\">Old Granny Fox by Thornton W.  Burgess (126)</a></li>\n<li><a href=\"/ebooks/8800\">An Index of The Divine Comedy by Dante by Dante Alighieri (124)</a></li>\n<li><a href=\"/ebooks/65908\">Illuminated illustrations of Froissart by Jean Froissart (124)</a></li>\n<li><a href=\"/ebooks/60559\">The Chaldean Account of Genesis by George Smith (121)</a></li>\n</ol>\n<div class=\"padded\">\n<ul>\n<li><a href=\"#books-last1\">Top 100 EBooks yesterday</a></li>\n<li><a href=\"#authors-last1\">Top 100 Authors yesterday</a></li>\n<li><a href=\"#books-last7\">Top 100 EBooks last 7 days</a></li>\n<li><a href=\"#authors-last7\">Top 100 Authors last 7 days</a></li>\n<li><a href=\"#books-last30\">Top 100 EBooks last 30 days</a></li>\n<li><a href=\"#authors-last30\">Top 100 Authors last 30 days</a></li>\n</ul>\n</div>\n<h2 id=\"authors-last1\">Top 100 Authors yesterday</h2>\n<ol>\n<li><a href=\"/browse/authors/a#a68\">Austen, Jane (2360)</a></li>\n<li><a href=\"/browse/authors/d#a37\">Dickens, Charles (2330)</a></li>\n<li><a href=\"/browse/authors/d#a69\">Doyle, Arthur Conan (1927)</a></li>\n<li><a href=\"/browse/authors/t#a53\">Twain, Mark (1451)</a></li>\n<li><a href=\"/browse/authors/w#a111\">Wilde, Oscar (1334)</a></li>\n<li><a href=\"/browse/authors/c#a7\">Carroll, Lewis (1214)</a></li>\n<li><a href=\"/browse/authors/d#a314\">Dostoyevsky, Fyodor (1067)</a></li>\n<li><a href=\"/browse/authors/s#a65\">Shakespeare, William (987)</a></li>\n<li><a href=\"/browse/authors/t#a136\">Tolstoy, Leo, graf (915)</a></li>\n<li><a href=\"/browse/authors/s#a35\">Stevenson, Robert Louis (902)</a></li>\n<li><a href=\"/browse/authors/w#a30\">Wells, H. G. (Herbert George) (861)</a></li>\n<li><a href=\"/browse/authors/n#a779\">Nietzsche, Friedrich Wilhelm (812)</a></li>\n<li><a href=\"/browse/authors/s#a61\">Shelley, Mary Wollstonecraft (802)</a></li>\n<li><a href=\"/browse/authors/g#a2858\">Garnett, Constance (754)</a></li>\n<li><a href=\"/browse/authors/m#a9\">Melville, Herman (733)</a></li>\n<li><a href=\"/browse/authors/h#a705\">Homer (716)</a></li>\n<li><a href=\"/browse/authors/m#a36\">Montgomery, L. M. (Lucy Maud) (665)</a></li>\n<li><a href=\"/browse/authors/b#a42\">Baum, L. Frank (Lyman Frank) (651)</a></li>\n<li><a href=\"/browse/authors/v#a60\">Verne, Jules (647)</a></li>\n<li><a href=\"/browse/authors/p#a93\">Plato (642)</a></li>\n<li><a href=\"/browse/authors/d#a492\">Dumas, Alexandre (632)</a></li>\n<li><a href=\"/browse/authors/r#a2183\">Rizal, José (613)</a></li>\n<li><a href=\"/browse/authors/j#a94\">Jowett, Benjamin (599)</a></li>\n<li><a href=\"/browse/authors/l#a120\">London, Jack (563)</a></li>\n<li><a href=\"/browse/authors/j#a1039\">Joyce, James (555)</a></li>\n<li><a href=\"/browse/authors/k#a132\">Kipling, Rudyard (554)</a></li>\n<li><a href=\"/browse/authors/f#a420\">Fitzgerald, F. Scott (Francis Scott) (552)</a></li>\n<li><a href=\"/browse/authors/j#a113\">James, Henry (542)</a></li>\n<li><a href=\"/browse/authors/i#a861\">Ibsen, Henrik (530)</a></li>\n<li><a href=\"/browse/authors/p#a481\">Poe, Edgar Allan (530)</a></li>\n<li><a href=\"/browse/authors/s#a190\">Stoker, Bram (530)</a></li>\n<li><a href=\"/browse/authors/c#a80\">Chesterton, G. K. (Gilbert Keith) (527)</a></li>\n<li><a href=\"/browse/authors/d#a1896\">Doré, Gustave (519)</a></li>\n<li><a href=\"/browse/authors/s#a326\">Swift, Jonathan (516)</a></li>\n<li><a href=\"/browse/authors/l#a1358\">Leblanc, Maurice (515)</a></li>\n<li><a href=\"/browse/authors/c#a451\">Christie, Agatha (507)</a></li>\n<li><a href=\"/browse/authors/l#a79\">Lang, Andrew (500)</a></li>\n<li><a href=\"/browse/authors/k#a1735\">Kafka, Franz (499)</a></li>\n<li><a href=\"/browse/authors/m#a500\">Maude, Louise (496)</a></li>\n<li><a href=\"/browse/authors/m#a4589\">Maude, Aylmer (494)</a></li>\n<li><a href=\"/browse/authors/w#a1961\">Widger, David (491)</a></li>\n<li><a href=\"/browse/authors/d#a507\">Dante Alighieri (490)</a></li>\n<li><a href=\"/browse/authors/c#a125\">Conrad, Joseph (484)</a></li>\n<li><a href=\"/browse/authors/a#a102\">Alcott, Louisa May (480)</a></li>\n<li><a href=\"/browse/authors/d#a204\">Defoe, Daniel (476)</a></li>\n<li><a href=\"/browse/authors/h#a28\">Hawthorne, Nathaniel (468)</a></li>\n<li><a href=\"/browse/authors/g#a971\">Grimm, Jacob (461)</a></li>\n<li><a href=\"/browse/authors/g#a972\">Grimm, Wilhelm (461)</a></li>\n<li><a href=\"/browse/authors/b#a408\">Brontë, Charlotte (433)</a></li>\n<li><a href=\"/browse/authors/g#a27\">Gilman, Charlotte Perkins (425)</a></li>\n<li><a href=\"/browse/authors/w#a1736\">Wyllie, David (Translator) (425)</a></li>\n<li><a href=\"/browse/authors/d#a4931\">Derbyshire, Charles E. (424)</a></li>\n<li><a href=\"/browse/authors/h#a85\">Hugo, Victor (421)</a></li>\n<li><a href=\"/browse/authors/b#a73\">Burnett, Frances Hodgson (419)</a></li>\n<li><a href=\"/browse/authors/b#a10\">Barrie, J. M. (James Matthew) (417)</a></li>\n<li><a href=\"/browse/authors/c#a505\">Cervantes Saavedra, Miguel de (413)</a></li>\n<li><a href=\"/browse/authors/p#a907\">Pope, Alexander (410)</a></li>\n<li><a href=\"/browse/authors/s#a467\">Shaw, Bernard (398)</a></li>\n<li><a href=\"/browse/authors/b#a251\">Balzac, Honoré de (397)</a></li>\n<li><a href=\"/browse/authors/m#a563\">Machiavelli, Niccolò (394)</a></li>\n<li><a href=\"/browse/authors/r#a355\">Russell, Bertrand (386)</a></li>\n<li><a href=\"/browse/authors/c#a708\">Chekhov, Anton Pavlovich (380)</a></li>\n<li><a href=\"/browse/authors/t#a54\">Thoreau, Henry David (379)</a></li>\n<li><a href=\"/browse/authors/t#a9854\">Townsend, F. H. (Frederick Henry) (379)</a></li>\n<li><a href=\"/browse/authors/m#a1355\">Morley, Henry (377)</a></li>\n<li><a href=\"/browse/authors/s#a59\">Scott, Walter (368)</a></li>\n<li><a href=\"/browse/authors/a#a4534\">Anderson, Rasmus Björn (360)</a></li>\n<li><a href=\"/browse/authors/p#a53549\">Porter, John (355)</a></li>\n<li><a href=\"/browse/authors/m#a564\">Marriott, W. K. (William Kenaz) (354)</a></li>\n<li><a href=\"/browse/authors/m#a306\">Maupassant, Guy de (353)</a></li>\n<li><a href=\"/browse/authors/g#a586\">Goethe, Johann Wolfgang von (353)</a></li>\n<li><a href=\"/browse/authors/b#a898\">Burton, Richard Francis, Sir (343)</a></li>\n<li><a href=\"/browse/authors/b#a53548\">Birrell, F. F. L. (339)</a></li>\n<li><a href=\"/browse/authors/g#a1813\">Gibran, Kahlil (336)</a></li>\n<li><a href=\"/browse/authors/p#a292\">Potter, Beatrix (331)</a></li>\n<li><a href=\"/browse/authors/g#a850\">Galsworthy, John (327)</a></li>\n<li><a href=\"/browse/authors/t#a942\">Tagore, Rabindranath (318)</a></li>\n<li><a href=\"/browse/authors/l#a9473\">Leech, John (317)</a></li>\n<li><a href=\"/browse/authors/b#a25301\">Buckley, Theodore Alois (315)</a></li>\n<li><a href=\"/browse/authors/t#a324\">Trollope, Anthony (314)</a></li>\n<li><a href=\"/browse/authors/o#a506\">Ormsby, John (312)</a></li>\n<li><a href=\"/browse/authors/c#a2229\">Craig, Austin (303)</a></li>\n<li><a href=\"/browse/authors/h#a23\">Hardy, Thomas (302)</a></li>\n<li><a href=\"/browse/authors/b#a748\">Butler, Samuel (300)</a></li>\n<li><a href=\"/browse/authors/d#a226\">Du Bois, W. E. B. (William Edward Burghardt) (297)</a></li>\n<li><a href=\"/browse/authors/y#a38503\">Yeto, Genjiro (288)</a></li>\n<li><a href=\"/browse/authors/c#a3622\">Cary, Henry Francis (286)</a></li>\n<li><a href=\"/browse/authors/n#a51851\">Noguchi, Yoné (285)</a></li>\n<li><a href=\"/browse/authors/j#a44679\">Jung, C. G. (Carl Gustav) (282)</a></li>\n<li><a href=\"/browse/authors/h#a33608\">Hapgood, Isabel Florence (277)</a></li>\n<li><a href=\"/browse/authors/h#a365\">Haggard, H. Rider (Henry Rider) (274)</a></li>\n<li><a href=\"/browse/authors/b#a206\">Bierce, Ambrose (270)</a></li>\n<li><a href=\"/browse/authors/w#a783\">Wodehouse, P. G. (Pelham Grenville) (270)</a></li>\n<li><a href=\"/browse/authors/w#a104\">Wharton, Edith (269)</a></li>\n<li><a href=\"/browse/authors/r#a2297\">Robertson, James Alexander (266)</a></li>\n<li><a href=\"/browse/authors/g#a6218\">Gates, Eleanor (265)</a></li>\n<li><a href=\"/browse/authors/r#a6335\">Rackham, Arthur (264)</a></li>\n<li><a href=\"/browse/authors/c#a5123\">Common, Thomas (263)</a></li>\n<li><a href=\"/browse/authors/h#a941\">Hesse, Hermann (258)</a></li>\n<li><a href=\"/browse/authors/h#a53541\">Hinkle, Beatrice M. (253)</a></li>\n</ol>\n<div class=\"padded\">\n<ul>\n<li><a href=\"#books-last1\">Top 100 EBooks yesterday</a></li>\n<li><a href=\"#authors-last1\">Top 100 Authors yesterday</a></li>\n<li><a href=\"#books-last7\">Top 100 EBooks last 7 days</a></li>\n<li><a href=\"#authors-last7\">Top 100 Authors last 7 days</a></li>\n<li><a href=\"#books-last30\">Top 100 EBooks last 30 days</a></li>\n<li><a href=\"#authors-last30\">Top 100 Authors last 30 days</a></li>\n</ul>\n</div>\n<h2 id=\"books-last7\">Top 100 EBooks last 7 days</h2>\n<ol>\n<li><a href=\"/ebooks/1342\">Pride and Prejudice by Jane Austen (10866)</a></li>\n<li><a href=\"/ebooks/11\">Alice's Adventures in Wonderland by Lewis Carroll (5139)</a></li>\n<li><a href=\"/ebooks/1661\">The Adventures of Sherlock Holmes by Arthur Conan Doyle (4689)</a></li>\n<li><a href=\"/ebooks/84\">Frankenstein; Or, The Modern Prometheus by Mary Wollstonecraft Shelley (4287)</a></li>\n<li><a href=\"/ebooks/2701\">Moby Dick; Or, The Whale by Herman Melville (3836)</a></li>\n<li><a href=\"/ebooks/98\">A Tale of Two Cities by Charles Dickens (3701)</a></li>\n<li><a href=\"/ebooks/174\">The Picture of Dorian Gray by Oscar Wilde (3314)</a></li>\n<li><a href=\"/ebooks/64317\">The Great Gatsby by F. Scott  Fitzgerald (2931)</a></li>\n<li><a href=\"/ebooks/345\">Dracula by Bram Stoker (2728)</a></li>\n<li><a href=\"/ebooks/2600\">War and Peace by graf Leo Tolstoy (2665)</a></li>\n<li><a href=\"/ebooks/4300\">Ulysses by James Joyce (2509)</a></li>\n<li><a href=\"/ebooks/5200\">Metamorphosis by Franz Kafka (2468)</a></li>\n<li><a href=\"/ebooks/1232\">The Prince by Niccolò Machiavelli (2464)</a></li>\n<li><a href=\"/ebooks/1952\">The Yellow Wallpaper by Charlotte Perkins Gilman (2447)</a></li>\n<li><a href=\"/ebooks/2542\">A Doll's House : a play by Henrik Ibsen (2347)</a></li>\n<li><a href=\"/ebooks/1260\">Jane Eyre: An Autobiography by Charlotte Brontë (2320)</a></li>\n<li><a href=\"/ebooks/2591\">Grimms' Fairy Tales by Jacob Grimm and Wilhelm Grimm (2255)</a></li>\n<li><a href=\"/ebooks/2554\">Crime and Punishment by Fyodor Dostoyevsky (2139)</a></li>\n<li><a href=\"/ebooks/58585\">The Prophet by Kahlil Gibran (2037)</a></li>\n<li><a href=\"/ebooks/43\">The Strange Case of Dr. Jekyll and Mr. Hyde by Robert Louis Stevenson (1990)</a></li>\n<li><a href=\"/ebooks/74\">The Adventures of Tom Sawyer, Complete by Mark Twain (1949)</a></li>\n<li><a href=\"/ebooks/16\">Peter Pan by J. M.  Barrie (1940)</a></li>\n<li><a href=\"/ebooks/46\">A Christmas Carol in Prose; Being a Ghost Story of Christmas by Charles Dickens (1915)</a></li>\n<li><a href=\"/ebooks/6133\">The Extraordinary Adventures of Arsene Lupin, Gentleman-Burglar by Maurice Leblanc (1898)</a></li>\n<li><a href=\"/ebooks/1400\">Great Expectations by Charles Dickens (1891)</a></li>\n<li><a href=\"/ebooks/45\">Anne of Green Gables by L. M.  Montgomery (1887)</a></li>\n<li><a href=\"/ebooks/1184\">The Count of Monte Cristo, Illustrated by Alexandre Dumas (1858)</a></li>\n<li><a href=\"/ebooks/205\">Walden, and On The Duty Of Civil Disobedience by Henry David Thoreau (1852)</a></li>\n<li><a href=\"/ebooks/6130\">The Iliad by Homer (1833)</a></li>\n<li><a href=\"/ebooks/55\">The Wonderful Wizard of Oz by L. Frank  Baum (1780)</a></li>\n<li><a href=\"/ebooks/514\">Little Women by Louisa May Alcott (1738)</a></li>\n<li><a href=\"/ebooks/996\">Don Quixote by Miguel de Cervantes Saavedra (1725)</a></li>\n<li><a href=\"/ebooks/63256\">The American Diary of a Japanese Girl by Yoné Noguchi (1722)</a></li>\n<li><a href=\"/ebooks/844\">The Importance of Being Earnest: A Trivial Comedy for Serious People by Oscar Wilde (1716)</a></li>\n<li><a href=\"/ebooks/27827\">The Kama Sutra of Vatsyayana by Vatsyayana (1715)</a></li>\n<li><a href=\"/ebooks/5740\">Tractatus Logico-Philosophicus by Ludwig Wittgenstein (1702)</a></li>\n<li><a href=\"/ebooks/30254\">The Romance of Lust: A classic Victorian erotic novel by Anonymous (1681)</a></li>\n<li><a href=\"/ebooks/244\">A Study in Scarlet by Arthur Conan Doyle (1596)</a></li>\n<li><a href=\"/ebooks/1080\">A Modest Proposal by Jonathan Swift (1566)</a></li>\n<li><a href=\"/ebooks/5739\">Korean—English Dictionary by Leon Kuperman (1560)</a></li>\n<li><a href=\"/ebooks/120\">Treasure Island by Robert Louis Stevenson (1560)</a></li>\n<li><a href=\"/ebooks/219\">Heart of Darkness by Joseph Conrad (1532)</a></li>\n<li><a href=\"/ebooks/14975\">Southern Horrors: Lynch Law in All Its Phases by Ida B. Wells-Barnett (1524)</a></li>\n<li><a href=\"/ebooks/1497\">The Republic by Plato (1520)</a></li>\n<li><a href=\"/ebooks/135\">Les Misérables by Victor Hugo (1518)</a></li>\n<li><a href=\"/ebooks/76\">Adventures of Huckleberry Finn by Mark Twain (1508)</a></li>\n<li><a href=\"/ebooks/768\">Wuthering Heights by Emily Brontë (1392)</a></li>\n<li><a href=\"/ebooks/158\">Emma by Jane Austen (1389)</a></li>\n<li><a href=\"/ebooks/408\">The Souls of Black Folk by W. E. B.  Du Bois (1374)</a></li>\n<li><a href=\"/ebooks/1998\">Thus Spake Zarathustra: A Book for All and None by Friedrich Wilhelm Nietzsche (1367)</a></li>\n<li><a href=\"/ebooks/65903\">Psychology of the Unconscious by C. G.  Jung (1365)</a></li>\n<li><a href=\"/ebooks/65885\">Dark Destiny by Dwight V. Swain (1320)</a></li>\n<li><a href=\"/ebooks/28054\">The Brothers Karamazov by Fyodor Dostoyevsky (1294)</a></li>\n<li><a href=\"/ebooks/2852\">The Hound of the Baskervilles by Arthur Conan Doyle (1257)</a></li>\n<li><a href=\"/ebooks/829\">Gulliver's Travels into Several Remote Nations of the World by Jonathan Swift (1244)</a></li>\n<li><a href=\"/ebooks/236\">The Jungle Book by Rudyard Kipling (1240)</a></li>\n<li><a href=\"/ebooks/863\">The Mysterious Affair at Styles by Agatha Christie (1236)</a></li>\n<li><a href=\"/ebooks/203\">Uncle Tom's Cabin by Harriet Beecher Stowe (1229)</a></li>\n<li><a href=\"/ebooks/26184\">Simple Sabotage Field Manual by United States. Office of Strategic Services (1229)</a></li>\n<li><a href=\"/ebooks/35899\">The Philippines a Century Hence by José Rizal (1222)</a></li>\n<li><a href=\"/ebooks/1727\">The Odyssey by Homer (1213)</a></li>\n<li><a href=\"/ebooks/36\">The War of the Worlds by H. G.  Wells (1204)</a></li>\n<li><a href=\"/ebooks/25344\">The Scarlet Letter by Nathaniel Hawthorne (1203)</a></li>\n<li><a href=\"/ebooks/113\">The Secret Garden by Frances Hodgson Burnett (1201)</a></li>\n<li><a href=\"/ebooks/902\">The Happy Prince, and Other Tales by Oscar Wilde (1195)</a></li>\n<li><a href=\"/ebooks/4363\">Beyond Good and Evil by Friedrich Wilhelm Nietzsche (1185)</a></li>\n<li><a href=\"/ebooks/65882\">The Battle of Dorking by George Tomkyns Chesney (1180)</a></li>\n<li><a href=\"/ebooks/1399\">Anna Karenina by graf Leo Tolstoy (1161)</a></li>\n<li><a href=\"/ebooks/65890\">The Death of Captain Wells by Allan H. Dougall (1149)</a></li>\n<li><a href=\"/ebooks/4980\">Old Granny Fox by Thornton W.  Burgess (1139)</a></li>\n<li><a href=\"/ebooks/730\">Oliver Twist by Charles Dickens (1127)</a></li>\n<li><a href=\"/ebooks/2680\">Meditations by Emperor of Rome Marcus Aurelius (1120)</a></li>\n<li><a href=\"/ebooks/16328\">Beowulf: An Anglo-Saxon Epic Poem (1103)</a></li>\n<li><a href=\"/ebooks/25717\">The History of the Decline and Fall of the Roman Empire by Edward Gibbon (1092)</a></li>\n<li><a href=\"/ebooks/308\">Three Men in a Boat (To Say Nothing of the Dog) by Jerome K.  Jerome (1068)</a></li>\n<li><a href=\"/ebooks/132\">The Art of War by active 6th century B.C. Sunzi (1046)</a></li>\n<li><a href=\"/ebooks/3600\">Essays of Michel de Montaigne — Complete by Michel de Montaigne (1039)</a></li>\n<li><a href=\"/ebooks/42108\">The Slang Dictionary: Etymological, Historical and Andecdotal by John Camden Hotten (1030)</a></li>\n<li><a href=\"/ebooks/33283\">Calculus Made Easy by Silvanus P.  Thompson (1028)</a></li>\n<li><a href=\"/ebooks/2814\">Dubliners by James Joyce (1027)</a></li>\n<li><a href=\"/ebooks/766\">David Copperfield by Charles Dickens (1025)</a></li>\n<li><a href=\"/ebooks/35\">The Time Machine by H. G.  Wells (994)</a></li>\n<li><a href=\"/ebooks/65910\">Norse mythology; or The religion of our forefathers, containing all the myths of the Eddas, systemat (992)</a></li>\n<li><a href=\"/ebooks/65870\">Home Life in Tokyo by Jukichi Inouye (975)</a></li>\n<li><a href=\"/ebooks/43453\">A Pickle for the Knowing Ones by Timothy Dexter (953)</a></li>\n<li><a href=\"/ebooks/65886\">Special Delivery by Kris Neville (950)</a></li>\n<li><a href=\"/ebooks/2500\">Siddhartha by Hermann Hesse (940)</a></li>\n<li><a href=\"/ebooks/10\">The King James Version of the Bible (926)</a></li>\n<li><a href=\"/ebooks/65901\">Heart of the World by H. Rider  Haggard (925)</a></li>\n<li><a href=\"/ebooks/8800\">An Index of The Divine Comedy by Dante by Dante Alighieri (923)</a></li>\n<li><a href=\"/ebooks/103\">Around the World in Eighty Days by Jules Verne (923)</a></li>\n<li><a href=\"/ebooks/29728\">Cookery and Dining in Imperial Rome by Apicius (920)</a></li>\n<li><a href=\"/ebooks/65887\">A Living Lie by Paul Bourget (920)</a></li>\n<li><a href=\"/ebooks/61\">The Communist Manifesto by Friedrich Engels and Karl Marx (902)</a></li>\n<li><a href=\"/ebooks/105\">Persuasion by Jane Austen (895)</a></li>\n<li><a href=\"/ebooks/161\">Sense and Sensibility by Jane Austen (893)</a></li>\n<li><a href=\"/ebooks/215\">The Call of the Wild by Jack London (891)</a></li>\n<li><a href=\"/ebooks/41\">The Legend of Sleepy Hollow by Washington Irving (891)</a></li>\n<li><a href=\"/ebooks/160\">The Awakening, and Selected Short Stories by Kate Chopin (889)</a></li>\n<li><a href=\"/ebooks/65896\">So Many Worlds Away... by Dwight V. Swain (889)</a></li>\n</ol>\n<div class=\"padded\">\n<ul>\n<li><a href=\"#books-last1\">Top 100 EBooks yesterday</a></li>\n<li><a href=\"#authors-last1\">Top 100 Authors yesterday</a></li>\n<li><a href=\"#books-last7\">Top 100 EBooks last 7 days</a></li>\n<li><a href=\"#authors-last7\">Top 100 Authors last 7 days</a></li>\n<li><a href=\"#books-last30\">Top 100 EBooks last 30 days</a></li>\n<li><a href=\"#authors-last30\">Top 100 Authors last 30 days</a></li>\n</ul>\n</div>\n<h2 id=\"authors-last7\">Top 100 Authors last 7 days</h2>\n<ol>\n<li><a href=\"/browse/authors/a#a68\">Austen, Jane (16597)</a></li>\n<li><a href=\"/browse/authors/d#a37\">Dickens, Charles (16086)</a></li>\n<li><a href=\"/browse/authors/d#a69\">Doyle, Arthur Conan (12866)</a></li>\n<li><a href=\"/browse/authors/t#a53\">Twain, Mark (10146)</a></li>\n<li><a href=\"/browse/authors/w#a111\">Wilde, Oscar (8874)</a></li>\n<li><a href=\"/browse/authors/c#a7\">Carroll, Lewis (8015)</a></li>\n<li><a href=\"/browse/authors/d#a314\">Dostoyevsky, Fyodor (6680)</a></li>\n<li><a href=\"/browse/authors/s#a35\">Stevenson, Robert Louis (6562)</a></li>\n<li><a href=\"/browse/authors/t#a136\">Tolstoy, Leo, graf (6330)</a></li>\n<li><a href=\"/browse/authors/s#a65\">Shakespeare, William (6166)</a></li>\n<li><a href=\"/browse/authors/w#a30\">Wells, H. G. (Herbert George) (5630)</a></li>\n<li><a href=\"/browse/authors/n#a779\">Nietzsche, Friedrich Wilhelm (5404)</a></li>\n<li><a href=\"/browse/authors/s#a61\">Shelley, Mary Wollstonecraft (5223)</a></li>\n<li><a href=\"/browse/authors/g#a2858\">Garnett, Constance (5113)</a></li>\n<li><a href=\"/browse/authors/m#a9\">Melville, Herman (5064)</a></li>\n<li><a href=\"/browse/authors/h#a705\">Homer (4709)</a></li>\n<li><a href=\"/browse/authors/v#a60\">Verne, Jules (4634)</a></li>\n<li><a href=\"/browse/authors/d#a492\">Dumas, Alexandre (4597)</a></li>\n<li><a href=\"/browse/authors/b#a42\">Baum, L. Frank (Lyman Frank) (4505)</a></li>\n<li><a href=\"/browse/authors/k#a132\">Kipling, Rudyard (4282)</a></li>\n<li><a href=\"/browse/authors/m#a36\">Montgomery, L. M. (Lucy Maud) (4272)</a></li>\n<li><a href=\"/browse/authors/p#a93\">Plato (4267)</a></li>\n<li><a href=\"/browse/authors/j#a1039\">Joyce, James (4189)</a></li>\n<li><a href=\"/browse/authors/p#a481\">Poe, Edgar Allan (3995)</a></li>\n<li><a href=\"/browse/authors/j#a94\">Jowett, Benjamin (3976)</a></li>\n<li><a href=\"/browse/authors/d#a1896\">Doré, Gustave (3773)</a></li>\n<li><a href=\"/browse/authors/l#a1358\">Leblanc, Maurice (3698)</a></li>\n<li><a href=\"/browse/authors/l#a120\">London, Jack (3687)</a></li>\n<li><a href=\"/browse/authors/c#a80\">Chesterton, G. K. (Gilbert Keith) (3679)</a></li>\n<li><a href=\"/browse/authors/w#a1961\">Widger, David (3678)</a></li>\n<li><a href=\"/browse/authors/f#a420\">Fitzgerald, F. Scott (Francis Scott) (3635)</a></li>\n<li><a href=\"/browse/authors/c#a451\">Christie, Agatha (3632)</a></li>\n<li><a href=\"/browse/authors/d#a507\">Dante Alighieri (3593)</a></li>\n<li><a href=\"/browse/authors/r#a2183\">Rizal, José (3549)</a></li>\n<li><a href=\"/browse/authors/l#a79\">Lang, Andrew (3527)</a></li>\n<li><a href=\"/browse/authors/c#a125\">Conrad, Joseph (3517)</a></li>\n<li><a href=\"/browse/authors/s#a326\">Swift, Jonathan (3476)</a></li>\n<li><a href=\"/browse/authors/i#a861\">Ibsen, Henrik (3456)</a></li>\n<li><a href=\"/browse/authors/k#a1735\">Kafka, Franz (3433)</a></li>\n<li><a href=\"/browse/authors/s#a190\">Stoker, Bram (3402)</a></li>\n<li><a href=\"/browse/authors/h#a28\">Hawthorne, Nathaniel (3385)</a></li>\n<li><a href=\"/browse/authors/t#a34265\">Terry, W. E. (3314)</a></li>\n<li><a href=\"/browse/authors/m#a4589\">Maude, Aylmer (3312)</a></li>\n<li><a href=\"/browse/authors/a#a102\">Alcott, Louisa May (3308)</a></li>\n<li><a href=\"/browse/authors/m#a500\">Maude, Louise (3297)</a></li>\n<li><a href=\"/browse/authors/j#a113\">James, Henry (3275)</a></li>\n<li><a href=\"/browse/authors/h#a85\">Hugo, Victor (3192)</a></li>\n<li><a href=\"/browse/authors/r#a355\">Russell, Bertrand (3133)</a></li>\n<li><a href=\"/browse/authors/g#a972\">Grimm, Wilhelm (3101)</a></li>\n<li><a href=\"/browse/authors/g#a971\">Grimm, Jacob (3101)</a></li>\n<li><a href=\"/browse/authors/w#a1736\">Wyllie, David (Translator) (3000)</a></li>\n<li><a href=\"/browse/authors/b#a10\">Barrie, J. M. (James Matthew) (2955)</a></li>\n<li><a href=\"/browse/authors/c#a505\">Cervantes Saavedra, Miguel de (2924)</a></li>\n<li><a href=\"/browse/authors/b#a408\">Brontë, Charlotte (2838)</a></li>\n<li><a href=\"/browse/authors/b#a73\">Burnett, Frances Hodgson (2831)</a></li>\n<li><a href=\"/browse/authors/m#a1355\">Morley, Henry (2824)</a></li>\n<li><a href=\"/browse/authors/s#a59\">Scott, Walter (2814)</a></li>\n<li><a href=\"/browse/authors/c#a708\">Chekhov, Anton Pavlovich (2769)</a></li>\n<li><a href=\"/browse/authors/g#a27\">Gilman, Charlotte Perkins (2759)</a></li>\n<li><a href=\"/browse/authors/b#a898\">Burton, Richard Francis, Sir (2744)</a></li>\n<li><a href=\"/browse/authors/p#a907\">Pope, Alexander (2724)</a></li>\n<li><a href=\"/browse/authors/t#a54\">Thoreau, Henry David (2718)</a></li>\n<li><a href=\"/browse/authors/m#a563\">Machiavelli, Niccolò (2694)</a></li>\n<li><a href=\"/browse/authors/s#a467\">Shaw, Bernard (2663)</a></li>\n<li><a href=\"/browse/authors/d#a204\">Defoe, Daniel (2571)</a></li>\n<li><a href=\"/browse/authors/b#a251\">Balzac, Honoré de (2516)</a></li>\n<li><a href=\"/browse/authors/m#a564\">Marriott, W. K. (William Kenaz) (2473)</a></li>\n<li><a href=\"/browse/authors/t#a9854\">Townsend, F. H. (Frederick Henry) (2469)</a></li>\n<li><a href=\"/browse/authors/s#a35927\">Swain, Dwight V. (2422)</a></li>\n<li><a href=\"/browse/authors/g#a586\">Goethe, Johann Wolfgang von (2371)</a></li>\n<li><a href=\"/browse/authors/m#a306\">Maupassant, Guy de (2363)</a></li>\n<li><a href=\"/browse/authors/p#a292\">Potter, Beatrix (2362)</a></li>\n<li><a href=\"/browse/authors/l#a9473\">Leech, John (2293)</a></li>\n<li><a href=\"/browse/authors/t#a942\">Tagore, Rabindranath (2229)</a></li>\n<li><a href=\"/browse/authors/h#a23\">Hardy, Thomas (2198)</a></li>\n<li><a href=\"/browse/authors/o#a506\">Ormsby, John (2171)</a></li>\n<li><a href=\"/browse/authors/d#a4931\">Derbyshire, Charles E. (2166)</a></li>\n<li><a href=\"/browse/authors/c#a3622\">Cary, Henry Francis (2163)</a></li>\n<li><a href=\"/browse/authors/g#a1813\">Gibran, Kahlil (2139)</a></li>\n<li><a href=\"/browse/authors/h#a33608\">Hapgood, Isabel Florence (2139)</a></li>\n<li><a href=\"/browse/authors/h#a365\">Haggard, H. Rider (Henry Rider) (2124)</a></li>\n<li><a href=\"/browse/authors/w#a783\">Wodehouse, P. G. (Pelham Grenville) (2103)</a></li>\n<li><a href=\"/browse/authors/b#a748\">Butler, Samuel (2094)</a></li>\n<li><a href=\"/browse/authors/b#a717\">Burgess, Thornton W. (Thornton Waldo) (2014)</a></li>\n<li><a href=\"/browse/authors/b#a25301\">Buckley, Theodore Alois (2007)</a></li>\n<li><a href=\"/browse/authors/w#a104\">Wharton, Edith (1968)</a></li>\n<li><a href=\"/browse/authors/i#a34\">Irving, Washington (1920)</a></li>\n<li><a href=\"/browse/authors/e#a90\">Eliot, George (1871)</a></li>\n<li><a href=\"/browse/authors/b#a48\">Burroughs, Edgar Rice (1860)</a></li>\n<li><a href=\"/browse/authors/d#a226\">Du Bois, W. E. B. (William Edward Burghardt) (1832)</a></li>\n<li><a href=\"/browse/authors/g#a850\">Galsworthy, John (1830)</a></li>\n<li><a href=\"/browse/authors/b#a206\">Bierce, Ambrose (1802)</a></li>\n<li><a href=\"/browse/authors/y#a38503\">Yeto, Genjiro (1777)</a></li>\n<li><a href=\"/browse/authors/w#a5765\">Wells-Barnett, Ida B. (1768)</a></li>\n<li><a href=\"/browse/authors/n#a51851\">Noguchi, Yoné (1742)</a></li>\n<li><a href=\"/browse/authors/v#a5593\">Vatsyayana (1742)</a></li>\n<li><a href=\"/browse/authors/b#a32931\">Bhide, Shivaram Parashuram (1715)</a></li>\n<li><a href=\"/browse/authors/i#a32930\">Indrajit, Bhagavanlal (1715)</a></li>\n<li><a href=\"/browse/authors/o#a36795\">Ogden, C. K. (Charles Kay) (1714)</a></li>\n<li><a href=\"/browse/authors/w#a1861\">Wittgenstein, Ludwig (1702)</a></li>\n</ol>\n<div class=\"padded\">\n<ul>\n<li><a href=\"#books-last1\">Top 100 EBooks yesterday</a></li>\n<li><a href=\"#authors-last1\">Top 100 Authors yesterday</a></li>\n<li><a href=\"#books-last7\">Top 100 EBooks last 7 days</a></li>\n<li><a href=\"#authors-last7\">Top 100 Authors last 7 days</a></li>\n<li><a href=\"#books-last30\">Top 100 EBooks last 30 days</a></li>\n<li><a href=\"#authors-last30\">Top 100 Authors last 30 days</a></li>\n</ul>\n</div>\n<h2 id=\"books-last30\">Top 100 EBooks last 30 days</h2>\n<ol>\n<li><a href=\"/ebooks/1342\">Pride and Prejudice by Jane Austen (45752)</a></li>\n<li><a href=\"/ebooks/11\">Alice's Adventures in Wonderland by Lewis Carroll (23202)</a></li>\n<li><a href=\"/ebooks/1661\">The Adventures of Sherlock Holmes by Arthur Conan Doyle (19952)</a></li>\n<li><a href=\"/ebooks/84\">Frankenstein; Or, The Modern Prometheus by Mary Wollstonecraft Shelley (19539)</a></li>\n<li><a href=\"/ebooks/2701\">Moby Dick; Or, The Whale by Herman Melville (17269)</a></li>\n<li><a href=\"/ebooks/98\">A Tale of Two Cities by Charles Dickens (15649)</a></li>\n<li><a href=\"/ebooks/174\">The Picture of Dorian Gray by Oscar Wilde (14141)</a></li>\n<li><a href=\"/ebooks/2600\">War and Peace by graf Leo Tolstoy (12449)</a></li>\n<li><a href=\"/ebooks/1952\">The Yellow Wallpaper by Charlotte Perkins Gilman (12102)</a></li>\n<li><a href=\"/ebooks/64317\">The Great Gatsby by F. Scott  Fitzgerald (11703)</a></li>\n<li><a href=\"/ebooks/345\">Dracula by Bram Stoker (11615)</a></li>\n<li><a href=\"/ebooks/25942\">The Translations of Beowulf: A Critical Bibliography by Chauncey Brewster Tinker (10819)</a></li>\n<li><a href=\"/ebooks/4300\">Ulysses by James Joyce (10612)</a></li>\n<li><a href=\"/ebooks/1232\">The Prince by Niccolò Machiavelli (10426)</a></li>\n<li><a href=\"/ebooks/5200\">Metamorphosis by Franz Kafka (10419)</a></li>\n<li><a href=\"/ebooks/1260\">Jane Eyre: An Autobiography by Charlotte Brontë (10324)</a></li>\n<li><a href=\"/ebooks/2591\">Grimms' Fairy Tales by Jacob Grimm and Wilhelm Grimm (10224)</a></li>\n<li><a href=\"/ebooks/43\">The Strange Case of Dr. Jekyll and Mr. Hyde by Robert Louis Stevenson (10141)</a></li>\n<li><a href=\"/ebooks/6133\">The Extraordinary Adventures of Arsene Lupin, Gentleman-Burglar by Maurice Leblanc (9975)</a></li>\n<li><a href=\"/ebooks/2542\">A Doll's House : a play by Henrik Ibsen (9635)</a></li>\n<li><a href=\"/ebooks/2554\">Crime and Punishment by Fyodor Dostoyevsky (9572)</a></li>\n<li><a href=\"/ebooks/46\">A Christmas Carol in Prose; Being a Ghost Story of Christmas by Charles Dickens (9513)</a></li>\n<li><a href=\"/ebooks/74\">The Adventures of Tom Sawyer, Complete by Mark Twain (8563)</a></li>\n<li><a href=\"/ebooks/16\">Peter Pan by J. M.  Barrie (8535)</a></li>\n<li><a href=\"/ebooks/1400\">Great Expectations by Charles Dickens (8531)</a></li>\n<li><a href=\"/ebooks/58585\">The Prophet by Kahlil Gibran (8114)</a></li>\n<li><a href=\"/ebooks/205\">Walden, and On The Duty Of Civil Disobedience by Henry David Thoreau (7944)</a></li>\n<li><a href=\"/ebooks/55\">The Wonderful Wizard of Oz by L. Frank  Baum (7872)</a></li>\n<li><a href=\"/ebooks/1184\">The Count of Monte Cristo, Illustrated by Alexandre Dumas (7848)</a></li>\n<li><a href=\"/ebooks/26184\">Simple Sabotage Field Manual by United States. Office of Strategic Services (7793)</a></li>\n<li><a href=\"/ebooks/45\">Anne of Green Gables by L. M.  Montgomery (7791)</a></li>\n<li><a href=\"/ebooks/6130\">The Iliad by Homer (7687)</a></li>\n<li><a href=\"/ebooks/844\">The Importance of Being Earnest: A Trivial Comedy for Serious People by Oscar Wilde (7658)</a></li>\n<li><a href=\"/ebooks/5740\">Tractatus Logico-Philosophicus by Ludwig Wittgenstein (7618)</a></li>\n<li><a href=\"/ebooks/996\">Don Quixote by Miguel de Cervantes Saavedra (7566)</a></li>\n<li><a href=\"/ebooks/120\">Treasure Island by Robert Louis Stevenson (7150)</a></li>\n<li><a href=\"/ebooks/27827\">The Kama Sutra of Vatsyayana by Vatsyayana (7086)</a></li>\n<li><a href=\"/ebooks/514\">Little Women by Louisa May Alcott (7021)</a></li>\n<li><a href=\"/ebooks/63256\">The American Diary of a Japanese Girl by Yoné Noguchi (6934)</a></li>\n<li><a href=\"/ebooks/5739\">Korean—English Dictionary by Leon Kuperman (6874)</a></li>\n<li><a href=\"/ebooks/219\">Heart of Darkness by Joseph Conrad (6732)</a></li>\n<li><a href=\"/ebooks/244\">A Study in Scarlet by Arthur Conan Doyle (6669)</a></li>\n<li><a href=\"/ebooks/30254\">The Romance of Lust: A classic Victorian erotic novel by Anonymous (6639)</a></li>\n<li><a href=\"/ebooks/76\">Adventures of Huckleberry Finn by Mark Twain (6596)</a></li>\n<li><a href=\"/ebooks/1497\">The Republic by Plato (6571)</a></li>\n<li><a href=\"/ebooks/902\">The Happy Prince, and Other Tales by Oscar Wilde (6537)</a></li>\n<li><a href=\"/ebooks/1080\">A Modest Proposal by Jonathan Swift (6386)</a></li>\n<li><a href=\"/ebooks/158\">Emma by Jane Austen (6366)</a></li>\n<li><a href=\"/ebooks/2852\">The Hound of the Baskervilles by Arthur Conan Doyle (6266)</a></li>\n<li><a href=\"/ebooks/135\">Les Misérables by Victor Hugo (6147)</a></li>\n<li><a href=\"/ebooks/23042\">The Tempest by William Shakespeare (5927)</a></li>\n<li><a href=\"/ebooks/768\">Wuthering Heights by Emily Brontë (5850)</a></li>\n<li><a href=\"/ebooks/1998\">Thus Spake Zarathustra: A Book for All and None by Friedrich Wilhelm Nietzsche (5806)</a></li>\n<li><a href=\"/ebooks/863\">The Mysterious Affair at Styles by Agatha Christie (5646)</a></li>\n<li><a href=\"/ebooks/203\">Uncle Tom's Cabin by Harriet Beecher Stowe (5562)</a></li>\n<li><a href=\"/ebooks/236\">The Jungle Book by Rudyard Kipling (5549)</a></li>\n<li><a href=\"/ebooks/28054\">The Brothers Karamazov by Fyodor Dostoyevsky (5542)</a></li>\n<li><a href=\"/ebooks/36\">The War of the Worlds by H. G.  Wells (5394)</a></li>\n<li><a href=\"/ebooks/14975\">Southern Horrors: Lynch Law in All Its Phases by Ida B. Wells-Barnett (5325)</a></li>\n<li><a href=\"/ebooks/829\">Gulliver's Travels into Several Remote Nations of the World by Jonathan Swift (5240)</a></li>\n<li><a href=\"/ebooks/1727\">The Odyssey by Homer (5154)</a></li>\n<li><a href=\"/ebooks/16328\">Beowulf: An Anglo-Saxon Epic Poem (5111)</a></li>\n<li><a href=\"/ebooks/1399\">Anna Karenina by graf Leo Tolstoy (5098)</a></li>\n<li><a href=\"/ebooks/766\">David Copperfield by Charles Dickens (5091)</a></li>\n<li><a href=\"/ebooks/42108\">The Slang Dictionary: Etymological, Historical and Andecdotal by John Camden Hotten (5037)</a></li>\n<li><a href=\"/ebooks/25344\">The Scarlet Letter by Nathaniel Hawthorne (5034)</a></li>\n<li><a href=\"/ebooks/408\">The Souls of Black Folk by W. E. B.  Du Bois (4998)</a></li>\n<li><a href=\"/ebooks/730\">Oliver Twist by Charles Dickens (4942)</a></li>\n<li><a href=\"/ebooks/4363\">Beyond Good and Evil by Friedrich Wilhelm Nietzsche (4939)</a></li>\n<li><a href=\"/ebooks/113\">The Secret Garden by Frances Hodgson Burnett (4858)</a></li>\n<li><a href=\"/ebooks/20228\">Noli Me Tangere by José Rizal (4737)</a></li>\n<li><a href=\"/ebooks/2814\">Dubliners by James Joyce (4729)</a></li>\n<li><a href=\"/ebooks/3600\">Essays of Michel de Montaigne — Complete by Michel de Montaigne (4669)</a></li>\n<li><a href=\"/ebooks/33283\">Calculus Made Easy by Silvanus P.  Thompson (4618)</a></li>\n<li><a href=\"/ebooks/2680\">Meditations by Emperor of Rome Marcus Aurelius (4523)</a></li>\n<li><a href=\"/ebooks/4980\">Old Granny Fox by Thornton W.  Burgess (4495)</a></li>\n<li><a href=\"/ebooks/160\">The Awakening, and Selected Short Stories by Kate Chopin (4489)</a></li>\n<li><a href=\"/ebooks/308\">Three Men in a Boat (To Say Nothing of the Dog) by Jerome K.  Jerome (4467)</a></li>\n<li><a href=\"/ebooks/35\">The Time Machine by H. G.  Wells (4375)</a></li>\n<li><a href=\"/ebooks/132\">The Art of War by active 6th century B.C. Sunzi (4330)</a></li>\n<li><a href=\"/ebooks/147\">Common Sense by Thomas Paine (4313)</a></li>\n<li><a href=\"/ebooks/43453\">A Pickle for the Knowing Ones by Timothy Dexter (4264)</a></li>\n<li><a href=\"/ebooks/105\">Persuasion by Jane Austen (4178)</a></li>\n<li><a href=\"/ebooks/2500\">Siddhartha by Hermann Hesse (4141)</a></li>\n<li><a href=\"/ebooks/8800\">An Index of The Divine Comedy by Dante by Dante Alighieri (4101)</a></li>\n<li><a href=\"/ebooks/20203\">Autobiography of Benjamin Franklin by Benjamin Franklin (4099)</a></li>\n<li><a href=\"/ebooks/61\">The Communist Manifesto by Friedrich Engels and Karl Marx (4062)</a></li>\n<li><a href=\"/ebooks/103\">Around the World in Eighty Days by Jules Verne (4049)</a></li>\n<li><a href=\"/ebooks/3090\">Complete Original Short Stories of Guy De Maupassant by Guy de Maupassant (3971)</a></li>\n<li><a href=\"/ebooks/100\">The Complete Works of William Shakespeare by William Shakespeare (3956)</a></li>\n<li><a href=\"/ebooks/35899\">The Philippines a Century Hence by José Rizal (3923)</a></li>\n<li><a href=\"/ebooks/2148\">The Works of Edgar Allan Poe — Volume 2 by Edgar Allan Poe (3915)</a></li>\n<li><a href=\"/ebooks/161\">Sense and Sensibility by Jane Austen (3880)</a></li>\n<li><a href=\"/ebooks/25717\">The History of the Decline and Fall of the Roman Empire by Edward Gibbon (3867)</a></li>\n<li><a href=\"/ebooks/10\">The King James Version of the Bible (3851)</a></li>\n<li><a href=\"/ebooks/23\">Narrative of the Life of Frederick Douglass, an American Slave by Frederick Douglass (3819)</a></li>\n<li><a href=\"/ebooks/215\">The Call of the Wild by Jack London (3761)</a></li>\n<li><a href=\"/ebooks/2097\">The Sign of the Four by Arthur Conan Doyle (3700)</a></li>\n<li><a href=\"/ebooks/1250\">Anthem by Ayn Rand (3646)</a></li>\n<li><a href=\"/ebooks/41\">The Legend of Sleepy Hollow by Washington Irving (3603)</a></li>\n</ol>\n<div class=\"padded\">\n<ul>\n<li><a href=\"#books-last1\">Top 100 EBooks yesterday</a></li>\n<li><a href=\"#authors-last1\">Top 100 Authors yesterday</a></li>\n<li><a href=\"#books-last7\">Top 100 EBooks last 7 days</a></li>\n<li><a href=\"#authors-last7\">Top 100 Authors last 7 days</a></li>\n<li><a href=\"#books-last30\">Top 100 EBooks last 30 days</a></li>\n<li><a href=\"#authors-last30\">Top 100 Authors last 30 days</a></li>\n</ul>\n</div>\n<h2 id=\"authors-last30\">Top 100 Authors last 30 days</h2>\n<ol>\n<li><a href=\"/browse/authors/a#a68\">Austen, Jane (72047)</a></li>\n<li><a href=\"/browse/authors/d#a37\">Dickens, Charles (71013)</a></li>\n<li><a href=\"/browse/authors/d#a69\">Doyle, Arthur Conan (55767)</a></li>\n<li><a href=\"/browse/authors/t#a53\">Twain, Mark (43752)</a></li>\n<li><a href=\"/browse/authors/w#a111\">Wilde, Oscar (38618)</a></li>\n<li><a href=\"/browse/authors/c#a7\">Carroll, Lewis (35832)</a></li>\n<li><a href=\"/browse/authors/s#a65\">Shakespeare, William (32306)</a></li>\n<li><a href=\"/browse/authors/d#a314\">Dostoyevsky, Fyodor (29603)</a></li>\n<li><a href=\"/browse/authors/s#a35\">Stevenson, Robert Louis (29058)</a></li>\n<li><a href=\"/browse/authors/t#a136\">Tolstoy, Leo, graf (28403)</a></li>\n<li><a href=\"/browse/authors/w#a30\">Wells, H. G. (Herbert George) (24767)</a></li>\n<li><a href=\"/browse/authors/s#a61\">Shelley, Mary Wollstonecraft (23667)</a></li>\n<li><a href=\"/browse/authors/n#a779\">Nietzsche, Friedrich Wilhelm (23137)</a></li>\n<li><a href=\"/browse/authors/g#a2858\">Garnett, Constance (22592)</a></li>\n<li><a href=\"/browse/authors/m#a9\">Melville, Herman (22370)</a></li>\n<li><a href=\"/browse/authors/h#a705\">Homer (20242)</a></li>\n<li><a href=\"/browse/authors/b#a42\">Baum, L. Frank (Lyman Frank) (20022)</a></li>\n<li><a href=\"/browse/authors/v#a60\">Verne, Jules (19467)</a></li>\n<li><a href=\"/browse/authors/l#a1358\">Leblanc, Maurice (19213)</a></li>\n<li><a href=\"/browse/authors/d#a492\">Dumas, Alexandre (18948)</a></li>\n<li><a href=\"/browse/authors/k#a132\">Kipling, Rudyard (18734)</a></li>\n<li><a href=\"/browse/authors/j#a1039\">Joyce, James (18519)</a></li>\n<li><a href=\"/browse/authors/p#a93\">Plato (18286)</a></li>\n<li><a href=\"/browse/authors/r#a2183\">Rizal, José (18034)</a></li>\n<li><a href=\"/browse/authors/m#a36\">Montgomery, L. M. (Lucy Maud) (17836)</a></li>\n<li><a href=\"/browse/authors/p#a481\">Poe, Edgar Allan (17675)</a></li>\n<li><a href=\"/browse/authors/j#a94\">Jowett, Benjamin (17282)</a></li>\n<li><a href=\"/browse/authors/c#a451\">Christie, Agatha (16500)</a></li>\n<li><a href=\"/browse/authors/l#a120\">London, Jack (16466)</a></li>\n<li><a href=\"/browse/authors/d#a1896\">Doré, Gustave (15826)</a></li>\n<li><a href=\"/browse/authors/d#a507\">Dante Alighieri (15751)</a></li>\n<li><a href=\"/browse/authors/m#a4589\">Maude, Aylmer (15433)</a></li>\n<li><a href=\"/browse/authors/m#a500\">Maude, Louise (15315)</a></li>\n<li><a href=\"/browse/authors/s#a190\">Stoker, Bram (15219)</a></li>\n<li><a href=\"/browse/authors/c#a80\">Chesterton, G. K. (Gilbert Keith) (15099)</a></li>\n<li><a href=\"/browse/authors/l#a79\">Lang, Andrew (14904)</a></li>\n<li><a href=\"/browse/authors/f#a420\">Fitzgerald, F. Scott (Francis Scott) (14869)</a></li>\n<li><a href=\"/browse/authors/c#a125\">Conrad, Joseph (14771)</a></li>\n<li><a href=\"/browse/authors/s#a326\">Swift, Jonathan (14649)</a></li>\n<li><a href=\"/browse/authors/k#a1735\">Kafka, Franz (14396)</a></li>\n<li><a href=\"/browse/authors/i#a861\">Ibsen, Henrik (14373)</a></li>\n<li><a href=\"/browse/authors/w#a1961\">Widger, David (14354)</a></li>\n<li><a href=\"/browse/authors/r#a355\">Russell, Bertrand (14081)</a></li>\n<li><a href=\"/browse/authors/g#a972\">Grimm, Wilhelm (13882)</a></li>\n<li><a href=\"/browse/authors/g#a971\">Grimm, Jacob (13882)</a></li>\n<li><a href=\"/browse/authors/h#a28\">Hawthorne, Nathaniel (13766)</a></li>\n<li><a href=\"/browse/authors/j#a113\">James, Henry (13610)</a></li>\n<li><a href=\"/browse/authors/a#a102\">Alcott, Louisa May (13515)</a></li>\n<li><a href=\"/browse/authors/g#a27\">Gilman, Charlotte Perkins (13477)</a></li>\n<li><a href=\"/browse/authors/h#a85\">Hugo, Victor (13440)</a></li>\n<li><a href=\"/browse/authors/b#a10\">Barrie, J. M. (James Matthew) (12897)</a></li>\n<li><a href=\"/browse/authors/c#a505\">Cervantes Saavedra, Miguel de (12654)</a></li>\n<li><a href=\"/browse/authors/w#a1736\">Wyllie, David (Translator) (12567)</a></li>\n<li><a href=\"/browse/authors/b#a408\">Brontë, Charlotte (12501)</a></li>\n<li><a href=\"/browse/authors/p#a907\">Pope, Alexander (12248)</a></li>\n<li><a href=\"/browse/authors/t#a54\">Thoreau, Henry David (12184)</a></li>\n<li><a href=\"/browse/authors/c#a708\">Chekhov, Anton Pavlovich (12052)</a></li>\n<li><a href=\"/browse/authors/b#a73\">Burnett, Frances Hodgson (11787)</a></li>\n<li><a href=\"/browse/authors/m#a563\">Machiavelli, Niccolò (11604)</a></li>\n<li><a href=\"/browse/authors/b#a898\">Burton, Richard Francis, Sir (11515)</a></li>\n<li><a href=\"/browse/authors/m#a1355\">Morley, Henry (11280)</a></li>\n<li><a href=\"/browse/authors/s#a467\">Shaw, Bernard (11273)</a></li>\n<li><a href=\"/browse/authors/b#a251\">Balzac, Honoré de (11253)</a></li>\n<li><a href=\"/browse/authors/l#a9473\">Leech, John (11047)</a></li>\n<li><a href=\"/browse/authors/t#a9854\">Townsend, F. H. (Frederick Henry) (10941)</a></li>\n<li><a href=\"/browse/authors/t#a31682\">Tinker, Chauncey Brewster (10941)</a></li>\n<li><a href=\"/browse/authors/d#a204\">Defoe, Daniel (10883)</a></li>\n<li><a href=\"/browse/authors/s#a59\">Scott, Walter (10590)</a></li>\n<li><a href=\"/browse/authors/m#a564\">Marriott, W. K. (William Kenaz) (10481)</a></li>\n<li><a href=\"/browse/authors/p#a292\">Potter, Beatrix (9923)</a></li>\n<li><a href=\"/browse/authors/g#a586\">Goethe, Johann Wolfgang von (9886)</a></li>\n<li><a href=\"/browse/authors/m#a306\">Maupassant, Guy de (9776)</a></li>\n<li><a href=\"/browse/authors/h#a23\">Hardy, Thomas (9592)</a></li>\n<li><a href=\"/browse/authors/w#a783\">Wodehouse, P. G. (Pelham Grenville) (9386)</a></li>\n<li><a href=\"/browse/authors/c#a3622\">Cary, Henry Francis (9373)</a></li>\n<li><a href=\"/browse/authors/o#a506\">Ormsby, John (9359)</a></li>\n<li><a href=\"/browse/authors/t#a34265\">Terry, W. E. (9112)</a></li>\n<li><a href=\"/browse/authors/b#a748\">Butler, Samuel (9046)</a></li>\n<li><a href=\"/browse/authors/h#a33608\">Hapgood, Isabel Florence (8973)</a></li>\n<li><a href=\"/browse/authors/t#a942\">Tagore, Rabindranath (8789)</a></li>\n<li><a href=\"/browse/authors/g#a1813\">Gibran, Kahlil (8541)</a></li>\n<li><a href=\"/browse/authors/d#a4931\">Derbyshire, Charles E. (8539)</a></li>\n<li><a href=\"/browse/authors/b#a25301\">Buckley, Theodore Alois (8439)</a></li>\n<li><a href=\"/browse/authors/b#a206\">Bierce, Ambrose (8111)</a></li>\n<li><a href=\"/browse/authors/b#a48\">Burroughs, Edgar Rice (8058)</a></li>\n<li><a href=\"/browse/authors/b#a717\">Burgess, Thornton W. (Thornton Waldo) (8034)</a></li>\n<li><a href=\"/browse/authors/w#a104\">Wharton, Edith (7932)</a></li>\n<li><a href=\"/browse/authors/e#a90\">Eliot, George (7919)</a></li>\n<li><a href=\"/browse/authors/i#a34\">Irving, Washington (7898)</a></li>\n<li><a href=\"/browse/authors/u#a31855\">United States. Office of Strategic Services (7793)</a></li>\n<li><a href=\"/browse/authors/g#a25267\">Garrett, Randall (7784)</a></li>\n<li><a href=\"/browse/authors/o#a36795\">Ogden, C. K. (Charles Kay) (7665)</a></li>\n<li><a href=\"/browse/authors/w#a1861\">Wittgenstein, Ludwig (7618)</a></li>\n<li><a href=\"/browse/authors/g#a850\">Galsworthy, John (7603)</a></li>\n<li><a href=\"/browse/authors/s#a3648\">Schopenhauer, Arthur (7514)</a></li>\n<li><a href=\"/browse/authors/r#a6335\">Rackham, Arthur (7485)</a></li>\n<li><a href=\"/browse/authors/k#a37155\">Kemble, E. W. (Edward Windsor) (7375)</a></li>\n<li><a href=\"/browse/authors/s#a115\">Stowe, Harriet Beecher (7253)</a></li>\n<li><a href=\"/browse/authors/v#a5593\">Vatsyayana (7187)</a></li>\n<li><a href=\"/browse/authors/r#a44215\">Rhead, Louis (7170)</a></li>\n</ol>\n<div class=\"padded\">\n<ul>\n<li><a href=\"#books-last1\">Top 100 EBooks yesterday</a></li>\n<li><a href=\"#authors-last1\">Top 100 Authors yesterday</a></li>\n<li><a href=\"#books-last7\">Top 100 EBooks last 7 days</a></li>\n<li><a href=\"#authors-last7\">Top 100 Authors last 7 days</a></li>\n<li><a href=\"#books-last30\">Top 100 EBooks last 30 days</a></li>\n<li><a href=\"#authors-last30\">Top 100 Authors last 30 days</a></li>\n</ul>\n</div>\n</div><!--content ending-->\n</div>\n<div class=\"footer\"><!-- start footer --> <ul>\n<li>\n<a href=\"/policy/privacy_policy.html\" title=\"Privacy Policy\">Privacy policy</a>\n</li>\n<li>\n<a href=\"/about/\" title=\"About Project Gutenberg\">About Project Gutenberg</a>\n</li>\n<li>\n<a href=\"/policy/terms_of_use.html\" title=\"Terms of Use\">Terms of Use</a>\n</li>\n<li>\n<a href=\"/about/contact_information.html\" title=\"Contact Information\">Contact Information</a>\n</li>\n<li><a href=\"/help/\" title=\"Get Help\">Get Help</a></li>\n</ul>\n<a href=\"https://www.ibiblio.org/\" title=\"Project Gutenberg is hosted by ibiblio\">\n<img alt=\"iBiblio\" src=\"/gutenberg/ibiblio-logo.png\"/>\n</a>\n</div><!-- footer ending-->\n<!-- body ending -->\n</body>\n</html>>"
     },
     "execution_count": 5,
     "metadata": {},
     "output_type": "execute_result"
    }
   ],
   "metadata": {
    "collapsed": false,
    "pycharm": {
     "name": "#%%\n"
    }
   }
  },
  {
   "cell_type": "code",
   "execution_count": 6,
   "source": [
    "# 4. Write a small function to check the status of the web request.\n",
    "def status_check(site):\n",
    "    the_response = requests.get(site)\n",
    "    if the_response:\n",
    "        print('Success!')\n",
    "        return 1\n",
    "    else:\n",
    "        print('Failure!')\n",
    "        return -1\n",
    "\n",
    "status_check(url)"
   ],
   "outputs": [
    {
     "name": "stdout",
     "output_type": "stream",
     "text": [
      "Success!\n"
     ]
    },
    {
     "data": {
      "text/plain": "1"
     },
     "execution_count": 6,
     "metadata": {},
     "output_type": "execute_result"
    }
   ],
   "metadata": {
    "collapsed": false,
    "pycharm": {
     "name": "#%%\n"
    }
   }
  },
  {
   "cell_type": "code",
   "execution_count": 7,
   "source": [
    "# 5. Decode the response and pass this on to BeautifulSoup for HTML parsing.\n",
    "def decode_content(r, encoding):\n",
    "    print(r.encoding)\n",
    "    return r.content.decode(encoding)\n",
    "\n",
    "type(decode_content(response, response.encoding))"
   ],
   "outputs": [
    {
     "name": "stdout",
     "output_type": "stream",
     "text": [
      "UTF-8\n"
     ]
    },
    {
     "data": {
      "text/plain": "str"
     },
     "execution_count": 7,
     "metadata": {},
     "output_type": "execute_result"
    }
   ],
   "metadata": {
    "collapsed": false,
    "pycharm": {
     "name": "#%%\n"
    }
   }
  },
  {
   "cell_type": "code",
   "execution_count": 8,
   "source": [
    "'''\n",
    "6. Find all the href tags and store them in the list of links. Check what the list looks like - print the first 30\n",
    "elements.\n",
    "'''\n",
    "href_list = []\n",
    "hrefs = soup.find('ol')\n",
    "for i in hrefs.find_all('a'):\n",
    "    href_list.append(i)\n",
    "\n",
    "print(href_list[:30])\n",
    "\n"
   ],
   "outputs": [
    {
     "name": "stdout",
     "output_type": "stream",
     "text": [
      "[<a href=\"/ebooks/1342\">Pride and Prejudice by Jane Austen (1492)</a>, <a href=\"/ebooks/11\">Alice's Adventures in Wonderland by Lewis Carroll (813)</a>, <a href=\"/ebooks/1661\">The Adventures of Sherlock Holmes by Arthur Conan Doyle (687)</a>, <a href=\"/ebooks/84\">Frankenstein; Or, The Modern Prometheus by Mary Wollstonecraft Shelley (660)</a>, <a href=\"/ebooks/2701\">Moby Dick; Or, The Whale by Herman Melville (584)</a>, <a href=\"/ebooks/98\">A Tale of Two Cities by Charles Dickens (583)</a>, <a href=\"/ebooks/174\">The Picture of Dorian Gray by Oscar Wilde (501)</a>, <a href=\"/ebooks/345\">Dracula by Bram Stoker (434)</a>, <a href=\"/ebooks/64317\">The Great Gatsby by F. Scott  Fitzgerald (419)</a>, <a href=\"/ebooks/2600\">War and Peace by graf Leo Tolstoy (392)</a>, <a href=\"/ebooks/1952\">The Yellow Wallpaper by Charlotte Perkins Gilman (388)</a>, <a href=\"/ebooks/2542\">A Doll's House : a play by Henrik Ibsen (364)</a>, <a href=\"/ebooks/2591\">Grimms' Fairy Tales by Jacob Grimm and Wilhelm Grimm (363)</a>, <a href=\"/ebooks/1260\">Jane Eyre: An Autobiography by Charlotte Brontë (358)</a>, <a href=\"/ebooks/65919\">History of the Fylde of Lancashire by John Porter (355)</a>, <a href=\"/ebooks/1232\">The Prince by Niccolò Machiavelli (353)</a>, <a href=\"/ebooks/5200\">Metamorphosis by Franz Kafka (351)</a>, <a href=\"/ebooks/2554\">Crime and Punishment by Fyodor Dostoyevsky (341)</a>, <a href=\"/ebooks/65918\">Guide to the Bayeux tapestry by F. F. L. Birrell (339)</a>, <a href=\"/ebooks/58585\">The Prophet by Kahlil Gibran (322)</a>, <a href=\"/ebooks/43\">The Strange Case of Dr. Jekyll and Mr. Hyde by Robert Louis Stevenson (313)</a>, <a href=\"/ebooks/45\">Anne of Green Gables by L. M.  Montgomery (308)</a>, <a href=\"/ebooks/55\">The Wonderful Wizard of Oz by L. Frank  Baum (298)</a>, <a href=\"/ebooks/65910\">Norse mythology; or The religion of our forefathers, containing all the myths of the Eddas, systemat (290)</a>, <a href=\"/ebooks/1400\">Great Expectations by Charles Dickens (288)</a>, <a href=\"/ebooks/16\">Peter Pan by J. M.  Barrie (287)</a>, <a href=\"/ebooks/4300\">Ulysses by James Joyce (284)</a>, <a href=\"/ebooks/6130\">The Iliad by Homer (280)</a>, <a href=\"/ebooks/844\">The Importance of Being Earnest: A Trivial Comedy for Serious People by Oscar Wilde (280)</a>, <a href=\"/ebooks/63256\">The American Diary of a Japanese Girl by Yoné Noguchi (280)</a>]\n"
     ]
    }
   ],
   "metadata": {
    "collapsed": false,
    "pycharm": {
     "name": "#%%\n"
    }
   }
  },
  {
   "cell_type": "code",
   "execution_count": 9,
   "source": [
    "'''\n",
    "7. Use a regular expression to find the numeric digits in these links.  These are the file numbers for the top 100\n",
    "eBooks.\n",
    "8.  Initialize the empty list to hold the file numbers over an appropriate range and use regex to find the numeric\n",
    "digits in the link href string.  Use the findall method.\n",
    "'''\n",
    "import re\n",
    "ebook_file_list = []\n",
    "for links in href_list:    \n",
    "    res = re.findall('(?<=s\\/)(.*?)(?=\\\"\\>)', str(links))    \n",
    "    ebook_file_list.append(''.join(res))\n",
    "\n",
    "print(ebook_file_list)\n"
   ],
   "outputs": [
    {
     "name": "stdout",
     "output_type": "stream",
     "text": [
      "['1342', '11', '1661', '84', '2701', '98', '174', '345', '64317', '2600', '1952', '2542', '2591', '1260', '65919', '1232', '5200', '2554', '65918', '58585', '43', '45', '55', '65910', '1400', '16', '4300', '6130', '844', '63256', '74', '46', '205', '1184', '35899', '514', '65903', '5739', '1497', '244', '1080', '1998', '219', '65912', '27827', '30254', '996', '158', '6133', '120', '14568', '768', '408', '5740', '27085', '28054', '26184', '135', '902', '1727', '76', '829', '863', '25344', '113', '2500', '2814', '2852', '4363', '36', '16328', '65920', '730', '42108', '308', '1399', '203', '766', '3600', '236', '3090', '35', '33283', '132', '2680', '10', '20203', '23', '105', '161', '215', '61', '1250', '25717', '972', '21524', '4980', '8800', '65908', '60559']\n"
     ]
    }
   ],
   "metadata": {
    "collapsed": false,
    "pycharm": {
     "name": "#%%\n"
    }
   }
  },
  {
   "cell_type": "code",
   "execution_count": 10,
   "source": [
    "'''\n",
    "9.  What does the soup object's text look like?  Use the .text method and print only the first 2,000 characters (do not\n",
    "print the whole thing, as it is too long).\n",
    "'''\n",
    "print(soup.get_text()[:2000])"
   ],
   "outputs": [
    {
     "name": "stdout",
     "output_type": "stream",
     "text": [
      "\n",
      "\n",
      "\n",
      "Top 100 | Project Gutenberg\n",
      "\n",
      "\n",
      "\n",
      "\n",
      "\n",
      "\n",
      "\n",
      "\n",
      "\n",
      "\n",
      "\n",
      "\n",
      "\n",
      "\n",
      "\n",
      "\n",
      "\n",
      "\n",
      "\n",
      "\n",
      "\n",
      "\n",
      "\n",
      "\n",
      "\n",
      "\n",
      "\n",
      "Menu▾\n",
      "\n",
      "\n",
      "\n",
      "About\n",
      "          ▾\n",
      "\n",
      "▾\n",
      "\n",
      "\n",
      "About Project Gutenberg\n",
      "Collection Development\n",
      "Contact Us\n",
      "History & Philosophy\n",
      "Permissions & License\n",
      "Privacy Policy\n",
      "Terms of Use\n",
      "\n",
      "\n",
      "\n",
      "Search and Browse\n",
      "      \t  ▾\n",
      "\n",
      "▾\n",
      "\n",
      "\n",
      "Book Search\n",
      "Bookshelves\n",
      "Frequently Downloaded\n",
      "Offline Catalogs\n",
      "\n",
      "\n",
      "\n",
      "Help\n",
      "          ▾\n",
      "\n",
      "▾\n",
      "\n",
      "\n",
      "All help topics →\n",
      "Copyright Procedures\n",
      "Errata, Fixes and Bug Reports\n",
      "File Formats\n",
      "Frequently Asked Questions\n",
      "Policies →\n",
      "Public Domain eBook Submission\n",
      "Submitting Your Own Work\n",
      "Tablets, Phones and eReaders\n",
      "The Attic →\n",
      "\n",
      "\n",
      "Donate\n",
      "\n",
      "\n",
      "\n",
      "\n",
      "\n",
      "\n",
      "\n",
      "\n",
      "\n",
      "\n",
      "Donation\n",
      "\n",
      "\n",
      "\n",
      "\n",
      "\n",
      "\n",
      "\n",
      "Frequently Viewed or Downloaded\n",
      "These listings are based on the number of times each eBook gets downloaded.\n",
      "      Multiple downloads from the same Internet address on the same day count as one download, and addresses that download more than 100 eBooks in a day are considered robots and are not counted.\n",
      "\n",
      "Downloaded Books\n",
      "2021-07-26136824\n",
      "last 7 days951977\n",
      "last 30 days4016141\n",
      "\n",
      "\n",
      "\n",
      "Top 100 EBooks yesterday\n",
      "Top 100 Authors yesterday\n",
      "Top 100 EBooks last 7 days\n",
      "Top 100 Authors last 7 days\n",
      "Top 100 EBooks last 30 days\n",
      "Top 100 Authors last 30 days\n",
      "\n",
      "\n",
      "Top 100 EBooks yesterday\n",
      "\n",
      "Pride and Prejudice by Jane Austen (1492)\n",
      "Alice's Adventures in Wonderland by Lewis Carroll (813)\n",
      "The Adventures of Sherlock Holmes by Arthur Conan Doyle (687)\n",
      "Frankenstein; Or, The Modern Prometheus by Mary Wollstonecraft Shelley (660)\n",
      "Moby Dick; Or, The Whale by Herman Melville (584)\n",
      "A Tale of Two Cities by Charles Dickens (583)\n",
      "The Picture of Dorian Gray by Oscar Wilde (501)\n",
      "Dracula by Bram Stoker (434)\n",
      "The Great Gatsby by F. Scott  Fitzgerald (419)\n",
      "War and Peace by graf Leo Tolstoy (392)\n",
      "The Yellow Wallpaper by Charlotte Perkins Gilman (388)\n",
      "A Doll's House : a play by Henrik Ibsen (364)\n",
      "Grimms' Fairy Tales by Jacob Grimm and Wilhelm Grimm (363)\n",
      "Jane Eyre: An Autobiography by Charlotte Brontë (358)\n",
      "History of the Fylde of Lancashire by John Porter (355)\n",
      "The Prince by Niccolò Machiavelli (353)\n",
      "Metamorphosis by Franz Kaf\n"
     ]
    }
   ],
   "metadata": {
    "collapsed": false,
    "pycharm": {
     "name": "#%%\n"
    }
   }
  },
  {
   "cell_type": "code",
   "execution_count": 11,
   "source": [
    "'''\n",
    "10.  Search in the extracted text (using a regular expression) from the soup object to find the names of the top 100\n",
    "eBooks (yesterday's ranking).\n",
    "'''\n",
    "\n",
    "matching_exp = '(.*?)\\(\\d'\n",
    "names = re.findall(matching_exp, soup.get_text())\n",
    "print(names[:100])"
   ],
   "outputs": [
    {
     "name": "stdout",
     "output_type": "stream",
     "text": [
      "['Pride and Prejudice by Jane Austen ', \"Alice's Adventures in Wonderland by Lewis Carroll \", 'The Adventures of Sherlock Holmes by Arthur Conan Doyle ', 'Frankenstein; Or, The Modern Prometheus by Mary Wollstonecraft Shelley ', 'Moby Dick; Or, The Whale by Herman Melville ', 'A Tale of Two Cities by Charles Dickens ', 'The Picture of Dorian Gray by Oscar Wilde ', 'Dracula by Bram Stoker ', 'The Great Gatsby by F. Scott  Fitzgerald ', 'War and Peace by graf Leo Tolstoy ', 'The Yellow Wallpaper by Charlotte Perkins Gilman ', \"A Doll's House : a play by Henrik Ibsen \", \"Grimms' Fairy Tales by Jacob Grimm and Wilhelm Grimm \", 'Jane Eyre: An Autobiography by Charlotte Brontë ', 'History of the Fylde of Lancashire by John Porter ', 'The Prince by Niccolò Machiavelli ', 'Metamorphosis by Franz Kafka ', 'Crime and Punishment by Fyodor Dostoyevsky ', 'Guide to the Bayeux tapestry by F. F. L. Birrell ', 'The Prophet by Kahlil Gibran ', 'The Strange Case of Dr. Jekyll and Mr. Hyde by Robert Louis Stevenson ', 'Anne of Green Gables by L. M.  Montgomery ', 'The Wonderful Wizard of Oz by L. Frank  Baum ', 'Norse mythology; or The religion of our forefathers, containing all the myths of the Eddas, systemat ', 'Great Expectations by Charles Dickens ', 'Peter Pan by J. M.  Barrie ', 'Ulysses by James Joyce ', 'The Iliad by Homer ', 'The Importance of Being Earnest: A Trivial Comedy for Serious People by Oscar Wilde ', 'The American Diary of a Japanese Girl by Yoné Noguchi ', 'The Adventures of Tom Sawyer, Complete by Mark Twain ', 'A Christmas Carol in Prose; Being a Ghost Story of Christmas by Charles Dickens ', 'Walden, and On The Duty Of Civil Disobedience by Henry David Thoreau ', 'The Count of Monte Cristo, Illustrated by Alexandre Dumas ', 'The Philippines a Century Hence by José Rizal ', 'Little Women by Louisa May Alcott ', 'Psychology of the Unconscious by C. G.  Jung ', 'Korean—English Dictionary by Leon Kuperman ', 'The Republic by Plato ', 'A Study in Scarlet by Arthur Conan Doyle ', 'A Modest Proposal by Jonathan Swift ', 'Thus Spake Zarathustra: A Book for All and None by Friedrich Wilhelm Nietzsche ', 'Heart of Darkness by Joseph Conrad ', '\"Swat the Fly!\" by Eleanor Gates ', 'The Kama Sutra of Vatsyayana by Vatsyayana ', 'The Romance of Lust: A classic Victorian erotic novel by Anonymous ', 'Don Quixote by Miguel de Cervantes Saavedra ', 'Emma by Jane Austen ', 'The Extraordinary Adventures of Arsene Lupin, Gentleman-Burglar by Maurice Leblanc ', 'Treasure Island by Robert Louis Stevenson ', 'Sir Gawayne and the Green Knight ', 'Wuthering Heights by Emily Brontë ', 'The Souls of Black Folk by W. E. B.  Du Bois ', 'Tractatus Logico-Philosophicus by Ludwig Wittgenstein ', 'Rootabaga Stories by Carl Sandburg ', 'The Brothers Karamazov by Fyodor Dostoyevsky ', 'Simple Sabotage Field Manual by United States. Office of Strategic Services ', 'Les Misérables by Victor Hugo ', 'The Happy Prince, and Other Tales by Oscar Wilde ', 'The Odyssey by Homer ', 'Adventures of Huckleberry Finn by Mark Twain ', \"Gulliver's Travels into Several Remote Nations of the World by Jonathan Swift \", 'The Mysterious Affair at Styles by Agatha Christie ', 'The Scarlet Letter by Nathaniel Hawthorne ', 'The Secret Garden by Frances Hodgson Burnett ', 'Siddhartha by Hermann Hesse ', 'Dubliners by James Joyce ', 'The Hound of the Baskervilles by Arthur Conan Doyle ', 'Beyond Good and Evil by Friedrich Wilhelm Nietzsche ', 'The War of the Worlds by H. G.  Wells ', 'Beowulf: An Anglo-Saxon Epic Poem ', 'St. Nicholas Book of Plays & Operettas (Second Series) by Various ', 'Oliver Twist by Charles Dickens ', 'The Slang Dictionary: Etymological, Historical and Andecdotal by John Camden Hotten ', 'Three Men in a Boat (To Say Nothing of the Dog) by Jerome K.  Jerome ', 'Anna Karenina by graf Leo Tolstoy ', \"Uncle Tom's Cabin by Harriet Beecher Stowe \", 'David Copperfield by Charles Dickens ', 'Essays of Michel de Montaigne — Complete by Michel de Montaigne ', 'The Jungle Book by Rudyard Kipling ', 'Complete Original Short Stories of Guy De Maupassant by Guy de Maupassant ', 'The Time Machine by H. G.  Wells ', 'Calculus Made Easy by Silvanus P.  Thompson ', 'The Art of War by active 6th century B.C. Sunzi ', 'Meditations by Emperor of Rome Marcus Aurelius ', 'The King James Version of the Bible ', 'Autobiography of Benjamin Franklin by Benjamin Franklin ', 'Narrative of the Life of Frederick Douglass, an American Slave by Frederick Douglass ', 'Persuasion by Jane Austen ', 'Sense and Sensibility by Jane Austen ', 'The Call of the Wild by Jack London ', 'The Communist Manifesto by Friedrich Engels and Karl Marx ', 'Anthem by Ayn Rand ', 'The History of the Decline and Fall of the Roman Empire by Edward Gibbon ', \"The Devil's Dictionary by Ambrose Bierce \", 'Robinson Crusoe by Daniel Defoe ', 'Old Granny Fox by Thornton W.  Burgess ', 'An Index of The Divine Comedy by Dante by Dante Alighieri ', 'Illuminated illustrations of Froissart by Jean Froissart ', 'The Chaldean Account of Genesis by George Smith ']\n"
     ]
    }
   ],
   "metadata": {
    "collapsed": false,
    "pycharm": {
     "name": "#%%\n"
    }
   }
  },
  {
   "cell_type": "code",
   "execution_count": 12,
   "source": [
    "'''\n",
    "11.  Create a starting index.  It should point at the Top 100 Ebooks yesterday.  Use the splitlines method of soup.text.\n",
    "It splits the lines of text of the soup object.\n",
    "'''\n",
    "idx = soup.text.splitlines().index('Top 100 EBooks yesterday')\n",
    "print(idx)"
   ],
   "outputs": [
    {
     "name": "stdout",
     "output_type": "stream",
     "text": [
      "112\n"
     ]
    }
   ],
   "metadata": {
    "collapsed": false,
    "pycharm": {
     "name": "#%%\n"
    }
   }
  },
  {
   "cell_type": "code",
   "execution_count": 13,
   "source": [
    "# 12. Loop 1-100 to add the strings of the next 100 lines to this temporary list.  Hint: use the splitlines method.\n",
    "temp_title_list = [soup.text.splitlines()[idx+i+10] for i in range(100) if soup.text.splitlines()[idx+1+10]]\n",
    "print(temp_title_list)\n"
   ],
   "outputs": [
    {
     "name": "stdout",
     "output_type": "stream",
     "text": [
      "['Pride and Prejudice by Jane Austen (1492)', \"Alice's Adventures in Wonderland by Lewis Carroll (813)\", 'The Adventures of Sherlock Holmes by Arthur Conan Doyle (687)', 'Frankenstein; Or, The Modern Prometheus by Mary Wollstonecraft Shelley (660)', 'Moby Dick; Or, The Whale by Herman Melville (584)', 'A Tale of Two Cities by Charles Dickens (583)', 'The Picture of Dorian Gray by Oscar Wilde (501)', 'Dracula by Bram Stoker (434)', 'The Great Gatsby by F. Scott  Fitzgerald (419)', 'War and Peace by graf Leo Tolstoy (392)', 'The Yellow Wallpaper by Charlotte Perkins Gilman (388)', \"A Doll's House : a play by Henrik Ibsen (364)\", \"Grimms' Fairy Tales by Jacob Grimm and Wilhelm Grimm (363)\", 'Jane Eyre: An Autobiography by Charlotte Brontë (358)', 'History of the Fylde of Lancashire by John Porter (355)', 'The Prince by Niccolò Machiavelli (353)', 'Metamorphosis by Franz Kafka (351)', 'Crime and Punishment by Fyodor Dostoyevsky (341)', 'Guide to the Bayeux tapestry by F. F. L. Birrell (339)', 'The Prophet by Kahlil Gibran (322)', 'The Strange Case of Dr. Jekyll and Mr. Hyde by Robert Louis Stevenson (313)', 'Anne of Green Gables by L. M.  Montgomery (308)', 'The Wonderful Wizard of Oz by L. Frank  Baum (298)', 'Norse mythology; or The religion of our forefathers, containing all the myths of the Eddas, systemat (290)', 'Great Expectations by Charles Dickens (288)', 'Peter Pan by J. M.  Barrie (287)', 'Ulysses by James Joyce (284)', 'The Iliad by Homer (280)', 'The Importance of Being Earnest: A Trivial Comedy for Serious People by Oscar Wilde (280)', 'The American Diary of a Japanese Girl by Yoné Noguchi (280)', 'The Adventures of Tom Sawyer, Complete by Mark Twain (276)', 'A Christmas Carol in Prose; Being a Ghost Story of Christmas by Charles Dickens (268)', 'Walden, and On The Duty Of Civil Disobedience by Henry David Thoreau (266)', 'The Count of Monte Cristo, Illustrated by Alexandre Dumas (260)', 'The Philippines a Century Hence by José Rizal (255)', 'Little Women by Louisa May Alcott (255)', 'Psychology of the Unconscious by C. G.  Jung (253)', 'Korean—English Dictionary by Leon Kuperman (250)', 'The Republic by Plato (246)', 'A Study in Scarlet by Arthur Conan Doyle (244)', 'A Modest Proposal by Jonathan Swift (244)', 'Thus Spake Zarathustra: A Book for All and None by Friedrich Wilhelm Nietzsche (241)', 'Heart of Darkness by Joseph Conrad (238)', '\"Swat the Fly!\" by Eleanor Gates (235)', 'The Kama Sutra of Vatsyayana by Vatsyayana (234)', 'The Romance of Lust: A classic Victorian erotic novel by Anonymous (232)', 'Don Quixote by Miguel de Cervantes Saavedra (231)', 'Emma by Jane Austen (231)', 'The Extraordinary Adventures of Arsene Lupin, Gentleman-Burglar by Maurice Leblanc (230)', 'Treasure Island by Robert Louis Stevenson (226)', 'Sir Gawayne and the Green Knight (218)', 'Wuthering Heights by Emily Brontë (213)', 'The Souls of Black Folk by W. E. B.  Du Bois (210)', 'Tractatus Logico-Philosophicus by Ludwig Wittgenstein (208)', 'Rootabaga Stories by Carl Sandburg (207)', 'The Brothers Karamazov by Fyodor Dostoyevsky (206)', 'Simple Sabotage Field Manual by United States. Office of Strategic Services (203)', 'Les Misérables by Victor Hugo (202)', 'The Happy Prince, and Other Tales by Oscar Wilde (199)', 'The Odyssey by Homer (196)', 'Adventures of Huckleberry Finn by Mark Twain (194)', \"Gulliver's Travels into Several Remote Nations of the World by Jonathan Swift (190)\", 'The Mysterious Affair at Styles by Agatha Christie (185)', 'The Scarlet Letter by Nathaniel Hawthorne (182)', 'The Secret Garden by Frances Hodgson Burnett (179)', 'Siddhartha by Hermann Hesse (178)', 'Dubliners by James Joyce (177)', 'The Hound of the Baskervilles by Arthur Conan Doyle (175)', 'Beyond Good and Evil by Friedrich Wilhelm Nietzsche (173)', 'The War of the Worlds by H. G.  Wells (169)', 'Beowulf: An Anglo-Saxon Epic Poem (165)', 'St. Nicholas Book of Plays & Operettas (Second Series) by Various (164)', 'Oliver Twist by Charles Dickens (163)', 'The Slang Dictionary: Etymological, Historical and Andecdotal by John Camden Hotten (162)', 'Three Men in a Boat (To Say Nothing of the Dog) by Jerome K.  Jerome (160)', 'Anna Karenina by graf Leo Tolstoy (159)', \"Uncle Tom's Cabin by Harriet Beecher Stowe (158)\", 'David Copperfield by Charles Dickens (156)', 'Essays of Michel de Montaigne — Complete by Michel de Montaigne (156)', 'The Jungle Book by Rudyard Kipling (156)', 'Complete Original Short Stories of Guy De Maupassant by Guy de Maupassant (155)', 'The Time Machine by H. G.  Wells (155)', 'Calculus Made Easy by Silvanus P.  Thompson (154)', 'The Art of War by active 6th century B.C. Sunzi (151)', 'Meditations by Emperor of Rome Marcus Aurelius (150)', 'The King James Version of the Bible (149)', 'Autobiography of Benjamin Franklin by Benjamin Franklin (148)', 'Narrative of the Life of Frederick Douglass, an American Slave by Frederick Douglass (142)', 'Persuasion by Jane Austen (139)', 'Sense and Sensibility by Jane Austen (139)', 'The Call of the Wild by Jack London (134)', 'The Communist Manifesto by Friedrich Engels and Karl Marx (134)', 'Anthem by Ayn Rand (132)', 'The History of the Decline and Fall of the Roman Empire by Edward Gibbon (130)', \"The Devil's Dictionary by Ambrose Bierce (128)\", 'Robinson Crusoe by Daniel Defoe (127)', 'Old Granny Fox by Thornton W.  Burgess (126)', 'An Index of The Divine Comedy by Dante by Dante Alighieri (124)', 'Illuminated illustrations of Froissart by Jean Froissart (124)', 'The Chaldean Account of Genesis by George Smith (121)']\n"
     ]
    }
   ],
   "metadata": {
    "collapsed": false,
    "pycharm": {
     "name": "#%%\n"
    }
   }
  },
  {
   "cell_type": "code",
   "execution_count": 14,
   "source": [
    "'''\n",
    "13.  Use a regular expression to extract only text from the name strings and append it to an empty list.  Use match and\n",
    "span to find the indices and use them.\n",
    "'''\n",
    "\n",
    "title_list = []\n",
    "for i in range(100):\n",
    "    beg_index, end_index = re.match('^[a-zA-Z ]*', temp_title_list[i]).span()\n",
    "    title_list.append(temp_title_list[i][beg_index:end_index])\n",
    "print(title_list)"
   ],
   "outputs": [
    {
     "name": "stdout",
     "output_type": "stream",
     "text": [
      "['Pride and Prejudice by Jane Austen ', 'Alice', 'The Adventures of Sherlock Holmes by Arthur Conan Doyle ', 'Frankenstein', 'Moby Dick', 'A Tale of Two Cities by Charles Dickens ', 'The Picture of Dorian Gray by Oscar Wilde ', 'Dracula by Bram Stoker ', 'The Great Gatsby by F', 'War and Peace by graf Leo Tolstoy ', 'The Yellow Wallpaper by Charlotte Perkins Gilman ', 'A Doll', 'Grimms', 'Jane Eyre', 'History of the Fylde of Lancashire by John Porter ', 'The Prince by Niccol', 'Metamorphosis by Franz Kafka ', 'Crime and Punishment by Fyodor Dostoyevsky ', 'Guide to the Bayeux tapestry by F', 'The Prophet by Kahlil Gibran ', 'The Strange Case of Dr', 'Anne of Green Gables by L', 'The Wonderful Wizard of Oz by L', 'Norse mythology', 'Great Expectations by Charles Dickens ', 'Peter Pan by J', 'Ulysses by James Joyce ', 'The Iliad by Homer ', 'The Importance of Being Earnest', 'The American Diary of a Japanese Girl by Yon', 'The Adventures of Tom Sawyer', 'A Christmas Carol in Prose', 'Walden', 'The Count of Monte Cristo', 'The Philippines a Century Hence by Jos', 'Little Women by Louisa May Alcott ', 'Psychology of the Unconscious by C', 'Korean', 'The Republic by Plato ', 'A Study in Scarlet by Arthur Conan Doyle ', 'A Modest Proposal by Jonathan Swift ', 'Thus Spake Zarathustra', 'Heart of Darkness by Joseph Conrad ', '', 'The Kama Sutra of Vatsyayana by Vatsyayana ', 'The Romance of Lust', 'Don Quixote by Miguel de Cervantes Saavedra ', 'Emma by Jane Austen ', 'The Extraordinary Adventures of Arsene Lupin', 'Treasure Island by Robert Louis Stevenson ', 'Sir Gawayne and the Green Knight ', 'Wuthering Heights by Emily Bront', 'The Souls of Black Folk by W', 'Tractatus Logico', 'Rootabaga Stories by Carl Sandburg ', 'The Brothers Karamazov by Fyodor Dostoyevsky ', 'Simple Sabotage Field Manual by United States', 'Les Mis', 'The Happy Prince', 'The Odyssey by Homer ', 'Adventures of Huckleberry Finn by Mark Twain ', 'Gulliver', 'The Mysterious Affair at Styles by Agatha Christie ', 'The Scarlet Letter by Nathaniel Hawthorne ', 'The Secret Garden by Frances Hodgson Burnett ', 'Siddhartha by Hermann Hesse ', 'Dubliners by James Joyce ', 'The Hound of the Baskervilles by Arthur Conan Doyle ', 'Beyond Good and Evil by Friedrich Wilhelm Nietzsche ', 'The War of the Worlds by H', 'Beowulf', 'St', 'Oliver Twist by Charles Dickens ', 'The Slang Dictionary', 'Three Men in a Boat ', 'Anna Karenina by graf Leo Tolstoy ', 'Uncle Tom', 'David Copperfield by Charles Dickens ', 'Essays of Michel de Montaigne ', 'The Jungle Book by Rudyard Kipling ', 'Complete Original Short Stories of Guy De Maupassant by Guy de Maupassant ', 'The Time Machine by H', 'Calculus Made Easy by Silvanus P', 'The Art of War by active ', 'Meditations by Emperor of Rome Marcus Aurelius ', 'The King James Version of the Bible ', 'Autobiography of Benjamin Franklin by Benjamin Franklin ', 'Narrative of the Life of Frederick Douglass', 'Persuasion by Jane Austen ', 'Sense and Sensibility by Jane Austen ', 'The Call of the Wild by Jack London ', 'The Communist Manifesto by Friedrich Engels and Karl Marx ', 'Anthem by Ayn Rand ', 'The History of the Decline and Fall of the Roman Empire by Edward Gibbon ', 'The Devil', 'Robinson Crusoe by Daniel Defoe ', 'Old Granny Fox by Thornton W', 'An Index of The Divine Comedy by Dante by Dante Alighieri ', 'Illuminated illustrations of Froissart by Jean Froissart ', 'The Chaldean Account of Genesis by George Smith ']\n"
     ]
    }
   ],
   "metadata": {
    "collapsed": false,
    "pycharm": {
     "name": "#%%\n"
    }
   }
  },
  {
   "cell_type": "markdown",
   "source": [
    "## Data Wrangling with Python: Activity 10 (pg 295) Building Your Own Movie Database by Reading an API\n",
    "\n",
    "### You will build a complete movie database by communicating and interfacing with a free API.\n",
    "### The aims of this activity are as follows:  To retrieve and print basic data about a movie (the title is entered\n",
    "### by the user) from the web (OMDb database)\n",
    "### If a poster of the movie is found, it downloads the file and saves it at a user-specified location"
   ],
   "metadata": {
    "collapsed": false
   }
  },
  {
   "cell_type": "code",
   "execution_count": 15,
   "outputs": [],
   "source": [
    "'''\n",
    "1.  Import urllib.request, urlib.parse, urlib.error and json.\n",
    "'''\n",
    "import urllib.request\n",
    "import urllib.parse\n",
    "import urllib.error\n",
    "import json\n"
   ],
   "metadata": {
    "collapsed": false,
    "pycharm": {
     "name": "#%%\n"
    }
   }
  },
  {
   "cell_type": "code",
   "execution_count": 36,
   "outputs": [
    {
     "name": "stdout",
     "output_type": "stream",
     "text": [
      "http://www.omdbapi.com/?apikey=6b0bce9&\n"
     ]
    }
   ],
   "source": [
    "'''\n",
    "2.  Load the secret API key (you have to get one from the OMDb website and use that; it has a daily limit of 1,000) from\n",
    "a JSON file stored in the same folder in a variable, by using json.loads.\n",
    "3.  Obtain a key and store it in JSON as APIkeys.json\n",
    "4.  Open the APIkeys.json file.\n",
    "5.  Assign the OMDb portal as a string to a variable.\n",
    "6.  Create a variable called apikey with the last portion of the URL (&apikey=secretapikey), where secretapikey is your\n",
    "own API key.\n",
    "7.  Write a utility function called print_json to print the movie data from a JSON file (which we will get from the\n",
    "portal).\n",
    "'''\n",
    "\n",
    "serviceurl = 'http://www.omdbapi.com/'\n",
    "\n",
    "with open('APIkeys.json') as f:\n",
    "    contents = json.load(f)\n",
    "\n",
    "apikey = '?apikey='+ contents['secret_sauce'] + '&'\n",
    "\n",
    "the_url = serviceurl + apikey\n",
    "\n",
    "def print_json():\n",
    "    pass\n"
   ],
   "metadata": {
    "collapsed": false,
    "pycharm": {
     "name": "#%%\n"
    }
   }
  },
  {
   "cell_type": "code",
   "execution_count": 17,
   "outputs": [
    {
     "data": {
      "text/plain": "'\\n\\n'"
     },
     "execution_count": 17,
     "metadata": {},
     "output_type": "execute_result"
    }
   ],
   "source": [
    "'''\n",
    "\n",
    "'''\n"
   ],
   "metadata": {
    "collapsed": false,
    "pycharm": {
     "name": "#%%\n"
    }
   }
  },
  {
   "cell_type": "code",
   "execution_count": 18,
   "outputs": [
    {
     "data": {
      "text/plain": "'\\n\\n'"
     },
     "execution_count": 18,
     "metadata": {},
     "output_type": "execute_result"
    }
   ],
   "source": [
    "'''\n",
    "\n",
    "'''\n"
   ],
   "metadata": {
    "collapsed": false,
    "pycharm": {
     "name": "#%%\n"
    }
   }
  },
  {
   "cell_type": "code",
   "execution_count": 19,
   "outputs": [
    {
     "data": {
      "text/plain": "'\\n\\n'"
     },
     "execution_count": 19,
     "metadata": {},
     "output_type": "execute_result"
    }
   ],
   "source": [
    "'''\n",
    "\n",
    "'''\n"
   ],
   "metadata": {
    "collapsed": false,
    "pycharm": {
     "name": "#%%\n"
    }
   }
  },
  {
   "cell_type": "code",
   "execution_count": 20,
   "outputs": [
    {
     "data": {
      "text/plain": "'\\n\\n'"
     },
     "execution_count": 20,
     "metadata": {},
     "output_type": "execute_result"
    }
   ],
   "source": [
    "'''\n",
    "\n",
    "'''\n"
   ],
   "metadata": {
    "collapsed": false,
    "pycharm": {
     "name": "#%%\n"
    }
   }
  },
  {
   "cell_type": "code",
   "execution_count": 21,
   "outputs": [
    {
     "data": {
      "text/plain": "\"\\n8.  Write a utility function to download a poster of the movie based on the inf from the JSON dataset and sae it to your\\nlocal folder.  Use the os module.  The poster data is stored in the JSON key Poster.  Use the Python command to open a\\nfile and write the poster data.  Close the file after you're done.  This function will save the poster data as an image\\nfile.\\n\""
     },
     "execution_count": 21,
     "metadata": {},
     "output_type": "execute_result"
    }
   ],
   "source": [
    "'''\n",
    "8.  Write a utility function to download a poster of the movie based on the inf from the JSON dataset and sae it to your\n",
    "local folder.  Use the os module.  The poster data is stored in the JSON key Poster.  Use the Python command to open a\n",
    "file and write the poster data.  Close the file after you're done.  This function will save the poster data as an image\n",
    "file.\n",
    "'''"
   ],
   "metadata": {
    "collapsed": false,
    "pycharm": {
     "name": "#%%\n"
    }
   }
  },
  {
   "cell_type": "code",
   "execution_count": 22,
   "outputs": [
    {
     "data": {
      "text/plain": "\"\\n9.  Write a utility function called search_movie to search for a movie by its name, print the downloaded JSON data, and\\nsave the movie poster in the local folder.  Use a try-except loop for this.  Use the previously created serviceurl and\\napikey variables.  You have to pass on a dictionary with key, t, and the movie name as the corresponding value to the\\nurllib.parse.urlencode() function and then add the servieurl and apikey to the output of the function to construct the\\nfull URL.  This URL will be use to access the data.  The JSON data has a key called Response.  If it is True, that means\\nthe read was successful.  Check this before processing the data.  If it's not successful, then print the JSON key Error,\\nwhich will contain the appropriate error message returned by the movie database.\\n\""
     },
     "execution_count": 22,
     "metadata": {},
     "output_type": "execute_result"
    }
   ],
   "source": [
    "'''\n",
    "9.  Write a utility function called search_movie to search for a movie by its name, print the downloaded JSON data, and\n",
    "save the movie poster in the local folder.  Use a try-except loop for this.  Use the previously created serviceurl and\n",
    "apikey variables.  You have to pass on a dictionary with key, t, and the movie name as the corresponding value to the\n",
    "urllib.parse.urlencode() function and then add the servieurl and apikey to the output of the function to construct the\n",
    "full URL.  This URL will be use to access the data.  The JSON data has a key called Response.  If it is True, that means\n",
    "the read was successful.  Check this before processing the data.  If it's not successful, then print the JSON key Error,\n",
    "which will contain the appropriate error message returned by the movie database.\n",
    "'''"
   ],
   "metadata": {
    "collapsed": false,
    "pycharm": {
     "name": "#%%\n"
    }
   }
  },
  {
   "cell_type": "code",
   "execution_count": 23,
   "outputs": [
    {
     "data": {
      "text/plain": "'\\n10.  Test the search_movie function by entering Titanic.\\n'"
     },
     "execution_count": 23,
     "metadata": {},
     "output_type": "execute_result"
    }
   ],
   "source": [
    "'''\n",
    "10.  Test the search_movie function by entering Titanic.\n",
    "'''\n"
   ],
   "metadata": {
    "collapsed": false,
    "pycharm": {
     "name": "#%%\n"
    }
   }
  },
  {
   "cell_type": "code",
   "execution_count": 24,
   "outputs": [
    {
     "data": {
      "text/plain": "'\\n11.  Test the search_movie function by entering \"Random_error\" (obviously, this will not be found, and you should be\\nable to check whether your error catching code is working properly).\\n'"
     },
     "execution_count": 24,
     "metadata": {},
     "output_type": "execute_result"
    }
   ],
   "source": [
    "'''\n",
    "11.  Test the search_movie function by entering \"Random_error\" (obviously, this will not be found, and you should be\n",
    "able to check whether your error catching code is working properly).\n",
    "'''"
   ],
   "metadata": {
    "collapsed": false,
    "pycharm": {
     "name": "#%%\n"
    }
   }
  }
 ],
 "metadata": {
  "kernelspec": {
   "display_name": "Python 3",
   "language": "python",
   "name": "python3"
  },
  "language_info": {
   "codemirror_mode": {
    "name": "ipython",
    "version": 2
   },
   "file_extension": ".py",
   "mimetype": "text/x-python",
   "name": "python",
   "nbconvert_exporter": "python",
   "pygments_lexer": "ipython2",
   "version": "2.7.6"
  }
 },
 "nbformat": 4,
 "nbformat_minor": 2
}