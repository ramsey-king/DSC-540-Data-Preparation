{
 "cells": [
  {
   "cell_type": "code",
   "execution_count": 15,
   "metadata": {
    "collapsed": true
   },
   "outputs": [],
   "source": [
    "# Ramsey King\n",
    "# DSC 540 - Data Preparation\n",
    "# Week 7 & 8 Assignment\n",
    "# July 31, 2021"
   ]
  },
  {
   "cell_type": "markdown",
   "source": [
    "## Data Wrangling with Python: Activity 9 (pg 294)\n",
    "\n",
    "### Project Guttenberg encourages the creation and distribution of eBooks by encouraging volunteer efforts to digitize\n",
    "### and archive cultural works.  This activity aims to scrape the URL of Project Guttenberg's Top 100 eBooks to\n",
    "### identify the eBooks' links.  It uses BeautifulSoup4 to parse the HTML and regular expression code to identify the\n",
    "### Top 100 eBook file numbers"
   ],
   "metadata": {
    "collapsed": false
   }
  },
  {
   "cell_type": "code",
   "execution_count": 16,
   "outputs": [],
   "source": [
    "# 1. Import the necessary libraries, including regex and beautifulsoup.\n",
    "\n",
    "import regex\n",
    "from bs4 import BeautifulSoup\n",
    "import requests"
   ],
   "metadata": {
    "collapsed": false,
    "pycharm": {
     "name": "#%%\n"
    }
   }
  },
  {
   "cell_type": "code",
   "execution_count": 17,
   "outputs": [
    {
     "data": {
      "text/plain": "<Response [200]>"
     },
     "execution_count": 17,
     "metadata": {},
     "output_type": "execute_result"
    }
   ],
   "source": [
    "# 2. Check the SSL Certificate.\n",
    "url = 'https://www.gutenberg.org/browse/scores/top'\n",
    "response = requests.get(url, verify = True)\n",
    "response"
   ],
   "metadata": {
    "collapsed": false,
    "pycharm": {
     "name": "#%%\n"
    }
   }
  },
  {
   "cell_type": "code",
   "execution_count": 29,
   "outputs": [
    {
     "data": {
      "text/plain": "<bound method Tag.prettify of <!DOCTYPE html>\n<html class=\"client-nojs\" dir=\"ltr\" lang=\"en\">\n<head>\n<meta charset=\"utf-8\"/>\n<title>Top 100 | Project Gutenberg</title>\n<link href=\"/gutenberg/style.css?v=1.1\" rel=\"stylesheet\"/>\n<link href=\"/gutenberg/collapsible.css?1.1\" rel=\"stylesheet\"/>\n<link href=\"/gutenberg/new_nav.css?v=1.321231\" rel=\"stylesheet\"/>\n<link href=\"/gutenberg/pg-desktop-one.css\" rel=\"stylesheet\"/>\n<meta content=\"width=device-width, initial-scale=1\" name=\"viewport\"/>\n<meta content=\"books, ebooks, free, kindle, android, iphone, ipad\" name=\"keywords\"/>\n<meta content=\"wucOEvSnj5kP3Ts_36OfP64laakK-1mVTg-ptrGC9io\" name=\"google-site-verification\"/>\n<meta content=\"4WNaCljsE-A82vP_ih2H_UqXZvM\" name=\"alexaVerifyID\"/>\n<link href=\"https://www.gnu.org/copyleft/fdl.html\" rel=\"copyright\"/>\n<link href=\"/gutenberg/favicon.ico?v=1.1\" rel=\"shortcut icon\"/>\n<meta content=\"Project Gutenberg\" property=\"og:title\"/>\n<meta content=\"website\" property=\"og:type\"/>\n<meta content=\"https://www.gutenberg.org/\" property=\"og:url\"/>\n<meta content=\"Project Gutenberg is a library of free eBooks.\" property=\"og:description\"/>\n<meta content=\"615269807\" property=\"fb:admins\"/>\n<meta content=\"115319388529183\" property=\"fb:app_id\"/>\n<meta content=\"Project Gutenberg\" property=\"og:site_name\"/>\n<meta content=\"https://www.gutenberg.org/gutenberg/pg-logo-144x144.png\" property=\"og:image\"/>\n</head>\n<body>\n<div class=\"container\"><!-- start body --><nav>\n<!--<div id=\"main_logo\"> -->\n<a class=\"no-hover\" href=\"/\" id=\"main_logo\">\n<img alt=\"Project Gutenberg\" draggable=\"false\" src=\"/gutenberg/pg-logo-129x80.png\"/>\n</a>\n<!--\t</div>-->\n<div id=\"menu\">\n<label for=\"tm\" id=\"toggle-menu\">Menu<span class=\"drop-icon\">▾</span></label>\n<input id=\"tm\" type=\"checkbox\"/>\n<ul class=\"main-menu cf\">\n<li>\n<a href=\"/about/\">About\n          <span class=\"drop-icon\">▾</span>\n</a>\n<label class=\"drop-icon\" for=\"sm0\" title=\"Toggle Drop-down\">▾</label>\n<input id=\"sm0\" type=\"checkbox\"/>\n<ul class=\"sub-menu\">\n<li><a href=\"/about/\">About Project Gutenberg</a></li>\n<li><a href=\"/policy/collection_development.html\">Collection Development</a></li>\n<li><a href=\"/about/contact_information.html\">Contact Us</a></li>\n<li><a href=\"/about/background/\">History &amp; Philosophy</a></li>\n<li><a href=\"/policy/permission.html\">Permissions &amp; License</a></li>\n<li><a href=\"/policy/privacy_policy.html\">Privacy Policy</a></li>\n<li><a href=\"/policy/terms_of_use.html\">Terms of Use</a></li>\n</ul>\n</li>\n<li>\n<a href=\"/ebooks/\">Search and Browse\n      \t  <span class=\"drop-icon\">▾</span>\n</a>\n<label class=\"drop-icon\" for=\"sm8\" title=\"Toggle Drop-down\">▾</label>\n<input id=\"sm8\" type=\"checkbox\"/>\n<ul class=\"sub-menu\">\n<li><a href=\"/ebooks/\">Book Search</a></li>\n<li><a href=\"/ebooks/bookshelf/\">Bookshelves</a></li>\n<li><a href=\"/browse/scores/top\">Frequently Downloaded</a></li>\n<li><a href=\"/ebooks/offline_catalogs.html\">Offline Catalogs</a></li>\n</ul>\n</li>\n<li>\n<a href=\"/help/\">Help\n          <span class=\"drop-icon\">▾</span>\n</a>\n<label class=\"drop-icon\" for=\"sm3\" title=\"Toggle Drop-down\">▾</label>\n<input id=\"sm3\" type=\"checkbox\"/>\n<ul class=\"sub-menu\">\n<li><a href=\"/help/\">All help topics →</a></li>\n<li><a href=\"/help/copyright.html\">Copyright Procedures</a></li>\n<li><a href=\"/help/errata.html\">Errata, Fixes and Bug Reports</a></li>\n<li><a href=\"/help/file_formats.html\">File Formats</a></li>\n<li><a href=\"/help/faq.html\">Frequently Asked Questions</a></li>\n<li><a href=\"/policy/\">Policies →</a></li>\n<li><a href=\"/help/public_domain_ebook_submission.html\">Public Domain eBook Submission</a></li>\n<li><a href=\"/help/submitting_your_own_work.html\">Submitting Your Own Work</a></li>\n<li><a href=\"/help/mobile.html\">Tablets, Phones and eReaders</a></li>\n<li><a href=\"/attic/\">The Attic →</a></li>\n</ul>\n</li>\n<li><a href=\"/donate/\">Donate</a></li>\n</ul>\n</div>\n<div class=\"donate\">\n<div class=\"searchbox\">\n<form accept-charset=\"utf-8\" action=\"/ebooks/search/\" class=\"searchbox\" enctype=\"multipart/form-data\" method=\"get\">\n<input class=\"searchInput\" id=\"menu-book-search\" maxlength=\"80\" name=\"query\" placeholder=\"  Quick search\" size=\"20\" tabindex=\"20\" title=\"Quick search\" type=\"text\" value=\"\"/>\n<input name=\"submit_search\" style=\"vertical-align:middle;\" type=\"submit\" value=\"Go!\"/>\n</form>\n</div>\n<form action=\"https://www.paypal.com/cgi-bin/webscr\" class=\"donatelink\" method=\"post\" target=\"new\">\n<p><a href=\"/donate/\">Donation</a></p>\n<input name=\"cmd\" type=\"hidden\" value=\"_s-xclick\"/>\n<input name=\"hosted_button_id\" type=\"hidden\" value=\"XKAL6BZL3YPSN\"/>\n<input alt=\"Donate via PayPal\" class=\"donbtn\" name=\"submit\" src=\"/pics/en_US.gif\" type=\"image\"/>\n</form>\n</div>\n</nav>\n<div class=\"page_content\"><!-- start content -->\n<h1>Frequently Viewed or Downloaded</h1>\n<p>These listings are based on the number of times each eBook gets downloaded.\n      Multiple downloads from the same Internet address on the same day count as one download, and addresses that download more than 100 eBooks in a day are considered robots and are not counted.</p>\n<table>\n<caption>Downloaded Books</caption>\n<tr><th>2021-07-18</th><td class=\"right\">128863</td></tr>\n<tr><th>last 7 days</th><td class=\"right\">914552</td></tr>\n<tr><th>last 30 days</th><td class=\"right\">3991827</td></tr>\n</table>\n<div class=\"padded\">\n<ul>\n<li><a href=\"#books-last1\">Top 100 EBooks yesterday</a></li>\n<li><a href=\"#authors-last1\">Top 100 Authors yesterday</a></li>\n<li><a href=\"#books-last7\">Top 100 EBooks last 7 days</a></li>\n<li><a href=\"#authors-last7\">Top 100 Authors last 7 days</a></li>\n<li><a href=\"#books-last30\">Top 100 EBooks last 30 days</a></li>\n<li><a href=\"#authors-last30\">Top 100 Authors last 30 days</a></li>\n</ul>\n</div>\n<h2 id=\"books-last1\">Top 100 EBooks yesterday</h2>\n<ol>\n<li><a href=\"/ebooks/1342\">Pride and Prejudice by Jane Austen (1516)</a></li>\n<li><a href=\"/ebooks/14975\">Southern Horrors: Lynch Law in All Its Phases by Ida B. Wells-Barnett (1005)</a></li>\n<li><a href=\"/ebooks/11\">Alice's Adventures in Wonderland by Lewis Carroll (796)</a></li>\n<li><a href=\"/ebooks/1661\">The Adventures of Sherlock Holmes by Arthur Conan Doyle (653)</a></li>\n<li><a href=\"/ebooks/84\">Frankenstein; Or, The Modern Prometheus by Mary Wollstonecraft Shelley (637)</a></li>\n<li><a href=\"/ebooks/2701\">Moby Dick; Or, The Whale by Herman Melville (542)</a></li>\n<li><a href=\"/ebooks/98\">A Tale of Two Cities by Charles Dickens (488)</a></li>\n<li><a href=\"/ebooks/174\">The Picture of Dorian Gray by Oscar Wilde (449)</a></li>\n<li><a href=\"/ebooks/65856\">Cincinnati's \"Old Cunny\" by Linden F. Edwards (416)</a></li>\n<li><a href=\"/ebooks/65853\">The Driver by Garet Garrett (404)</a></li>\n<li><a href=\"/ebooks/2600\">War and Peace by graf Leo Tolstoy (381)</a></li>\n<li><a href=\"/ebooks/4300\">Ulysses by James Joyce (366)</a></li>\n<li><a href=\"/ebooks/345\">Dracula by Bram Stoker (361)</a></li>\n<li><a href=\"/ebooks/1952\">The Yellow Wallpaper by Charlotte Perkins Gilman (356)</a></li>\n<li><a href=\"/ebooks/1232\">The Prince by Niccolò Machiavelli (347)</a></li>\n<li><a href=\"/ebooks/43\">The Strange Case of Dr. Jekyll and Mr. Hyde by Robert Louis Stevenson (344)</a></li>\n<li><a href=\"/ebooks/64317\">The Great Gatsby by F. Scott  Fitzgerald (331)</a></li>\n<li><a href=\"/ebooks/1260\">Jane Eyre: An Autobiography by Charlotte Brontë (314)</a></li>\n<li><a href=\"/ebooks/205\">Walden, and On The Duty Of Civil Disobedience by Henry David Thoreau (304)</a></li>\n<li><a href=\"/ebooks/65855\">The Bloody Theatre, or Martyrs Mirror of the Defenseless Christians by Thielem J. van Braght (301)</a></li>\n<li><a href=\"/ebooks/2542\">A Doll's House : a play by Henrik Ibsen (298)</a></li>\n<li><a href=\"/ebooks/2554\">Crime and Punishment by Fyodor Dostoyevsky (296)</a></li>\n<li><a href=\"/ebooks/5200\">Metamorphosis by Franz Kafka (290)</a></li>\n<li><a href=\"/ebooks/1400\">Great Expectations by Charles Dickens (284)</a></li>\n<li><a href=\"/ebooks/5740\">Tractatus Logico-Philosophicus by Ludwig Wittgenstein (284)</a></li>\n<li><a href=\"/ebooks/74\">The Adventures of Tom Sawyer, Complete by Mark Twain (282)</a></li>\n<li><a href=\"/ebooks/6133\">The Extraordinary Adventures of Arsene Lupin, Gentleman-Burglar by Maurice Leblanc (282)</a></li>\n<li><a href=\"/ebooks/2591\">Grimms' Fairy Tales by Jacob Grimm and Wilhelm Grimm (270)</a></li>\n<li><a href=\"/ebooks/58585\">The Prophet by Kahlil Gibran (266)</a></li>\n<li><a href=\"/ebooks/27827\">The Kama Sutra of Vatsyayana by Vatsyayana (262)</a></li>\n<li><a href=\"/ebooks/1184\">The Count of Monte Cristo, Illustrated by Alexandre Dumas (258)</a></li>\n<li><a href=\"/ebooks/6130\">The Iliad by Homer (258)</a></li>\n<li><a href=\"/ebooks/65863\">On the Border with Crook by John Gregory Bourke (257)</a></li>\n<li><a href=\"/ebooks/1080\">A Modest Proposal by Jonathan Swift (255)</a></li>\n<li><a href=\"/ebooks/65857\">Nalakihu-Citadel Trail by Anonymous (252)</a></li>\n<li><a href=\"/ebooks/65858\">Spruce Tree House Trail Guide by Anonymous (248)</a></li>\n<li><a href=\"/ebooks/46\">A Christmas Carol in Prose; Being a Ghost Story of Christmas by Charles Dickens (245)</a></li>\n<li><a href=\"/ebooks/16\">Peter Pan by J. M.  Barrie (242)</a></li>\n<li><a href=\"/ebooks/30254\">The Romance of Lust: A classic Victorian erotic novel by Anonymous (242)</a></li>\n<li><a href=\"/ebooks/996\">Don Quixote by Miguel de Cervantes Saavedra (238)</a></li>\n<li><a href=\"/ebooks/26184\">Simple Sabotage Field Manual by United States. Office of Strategic Services (234)</a></li>\n<li><a href=\"/ebooks/120\">Treasure Island by Robert Louis Stevenson (230)</a></li>\n<li><a href=\"/ebooks/55\">The Wonderful Wizard of Oz by L. Frank  Baum (222)</a></li>\n<li><a href=\"/ebooks/11746\">Through the Brazilian Wilderness by Theodore Roosevelt (222)</a></li>\n<li><a href=\"/ebooks/45\">Anne of Green Gables by L. M.  Montgomery (217)</a></li>\n<li><a href=\"/ebooks/13941\">The Divine Right of Church Government (216)</a></li>\n<li><a href=\"/ebooks/844\">The Importance of Being Earnest: A Trivial Comedy for Serious People by Oscar Wilde (215)</a></li>\n<li><a href=\"/ebooks/1497\">The Republic by Plato (213)</a></li>\n<li><a href=\"/ebooks/158\">Emma by Jane Austen (205)</a></li>\n<li><a href=\"/ebooks/5739\">Korean—English Dictionary by Leon Kuperman (204)</a></li>\n<li><a href=\"/ebooks/244\">A Study in Scarlet by Arthur Conan Doyle (200)</a></li>\n<li><a href=\"/ebooks/76\">Adventures of Huckleberry Finn by Mark Twain (198)</a></li>\n<li><a href=\"/ebooks/65850\">The House of Spies by Warwick Deeping (198)</a></li>\n<li><a href=\"/ebooks/514\">Little Women by Louisa May Alcott (195)</a></li>\n<li><a href=\"/ebooks/4980\">Old Granny Fox by Thornton W.  Burgess (194)</a></li>\n<li><a href=\"/ebooks/1998\">Thus Spake Zarathustra: A Book for All and None by Friedrich Wilhelm Nietzsche (190)</a></li>\n<li><a href=\"/ebooks/219\">Heart of Darkness by Joseph Conrad (190)</a></li>\n<li><a href=\"/ebooks/768\">Wuthering Heights by Emily Brontë (190)</a></li>\n<li><a href=\"/ebooks/135\">Les Misérables by Victor Hugo (184)</a></li>\n<li><a href=\"/ebooks/25344\">The Scarlet Letter by Nathaniel Hawthorne (183)</a></li>\n<li><a href=\"/ebooks/203\">Uncle Tom's Cabin by Harriet Beecher Stowe (177)</a></li>\n<li><a href=\"/ebooks/28054\">The Brothers Karamazov by Fyodor Dostoyevsky (173)</a></li>\n<li><a href=\"/ebooks/36\">The War of the Worlds by H. G.  Wells (171)</a></li>\n<li><a href=\"/ebooks/23\">Narrative of the Life of Frederick Douglass, an American Slave by Frederick Douglass (171)</a></li>\n<li><a href=\"/ebooks/33283\">Calculus Made Easy by Silvanus P.  Thompson (170)</a></li>\n<li><a href=\"/ebooks/1727\">The Odyssey by Homer (169)</a></li>\n<li><a href=\"/ebooks/4363\">Beyond Good and Evil by Friedrich Wilhelm Nietzsche (166)</a></li>\n<li><a href=\"/ebooks/766\">David Copperfield by Charles Dickens (165)</a></li>\n<li><a href=\"/ebooks/3600\">Essays of Michel de Montaigne — Complete by Michel de Montaigne (165)</a></li>\n<li><a href=\"/ebooks/42108\">The Slang Dictionary: Etymological, Historical and Andecdotal by John Camden Hotten (162)</a></li>\n<li><a href=\"/ebooks/829\">Gulliver's Travels into Several Remote Nations of the World by Jonathan Swift (161)</a></li>\n<li><a href=\"/ebooks/902\">The Happy Prince, and Other Tales by Oscar Wilde (160)</a></li>\n<li><a href=\"/ebooks/63256\">The American Diary of a Japanese Girl by Yoné Noguchi (159)</a></li>\n<li><a href=\"/ebooks/16328\">Beowulf: An Anglo-Saxon Epic Poem (159)</a></li>\n<li><a href=\"/ebooks/2852\">The Hound of the Baskervilles by Arthur Conan Doyle (154)</a></li>\n<li><a href=\"/ebooks/1399\">Anna Karenina by graf Leo Tolstoy (151)</a></li>\n<li><a href=\"/ebooks/65849\">The Lost King of Oz by Ruth Plumly Thompson (149)</a></li>\n<li><a href=\"/ebooks/308\">Three Men in a Boat (To Say Nothing of the Dog) by Jerome K.  Jerome (148)</a></li>\n<li><a href=\"/ebooks/10\">The King James Version of the Bible (147)</a></li>\n<li><a href=\"/ebooks/25717\">The History of the Decline and Fall of the Roman Empire by Edward Gibbon (146)</a></li>\n<li><a href=\"/ebooks/132\">The Art of War by active 6th century B.C. Sunzi (144)</a></li>\n<li><a href=\"/ebooks/8800\">An Index of The Divine Comedy by Dante by Dante Alighieri (143)</a></li>\n<li><a href=\"/ebooks/2814\">Dubliners by James Joyce (141)</a></li>\n<li><a href=\"/ebooks/730\">Oliver Twist by Charles Dickens (138)</a></li>\n<li><a href=\"/ebooks/103\">Around the World in Eighty Days by Jules Verne (136)</a></li>\n<li><a href=\"/ebooks/113\">The Secret Garden by Frances Hodgson Burnett (136)</a></li>\n<li><a href=\"/ebooks/35\">The Time Machine by H. G.  Wells (133)</a></li>\n<li><a href=\"/ebooks/2148\">The Works of Edgar Allan Poe — Volume 2 by Edgar Allan Poe (133)</a></li>\n<li><a href=\"/ebooks/105\">Persuasion by Jane Austen (132)</a></li>\n<li><a href=\"/ebooks/32449\">Japanese Girls and Women by Alice Mabel Bacon (130)</a></li>\n<li><a href=\"/ebooks/236\">The Jungle Book by Rudyard Kipling (129)</a></li>\n<li><a href=\"/ebooks/2680\">Meditations by Emperor of Rome Marcus Aurelius (129)</a></li>\n<li><a href=\"/ebooks/408\">The Souls of Black Folk by W. E. B.  Du Bois (129)</a></li>\n<li><a href=\"/ebooks/43453\">A Pickle for the Knowing Ones by Timothy Dexter (128)</a></li>\n<li><a href=\"/ebooks/20203\">Autobiography of Benjamin Franklin by Benjamin Franklin (128)</a></li>\n<li><a href=\"/ebooks/863\">The Mysterious Affair at Styles by Agatha Christie (128)</a></li>\n<li><a href=\"/ebooks/161\">Sense and Sensibility by Jane Austen (127)</a></li>\n<li><a href=\"/ebooks/2500\">Siddhartha by Hermann Hesse (123)</a></li>\n<li><a href=\"/ebooks/61\">The Communist Manifesto by Friedrich Engels and Karl Marx (122)</a></li>\n<li><a href=\"/ebooks/3090\">Complete Original Short Stories of Guy De Maupassant by Guy de Maupassant (121)</a></li>\n</ol>\n<div class=\"padded\">\n<ul>\n<li><a href=\"#books-last1\">Top 100 EBooks yesterday</a></li>\n<li><a href=\"#authors-last1\">Top 100 Authors yesterday</a></li>\n<li><a href=\"#books-last7\">Top 100 EBooks last 7 days</a></li>\n<li><a href=\"#authors-last7\">Top 100 Authors last 7 days</a></li>\n<li><a href=\"#books-last30\">Top 100 EBooks last 30 days</a></li>\n<li><a href=\"#authors-last30\">Top 100 Authors last 30 days</a></li>\n</ul>\n</div>\n<h2 id=\"authors-last1\">Top 100 Authors yesterday</h2>\n<ol>\n<li><a href=\"/browse/authors/a#a68\">Austen, Jane (2346)</a></li>\n<li><a href=\"/browse/authors/d#a37\">Dickens, Charles (2075)</a></li>\n<li><a href=\"/browse/authors/d#a69\">Doyle, Arthur Conan (1672)</a></li>\n<li><a href=\"/browse/authors/t#a53\">Twain, Mark (1300)</a></li>\n<li><a href=\"/browse/authors/c#a7\">Carroll, Lewis (1174)</a></li>\n<li><a href=\"/browse/authors/w#a111\">Wilde, Oscar (1145)</a></li>\n<li><a href=\"/browse/authors/w#a5765\">Wells-Barnett, Ida B. (1066)</a></li>\n<li><a href=\"/browse/authors/s#a35\">Stevenson, Robert Louis (971)</a></li>\n<li><a href=\"/browse/authors/t#a136\">Tolstoy, Leo, graf (958)</a></li>\n<li><a href=\"/browse/authors/d#a314\">Dostoyevsky, Fyodor (896)</a></li>\n<li><a href=\"/browse/authors/s#a65\">Shakespeare, William (873)</a></li>\n<li><a href=\"/browse/authors/w#a30\">Wells, H. G. (Herbert George) (769)</a></li>\n<li><a href=\"/browse/authors/s#a61\">Shelley, Mary Wollstonecraft (752)</a></li>\n<li><a href=\"/browse/authors/n#a779\">Nietzsche, Friedrich Wilhelm (728)</a></li>\n<li><a href=\"/browse/authors/m#a9\">Melville, Herman (703)</a></li>\n<li><a href=\"/browse/authors/g#a2858\">Garnett, Constance (697)</a></li>\n<li><a href=\"/browse/authors/h#a705\">Homer (691)</a></li>\n<li><a href=\"/browse/authors/d#a492\">Dumas, Alexandre (623)</a></li>\n<li><a href=\"/browse/authors/k#a132\">Kipling, Rudyard (622)</a></li>\n<li><a href=\"/browse/authors/p#a481\">Poe, Edgar Allan (617)</a></li>\n<li><a href=\"/browse/authors/j#a1039\">Joyce, James (602)</a></li>\n<li><a href=\"/browse/authors/p#a93\">Plato (594)</a></li>\n<li><a href=\"/browse/authors/v#a60\">Verne, Jules (587)</a></li>\n<li><a href=\"/browse/authors/j#a94\">Jowett, Benjamin (574)</a></li>\n<li><a href=\"/browse/authors/d#a507\">Dante Alighieri (545)</a></li>\n<li><a href=\"/browse/authors/d#a1896\">Doré, Gustave (544)</a></li>\n<li><a href=\"/browse/authors/b#a42\">Baum, L. Frank (Lyman Frank) (543)</a></li>\n<li><a href=\"/browse/authors/l#a79\">Lang, Andrew (526)</a></li>\n<li><a href=\"/browse/authors/l#a1358\">Leblanc, Maurice (524)</a></li>\n<li><a href=\"/browse/authors/m#a36\">Montgomery, L. M. (Lucy Maud) (514)</a></li>\n<li><a href=\"/browse/authors/r#a355\">Russell, Bertrand (513)</a></li>\n<li><a href=\"/browse/authors/m#a4589\">Maude, Aylmer (497)</a></li>\n<li><a href=\"/browse/authors/s#a326\">Swift, Jonathan (496)</a></li>\n<li><a href=\"/browse/authors/m#a500\">Maude, Louise (493)</a></li>\n<li><a href=\"/browse/authors/c#a125\">Conrad, Joseph (491)</a></li>\n<li><a href=\"/browse/authors/c#a451\">Christie, Agatha (490)</a></li>\n<li><a href=\"/browse/authors/h#a85\">Hugo, Victor (456)</a></li>\n<li><a href=\"/browse/authors/s#a190\">Stoker, Bram (447)</a></li>\n<li><a href=\"/browse/authors/t#a54\">Thoreau, Henry David (443)</a></li>\n<li><a href=\"/browse/authors/f#a420\">Fitzgerald, F. Scott (Francis Scott) (441)</a></li>\n<li><a href=\"/browse/authors/l#a120\">London, Jack (435)</a></li>\n<li><a href=\"/browse/authors/a#a102\">Alcott, Louisa May (434)</a></li>\n<li><a href=\"/browse/authors/w#a1961\">Widger, David (432)</a></li>\n<li><a href=\"/browse/authors/j#a113\">James, Henry (426)</a></li>\n<li><a href=\"/browse/authors/h#a28\">Hawthorne, Nathaniel (422)</a></li>\n<li><a href=\"/browse/authors/i#a861\">Ibsen, Henrik (421)</a></li>\n<li><a href=\"/browse/authors/r#a2183\">Rizal, José (418)</a></li>\n<li><a href=\"/browse/authors/e#a53528\">Edwards, Linden F. (416)</a></li>\n<li><a href=\"/browse/authors/b#a898\">Burton, Richard Francis, Sir (415)</a></li>\n<li><a href=\"/browse/authors/g#a51042\">Garrett, Garet (413)</a></li>\n<li><a href=\"/browse/authors/c#a505\">Cervantes Saavedra, Miguel de (409)</a></li>\n<li><a href=\"/browse/authors/g#a27\">Gilman, Charlotte Perkins (395)</a></li>\n<li><a href=\"/browse/authors/c#a708\">Chekhov, Anton Pavlovich (395)</a></li>\n<li><a href=\"/browse/authors/b#a408\">Brontë, Charlotte (394)</a></li>\n<li><a href=\"/browse/authors/k#a1735\">Kafka, Franz (393)</a></li>\n<li><a href=\"/browse/authors/m#a563\">Machiavelli, Niccolò (387)</a></li>\n<li><a href=\"/browse/authors/g#a972\">Grimm, Wilhelm (380)</a></li>\n<li><a href=\"/browse/authors/g#a971\">Grimm, Jacob (380)</a></li>\n<li><a href=\"/browse/authors/p#a907\">Pope, Alexander (374)</a></li>\n<li><a href=\"/browse/authors/b#a10\">Barrie, J. M. (James Matthew) (370)</a></li>\n<li><a href=\"/browse/authors/m#a1355\">Morley, Henry (370)</a></li>\n<li><a href=\"/browse/authors/c#a80\">Chesterton, G. K. (Gilbert Keith) (369)</a></li>\n<li><a href=\"/browse/authors/s#a467\">Shaw, Bernard (352)</a></li>\n<li><a href=\"/browse/authors/m#a564\">Marriott, W. K. (William Kenaz) (352)</a></li>\n<li><a href=\"/browse/authors/w#a1736\">Wyllie, David (Translator) (350)</a></li>\n<li><a href=\"/browse/authors/w#a783\">Wodehouse, P. G. (Pelham Grenville) (347)</a></li>\n<li><a href=\"/browse/authors/r#a729\">Roosevelt, Theodore (338)</a></li>\n<li><a href=\"/browse/authors/d#a204\">Defoe, Daniel (330)</a></li>\n<li><a href=\"/browse/authors/g#a586\">Goethe, Johann Wolfgang von (329)</a></li>\n<li><a href=\"/browse/authors/t#a9854\">Townsend, F. H. (Frederick Henry) (328)</a></li>\n<li><a href=\"/browse/authors/b#a73\">Burnett, Frances Hodgson (325)</a></li>\n<li><a href=\"/browse/authors/s#a59\">Scott, Walter (325)</a></li>\n<li><a href=\"/browse/authors/c#a3622\">Cary, Henry Francis (317)</a></li>\n<li><a href=\"/browse/authors/b#a717\">Burgess, Thornton W. (Thornton Waldo) (313)</a></li>\n<li><a href=\"/browse/authors/b#a748\">Butler, Samuel (308)</a></li>\n<li><a href=\"/browse/authors/b#a251\">Balzac, Honoré de (308)</a></li>\n<li><a href=\"/browse/authors/o#a506\">Ormsby, John (306)</a></li>\n<li><a href=\"/browse/authors/b#a53526\">Braght, Thielem J. van (301)</a></li>\n<li><a href=\"/browse/authors/s#a53527\">Sohm, Joseph F. (301)</a></li>\n<li><a href=\"/browse/authors/m#a306\">Maupassant, Guy de (296)</a></li>\n<li><a href=\"/browse/authors/l#a9473\">Leech, John (295)</a></li>\n<li><a href=\"/browse/authors/h#a33608\">Hapgood, Isabel Florence (285)</a></li>\n<li><a href=\"/browse/authors/b#a41777\">Bourke, John Gregory (285)</a></li>\n<li><a href=\"/browse/authors/o#a36795\">Ogden, C. K. (Charles Kay) (284)</a></li>\n<li><a href=\"/browse/authors/h#a23\">Hardy, Thomas (284)</a></li>\n<li><a href=\"/browse/authors/w#a1861\">Wittgenstein, Ludwig (284)</a></li>\n<li><a href=\"/browse/authors/g#a850\">Galsworthy, John (281)</a></li>\n<li><a href=\"/browse/authors/g#a1813\">Gibran, Kahlil (276)</a></li>\n<li><a href=\"/browse/authors/b#a25301\">Buckley, Theodore Alois (275)</a></li>\n<li><a href=\"/browse/authors/p#a292\">Potter, Beatrix (271)</a></li>\n<li><a href=\"/browse/authors/n#a26521\">Neill, John R. (John Rea) (270)</a></li>\n<li><a href=\"/browse/authors/v#a5593\">Vatsyayana (267)</a></li>\n<li><a href=\"/browse/authors/b#a32931\">Bhide, Shivaram Parashuram (262)</a></li>\n<li><a href=\"/browse/authors/i#a32930\">Indrajit, Bhagavanlal (262)</a></li>\n<li><a href=\"/browse/authors/g#a25267\">Garrett, Randall (261)</a></li>\n<li><a href=\"/browse/authors/i#a34\">Irving, Washington (258)</a></li>\n<li><a href=\"/browse/authors/j#a1050\">Josephus, Flavius (257)</a></li>\n<li><a href=\"/browse/authors/w#a1051\">Whiston, William (249)</a></li>\n<li><a href=\"/browse/authors/e#a90\">Eliot, George (245)</a></li>\n<li><a href=\"/browse/authors/n#a407\">Nesbit, E. (Edith) (244)</a></li>\n</ol>\n<div class=\"padded\">\n<ul>\n<li><a href=\"#books-last1\">Top 100 EBooks yesterday</a></li>\n<li><a href=\"#authors-last1\">Top 100 Authors yesterday</a></li>\n<li><a href=\"#books-last7\">Top 100 EBooks last 7 days</a></li>\n<li><a href=\"#authors-last7\">Top 100 Authors last 7 days</a></li>\n<li><a href=\"#books-last30\">Top 100 EBooks last 30 days</a></li>\n<li><a href=\"#authors-last30\">Top 100 Authors last 30 days</a></li>\n</ul>\n</div>\n<h2 id=\"books-last7\">Top 100 EBooks last 7 days</h2>\n<ol>\n<li><a href=\"/ebooks/1342\">Pride and Prejudice by Jane Austen (10778)</a></li>\n<li><a href=\"/ebooks/11\">Alice's Adventures in Wonderland by Lewis Carroll (5789)</a></li>\n<li><a href=\"/ebooks/1661\">The Adventures of Sherlock Holmes by Arthur Conan Doyle (4754)</a></li>\n<li><a href=\"/ebooks/84\">Frankenstein; Or, The Modern Prometheus by Mary Wollstonecraft Shelley (4672)</a></li>\n<li><a href=\"/ebooks/2701\">Moby Dick; Or, The Whale by Herman Melville (4002)</a></li>\n<li><a href=\"/ebooks/98\">A Tale of Two Cities by Charles Dickens (3769)</a></li>\n<li><a href=\"/ebooks/174\">The Picture of Dorian Gray by Oscar Wilde (3400)</a></li>\n<li><a href=\"/ebooks/26184\">Simple Sabotage Field Manual by United States. Office of Strategic Services (3138)</a></li>\n<li><a href=\"/ebooks/4300\">Ulysses by James Joyce (2747)</a></li>\n<li><a href=\"/ebooks/64317\">The Great Gatsby by F. Scott  Fitzgerald (2744)</a></li>\n<li><a href=\"/ebooks/1952\">The Yellow Wallpaper by Charlotte Perkins Gilman (2721)</a></li>\n<li><a href=\"/ebooks/345\">Dracula by Bram Stoker (2719)</a></li>\n<li><a href=\"/ebooks/43\">The Strange Case of Dr. Jekyll and Mr. Hyde by Robert Louis Stevenson (2703)</a></li>\n<li><a href=\"/ebooks/2600\">War and Peace by graf Leo Tolstoy (2634)</a></li>\n<li><a href=\"/ebooks/1260\">Jane Eyre: An Autobiography by Charlotte Brontë (2496)</a></li>\n<li><a href=\"/ebooks/2591\">Grimms' Fairy Tales by Jacob Grimm and Wilhelm Grimm (2491)</a></li>\n<li><a href=\"/ebooks/1232\">The Prince by Niccolò Machiavelli (2462)</a></li>\n<li><a href=\"/ebooks/5200\">Metamorphosis by Franz Kafka (2413)</a></li>\n<li><a href=\"/ebooks/46\">A Christmas Carol in Prose; Being a Ghost Story of Christmas by Charles Dickens (2387)</a></li>\n<li><a href=\"/ebooks/2542\">A Doll's House : a play by Henrik Ibsen (2330)</a></li>\n<li><a href=\"/ebooks/2554\">Crime and Punishment by Fyodor Dostoyevsky (2216)</a></li>\n<li><a href=\"/ebooks/6133\">The Extraordinary Adventures of Arsene Lupin, Gentleman-Burglar by Maurice Leblanc (2140)</a></li>\n<li><a href=\"/ebooks/74\">The Adventures of Tom Sawyer, Complete by Mark Twain (2093)</a></li>\n<li><a href=\"/ebooks/1400\">Great Expectations by Charles Dickens (2033)</a></li>\n<li><a href=\"/ebooks/58585\">The Prophet by Kahlil Gibran (1979)</a></li>\n<li><a href=\"/ebooks/14975\">Southern Horrors: Lynch Law in All Its Phases by Ida B. Wells-Barnett (1976)</a></li>\n<li><a href=\"/ebooks/16\">Peter Pan by J. M.  Barrie (1943)</a></li>\n<li><a href=\"/ebooks/205\">Walden, and On The Duty Of Civil Disobedience by Henry David Thoreau (1917)</a></li>\n<li><a href=\"/ebooks/1184\">The Count of Monte Cristo, Illustrated by Alexandre Dumas (1869)</a></li>\n<li><a href=\"/ebooks/45\">Anne of Green Gables by L. M.  Montgomery (1799)</a></li>\n<li><a href=\"/ebooks/5740\">Tractatus Logico-Philosophicus by Ludwig Wittgenstein (1794)</a></li>\n<li><a href=\"/ebooks/55\">The Wonderful Wizard of Oz by L. Frank  Baum (1794)</a></li>\n<li><a href=\"/ebooks/996\">Don Quixote by Miguel de Cervantes Saavedra (1789)</a></li>\n<li><a href=\"/ebooks/844\">The Importance of Being Earnest: A Trivial Comedy for Serious People by Oscar Wilde (1788)</a></li>\n<li><a href=\"/ebooks/27827\">The Kama Sutra of Vatsyayana by Vatsyayana (1756)</a></li>\n<li><a href=\"/ebooks/6130\">The Iliad by Homer (1756)</a></li>\n<li><a href=\"/ebooks/120\">Treasure Island by Robert Louis Stevenson (1746)</a></li>\n<li><a href=\"/ebooks/219\">Heart of Darkness by Joseph Conrad (1657)</a></li>\n<li><a href=\"/ebooks/5739\">Korean—English Dictionary by Leon Kuperman (1610)</a></li>\n<li><a href=\"/ebooks/514\">Little Women by Louisa May Alcott (1592)</a></li>\n<li><a href=\"/ebooks/244\">A Study in Scarlet by Arthur Conan Doyle (1590)</a></li>\n<li><a href=\"/ebooks/76\">Adventures of Huckleberry Finn by Mark Twain (1585)</a></li>\n<li><a href=\"/ebooks/1497\">The Republic by Plato (1566)</a></li>\n<li><a href=\"/ebooks/1080\">A Modest Proposal by Jonathan Swift (1556)</a></li>\n<li><a href=\"/ebooks/30254\">The Romance of Lust: A classic Victorian erotic novel by Anonymous (1543)</a></li>\n<li><a href=\"/ebooks/158\">Emma by Jane Austen (1467)</a></li>\n<li><a href=\"/ebooks/65836\">Drawings in pen &amp; pencil from Dürer's day to ours, with notes and appreciations by Sheringham (1432)</a></li>\n<li><a href=\"/ebooks/902\">The Happy Prince, and Other Tales by Oscar Wilde (1378)</a></li>\n<li><a href=\"/ebooks/28054\">The Brothers Karamazov by Fyodor Dostoyevsky (1353)</a></li>\n<li><a href=\"/ebooks/768\">Wuthering Heights by Emily Brontë (1328)</a></li>\n<li><a href=\"/ebooks/1998\">Thus Spake Zarathustra: A Book for All and None by Friedrich Wilhelm Nietzsche (1326)</a></li>\n<li><a href=\"/ebooks/36\">The War of the Worlds by H. G.  Wells (1319)</a></li>\n<li><a href=\"/ebooks/135\">Les Misérables by Victor Hugo (1319)</a></li>\n<li><a href=\"/ebooks/25344\">The Scarlet Letter by Nathaniel Hawthorne (1316)</a></li>\n<li><a href=\"/ebooks/2852\">The Hound of the Baskervilles by Arthur Conan Doyle (1302)</a></li>\n<li><a href=\"/ebooks/203\">Uncle Tom's Cabin by Harriet Beecher Stowe (1289)</a></li>\n<li><a href=\"/ebooks/236\">The Jungle Book by Rudyard Kipling (1278)</a></li>\n<li><a href=\"/ebooks/64392\">Institutes of the Christian Religion (Vol. 2 of 2) by Jean Calvin (1241)</a></li>\n<li><a href=\"/ebooks/42108\">The Slang Dictionary: Etymological, Historical and Andecdotal by John Camden Hotten (1213)</a></li>\n<li><a href=\"/ebooks/829\">Gulliver's Travels into Several Remote Nations of the World by Jonathan Swift (1210)</a></li>\n<li><a href=\"/ebooks/1727\">The Odyssey by Homer (1203)</a></li>\n<li><a href=\"/ebooks/863\">The Mysterious Affair at Styles by Agatha Christie (1197)</a></li>\n<li><a href=\"/ebooks/766\">David Copperfield by Charles Dickens (1194)</a></li>\n<li><a href=\"/ebooks/3600\">Essays of Michel de Montaigne — Complete by Michel de Montaigne (1180)</a></li>\n<li><a href=\"/ebooks/65849\">The Lost King of Oz by Ruth Plumly Thompson (1172)</a></li>\n<li><a href=\"/ebooks/65825\">Marching Sands by Harold Lamb (1167)</a></li>\n<li><a href=\"/ebooks/1399\">Anna Karenina by graf Leo Tolstoy (1161)</a></li>\n<li><a href=\"/ebooks/4980\">Old Granny Fox by Thornton W.  Burgess (1155)</a></li>\n<li><a href=\"/ebooks/63256\">The American Diary of a Japanese Girl by Yoné Noguchi (1147)</a></li>\n<li><a href=\"/ebooks/35\">The Time Machine by H. G.  Wells (1142)</a></li>\n<li><a href=\"/ebooks/16328\">Beowulf: An Anglo-Saxon Epic Poem (1134)</a></li>\n<li><a href=\"/ebooks/4363\">Beyond Good and Evil by Friedrich Wilhelm Nietzsche (1132)</a></li>\n<li><a href=\"/ebooks/730\">Oliver Twist by Charles Dickens (1123)</a></li>\n<li><a href=\"/ebooks/113\">The Secret Garden by Frances Hodgson Burnett (1107)</a></li>\n<li><a href=\"/ebooks/160\">The Awakening, and Selected Short Stories by Kate Chopin (1061)</a></li>\n<li><a href=\"/ebooks/65839\">The Stranger by Gordon R. Dickson (1049)</a></li>\n<li><a href=\"/ebooks/408\">The Souls of Black Folk by W. E. B.  Du Bois (1049)</a></li>\n<li><a href=\"/ebooks/2148\">The Works of Edgar Allan Poe — Volume 2 by Edgar Allan Poe (1048)</a></li>\n<li><a href=\"/ebooks/33283\">Calculus Made Easy by Silvanus P.  Thompson (1044)</a></li>\n<li><a href=\"/ebooks/308\">Three Men in a Boat (To Say Nothing of the Dog) by Jerome K.  Jerome (1037)</a></li>\n<li><a href=\"/ebooks/8800\">An Index of The Divine Comedy by Dante by Dante Alighieri (1001)</a></li>\n<li><a href=\"/ebooks/2814\">Dubliners by James Joyce (1000)</a></li>\n<li><a href=\"/ebooks/100\">The Complete Works of William Shakespeare by William Shakespeare (993)</a></li>\n<li><a href=\"/ebooks/103\">Around the World in Eighty Days by Jules Verne (993)</a></li>\n<li><a href=\"/ebooks/65842\">Blue and Purple by Francis Neilson (980)</a></li>\n<li><a href=\"/ebooks/2680\">Meditations by Emperor of Rome Marcus Aurelius (980)</a></li>\n<li><a href=\"/ebooks/105\">Persuasion by Jane Austen (976)</a></li>\n<li><a href=\"/ebooks/3090\">Complete Original Short Stories of Guy De Maupassant by Guy de Maupassant (958)</a></li>\n<li><a href=\"/ebooks/215\">The Call of the Wild by Jack London (957)</a></li>\n<li><a href=\"/ebooks/35899\">The Philippines a Century Hence by José Rizal (956)</a></li>\n<li><a href=\"/ebooks/43453\">A Pickle for the Knowing Ones by Timothy Dexter (945)</a></li>\n<li><a href=\"/ebooks/132\">The Art of War by active 6th century B.C. Sunzi (944)</a></li>\n<li><a href=\"/ebooks/1250\">Anthem by Ayn Rand (936)</a></li>\n<li><a href=\"/ebooks/61\">The Communist Manifesto by Friedrich Engels and Karl Marx (926)</a></li>\n<li><a href=\"/ebooks/161\">Sense and Sensibility by Jane Austen (911)</a></li>\n<li><a href=\"/ebooks/65850\">The House of Spies by Warwick Deeping (911)</a></li>\n<li><a href=\"/ebooks/25717\">The History of the Decline and Fall of the Roman Empire by Edward Gibbon (896)</a></li>\n<li><a href=\"/ebooks/2500\">Siddhartha by Hermann Hesse (872)</a></li>\n<li><a href=\"/ebooks/23\">Narrative of the Life of Frederick Douglass, an American Slave by Frederick Douglass (869)</a></li>\n<li><a href=\"/ebooks/10\">The King James Version of the Bible (860)</a></li>\n</ol>\n<div class=\"padded\">\n<ul>\n<li><a href=\"#books-last1\">Top 100 EBooks yesterday</a></li>\n<li><a href=\"#authors-last1\">Top 100 Authors yesterday</a></li>\n<li><a href=\"#books-last7\">Top 100 EBooks last 7 days</a></li>\n<li><a href=\"#authors-last7\">Top 100 Authors last 7 days</a></li>\n<li><a href=\"#books-last30\">Top 100 EBooks last 30 days</a></li>\n<li><a href=\"#authors-last30\">Top 100 Authors last 30 days</a></li>\n</ul>\n</div>\n<h2 id=\"authors-last7\">Top 100 Authors last 7 days</h2>\n<ol>\n<li><a href=\"/browse/authors/a#a68\">Austen, Jane (16853)</a></li>\n<li><a href=\"/browse/authors/d#a37\">Dickens, Charles (16620)</a></li>\n<li><a href=\"/browse/authors/d#a69\">Doyle, Arthur Conan (12465)</a></li>\n<li><a href=\"/browse/authors/t#a53\">Twain, Mark (10092)</a></li>\n<li><a href=\"/browse/authors/w#a111\">Wilde, Oscar (8807)</a></li>\n<li><a href=\"/browse/authors/c#a7\">Carroll, Lewis (8633)</a></li>\n<li><a href=\"/browse/authors/s#a35\">Stevenson, Robert Louis (7274)</a></li>\n<li><a href=\"/browse/authors/s#a65\">Shakespeare, William (6969)</a></li>\n<li><a href=\"/browse/authors/d#a314\">Dostoyevsky, Fyodor (6893)</a></li>\n<li><a href=\"/browse/authors/t#a136\">Tolstoy, Leo, graf (6208)</a></li>\n<li><a href=\"/browse/authors/w#a30\">Wells, H. G. (Herbert George) (5805)</a></li>\n<li><a href=\"/browse/authors/s#a61\">Shelley, Mary Wollstonecraft (5592)</a></li>\n<li><a href=\"/browse/authors/n#a779\">Nietzsche, Friedrich Wilhelm (5279)</a></li>\n<li><a href=\"/browse/authors/g#a2858\">Garnett, Constance (5215)</a></li>\n<li><a href=\"/browse/authors/m#a9\">Melville, Herman (5201)</a></li>\n<li><a href=\"/browse/authors/h#a705\">Homer (4650)</a></li>\n<li><a href=\"/browse/authors/d#a492\">Dumas, Alexandre (4454)</a></li>\n<li><a href=\"/browse/authors/j#a1039\">Joyce, James (4426)</a></li>\n<li><a href=\"/browse/authors/b#a42\">Baum, L. Frank (Lyman Frank) (4403)</a></li>\n<li><a href=\"/browse/authors/v#a60\">Verne, Jules (4341)</a></li>\n<li><a href=\"/browse/authors/k#a132\">Kipling, Rudyard (4283)</a></li>\n<li><a href=\"/browse/authors/p#a481\">Poe, Edgar Allan (4281)</a></li>\n<li><a href=\"/browse/authors/l#a1358\">Leblanc, Maurice (4207)</a></li>\n<li><a href=\"/browse/authors/p#a93\">Plato (4180)</a></li>\n<li><a href=\"/browse/authors/m#a36\">Montgomery, L. M. (Lucy Maud) (4108)</a></li>\n<li><a href=\"/browse/authors/j#a94\">Jowett, Benjamin (3966)</a></li>\n<li><a href=\"/browse/authors/d#a1896\">Doré, Gustave (3879)</a></li>\n<li><a href=\"/browse/authors/r#a2183\">Rizal, José (3799)</a></li>\n<li><a href=\"/browse/authors/d#a507\">Dante Alighieri (3778)</a></li>\n<li><a href=\"/browse/authors/l#a120\">London, Jack (3750)</a></li>\n<li><a href=\"/browse/authors/c#a451\">Christie, Agatha (3734)</a></li>\n<li><a href=\"/browse/authors/c#a125\">Conrad, Joseph (3527)</a></li>\n<li><a href=\"/browse/authors/l#a79\">Lang, Andrew (3502)</a></li>\n<li><a href=\"/browse/authors/f#a420\">Fitzgerald, F. Scott (Francis Scott) (3457)</a></li>\n<li><a href=\"/browse/authors/s#a326\">Swift, Jonathan (3448)</a></li>\n<li><a href=\"/browse/authors/c#a80\">Chesterton, G. K. (Gilbert Keith) (3408)</a></li>\n<li><a href=\"/browse/authors/s#a190\">Stoker, Bram (3388)</a></li>\n<li><a href=\"/browse/authors/i#a861\">Ibsen, Henrik (3361)</a></li>\n<li><a href=\"/browse/authors/g#a972\">Grimm, Wilhelm (3357)</a></li>\n<li><a href=\"/browse/authors/g#a971\">Grimm, Jacob (3357)</a></li>\n<li><a href=\"/browse/authors/r#a355\">Russell, Bertrand (3313)</a></li>\n<li><a href=\"/browse/authors/k#a1735\">Kafka, Franz (3299)</a></li>\n<li><a href=\"/browse/authors/m#a4589\">Maude, Aylmer (3281)</a></li>\n<li><a href=\"/browse/authors/m#a500\">Maude, Louise (3263)</a></li>\n<li><a href=\"/browse/authors/a#a102\">Alcott, Louisa May (3257)</a></li>\n<li><a href=\"/browse/authors/h#a28\">Hawthorne, Nathaniel (3185)</a></li>\n<li><a href=\"/browse/authors/u#a31855\">United States. Office of Strategic Services (3138)</a></li>\n<li><a href=\"/browse/authors/w#a1961\">Widger, David (3109)</a></li>\n<li><a href=\"/browse/authors/j#a113\">James, Henry (3052)</a></li>\n<li><a href=\"/browse/authors/g#a27\">Gilman, Charlotte Perkins (3035)</a></li>\n<li><a href=\"/browse/authors/h#a85\">Hugo, Victor (3016)</a></li>\n<li><a href=\"/browse/authors/b#a408\">Brontë, Charlotte (2987)</a></li>\n<li><a href=\"/browse/authors/t#a54\">Thoreau, Henry David (2950)</a></li>\n<li><a href=\"/browse/authors/c#a505\">Cervantes Saavedra, Miguel de (2892)</a></li>\n<li><a href=\"/browse/authors/w#a1736\">Wyllie, David (Translator) (2887)</a></li>\n<li><a href=\"/browse/authors/b#a10\">Barrie, J. M. (James Matthew) (2882)</a></li>\n<li><a href=\"/browse/authors/b#a898\">Burton, Richard Francis, Sir (2858)</a></li>\n<li><a href=\"/browse/authors/c#a708\">Chekhov, Anton Pavlovich (2816)</a></li>\n<li><a href=\"/browse/authors/m#a563\">Machiavelli, Niccolò (2749)</a></li>\n<li><a href=\"/browse/authors/l#a9473\">Leech, John (2745)</a></li>\n<li><a href=\"/browse/authors/b#a73\">Burnett, Frances Hodgson (2711)</a></li>\n<li><a href=\"/browse/authors/s#a467\">Shaw, Bernard (2696)</a></li>\n<li><a href=\"/browse/authors/p#a907\">Pope, Alexander (2634)</a></li>\n<li><a href=\"/browse/authors/t#a9854\">Townsend, F. H. (Frederick Henry) (2614)</a></li>\n<li><a href=\"/browse/authors/m#a1355\">Morley, Henry (2566)</a></li>\n<li><a href=\"/browse/authors/b#a251\">Balzac, Honoré de (2564)</a></li>\n<li><a href=\"/browse/authors/d#a204\">Defoe, Daniel (2521)</a></li>\n<li><a href=\"/browse/authors/m#a564\">Marriott, W. K. (William Kenaz) (2478)</a></li>\n<li><a href=\"/browse/authors/s#a59\">Scott, Walter (2364)</a></li>\n<li><a href=\"/browse/authors/w#a5765\">Wells-Barnett, Ida B. (2356)</a></li>\n<li><a href=\"/browse/authors/g#a586\">Goethe, Johann Wolfgang von (2292)</a></li>\n<li><a href=\"/browse/authors/w#a783\">Wodehouse, P. G. (Pelham Grenville) (2285)</a></li>\n<li><a href=\"/browse/authors/n#a26521\">Neill, John R. (John Rea) (2256)</a></li>\n<li><a href=\"/browse/authors/c#a3622\">Cary, Henry Francis (2220)</a></li>\n<li><a href=\"/browse/authors/o#a506\">Ormsby, John (2207)</a></li>\n<li><a href=\"/browse/authors/m#a306\">Maupassant, Guy de (2165)</a></li>\n<li><a href=\"/browse/authors/p#a292\">Potter, Beatrix (2153)</a></li>\n<li><a href=\"/browse/authors/d#a4931\">Derbyshire, Charles E. (2146)</a></li>\n<li><a href=\"/browse/authors/b#a748\">Butler, Samuel (2115)</a></li>\n<li><a href=\"/browse/authors/h#a23\">Hardy, Thomas (2107)</a></li>\n<li><a href=\"/browse/authors/g#a1813\">Gibran, Kahlil (2051)</a></li>\n<li><a href=\"/browse/authors/b#a717\">Burgess, Thornton W. (Thornton Waldo) (2032)</a></li>\n<li><a href=\"/browse/authors/h#a33608\">Hapgood, Isabel Florence (1967)</a></li>\n<li><a href=\"/browse/authors/b#a48\">Burroughs, Edgar Rice (1908)</a></li>\n<li><a href=\"/browse/authors/b#a25301\">Buckley, Theodore Alois (1904)</a></li>\n<li><a href=\"/browse/authors/g#a850\">Galsworthy, John (1812)</a></li>\n<li><a href=\"/browse/authors/w#a104\">Wharton, Edith (1811)</a></li>\n<li><a href=\"/browse/authors/t#a942\">Tagore, Rabindranath (1806)</a></li>\n<li><a href=\"/browse/authors/o#a36795\">Ogden, C. K. (Charles Kay) (1801)</a></li>\n<li><a href=\"/browse/authors/w#a1861\">Wittgenstein, Ludwig (1794)</a></li>\n<li><a href=\"/browse/authors/b#a206\">Bierce, Ambrose (1778)</a></li>\n<li><a href=\"/browse/authors/v#a5593\">Vatsyayana (1776)</a></li>\n<li><a href=\"/browse/authors/s#a3648\">Schopenhauer, Arthur (1758)</a></li>\n<li><a href=\"/browse/authors/k#a37155\">Kemble, E. W. (Edward Windsor) (1758)</a></li>\n<li><a href=\"/browse/authors/i#a32930\">Indrajit, Bhagavanlal (1756)</a></li>\n<li><a href=\"/browse/authors/b#a32931\">Bhide, Shivaram Parashuram (1756)</a></li>\n<li><a href=\"/browse/authors/r#a44215\">Rhead, Louis (1753)</a></li>\n<li><a href=\"/browse/authors/e#a90\">Eliot, George (1753)</a></li>\n<li><a href=\"/browse/authors/i#a34\">Irving, Washington (1747)</a></li>\n<li><a href=\"/browse/authors/r#a6335\">Rackham, Arthur (1679)</a></li>\n</ol>\n<div class=\"padded\">\n<ul>\n<li><a href=\"#books-last1\">Top 100 EBooks yesterday</a></li>\n<li><a href=\"#authors-last1\">Top 100 Authors yesterday</a></li>\n<li><a href=\"#books-last7\">Top 100 EBooks last 7 days</a></li>\n<li><a href=\"#authors-last7\">Top 100 Authors last 7 days</a></li>\n<li><a href=\"#books-last30\">Top 100 EBooks last 30 days</a></li>\n<li><a href=\"#authors-last30\">Top 100 Authors last 30 days</a></li>\n</ul>\n</div>\n<h2 id=\"books-last30\">Top 100 EBooks last 30 days</h2>\n<ol>\n<li><a href=\"/ebooks/1342\">Pride and Prejudice by Jane Austen (44341)</a></li>\n<li><a href=\"/ebooks/11\">Alice's Adventures in Wonderland by Lewis Carroll (23015)</a></li>\n<li><a href=\"/ebooks/1661\">The Adventures of Sherlock Holmes by Arthur Conan Doyle (20078)</a></li>\n<li><a href=\"/ebooks/84\">Frankenstein; Or, The Modern Prometheus by Mary Wollstonecraft Shelley (19585)</a></li>\n<li><a href=\"/ebooks/2701\">Moby Dick; Or, The Whale by Herman Melville (17249)</a></li>\n<li><a href=\"/ebooks/98\">A Tale of Two Cities by Charles Dickens (15271)</a></li>\n<li><a href=\"/ebooks/174\">The Picture of Dorian Gray by Oscar Wilde (14052)</a></li>\n<li><a href=\"/ebooks/2600\">War and Peace by graf Leo Tolstoy (12968)</a></li>\n<li><a href=\"/ebooks/1952\">The Yellow Wallpaper by Charlotte Perkins Gilman (12186)</a></li>\n<li><a href=\"/ebooks/345\">Dracula by Bram Stoker (11673)</a></li>\n<li><a href=\"/ebooks/6133\">The Extraordinary Adventures of Arsene Lupin, Gentleman-Burglar by Maurice Leblanc (11558)</a></li>\n<li><a href=\"/ebooks/64317\">The Great Gatsby by F. Scott  Fitzgerald (11288)</a></li>\n<li><a href=\"/ebooks/4300\">Ulysses by James Joyce (10503)</a></li>\n<li><a href=\"/ebooks/5200\">Metamorphosis by Franz Kafka (10487)</a></li>\n<li><a href=\"/ebooks/25942\">The Translations of Beowulf: A Critical Bibliography by Chauncey Brewster Tinker (10452)</a></li>\n<li><a href=\"/ebooks/1260\">Jane Eyre: An Autobiography by Charlotte Brontë (10390)</a></li>\n<li><a href=\"/ebooks/43\">The Strange Case of Dr. Jekyll and Mr. Hyde by Robert Louis Stevenson (10282)</a></li>\n<li><a href=\"/ebooks/2591\">Grimms' Fairy Tales by Jacob Grimm and Wilhelm Grimm (10235)</a></li>\n<li><a href=\"/ebooks/46\">A Christmas Carol in Prose; Being a Ghost Story of Christmas by Charles Dickens (9984)</a></li>\n<li><a href=\"/ebooks/1232\">The Prince by Niccolò Machiavelli (9905)</a></li>\n<li><a href=\"/ebooks/2554\">Crime and Punishment by Fyodor Dostoyevsky (9508)</a></li>\n<li><a href=\"/ebooks/2542\">A Doll's House : a play by Henrik Ibsen (9419)</a></li>\n<li><a href=\"/ebooks/16\">Peter Pan by J. M.  Barrie (9008)</a></li>\n<li><a href=\"/ebooks/74\">The Adventures of Tom Sawyer, Complete by Mark Twain (8564)</a></li>\n<li><a href=\"/ebooks/1400\">Great Expectations by Charles Dickens (8526)</a></li>\n<li><a href=\"/ebooks/26184\">Simple Sabotage Field Manual by United States. Office of Strategic Services (8225)</a></li>\n<li><a href=\"/ebooks/205\">Walden, and On The Duty Of Civil Disobedience by Henry David Thoreau (7973)</a></li>\n<li><a href=\"/ebooks/844\">The Importance of Being Earnest: A Trivial Comedy for Serious People by Oscar Wilde (7908)</a></li>\n<li><a href=\"/ebooks/1184\">The Count of Monte Cristo, Illustrated by Alexandre Dumas (7859)</a></li>\n<li><a href=\"/ebooks/45\">Anne of Green Gables by L. M.  Montgomery (7789)</a></li>\n<li><a href=\"/ebooks/5740\">Tractatus Logico-Philosophicus by Ludwig Wittgenstein (7702)</a></li>\n<li><a href=\"/ebooks/58585\">The Prophet by Kahlil Gibran (7695)</a></li>\n<li><a href=\"/ebooks/55\">The Wonderful Wizard of Oz by L. Frank  Baum (7693)</a></li>\n<li><a href=\"/ebooks/6130\">The Iliad by Homer (7676)</a></li>\n<li><a href=\"/ebooks/996\">Don Quixote by Miguel de Cervantes Saavedra (7416)</a></li>\n<li><a href=\"/ebooks/902\">The Happy Prince, and Other Tales by Oscar Wilde (7294)</a></li>\n<li><a href=\"/ebooks/120\">Treasure Island by Robert Louis Stevenson (7209)</a></li>\n<li><a href=\"/ebooks/2852\">The Hound of the Baskervilles by Arthur Conan Doyle (7039)</a></li>\n<li><a href=\"/ebooks/158\">Emma by Jane Austen (7013)</a></li>\n<li><a href=\"/ebooks/514\">Little Women by Louisa May Alcott (7010)</a></li>\n<li><a href=\"/ebooks/27827\">The Kama Sutra of Vatsyayana by Vatsyayana (6853)</a></li>\n<li><a href=\"/ebooks/76\">Adventures of Huckleberry Finn by Mark Twain (6847)</a></li>\n<li><a href=\"/ebooks/5739\">Korean—English Dictionary by Leon Kuperman (6826)</a></li>\n<li><a href=\"/ebooks/219\">Heart of Darkness by Joseph Conrad (6651)</a></li>\n<li><a href=\"/ebooks/1497\">The Republic by Plato (6564)</a></li>\n<li><a href=\"/ebooks/244\">A Study in Scarlet by Arthur Conan Doyle (6551)</a></li>\n<li><a href=\"/ebooks/30254\">The Romance of Lust: A classic Victorian erotic novel by Anonymous (6252)</a></li>\n<li><a href=\"/ebooks/1080\">A Modest Proposal by Jonathan Swift (6238)</a></li>\n<li><a href=\"/ebooks/20228\">Noli Me Tangere by José Rizal (6153)</a></li>\n<li><a href=\"/ebooks/135\">Les Misérables by Victor Hugo (5962)</a></li>\n<li><a href=\"/ebooks/23042\">The Tempest by William Shakespeare (5844)</a></li>\n<li><a href=\"/ebooks/63256\">The American Diary of a Japanese Girl by Yoné Noguchi (5826)</a></li>\n<li><a href=\"/ebooks/768\">Wuthering Heights by Emily Brontë (5820)</a></li>\n<li><a href=\"/ebooks/236\">The Jungle Book by Rudyard Kipling (5730)</a></li>\n<li><a href=\"/ebooks/863\">The Mysterious Affair at Styles by Agatha Christie (5708)</a></li>\n<li><a href=\"/ebooks/203\">Uncle Tom's Cabin by Harriet Beecher Stowe (5702)</a></li>\n<li><a href=\"/ebooks/1998\">Thus Spake Zarathustra: A Book for All and None by Friedrich Wilhelm Nietzsche (5696)</a></li>\n<li><a href=\"/ebooks/36\">The War of the Worlds by H. G.  Wells (5456)</a></li>\n<li><a href=\"/ebooks/28054\">The Brothers Karamazov by Fyodor Dostoyevsky (5409)</a></li>\n<li><a href=\"/ebooks/1727\">The Odyssey by Homer (5372)</a></li>\n<li><a href=\"/ebooks/829\">Gulliver's Travels into Several Remote Nations of the World by Jonathan Swift (5285)</a></li>\n<li><a href=\"/ebooks/766\">David Copperfield by Charles Dickens (5192)</a></li>\n<li><a href=\"/ebooks/16328\">Beowulf: An Anglo-Saxon Epic Poem (5129)</a></li>\n<li><a href=\"/ebooks/1399\">Anna Karenina by graf Leo Tolstoy (5097)</a></li>\n<li><a href=\"/ebooks/730\">Oliver Twist by Charles Dickens (5083)</a></li>\n<li><a href=\"/ebooks/25344\">The Scarlet Letter by Nathaniel Hawthorne (5039)</a></li>\n<li><a href=\"/ebooks/3600\">Essays of Michel de Montaigne — Complete by Michel de Montaigne (4949)</a></li>\n<li><a href=\"/ebooks/2814\">Dubliners by James Joyce (4898)</a></li>\n<li><a href=\"/ebooks/4363\">Beyond Good and Evil by Friedrich Wilhelm Nietzsche (4799)</a></li>\n<li><a href=\"/ebooks/408\">The Souls of Black Folk by W. E. B.  Du Bois (4798)</a></li>\n<li><a href=\"/ebooks/113\">The Secret Garden by Frances Hodgson Burnett (4790)</a></li>\n<li><a href=\"/ebooks/43453\">A Pickle for the Knowing Ones by Timothy Dexter (4699)</a></li>\n<li><a href=\"/ebooks/42108\">The Slang Dictionary: Etymological, Historical and Andecdotal by John Camden Hotten (4668)</a></li>\n<li><a href=\"/ebooks/33283\">Calculus Made Easy by Silvanus P.  Thompson (4647)</a></li>\n<li><a href=\"/ebooks/160\">The Awakening, and Selected Short Stories by Kate Chopin (4599)</a></li>\n<li><a href=\"/ebooks/308\">Three Men in a Boat (To Say Nothing of the Dog) by Jerome K.  Jerome (4461)</a></li>\n<li><a href=\"/ebooks/35\">The Time Machine by H. G.  Wells (4360)</a></li>\n<li><a href=\"/ebooks/105\">Persuasion by Jane Austen (4357)</a></li>\n<li><a href=\"/ebooks/20203\">Autobiography of Benjamin Franklin by Benjamin Franklin (4357)</a></li>\n<li><a href=\"/ebooks/2680\">Meditations by Emperor of Rome Marcus Aurelius (4322)</a></li>\n<li><a href=\"/ebooks/100\">The Complete Works of William Shakespeare by William Shakespeare (4313)</a></li>\n<li><a href=\"/ebooks/132\">The Art of War by active 6th century B.C. Sunzi (4257)</a></li>\n<li><a href=\"/ebooks/147\">Common Sense by Thomas Paine (4233)</a></li>\n<li><a href=\"/ebooks/8800\">An Index of The Divine Comedy by Dante by Dante Alighieri (4129)</a></li>\n<li><a href=\"/ebooks/3090\">Complete Original Short Stories of Guy De Maupassant by Guy de Maupassant (4091)</a></li>\n<li><a href=\"/ebooks/2500\">Siddhartha by Hermann Hesse (4083)</a></li>\n<li><a href=\"/ebooks/2148\">The Works of Edgar Allan Poe — Volume 2 by Edgar Allan Poe (4044)</a></li>\n<li><a href=\"/ebooks/61\">The Communist Manifesto by Friedrich Engels and Karl Marx (4033)</a></li>\n<li><a href=\"/ebooks/2097\">The Sign of the Four by Arthur Conan Doyle (3996)</a></li>\n<li><a href=\"/ebooks/215\">The Call of the Wild by Jack London (3959)</a></li>\n<li><a href=\"/ebooks/4980\">Old Granny Fox by Thornton W.  Burgess (3952)</a></li>\n<li><a href=\"/ebooks/161\">Sense and Sensibility by Jane Austen (3918)</a></li>\n<li><a href=\"/ebooks/103\">Around the World in Eighty Days by Jules Verne (3882)</a></li>\n<li><a href=\"/ebooks/10\">The King James Version of the Bible (3870)</a></li>\n<li><a href=\"/ebooks/972\">The Devil's Dictionary by Ambrose Bierce (3867)</a></li>\n<li><a href=\"/ebooks/14975\">Southern Horrors: Lynch Law in All Its Phases by Ida B. Wells-Barnett (3763)</a></li>\n<li><a href=\"/ebooks/1250\">Anthem by Ayn Rand (3665)</a></li>\n<li><a href=\"/ebooks/25717\">The History of the Decline and Fall of the Roman Empire by Edward Gibbon (3641)</a></li>\n<li><a href=\"/ebooks/23\">Narrative of the Life of Frederick Douglass, an American Slave by Frederick Douglass (3633)</a></li>\n<li><a href=\"/ebooks/41\">The Legend of Sleepy Hollow by Washington Irving (3592)</a></li>\n</ol>\n<div class=\"padded\">\n<ul>\n<li><a href=\"#books-last1\">Top 100 EBooks yesterday</a></li>\n<li><a href=\"#authors-last1\">Top 100 Authors yesterday</a></li>\n<li><a href=\"#books-last7\">Top 100 EBooks last 7 days</a></li>\n<li><a href=\"#authors-last7\">Top 100 Authors last 7 days</a></li>\n<li><a href=\"#books-last30\">Top 100 EBooks last 30 days</a></li>\n<li><a href=\"#authors-last30\">Top 100 Authors last 30 days</a></li>\n</ul>\n</div>\n<h2 id=\"authors-last30\">Top 100 Authors last 30 days</h2>\n<ol>\n<li><a href=\"/browse/authors/d#a37\">Dickens, Charles (71827)</a></li>\n<li><a href=\"/browse/authors/a#a68\">Austen, Jane (71710)</a></li>\n<li><a href=\"/browse/authors/d#a69\">Doyle, Arthur Conan (56574)</a></li>\n<li><a href=\"/browse/authors/t#a53\">Twain, Mark (45203)</a></li>\n<li><a href=\"/browse/authors/w#a111\">Wilde, Oscar (39382)</a></li>\n<li><a href=\"/browse/authors/c#a7\">Carroll, Lewis (35848)</a></li>\n<li><a href=\"/browse/authors/s#a65\">Shakespeare, William (32717)</a></li>\n<li><a href=\"/browse/authors/d#a314\">Dostoyevsky, Fyodor (29597)</a></li>\n<li><a href=\"/browse/authors/t#a136\">Tolstoy, Leo, graf (28876)</a></li>\n<li><a href=\"/browse/authors/s#a35\">Stevenson, Robert Louis (28778)</a></li>\n<li><a href=\"/browse/authors/w#a30\">Wells, H. G. (Herbert George) (24697)</a></li>\n<li><a href=\"/browse/authors/s#a61\">Shelley, Mary Wollstonecraft (23787)</a></li>\n<li><a href=\"/browse/authors/n#a779\">Nietzsche, Friedrich Wilhelm (23052)</a></li>\n<li><a href=\"/browse/authors/g#a2858\">Garnett, Constance (22489)</a></li>\n<li><a href=\"/browse/authors/l#a1358\">Leblanc, Maurice (22315)</a></li>\n<li><a href=\"/browse/authors/m#a9\">Melville, Herman (22309)</a></li>\n<li><a href=\"/browse/authors/h#a705\">Homer (20560)</a></li>\n<li><a href=\"/browse/authors/r#a2183\">Rizal, José (20301)</a></li>\n<li><a href=\"/browse/authors/v#a60\">Verne, Jules (19158)</a></li>\n<li><a href=\"/browse/authors/j#a1039\">Joyce, James (18749)</a></li>\n<li><a href=\"/browse/authors/k#a132\">Kipling, Rudyard (18742)</a></li>\n<li><a href=\"/browse/authors/d#a492\">Dumas, Alexandre (18638)</a></li>\n<li><a href=\"/browse/authors/p#a93\">Plato (18482)</a></li>\n<li><a href=\"/browse/authors/b#a42\">Baum, L. Frank (Lyman Frank) (18068)</a></li>\n<li><a href=\"/browse/authors/p#a481\">Poe, Edgar Allan (18048)</a></li>\n<li><a href=\"/browse/authors/m#a36\">Montgomery, L. M. (Lucy Maud) (17648)</a></li>\n<li><a href=\"/browse/authors/j#a94\">Jowett, Benjamin (17431)</a></li>\n<li><a href=\"/browse/authors/c#a451\">Christie, Agatha (16459)</a></li>\n<li><a href=\"/browse/authors/l#a120\">London, Jack (16392)</a></li>\n<li><a href=\"/browse/authors/d#a507\">Dante Alighieri (15956)</a></li>\n<li><a href=\"/browse/authors/m#a4589\">Maude, Aylmer (15943)</a></li>\n<li><a href=\"/browse/authors/c#a80\">Chesterton, G. K. (Gilbert Keith) (15869)</a></li>\n<li><a href=\"/browse/authors/m#a500\">Maude, Louise (15815)</a></li>\n<li><a href=\"/browse/authors/d#a1896\">Doré, Gustave (15664)</a></li>\n<li><a href=\"/browse/authors/s#a190\">Stoker, Bram (15274)</a></li>\n<li><a href=\"/browse/authors/s#a326\">Swift, Jonathan (14755)</a></li>\n<li><a href=\"/browse/authors/l#a79\">Lang, Andrew (14697)</a></li>\n<li><a href=\"/browse/authors/c#a125\">Conrad, Joseph (14513)</a></li>\n<li><a href=\"/browse/authors/k#a1735\">Kafka, Franz (14510)</a></li>\n<li><a href=\"/browse/authors/f#a420\">Fitzgerald, F. Scott (Francis Scott) (14380)</a></li>\n<li><a href=\"/browse/authors/i#a861\">Ibsen, Henrik (14281)</a></li>\n<li><a href=\"/browse/authors/r#a355\">Russell, Bertrand (14086)</a></li>\n<li><a href=\"/browse/authors/w#a1961\">Widger, David (14077)</a></li>\n<li><a href=\"/browse/authors/g#a971\">Grimm, Jacob (13878)</a></li>\n<li><a href=\"/browse/authors/g#a972\">Grimm, Wilhelm (13878)</a></li>\n<li><a href=\"/browse/authors/h#a28\">Hawthorne, Nathaniel (13620)</a></li>\n<li><a href=\"/browse/authors/g#a27\">Gilman, Charlotte Perkins (13523)</a></li>\n<li><a href=\"/browse/authors/j#a113\">James, Henry (13486)</a></li>\n<li><a href=\"/browse/authors/h#a85\">Hugo, Victor (13347)</a></li>\n<li><a href=\"/browse/authors/a#a102\">Alcott, Louisa May (13290)</a></li>\n<li><a href=\"/browse/authors/b#a10\">Barrie, J. M. (James Matthew) (13157)</a></li>\n<li><a href=\"/browse/authors/b#a408\">Brontë, Charlotte (12550)</a></li>\n<li><a href=\"/browse/authors/w#a1736\">Wyllie, David (Translator) (12547)</a></li>\n<li><a href=\"/browse/authors/c#a505\">Cervantes Saavedra, Miguel de (12480)</a></li>\n<li><a href=\"/browse/authors/p#a907\">Pope, Alexander (12454)</a></li>\n<li><a href=\"/browse/authors/t#a54\">Thoreau, Henry David (12203)</a></li>\n<li><a href=\"/browse/authors/c#a708\">Chekhov, Anton Pavlovich (11952)</a></li>\n<li><a href=\"/browse/authors/s#a467\">Shaw, Bernard (11768)</a></li>\n<li><a href=\"/browse/authors/b#a73\">Burnett, Frances Hodgson (11674)</a></li>\n<li><a href=\"/browse/authors/s#a28358\">Silverberg, Robert (11634)</a></li>\n<li><a href=\"/browse/authors/l#a9473\">Leech, John (11509)</a></li>\n<li><a href=\"/browse/authors/b#a898\">Burton, Richard Francis, Sir (11320)</a></li>\n<li><a href=\"/browse/authors/m#a1355\">Morley, Henry (11137)</a></li>\n<li><a href=\"/browse/authors/m#a563\">Machiavelli, Niccolò (11137)</a></li>\n<li><a href=\"/browse/authors/g#a25267\">Garrett, Randall (11112)</a></li>\n<li><a href=\"/browse/authors/t#a9854\">Townsend, F. H. (Frederick Henry) (11004)</a></li>\n<li><a href=\"/browse/authors/b#a251\">Balzac, Honoré de (10827)</a></li>\n<li><a href=\"/browse/authors/d#a204\">Defoe, Daniel (10729)</a></li>\n<li><a href=\"/browse/authors/t#a31682\">Tinker, Chauncey Brewster (10584)</a></li>\n<li><a href=\"/browse/authors/p#a292\">Potter, Beatrix (10174)</a></li>\n<li><a href=\"/browse/authors/s#a59\">Scott, Walter (10017)</a></li>\n<li><a href=\"/browse/authors/m#a564\">Marriott, W. K. (William Kenaz) (9978)</a></li>\n<li><a href=\"/browse/authors/m#a306\">Maupassant, Guy de (9863)</a></li>\n<li><a href=\"/browse/authors/h#a23\">Hardy, Thomas (9821)</a></li>\n<li><a href=\"/browse/authors/g#a586\">Goethe, Johann Wolfgang von (9713)</a></li>\n<li><a href=\"/browse/authors/c#a3622\">Cary, Henry Francis (9493)</a></li>\n<li><a href=\"/browse/authors/w#a783\">Wodehouse, P. G. (Pelham Grenville) (9395)</a></li>\n<li><a href=\"/browse/authors/b#a748\">Butler, Samuel (9284)</a></li>\n<li><a href=\"/browse/authors/o#a506\">Ormsby, John (9154)</a></li>\n<li><a href=\"/browse/authors/h#a33608\">Hapgood, Isabel Florence (8871)</a></li>\n<li><a href=\"/browse/authors/b#a206\">Bierce, Ambrose (8556)</a></li>\n<li><a href=\"/browse/authors/d#a4931\">Derbyshire, Charles E. (8491)</a></li>\n<li><a href=\"/browse/authors/b#a25301\">Buckley, Theodore Alois (8453)</a></li>\n<li><a href=\"/browse/authors/u#a31855\">United States. Office of Strategic Services (8225)</a></li>\n<li><a href=\"/browse/authors/b#a48\">Burroughs, Edgar Rice (8193)</a></li>\n<li><a href=\"/browse/authors/e#a90\">Eliot, George (8174)</a></li>\n<li><a href=\"/browse/authors/g#a1813\">Gibran, Kahlil (8132)</a></li>\n<li><a href=\"/browse/authors/t#a942\">Tagore, Rabindranath (8122)</a></li>\n<li><a href=\"/browse/authors/w#a104\">Wharton, Edith (7978)</a></li>\n<li><a href=\"/browse/authors/i#a34\">Irving, Washington (7798)</a></li>\n<li><a href=\"/browse/authors/o#a36795\">Ogden, C. K. (Charles Kay) (7740)</a></li>\n<li><a href=\"/browse/authors/w#a1861\">Wittgenstein, Ludwig (7702)</a></li>\n<li><a href=\"/browse/authors/s#a3648\">Schopenhauer, Arthur (7700)</a></li>\n<li><a href=\"/browse/authors/r#a6335\">Rackham, Arthur (7686)</a></li>\n<li><a href=\"/browse/authors/k#a37155\">Kemble, E. W. (Edward Windsor) (7633)</a></li>\n<li><a href=\"/browse/authors/b#a717\">Burgess, Thornton W. (Thornton Waldo) (7556)</a></li>\n<li><a href=\"/browse/authors/s#a115\">Stowe, Harriet Beecher (7339)</a></li>\n<li><a href=\"/browse/authors/r#a44215\">Rhead, Louis (7232)</a></li>\n<li><a href=\"/browse/authors/g#a850\">Galsworthy, John (7113)</a></li>\n<li><a href=\"/browse/authors/n#a407\">Nesbit, E. (Edith) (6983)</a></li>\n</ol>\n<div class=\"padded\">\n<ul>\n<li><a href=\"#books-last1\">Top 100 EBooks yesterday</a></li>\n<li><a href=\"#authors-last1\">Top 100 Authors yesterday</a></li>\n<li><a href=\"#books-last7\">Top 100 EBooks last 7 days</a></li>\n<li><a href=\"#authors-last7\">Top 100 Authors last 7 days</a></li>\n<li><a href=\"#books-last30\">Top 100 EBooks last 30 days</a></li>\n<li><a href=\"#authors-last30\">Top 100 Authors last 30 days</a></li>\n</ul>\n</div>\n</div><!--content ending-->\n</div>\n<div class=\"footer\"><!-- start footer --> <ul>\n<li>\n<a href=\"/policy/privacy_policy.html\" title=\"Privacy Policy\">Privacy policy</a>\n</li>\n<li>\n<a href=\"/about/\" title=\"About Project Gutenberg\">About Project Gutenberg</a>\n</li>\n<li>\n<a href=\"/policy/terms_of_use.html\" title=\"Terms of Use\">Terms of Use</a>\n</li>\n<li>\n<a href=\"/about/contact_information.html\" title=\"Contact Information\">Contact Information</a>\n</li>\n<li><a href=\"/help/\" title=\"Get Help\">Get Help</a></li>\n</ul>\n<a href=\"https://www.ibiblio.org/\" title=\"Project Gutenberg is hosted by ibiblio\">\n<img alt=\"iBiblio\" src=\"/gutenberg/ibiblio-logo.png\"/>\n</a>\n</div><!-- footer ending-->\n<!-- body ending -->\n</body>\n</html>>"
     },
     "execution_count": 29,
     "metadata": {},
     "output_type": "execute_result"
    }
   ],
   "source": [
    "# 3. Read the HTML from the URL.\n",
    "webpage_contents = requests.get(url).text\n",
    "soup = BeautifulSoup(webpage_contents)\n",
    "soup.prettify"
   ],
   "metadata": {
    "collapsed": false,
    "pycharm": {
     "name": "#%%\n"
    }
   }
  },
  {
   "cell_type": "code",
   "execution_count": 30,
   "outputs": [
    {
     "name": "stdout",
     "output_type": "stream",
     "text": [
      "Success!\n"
     ]
    },
    {
     "data": {
      "text/plain": "1"
     },
     "execution_count": 30,
     "metadata": {},
     "output_type": "execute_result"
    }
   ],
   "source": [
    "# 4. Write a small function to check the status of the web request.\n",
    "def status_check(site):\n",
    "    the_response = requests.get(site)\n",
    "    if the_response:\n",
    "        print('Success!')\n",
    "        return 1\n",
    "    else:\n",
    "        print('Failure!')\n",
    "        return -1\n",
    "\n",
    "status_check(url)"
   ],
   "metadata": {
    "collapsed": false,
    "pycharm": {
     "name": "#%%\n"
    }
   }
  },
  {
   "cell_type": "code",
   "execution_count": 38,
   "outputs": [
    {
     "name": "stdout",
     "output_type": "stream",
     "text": [
      "UTF-8\n"
     ]
    },
    {
     "data": {
      "text/plain": "str"
     },
     "execution_count": 38,
     "metadata": {},
     "output_type": "execute_result"
    }
   ],
   "source": [
    "# 5. Decode the response and pass this on to BeautifulSoup for HTML parsing.\n",
    "def decode_content(r, encoding):\n",
    "    print(r.encoding)\n",
    "    return r.content.decode(encoding)\n",
    "\n",
    "type(decode_content(response, response.encoding))"
   ],
   "metadata": {
    "collapsed": false,
    "pycharm": {
     "name": "#%%\n"
    }
   }
  },
  {
   "cell_type": "code",
   "execution_count": 31,
   "outputs": [
    {
     "data": {
      "text/plain": "'\\n6. Find all the href tags and store them in the list of links. Check what the list looks like - print the first 30\\nelements.\\n'"
     },
     "execution_count": 31,
     "metadata": {},
     "output_type": "execute_result"
    }
   ],
   "source": [
    "'''\n",
    "6. Find all the href tags and store them in the list of links. Check what the list looks like - print the first 30\n",
    "elements.\n",
    "'''\n"
   ],
   "metadata": {
    "collapsed": false,
    "pycharm": {
     "name": "#%%\n"
    }
   }
  },
  {
   "cell_type": "code",
   "execution_count": 22,
   "outputs": [
    {
     "data": {
      "text/plain": "'\\n7. Use a regular expression to find the numeric digits in these links.  These are the file numbers for the top 100\\neBooks.\\n'"
     },
     "execution_count": 22,
     "metadata": {},
     "output_type": "execute_result"
    }
   ],
   "source": [
    "'''\n",
    "7. Use a regular expression to find the numeric digits in these links.  These are the file numbers for the top 100\n",
    "eBooks.\n",
    "'''"
   ],
   "metadata": {
    "collapsed": false,
    "pycharm": {
     "name": "#%%\n"
    }
   }
  },
  {
   "cell_type": "code",
   "execution_count": 23,
   "outputs": [
    {
     "data": {
      "text/plain": "'\\n8.  Initialize the empty list to hold the file numbers over an appropriate range and use regex to find the numeric\\ndigits in the link href string.  Use the findall method.\\n'"
     },
     "execution_count": 23,
     "metadata": {},
     "output_type": "execute_result"
    }
   ],
   "source": [
    "'''\n",
    "8.  Initialize the empty list to hold the file numbers over an appropriate range and use regex to find the numeric\n",
    "digits in the link href string.  Use the findall method.\n",
    "'''"
   ],
   "metadata": {
    "collapsed": false,
    "pycharm": {
     "name": "#%%\n"
    }
   }
  },
  {
   "cell_type": "code",
   "execution_count": 24,
   "outputs": [
    {
     "data": {
      "text/plain": "\"\\n9.  What does the soup object's text look like?  Use the .text method and print only the first 2,000 characters (do not\\nprint the whole thing, as it is too long).\\n\""
     },
     "execution_count": 24,
     "metadata": {},
     "output_type": "execute_result"
    }
   ],
   "source": [
    "'''\n",
    "9.  What does the soup object's text look like?  Use the .text method and print only the first 2,000 characters (do not\n",
    "print the whole thing, as it is too long).\n",
    "'''"
   ],
   "metadata": {
    "collapsed": false,
    "pycharm": {
     "name": "#%%\n"
    }
   }
  },
  {
   "cell_type": "code",
   "execution_count": 25,
   "outputs": [
    {
     "data": {
      "text/plain": "\"\\n10.  Search in the extracted text (using a regular expression) from the soup object to find the names of the top 100\\neBooks (yesterday's ranking).\\n\""
     },
     "execution_count": 25,
     "metadata": {},
     "output_type": "execute_result"
    }
   ],
   "source": [
    "'''\n",
    "10.  Search in the extracted text (using a regular expression) from the soup object to find the names of the top 100\n",
    "eBooks (yesterday's ranking).\n",
    "'''"
   ],
   "metadata": {
    "collapsed": false,
    "pycharm": {
     "name": "#%%\n"
    }
   }
  },
  {
   "cell_type": "code",
   "execution_count": 26,
   "outputs": [
    {
     "data": {
      "text/plain": "'\\n11.  Create a starting index.  It should point at the Top 100 Ebooks yesterday.  Use the splitlines method of soup.text.\\nIt splits the lines of text of the soup object.\\n'"
     },
     "execution_count": 26,
     "metadata": {},
     "output_type": "execute_result"
    }
   ],
   "source": [
    "'''\n",
    "11.  Create a starting index.  It should point at the Top 100 Ebooks yesterday.  Use the splitlines method of soup.text.\n",
    "It splits the lines of text of the soup object.\n",
    "'''"
   ],
   "metadata": {
    "collapsed": false,
    "pycharm": {
     "name": "#%%\n"
    }
   }
  },
  {
   "cell_type": "code",
   "execution_count": 27,
   "outputs": [],
   "source": [
    "# 12. Loop 1-100 to add the strings of the next 100 lines to this temporary list.  Hint: use the splitlines method."
   ],
   "metadata": {
    "collapsed": false,
    "pycharm": {
     "name": "#%%\n"
    }
   }
  },
  {
   "cell_type": "code",
   "execution_count": 28,
   "outputs": [
    {
     "data": {
      "text/plain": "'\\n13.  Use a regular expression to extract only text from the name strings and append it to an empty list.  Use match and\\nspan to find the indices and use them.\\n'"
     },
     "execution_count": 28,
     "metadata": {},
     "output_type": "execute_result"
    }
   ],
   "source": [
    "'''\n",
    "13.  Use a regular expression to extract only text from the name strings and append it to an empty list.  Use match and\n",
    "span to find the indices and use them.\n",
    "'''\n",
    "\n"
   ],
   "metadata": {
    "collapsed": false,
    "pycharm": {
     "name": "#%%\n"
    }
   }
  }
 ],
 "metadata": {
  "kernelspec": {
   "display_name": "Python 3",
   "language": "python",
   "name": "python3"
  },
  "language_info": {
   "codemirror_mode": {
    "name": "ipython",
    "version": 2
   },
   "file_extension": ".py",
   "mimetype": "text/x-python",
   "name": "python",
   "nbconvert_exporter": "python",
   "pygments_lexer": "ipython2",
   "version": "2.7.6"
  }
 },
 "nbformat": 4,
 "nbformat_minor": 0
}