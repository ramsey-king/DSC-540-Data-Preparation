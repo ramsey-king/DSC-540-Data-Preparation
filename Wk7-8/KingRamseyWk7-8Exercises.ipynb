{
 "cells": [
  {
   "cell_type": "code",
   "execution_count": 1,
   "source": [
    "# Ramsey King\n",
    "# DSC 540 - Data Preparation\n",
    "# Week 7 & 8 Assignment\n",
    "# July 31, 2021"
   ],
   "outputs": [],
   "metadata": {
    "collapsed": true
   }
  },
  {
   "cell_type": "markdown",
   "source": [
    "## Data Wrangling with Python: Activity 9 (pg 294)\n",
    "\n",
    "### Project Guttenberg encourages the creation and distribution of eBooks by encouraging volunteer efforts to digitize\n",
    "### and archive cultural works.  This activity aims to scrape the URL of Project Guttenberg's Top 100 eBooks to\n",
    "### identify the eBooks' links.  It uses BeautifulSoup4 to parse the HTML and regular expression code to identify the\n",
    "### Top 100 eBook file numbers"
   ],
   "metadata": {
    "collapsed": false
   }
  },
  {
   "cell_type": "code",
   "execution_count": 2,
   "source": [
    "# 1. Import the necessary libraries, including regex and beautifulsoup.\n",
    "\n",
    "import re\n",
    "from bs4 import BeautifulSoup\n",
    "import requests"
   ],
   "outputs": [],
   "metadata": {
    "collapsed": false,
    "pycharm": {
     "name": "#%%\n"
    }
   }
  },
  {
   "cell_type": "code",
   "execution_count": 3,
   "source": [
    "# 2. Check the SSL Certificate.\n",
    "url = 'https://www.gutenberg.org/browse/scores/top'\n",
    "response = requests.get(url, verify = True)\n",
    "response"
   ],
   "outputs": [
    {
     "data": {
      "text/plain": "<Response [200]>"
     },
     "execution_count": 3,
     "metadata": {},
     "output_type": "execute_result"
    }
   ],
   "metadata": {
    "collapsed": false,
    "pycharm": {
     "name": "#%%\n"
    }
   }
  },
  {
   "cell_type": "code",
   "execution_count": 4,
   "source": [
    "# 3. Read the HTML from the URL.\n",
    "webpage_contents = requests.get(url).text\n",
    "soup = BeautifulSoup(webpage_contents)\n",
    "soup.prettify"
   ],
   "outputs": [
    {
     "data": {
      "text/plain": "<bound method Tag.prettify of <!DOCTYPE html>\n<html class=\"client-nojs\" dir=\"ltr\" lang=\"en\">\n<head>\n<meta charset=\"utf-8\"/>\n<title>Top 100 | Project Gutenberg</title>\n<link href=\"/gutenberg/style.css?v=1.1\" rel=\"stylesheet\"/>\n<link href=\"/gutenberg/collapsible.css?1.1\" rel=\"stylesheet\"/>\n<link href=\"/gutenberg/new_nav.css?v=1.321231\" rel=\"stylesheet\"/>\n<link href=\"/gutenberg/pg-desktop-one.css\" rel=\"stylesheet\"/>\n<meta content=\"width=device-width, initial-scale=1\" name=\"viewport\"/>\n<meta content=\"books, ebooks, free, kindle, android, iphone, ipad\" name=\"keywords\"/>\n<meta content=\"wucOEvSnj5kP3Ts_36OfP64laakK-1mVTg-ptrGC9io\" name=\"google-site-verification\"/>\n<meta content=\"4WNaCljsE-A82vP_ih2H_UqXZvM\" name=\"alexaVerifyID\"/>\n<link href=\"https://www.gnu.org/copyleft/fdl.html\" rel=\"copyright\"/>\n<link href=\"/gutenberg/favicon.ico?v=1.1\" rel=\"shortcut icon\"/>\n<meta content=\"Project Gutenberg\" property=\"og:title\"/>\n<meta content=\"website\" property=\"og:type\"/>\n<meta content=\"https://www.gutenberg.org/\" property=\"og:url\"/>\n<meta content=\"Project Gutenberg is a library of free eBooks.\" property=\"og:description\"/>\n<meta content=\"615269807\" property=\"fb:admins\"/>\n<meta content=\"115319388529183\" property=\"fb:app_id\"/>\n<meta content=\"Project Gutenberg\" property=\"og:site_name\"/>\n<meta content=\"https://www.gutenberg.org/gutenberg/pg-logo-144x144.png\" property=\"og:image\"/>\n</head>\n<body>\n<div class=\"container\"><!-- start body --><nav>\n<!--<div id=\"main_logo\"> -->\n<a class=\"no-hover\" href=\"/\" id=\"main_logo\">\n<img alt=\"Project Gutenberg\" draggable=\"false\" src=\"/gutenberg/pg-logo-129x80.png\"/>\n</a>\n<!--\t</div>-->\n<div id=\"menu\">\n<label for=\"tm\" id=\"toggle-menu\">Menu<span class=\"drop-icon\">▾</span></label>\n<input id=\"tm\" type=\"checkbox\"/>\n<ul class=\"main-menu cf\">\n<li>\n<a href=\"/about/\">About\n          <span class=\"drop-icon\">▾</span>\n</a>\n<label class=\"drop-icon\" for=\"sm0\" title=\"Toggle Drop-down\">▾</label>\n<input id=\"sm0\" type=\"checkbox\"/>\n<ul class=\"sub-menu\">\n<li><a href=\"/about/\">About Project Gutenberg</a></li>\n<li><a href=\"/policy/collection_development.html\">Collection Development</a></li>\n<li><a href=\"/about/contact_information.html\">Contact Us</a></li>\n<li><a href=\"/about/background/\">History &amp; Philosophy</a></li>\n<li><a href=\"/policy/permission.html\">Permissions &amp; License</a></li>\n<li><a href=\"/policy/privacy_policy.html\">Privacy Policy</a></li>\n<li><a href=\"/policy/terms_of_use.html\">Terms of Use</a></li>\n</ul>\n</li>\n<li>\n<a href=\"/ebooks/\">Search and Browse\n      \t  <span class=\"drop-icon\">▾</span>\n</a>\n<label class=\"drop-icon\" for=\"sm8\" title=\"Toggle Drop-down\">▾</label>\n<input id=\"sm8\" type=\"checkbox\"/>\n<ul class=\"sub-menu\">\n<li><a href=\"/ebooks/\">Book Search</a></li>\n<li><a href=\"/ebooks/bookshelf/\">Bookshelves</a></li>\n<li><a href=\"/browse/scores/top\">Frequently Downloaded</a></li>\n<li><a href=\"/ebooks/offline_catalogs.html\">Offline Catalogs</a></li>\n</ul>\n</li>\n<li>\n<a href=\"/help/\">Help\n          <span class=\"drop-icon\">▾</span>\n</a>\n<label class=\"drop-icon\" for=\"sm3\" title=\"Toggle Drop-down\">▾</label>\n<input id=\"sm3\" type=\"checkbox\"/>\n<ul class=\"sub-menu\">\n<li><a href=\"/help/\">All help topics →</a></li>\n<li><a href=\"/help/copyright.html\">Copyright Procedures</a></li>\n<li><a href=\"/help/errata.html\">Errata, Fixes and Bug Reports</a></li>\n<li><a href=\"/help/file_formats.html\">File Formats</a></li>\n<li><a href=\"/help/faq.html\">Frequently Asked Questions</a></li>\n<li><a href=\"/policy/\">Policies →</a></li>\n<li><a href=\"/help/public_domain_ebook_submission.html\">Public Domain eBook Submission</a></li>\n<li><a href=\"/help/submitting_your_own_work.html\">Submitting Your Own Work</a></li>\n<li><a href=\"/help/mobile.html\">Tablets, Phones and eReaders</a></li>\n<li><a href=\"/attic/\">The Attic →</a></li>\n</ul>\n</li>\n<li><a href=\"/donate/\">Donate</a></li>\n</ul>\n</div>\n<div class=\"donate\">\n<div class=\"searchbox\">\n<form accept-charset=\"utf-8\" action=\"/ebooks/search/\" class=\"searchbox\" enctype=\"multipart/form-data\" method=\"get\">\n<input class=\"searchInput\" id=\"menu-book-search\" maxlength=\"80\" name=\"query\" placeholder=\"  Quick search\" size=\"20\" tabindex=\"20\" title=\"Quick search\" type=\"text\" value=\"\"/>\n<input name=\"submit_search\" style=\"vertical-align:middle;\" type=\"submit\" value=\"Go!\"/>\n</form>\n</div>\n<form action=\"https://www.paypal.com/cgi-bin/webscr\" class=\"donatelink\" method=\"post\" target=\"new\">\n<p><a href=\"/donate/\">Donation</a></p>\n<input name=\"cmd\" type=\"hidden\" value=\"_s-xclick\"/>\n<input name=\"hosted_button_id\" type=\"hidden\" value=\"XKAL6BZL3YPSN\"/>\n<input alt=\"Donate via PayPal\" class=\"donbtn\" name=\"submit\" src=\"/pics/en_US.gif\" type=\"image\"/>\n</form>\n</div>\n</nav>\n<div class=\"page_content\"><!-- start content -->\n<h1>Frequently Viewed or Downloaded</h1>\n<p>These listings are based on the number of times each eBook gets downloaded.\n      Multiple downloads from the same Internet address on the same day count as one download, and addresses that download more than 100 eBooks in a day are considered robots and are not counted.</p>\n<table>\n<caption>Downloaded Books</caption>\n<tr><th>2021-07-25</th><td class=\"right\">124408</td></tr>\n<tr><th>last 7 days</th><td class=\"right\">955894</td></tr>\n<tr><th>last 30 days</th><td class=\"right\">4003272</td></tr>\n</table>\n<div class=\"padded\">\n<ul>\n<li><a href=\"#books-last1\">Top 100 EBooks yesterday</a></li>\n<li><a href=\"#authors-last1\">Top 100 Authors yesterday</a></li>\n<li><a href=\"#books-last7\">Top 100 EBooks last 7 days</a></li>\n<li><a href=\"#authors-last7\">Top 100 Authors last 7 days</a></li>\n<li><a href=\"#books-last30\">Top 100 EBooks last 30 days</a></li>\n<li><a href=\"#authors-last30\">Top 100 Authors last 30 days</a></li>\n</ul>\n</div>\n<h2 id=\"books-last1\">Top 100 EBooks yesterday</h2>\n<ol>\n<li><a href=\"/ebooks/1342\">Pride and Prejudice by Jane Austen (1513)</a></li>\n<li><a href=\"/ebooks/11\">Alice's Adventures in Wonderland by Lewis Carroll (653)</a></li>\n<li><a href=\"/ebooks/1661\">The Adventures of Sherlock Holmes by Arthur Conan Doyle (633)</a></li>\n<li><a href=\"/ebooks/84\">Frankenstein; Or, The Modern Prometheus by Mary Wollstonecraft Shelley (581)</a></li>\n<li><a href=\"/ebooks/2701\">Moby Dick; Or, The Whale by Herman Melville (522)</a></li>\n<li><a href=\"/ebooks/98\">A Tale of Two Cities by Charles Dickens (480)</a></li>\n<li><a href=\"/ebooks/65910\">Norse mythology; or The religion of our forefathers, containing all the myths of the Eddas, systemat (451)</a></li>\n<li><a href=\"/ebooks/174\">The Picture of Dorian Gray by Oscar Wilde (444)</a></li>\n<li><a href=\"/ebooks/65903\">Psychology of the Unconscious by C. G.  Jung (391)</a></li>\n<li><a href=\"/ebooks/2600\">War and Peace by graf Leo Tolstoy (386)</a></li>\n<li><a href=\"/ebooks/65908\">Illuminated illustrations of Froissart by Jean Froissart (384)</a></li>\n<li><a href=\"/ebooks/1232\">The Prince by Niccolò Machiavelli (377)</a></li>\n<li><a href=\"/ebooks/345\">Dracula by Bram Stoker (374)</a></li>\n<li><a href=\"/ebooks/65912\">\"Swat the Fly!\" by Eleanor Gates (372)</a></li>\n<li><a href=\"/ebooks/64317\">The Great Gatsby by F. Scott  Fitzgerald (362)</a></li>\n<li><a href=\"/ebooks/60559\">The Chaldean Account of Genesis by George Smith (353)</a></li>\n<li><a href=\"/ebooks/1952\">The Yellow Wallpaper by Charlotte Perkins Gilman (340)</a></li>\n<li><a href=\"/ebooks/4300\">Ulysses by James Joyce (335)</a></li>\n<li><a href=\"/ebooks/2591\">Grimms' Fairy Tales by Jacob Grimm and Wilhelm Grimm (333)</a></li>\n<li><a href=\"/ebooks/5200\">Metamorphosis by Franz Kafka (332)</a></li>\n<li><a href=\"/ebooks/1260\">Jane Eyre: An Autobiography by Charlotte Brontë (332)</a></li>\n<li><a href=\"/ebooks/58585\">The Prophet by Kahlil Gibran (318)</a></li>\n<li><a href=\"/ebooks/2542\">A Doll's House : a play by Henrik Ibsen (305)</a></li>\n<li><a href=\"/ebooks/63256\">The American Diary of a Japanese Girl by Yoné Noguchi (297)</a></li>\n<li><a href=\"/ebooks/205\">Walden, and On The Duty Of Civil Disobedience by Henry David Thoreau (278)</a></li>\n<li><a href=\"/ebooks/2554\">Crime and Punishment by Fyodor Dostoyevsky (273)</a></li>\n<li><a href=\"/ebooks/30254\">The Romance of Lust: A classic Victorian erotic novel by Anonymous (270)</a></li>\n<li><a href=\"/ebooks/65907\">Wounded Souls by Philip Gibbs (266)</a></li>\n<li><a href=\"/ebooks/27827\">The Kama Sutra of Vatsyayana by Vatsyayana (266)</a></li>\n<li><a href=\"/ebooks/45\">Anne of Green Gables by L. M.  Montgomery (263)</a></li>\n<li><a href=\"/ebooks/1184\">The Count of Monte Cristo, Illustrated by Alexandre Dumas (263)</a></li>\n<li><a href=\"/ebooks/65918\">Guide to the Bayeux tapestry by F. F. L. Birrell (260)</a></li>\n<li><a href=\"/ebooks/43\">The Strange Case of Dr. Jekyll and Mr. Hyde by Robert Louis Stevenson (257)</a></li>\n<li><a href=\"/ebooks/65909\">A Smaller Dictionary of Greek and Roman Antiquities by William Smith (256)</a></li>\n<li><a href=\"/ebooks/996\">Don Quixote by Miguel de Cervantes Saavedra (255)</a></li>\n<li><a href=\"/ebooks/1400\">Great Expectations by Charles Dickens (254)</a></li>\n<li><a href=\"/ebooks/6133\">The Extraordinary Adventures of Arsene Lupin, Gentleman-Burglar by Maurice Leblanc (249)</a></li>\n<li><a href=\"/ebooks/16\">Peter Pan by J. M.  Barrie (247)</a></li>\n<li><a href=\"/ebooks/55\">The Wonderful Wizard of Oz by L. Frank  Baum (242)</a></li>\n<li><a href=\"/ebooks/6130\">The Iliad by Homer (233)</a></li>\n<li><a href=\"/ebooks/135\">Les Misérables by Victor Hugo (230)</a></li>\n<li><a href=\"/ebooks/514\">Little Women by Louisa May Alcott (225)</a></li>\n<li><a href=\"/ebooks/844\">The Importance of Being Earnest: A Trivial Comedy for Serious People by Oscar Wilde (224)</a></li>\n<li><a href=\"/ebooks/74\">The Adventures of Tom Sawyer, Complete by Mark Twain (222)</a></li>\n<li><a href=\"/ebooks/244\">A Study in Scarlet by Arthur Conan Doyle (217)</a></li>\n<li><a href=\"/ebooks/46\">A Christmas Carol in Prose; Being a Ghost Story of Christmas by Charles Dickens (214)</a></li>\n<li><a href=\"/ebooks/1998\">Thus Spake Zarathustra: A Book for All and None by Friedrich Wilhelm Nietzsche (209)</a></li>\n<li><a href=\"/ebooks/219\">Heart of Darkness by Joseph Conrad (208)</a></li>\n<li><a href=\"/ebooks/5740\">Tractatus Logico-Philosophicus by Ludwig Wittgenstein (206)</a></li>\n<li><a href=\"/ebooks/408\">The Souls of Black Folk by W. E. B.  Du Bois (205)</a></li>\n<li><a href=\"/ebooks/76\">Adventures of Huckleberry Finn by Mark Twain (201)</a></li>\n<li><a href=\"/ebooks/1497\">The Republic by Plato (201)</a></li>\n<li><a href=\"/ebooks/5739\">Korean—English Dictionary by Leon Kuperman (200)</a></li>\n<li><a href=\"/ebooks/65913\">Tirant lo Blanch; a study of its authorship, principal sources and historical setting by Vaeth (193)</a></li>\n<li><a href=\"/ebooks/28054\">The Brothers Karamazov by Fyodor Dostoyevsky (187)</a></li>\n<li><a href=\"/ebooks/1727\">The Odyssey by Homer (186)</a></li>\n<li><a href=\"/ebooks/1080\">A Modest Proposal by Jonathan Swift (180)</a></li>\n<li><a href=\"/ebooks/768\">Wuthering Heights by Emily Brontë (180)</a></li>\n<li><a href=\"/ebooks/35899\">The Philippines a Century Hence by José Rizal (179)</a></li>\n<li><a href=\"/ebooks/863\">The Mysterious Affair at Styles by Agatha Christie (177)</a></li>\n<li><a href=\"/ebooks/203\">Uncle Tom's Cabin by Harriet Beecher Stowe (176)</a></li>\n<li><a href=\"/ebooks/16328\">Beowulf: An Anglo-Saxon Epic Poem (172)</a></li>\n<li><a href=\"/ebooks/730\">Oliver Twist by Charles Dickens (172)</a></li>\n<li><a href=\"/ebooks/120\">Treasure Island by Robert Louis Stevenson (172)</a></li>\n<li><a href=\"/ebooks/158\">Emma by Jane Austen (170)</a></li>\n<li><a href=\"/ebooks/4363\">Beyond Good and Evil by Friedrich Wilhelm Nietzsche (168)</a></li>\n<li><a href=\"/ebooks/2680\">Meditations by Emperor of Rome Marcus Aurelius (164)</a></li>\n<li><a href=\"/ebooks/902\">The Happy Prince, and Other Tales by Oscar Wilde (162)</a></li>\n<li><a href=\"/ebooks/236\">The Jungle Book by Rudyard Kipling (161)</a></li>\n<li><a href=\"/ebooks/2852\">The Hound of the Baskervilles by Arthur Conan Doyle (161)</a></li>\n<li><a href=\"/ebooks/41568\">An Introduction to Mathematics by Alfred North Whitehead (161)</a></li>\n<li><a href=\"/ebooks/1399\">Anna Karenina by graf Leo Tolstoy (160)</a></li>\n<li><a href=\"/ebooks/132\">The Art of War by active 6th century B.C. Sunzi (158)</a></li>\n<li><a href=\"/ebooks/33283\">Calculus Made Easy by Silvanus P.  Thompson (156)</a></li>\n<li><a href=\"/ebooks/65919\">History of the Fylde of Lancashire by John Porter (156)</a></li>\n<li><a href=\"/ebooks/62370\">Folk-Speech of Cumberland and Some Districts Adjacent by Alexander Craig Gibson (155)</a></li>\n<li><a href=\"/ebooks/3600\">Essays of Michel de Montaigne — Complete by Michel de Montaigne (154)</a></li>\n<li><a href=\"/ebooks/113\">The Secret Garden by Frances Hodgson Burnett (154)</a></li>\n<li><a href=\"/ebooks/829\">Gulliver's Travels into Several Remote Nations of the World by Jonathan Swift (153)</a></li>\n<li><a href=\"/ebooks/10\">The King James Version of the Bible (140)</a></li>\n<li><a href=\"/ebooks/8800\">An Index of The Divine Comedy by Dante by Dante Alighieri (139)</a></li>\n<li><a href=\"/ebooks/2814\">Dubliners by James Joyce (138)</a></li>\n<li><a href=\"/ebooks/42108\">The Slang Dictionary: Etymological, Historical and Andecdotal by John Camden Hotten (134)</a></li>\n<li><a href=\"/ebooks/36\">The War of the Worlds by H. G.  Wells (133)</a></li>\n<li><a href=\"/ebooks/215\">The Call of the Wild by Jack London (133)</a></li>\n<li><a href=\"/ebooks/19942\">Candide by Voltaire (133)</a></li>\n<li><a href=\"/ebooks/25344\">The Scarlet Letter by Nathaniel Hawthorne (132)</a></li>\n<li><a href=\"/ebooks/766\">David Copperfield by Charles Dickens (132)</a></li>\n<li><a href=\"/ebooks/972\">The Devil's Dictionary by Ambrose Bierce (131)</a></li>\n<li><a href=\"/ebooks/25717\">The History of the Decline and Fall of the Roman Empire by Edward Gibbon (131)</a></li>\n<li><a href=\"/ebooks/29728\">Cookery and Dining in Imperial Rome by Apicius (129)</a></li>\n<li><a href=\"/ebooks/4980\">Old Granny Fox by Thornton W.  Burgess (125)</a></li>\n<li><a href=\"/ebooks/26184\">Simple Sabotage Field Manual by United States. Office of Strategic Services (123)</a></li>\n<li><a href=\"/ebooks/308\">Three Men in a Boat (To Say Nothing of the Dog) by Jerome K.  Jerome (123)</a></li>\n<li><a href=\"/ebooks/161\">Sense and Sensibility by Jane Austen (122)</a></li>\n<li><a href=\"/ebooks/3176\">The Innocents Abroad by Mark Twain (119)</a></li>\n<li><a href=\"/ebooks/160\">The Awakening, and Selected Short Stories by Kate Chopin (119)</a></li>\n<li><a href=\"/ebooks/35\">The Time Machine by H. G.  Wells (117)</a></li>\n<li><a href=\"/ebooks/43453\">A Pickle for the Knowing Ones by Timothy Dexter (117)</a></li>\n<li><a href=\"/ebooks/2500\">Siddhartha by Hermann Hesse (113)</a></li>\n</ol>\n<div class=\"padded\">\n<ul>\n<li><a href=\"#books-last1\">Top 100 EBooks yesterday</a></li>\n<li><a href=\"#authors-last1\">Top 100 Authors yesterday</a></li>\n<li><a href=\"#books-last7\">Top 100 EBooks last 7 days</a></li>\n<li><a href=\"#authors-last7\">Top 100 Authors last 7 days</a></li>\n<li><a href=\"#books-last30\">Top 100 EBooks last 30 days</a></li>\n<li><a href=\"#authors-last30\">Top 100 Authors last 30 days</a></li>\n</ul>\n</div>\n<h2 id=\"authors-last1\">Top 100 Authors yesterday</h2>\n<ol>\n<li><a href=\"/browse/authors/a#a68\">Austen, Jane (2219)</a></li>\n<li><a href=\"/browse/authors/d#a37\">Dickens, Charles (2077)</a></li>\n<li><a href=\"/browse/authors/d#a69\">Doyle, Arthur Conan (1666)</a></li>\n<li><a href=\"/browse/authors/t#a53\">Twain, Mark (1373)</a></li>\n<li><a href=\"/browse/authors/w#a111\">Wilde, Oscar (1067)</a></li>\n<li><a href=\"/browse/authors/c#a7\">Carroll, Lewis (990)</a></li>\n<li><a href=\"/browse/authors/d#a314\">Dostoyevsky, Fyodor (889)</a></li>\n<li><a href=\"/browse/authors/t#a136\">Tolstoy, Leo, graf (871)</a></li>\n<li><a href=\"/browse/authors/s#a35\">Stevenson, Robert Louis (801)</a></li>\n<li><a href=\"/browse/authors/n#a779\">Nietzsche, Friedrich Wilhelm (768)</a></li>\n<li><a href=\"/browse/authors/s#a61\">Shelley, Mary Wollstonecraft (733)</a></li>\n<li><a href=\"/browse/authors/w#a30\">Wells, H. G. (Herbert George) (709)</a></li>\n<li><a href=\"/browse/authors/m#a9\">Melville, Herman (677)</a></li>\n<li><a href=\"/browse/authors/g#a2858\">Garnett, Constance (675)</a></li>\n<li><a href=\"/browse/authors/s#a65\">Shakespeare, William (672)</a></li>\n<li><a href=\"/browse/authors/d#a492\">Dumas, Alexandre (657)</a></li>\n<li><a href=\"/browse/authors/h#a705\">Homer (642)</a></li>\n<li><a href=\"/browse/authors/p#a93\">Plato (641)</a></li>\n<li><a href=\"/browse/authors/b#a42\">Baum, L. Frank (Lyman Frank) (627)</a></li>\n<li><a href=\"/browse/authors/j#a94\">Jowett, Benjamin (595)</a></li>\n<li><a href=\"/browse/authors/m#a36\">Montgomery, L. M. (Lucy Maud) (581)</a></li>\n<li><a href=\"/browse/authors/k#a132\">Kipling, Rudyard (576)</a></li>\n<li><a href=\"/browse/authors/v#a60\">Verne, Jules (575)</a></li>\n<li><a href=\"/browse/authors/a#a4534\">Anderson, Rasmus Björn (554)</a></li>\n<li><a href=\"/browse/authors/j#a1039\">Joyce, James (553)</a></li>\n<li><a href=\"/browse/authors/c#a80\">Chesterton, G. K. (Gilbert Keith) (553)</a></li>\n<li><a href=\"/browse/authors/d#a1896\">Doré, Gustave (535)</a></li>\n<li><a href=\"/browse/authors/p#a481\">Poe, Edgar Allan (523)</a></li>\n<li><a href=\"/browse/authors/h#a28\">Hawthorne, Nathaniel (515)</a></li>\n<li><a href=\"/browse/authors/c#a451\">Christie, Agatha (507)</a></li>\n<li><a href=\"/browse/authors/d#a507\">Dante Alighieri (503)</a></li>\n<li><a href=\"/browse/authors/l#a1358\">Leblanc, Maurice (492)</a></li>\n<li><a href=\"/browse/authors/r#a2183\">Rizal, José (486)</a></li>\n<li><a href=\"/browse/authors/h#a85\">Hugo, Victor (485)</a></li>\n<li><a href=\"/browse/authors/k#a1735\">Kafka, Franz (477)</a></li>\n<li><a href=\"/browse/authors/c#a125\">Conrad, Joseph (471)</a></li>\n<li><a href=\"/browse/authors/s#a190\">Stoker, Bram (462)</a></li>\n<li><a href=\"/browse/authors/c#a505\">Cervantes Saavedra, Miguel de (459)</a></li>\n<li><a href=\"/browse/authors/m#a4589\">Maude, Aylmer (452)</a></li>\n<li><a href=\"/browse/authors/w#a1961\">Widger, David (442)</a></li>\n<li><a href=\"/browse/authors/m#a500\">Maude, Louise (440)</a></li>\n<li><a href=\"/browse/authors/l#a120\">London, Jack (439)</a></li>\n<li><a href=\"/browse/authors/j#a113\">James, Henry (439)</a></li>\n<li><a href=\"/browse/authors/f#a420\">Fitzgerald, F. Scott (Francis Scott) (435)</a></li>\n<li><a href=\"/browse/authors/i#a861\">Ibsen, Henrik (434)</a></li>\n<li><a href=\"/browse/authors/g#a6218\">Gates, Eleanor (433)</a></li>\n<li><a href=\"/browse/authors/g#a971\">Grimm, Jacob (428)</a></li>\n<li><a href=\"/browse/authors/g#a972\">Grimm, Wilhelm (428)</a></li>\n<li><a href=\"/browse/authors/f#a5170\">Froissart, Jean (418)</a></li>\n<li><a href=\"/browse/authors/r#a355\">Russell, Bertrand (417)</a></li>\n<li><a href=\"/browse/authors/s#a326\">Swift, Jonathan (413)</a></li>\n<li><a href=\"/browse/authors/j#a44679\">Jung, C. G. (Carl Gustav) (411)</a></li>\n<li><a href=\"/browse/authors/w#a1736\">Wyllie, David (Translator) (404)</a></li>\n<li><a href=\"/browse/authors/b#a408\">Brontë, Charlotte (402)</a></li>\n<li><a href=\"/browse/authors/m#a563\">Machiavelli, Niccolò (400)</a></li>\n<li><a href=\"/browse/authors/h#a42986\">Humphreys, Henry Noel (394)</a></li>\n<li><a href=\"/browse/authors/l#a79\">Lang, Andrew (393)</a></li>\n<li><a href=\"/browse/authors/h#a53541\">Hinkle, Beatrice M. (391)</a></li>\n<li><a href=\"/browse/authors/s#a467\">Shaw, Bernard (389)</a></li>\n<li><a href=\"/browse/authors/a#a102\">Alcott, Louisa May (388)</a></li>\n<li><a href=\"/browse/authors/b#a898\">Burton, Richard Francis, Sir (387)</a></li>\n<li><a href=\"/browse/authors/m#a564\">Marriott, W. K. (William Kenaz) (379)</a></li>\n<li><a href=\"/browse/authors/t#a54\">Thoreau, Henry David (378)</a></li>\n<li><a href=\"/browse/authors/s#a4759\">Sayce, A. H. (Archibald Henry) (377)</a></li>\n<li><a href=\"/browse/authors/s#a38228\">Shinn, Everett (375)</a></li>\n<li><a href=\"/browse/authors/b#a10\">Barrie, J. M. (James Matthew) (375)</a></li>\n<li><a href=\"/browse/authors/g#a27\">Gilman, Charlotte Perkins (368)</a></li>\n<li><a href=\"/browse/authors/c#a708\">Chekhov, Anton Pavlovich (360)</a></li>\n<li><a href=\"/browse/authors/b#a73\">Burnett, Frances Hodgson (360)</a></li>\n<li><a href=\"/browse/authors/p#a907\">Pope, Alexander (359)</a></li>\n<li><a href=\"/browse/authors/s#a51024\">Smith, George (353)</a></li>\n<li><a href=\"/browse/authors/t#a9854\">Townsend, F. H. (Frederick Henry) (348)</a></li>\n<li><a href=\"/browse/authors/d#a204\">Defoe, Daniel (335)</a></li>\n<li><a href=\"/browse/authors/g#a1813\">Gibran, Kahlil (334)</a></li>\n<li><a href=\"/browse/authors/s#a59\">Scott, Walter (326)</a></li>\n<li><a href=\"/browse/authors/o#a506\">Ormsby, John (326)</a></li>\n<li><a href=\"/browse/authors/m#a1355\">Morley, Henry (324)</a></li>\n<li><a href=\"/browse/authors/c#a3622\">Cary, Henry Francis (322)</a></li>\n<li><a href=\"/browse/authors/h#a33608\">Hapgood, Isabel Florence (313)</a></li>\n<li><a href=\"/browse/authors/m#a306\">Maupassant, Guy de (312)</a></li>\n<li><a href=\"/browse/authors/b#a748\">Butler, Samuel (309)</a></li>\n<li><a href=\"/browse/authors/y#a38503\">Yeto, Genjiro (309)</a></li>\n<li><a href=\"/browse/authors/g#a1174\">Gibbs, Philip (306)</a></li>\n<li><a href=\"/browse/authors/b#a48\">Burroughs, Edgar Rice (306)</a></li>\n<li><a href=\"/browse/authors/d#a4931\">Derbyshire, Charles E. (301)</a></li>\n<li><a href=\"/browse/authors/t#a324\">Trollope, Anthony (301)</a></li>\n<li><a href=\"/browse/authors/n#a51851\">Noguchi, Yoné (298)</a></li>\n<li><a href=\"/browse/authors/b#a251\">Balzac, Honoré de (295)</a></li>\n<li><a href=\"/browse/authors/h#a23\">Hardy, Thomas (294)</a></li>\n<li><a href=\"/browse/authors/p#a292\">Potter, Beatrix (293)</a></li>\n<li><a href=\"/browse/authors/w#a783\">Wodehouse, P. G. (Pelham Grenville) (292)</a></li>\n<li><a href=\"/browse/authors/s#a822\">Smith, William (287)</a></li>\n<li><a href=\"/browse/authors/g#a586\">Goethe, Johann Wolfgang von (280)</a></li>\n<li><a href=\"/browse/authors/b#a206\">Bierce, Ambrose (280)</a></li>\n<li><a href=\"/browse/authors/v#a5593\">Vatsyayana (270)</a></li>\n<li><a href=\"/browse/authors/v#a913\">Voltaire (270)</a></li>\n<li><a href=\"/browse/authors/i#a32930\">Indrajit, Bhagavanlal (266)</a></li>\n<li><a href=\"/browse/authors/b#a32931\">Bhide, Shivaram Parashuram (266)</a></li>\n<li><a href=\"/browse/authors/b#a53548\">Birrell, F. F. L. (260)</a></li>\n<li><a href=\"/browse/authors/l#a9473\">Leech, John (260)</a></li>\n</ol>\n<div class=\"padded\">\n<ul>\n<li><a href=\"#books-last1\">Top 100 EBooks yesterday</a></li>\n<li><a href=\"#authors-last1\">Top 100 Authors yesterday</a></li>\n<li><a href=\"#books-last7\">Top 100 EBooks last 7 days</a></li>\n<li><a href=\"#authors-last7\">Top 100 Authors last 7 days</a></li>\n<li><a href=\"#books-last30\">Top 100 EBooks last 30 days</a></li>\n<li><a href=\"#authors-last30\">Top 100 Authors last 30 days</a></li>\n</ul>\n</div>\n<h2 id=\"books-last7\">Top 100 EBooks last 7 days</h2>\n<ol>\n<li><a href=\"/ebooks/1342\">Pride and Prejudice by Jane Austen (10911)</a></li>\n<li><a href=\"/ebooks/11\">Alice's Adventures in Wonderland by Lewis Carroll (5138)</a></li>\n<li><a href=\"/ebooks/1661\">The Adventures of Sherlock Holmes by Arthur Conan Doyle (4706)</a></li>\n<li><a href=\"/ebooks/84\">Frankenstein; Or, The Modern Prometheus by Mary Wollstonecraft Shelley (4372)</a></li>\n<li><a href=\"/ebooks/2701\">Moby Dick; Or, The Whale by Herman Melville (3800)</a></li>\n<li><a href=\"/ebooks/98\">A Tale of Two Cities by Charles Dickens (3666)</a></li>\n<li><a href=\"/ebooks/174\">The Picture of Dorian Gray by Oscar Wilde (3336)</a></li>\n<li><a href=\"/ebooks/64317\">The Great Gatsby by F. Scott  Fitzgerald (2949)</a></li>\n<li><a href=\"/ebooks/345\">Dracula by Bram Stoker (2758)</a></li>\n<li><a href=\"/ebooks/2600\">War and Peace by graf Leo Tolstoy (2614)</a></li>\n<li><a href=\"/ebooks/4300\">Ulysses by James Joyce (2594)</a></li>\n<li><a href=\"/ebooks/5200\">Metamorphosis by Franz Kafka (2518)</a></li>\n<li><a href=\"/ebooks/1232\">The Prince by Niccolò Machiavelli (2462)</a></li>\n<li><a href=\"/ebooks/1952\">The Yellow Wallpaper by Charlotte Perkins Gilman (2439)</a></li>\n<li><a href=\"/ebooks/2542\">A Doll's House : a play by Henrik Ibsen (2366)</a></li>\n<li><a href=\"/ebooks/1260\">Jane Eyre: An Autobiography by Charlotte Brontë (2343)</a></li>\n<li><a href=\"/ebooks/2591\">Grimms' Fairy Tales by Jacob Grimm and Wilhelm Grimm (2236)</a></li>\n<li><a href=\"/ebooks/2554\">Crime and Punishment by Fyodor Dostoyevsky (2107)</a></li>\n<li><a href=\"/ebooks/43\">The Strange Case of Dr. Jekyll and Mr. Hyde by Robert Louis Stevenson (2049)</a></li>\n<li><a href=\"/ebooks/58585\">The Prophet by Kahlil Gibran (2002)</a></li>\n<li><a href=\"/ebooks/74\">The Adventures of Tom Sawyer, Complete by Mark Twain (1992)</a></li>\n<li><a href=\"/ebooks/6133\">The Extraordinary Adventures of Arsene Lupin, Gentleman-Burglar by Maurice Leblanc (1980)</a></li>\n<li><a href=\"/ebooks/14975\">Southern Horrors: Lynch Law in All Its Phases by Ida B. Wells-Barnett (1978)</a></li>\n<li><a href=\"/ebooks/46\">A Christmas Carol in Prose; Being a Ghost Story of Christmas by Charles Dickens (1957)</a></li>\n<li><a href=\"/ebooks/16\">Peter Pan by J. M.  Barrie (1917)</a></li>\n<li><a href=\"/ebooks/1400\">Great Expectations by Charles Dickens (1914)</a></li>\n<li><a href=\"/ebooks/1184\">The Count of Monte Cristo, Illustrated by Alexandre Dumas (1881)</a></li>\n<li><a href=\"/ebooks/205\">Walden, and On The Duty Of Civil Disobedience by Henry David Thoreau (1870)</a></li>\n<li><a href=\"/ebooks/6130\">The Iliad by Homer (1859)</a></li>\n<li><a href=\"/ebooks/45\">Anne of Green Gables by L. M.  Montgomery (1831)</a></li>\n<li><a href=\"/ebooks/55\">The Wonderful Wizard of Oz by L. Frank  Baum (1790)</a></li>\n<li><a href=\"/ebooks/5740\">Tractatus Logico-Philosophicus by Ludwig Wittgenstein (1760)</a></li>\n<li><a href=\"/ebooks/996\">Don Quixote by Miguel de Cervantes Saavedra (1739)</a></li>\n<li><a href=\"/ebooks/514\">Little Women by Louisa May Alcott (1731)</a></li>\n<li><a href=\"/ebooks/27827\">The Kama Sutra of Vatsyayana by Vatsyayana (1723)</a></li>\n<li><a href=\"/ebooks/844\">The Importance of Being Earnest: A Trivial Comedy for Serious People by Oscar Wilde (1704)</a></li>\n<li><a href=\"/ebooks/30254\">The Romance of Lust: A classic Victorian erotic novel by Anonymous (1703)</a></li>\n<li><a href=\"/ebooks/63256\">The American Diary of a Japanese Girl by Yoné Noguchi (1621)</a></li>\n<li><a href=\"/ebooks/244\">A Study in Scarlet by Arthur Conan Doyle (1612)</a></li>\n<li><a href=\"/ebooks/120\">Treasure Island by Robert Louis Stevenson (1589)</a></li>\n<li><a href=\"/ebooks/1080\">A Modest Proposal by Jonathan Swift (1569)</a></li>\n<li><a href=\"/ebooks/76\">Adventures of Huckleberry Finn by Mark Twain (1557)</a></li>\n<li><a href=\"/ebooks/5739\">Korean—English Dictionary by Leon Kuperman (1534)</a></li>\n<li><a href=\"/ebooks/135\">Les Misérables by Victor Hugo (1515)</a></li>\n<li><a href=\"/ebooks/219\">Heart of Darkness by Joseph Conrad (1504)</a></li>\n<li><a href=\"/ebooks/1497\">The Republic by Plato (1497)</a></li>\n<li><a href=\"/ebooks/65870\">Home Life in Tokyo by Jukichi Inouye (1412)</a></li>\n<li><a href=\"/ebooks/158\">Emma by Jane Austen (1400)</a></li>\n<li><a href=\"/ebooks/768\">Wuthering Heights by Emily Brontë (1385)</a></li>\n<li><a href=\"/ebooks/408\">The Souls of Black Folk by W. E. B.  Du Bois (1355)</a></li>\n<li><a href=\"/ebooks/1998\">Thus Spake Zarathustra: A Book for All and None by Friedrich Wilhelm Nietzsche (1324)</a></li>\n<li><a href=\"/ebooks/65885\">Dark Destiny by Dwight V. Swain (1290)</a></li>\n<li><a href=\"/ebooks/26184\">Simple Sabotage Field Manual by United States. Office of Strategic Services (1289)</a></li>\n<li><a href=\"/ebooks/28054\">The Brothers Karamazov by Fyodor Dostoyevsky (1283)</a></li>\n<li><a href=\"/ebooks/236\">The Jungle Book by Rudyard Kipling (1277)</a></li>\n<li><a href=\"/ebooks/2852\">The Hound of the Baskervilles by Arthur Conan Doyle (1276)</a></li>\n<li><a href=\"/ebooks/203\">Uncle Tom's Cabin by Harriet Beecher Stowe (1270)</a></li>\n<li><a href=\"/ebooks/829\">Gulliver's Travels into Several Remote Nations of the World by Jonathan Swift (1238)</a></li>\n<li><a href=\"/ebooks/113\">The Secret Garden by Frances Hodgson Burnett (1231)</a></li>\n<li><a href=\"/ebooks/863\">The Mysterious Affair at Styles by Agatha Christie (1217)</a></li>\n<li><a href=\"/ebooks/36\">The War of the Worlds by H. G.  Wells (1202)</a></li>\n<li><a href=\"/ebooks/25344\">The Scarlet Letter by Nathaniel Hawthorne (1196)</a></li>\n<li><a href=\"/ebooks/1727\">The Odyssey by Homer (1192)</a></li>\n<li><a href=\"/ebooks/902\">The Happy Prince, and Other Tales by Oscar Wilde (1190)</a></li>\n<li><a href=\"/ebooks/4363\">Beyond Good and Evil by Friedrich Wilhelm Nietzsche (1184)</a></li>\n<li><a href=\"/ebooks/1399\">Anna Karenina by graf Leo Tolstoy (1176)</a></li>\n<li><a href=\"/ebooks/4980\">Old Granny Fox by Thornton W.  Burgess (1175)</a></li>\n<li><a href=\"/ebooks/25717\">The History of the Decline and Fall of the Roman Empire by Edward Gibbon (1151)</a></li>\n<li><a href=\"/ebooks/65882\">The Battle of Dorking by George Tomkyns Chesney (1148)</a></li>\n<li><a href=\"/ebooks/16328\">Beowulf: An Anglo-Saxon Epic Poem (1127)</a></li>\n<li><a href=\"/ebooks/2680\">Meditations by Emperor of Rome Marcus Aurelius (1124)</a></li>\n<li><a href=\"/ebooks/65903\">Psychology of the Unconscious by C. G.  Jung (1112)</a></li>\n<li><a href=\"/ebooks/730\">Oliver Twist by Charles Dickens (1100)</a></li>\n<li><a href=\"/ebooks/35899\">The Philippines a Century Hence by José Rizal (1099)</a></li>\n<li><a href=\"/ebooks/65890\">The Death of Captain Wells by Allan H. Dougall (1086)</a></li>\n<li><a href=\"/ebooks/308\">Three Men in a Boat (To Say Nothing of the Dog) by Jerome K.  Jerome (1076)</a></li>\n<li><a href=\"/ebooks/132\">The Art of War by active 6th century B.C. Sunzi (1058)</a></li>\n<li><a href=\"/ebooks/3600\">Essays of Michel de Montaigne — Complete by Michel de Montaigne (1057)</a></li>\n<li><a href=\"/ebooks/42108\">The Slang Dictionary: Etymological, Historical and Andecdotal by John Camden Hotten (1050)</a></li>\n<li><a href=\"/ebooks/766\">David Copperfield by Charles Dickens (1047)</a></li>\n<li><a href=\"/ebooks/33283\">Calculus Made Easy by Silvanus P.  Thompson (1032)</a></li>\n<li><a href=\"/ebooks/2814\">Dubliners by James Joyce (1027)</a></li>\n<li><a href=\"/ebooks/35\">The Time Machine by H. G.  Wells (1003)</a></li>\n<li><a href=\"/ebooks/43453\">A Pickle for the Knowing Ones by Timothy Dexter (985)</a></li>\n<li><a href=\"/ebooks/103\">Around the World in Eighty Days by Jules Verne (947)</a></li>\n<li><a href=\"/ebooks/8800\">An Index of The Divine Comedy by Dante by Dante Alighieri (946)</a></li>\n<li><a href=\"/ebooks/65886\">Special Delivery by Kris Neville (928)</a></li>\n<li><a href=\"/ebooks/41\">The Legend of Sleepy Hollow by Washington Irving (916)</a></li>\n<li><a href=\"/ebooks/160\">The Awakening, and Selected Short Stories by Kate Chopin (914)</a></li>\n<li><a href=\"/ebooks/10\">The King James Version of the Bible (910)</a></li>\n<li><a href=\"/ebooks/61\">The Communist Manifesto by Friedrich Engels and Karl Marx (906)</a></li>\n<li><a href=\"/ebooks/29728\">Cookery and Dining in Imperial Rome by Apicius (903)</a></li>\n<li><a href=\"/ebooks/65887\">A Living Lie by Paul Bourget (899)</a></li>\n<li><a href=\"/ebooks/161\">Sense and Sensibility by Jane Austen (898)</a></li>\n<li><a href=\"/ebooks/3090\">Complete Original Short Stories of Guy De Maupassant by Guy de Maupassant (897)</a></li>\n<li><a href=\"/ebooks/23\">Narrative of the Life of Frederick Douglass, an American Slave by Frederick Douglass (896)</a></li>\n<li><a href=\"/ebooks/105\">Persuasion by Jane Austen (885)</a></li>\n<li><a href=\"/ebooks/2500\">Siddhartha by Hermann Hesse (880)</a></li>\n<li><a href=\"/ebooks/20203\">Autobiography of Benjamin Franklin by Benjamin Franklin (869)</a></li>\n<li><a href=\"/ebooks/215\">The Call of the Wild by Jack London (868)</a></li>\n</ol>\n<div class=\"padded\">\n<ul>\n<li><a href=\"#books-last1\">Top 100 EBooks yesterday</a></li>\n<li><a href=\"#authors-last1\">Top 100 Authors yesterday</a></li>\n<li><a href=\"#books-last7\">Top 100 EBooks last 7 days</a></li>\n<li><a href=\"#authors-last7\">Top 100 Authors last 7 days</a></li>\n<li><a href=\"#books-last30\">Top 100 EBooks last 30 days</a></li>\n<li><a href=\"#authors-last30\">Top 100 Authors last 30 days</a></li>\n</ul>\n</div>\n<h2 id=\"authors-last7\">Top 100 Authors last 7 days</h2>\n<ol>\n<li><a href=\"/browse/authors/a#a68\">Austen, Jane (16679)</a></li>\n<li><a href=\"/browse/authors/d#a37\">Dickens, Charles (16131)</a></li>\n<li><a href=\"/browse/authors/d#a69\">Doyle, Arthur Conan (12874)</a></li>\n<li><a href=\"/browse/authors/t#a53\">Twain, Mark (10221)</a></li>\n<li><a href=\"/browse/authors/w#a111\">Wilde, Oscar (8886)</a></li>\n<li><a href=\"/browse/authors/c#a7\">Carroll, Lewis (8047)</a></li>\n<li><a href=\"/browse/authors/s#a35\">Stevenson, Robert Louis (6744)</a></li>\n<li><a href=\"/browse/authors/d#a314\">Dostoyevsky, Fyodor (6630)</a></li>\n<li><a href=\"/browse/authors/t#a136\">Tolstoy, Leo, graf (6300)</a></li>\n<li><a href=\"/browse/authors/s#a65\">Shakespeare, William (6170)</a></li>\n<li><a href=\"/browse/authors/w#a30\">Wells, H. G. (Herbert George) (5739)</a></li>\n<li><a href=\"/browse/authors/n#a779\">Nietzsche, Friedrich Wilhelm (5404)</a></li>\n<li><a href=\"/browse/authors/s#a61\">Shelley, Mary Wollstonecraft (5310)</a></li>\n<li><a href=\"/browse/authors/g#a2858\">Garnett, Constance (5127)</a></li>\n<li><a href=\"/browse/authors/m#a9\">Melville, Herman (5105)</a></li>\n<li><a href=\"/browse/authors/b#a42\">Baum, L. Frank (Lyman Frank) (4859)</a></li>\n<li><a href=\"/browse/authors/h#a705\">Homer (4746)</a></li>\n<li><a href=\"/browse/authors/d#a492\">Dumas, Alexandre (4695)</a></li>\n<li><a href=\"/browse/authors/v#a60\">Verne, Jules (4608)</a></li>\n<li><a href=\"/browse/authors/k#a132\">Kipling, Rudyard (4362)</a></li>\n<li><a href=\"/browse/authors/j#a1039\">Joyce, James (4284)</a></li>\n<li><a href=\"/browse/authors/p#a93\">Plato (4258)</a></li>\n<li><a href=\"/browse/authors/m#a36\">Montgomery, L. M. (Lucy Maud) (4240)</a></li>\n<li><a href=\"/browse/authors/p#a481\">Poe, Edgar Allan (4053)</a></li>\n<li><a href=\"/browse/authors/j#a94\">Jowett, Benjamin (3970)</a></li>\n<li><a href=\"/browse/authors/d#a1896\">Doré, Gustave (3805)</a></li>\n<li><a href=\"/browse/authors/l#a1358\">Leblanc, Maurice (3745)</a></li>\n<li><a href=\"/browse/authors/w#a1961\">Widger, David (3737)</a></li>\n<li><a href=\"/browse/authors/c#a451\">Christie, Agatha (3701)</a></li>\n<li><a href=\"/browse/authors/f#a420\">Fitzgerald, F. Scott (Francis Scott) (3662)</a></li>\n<li><a href=\"/browse/authors/d#a507\">Dante Alighieri (3656)</a></li>\n<li><a href=\"/browse/authors/c#a80\">Chesterton, G. K. (Gilbert Keith) (3643)</a></li>\n<li><a href=\"/browse/authors/l#a120\">London, Jack (3633)</a></li>\n<li><a href=\"/browse/authors/l#a79\">Lang, Andrew (3574)</a></li>\n<li><a href=\"/browse/authors/c#a125\">Conrad, Joseph (3513)</a></li>\n<li><a href=\"/browse/authors/i#a861\">Ibsen, Henrik (3494)</a></li>\n<li><a href=\"/browse/authors/k#a1735\">Kafka, Franz (3489)</a></li>\n<li><a href=\"/browse/authors/s#a326\">Swift, Jonathan (3480)</a></li>\n<li><a href=\"/browse/authors/r#a2183\">Rizal, José (3461)</a></li>\n<li><a href=\"/browse/authors/s#a190\">Stoker, Bram (3437)</a></li>\n<li><a href=\"/browse/authors/h#a28\">Hawthorne, Nathaniel (3433)</a></li>\n<li><a href=\"/browse/authors/a#a102\">Alcott, Louisa May (3331)</a></li>\n<li><a href=\"/browse/authors/m#a4589\">Maude, Aylmer (3263)</a></li>\n<li><a href=\"/browse/authors/r#a355\">Russell, Bertrand (3249)</a></li>\n<li><a href=\"/browse/authors/m#a500\">Maude, Louise (3244)</a></li>\n<li><a href=\"/browse/authors/h#a85\">Hugo, Victor (3177)</a></li>\n<li><a href=\"/browse/authors/j#a113\">James, Henry (3150)</a></li>\n<li><a href=\"/browse/authors/g#a971\">Grimm, Jacob (3107)</a></li>\n<li><a href=\"/browse/authors/g#a972\">Grimm, Wilhelm (3107)</a></li>\n<li><a href=\"/browse/authors/w#a1736\">Wyllie, David (Translator) (3056)</a></li>\n<li><a href=\"/browse/authors/b#a10\">Barrie, J. M. (James Matthew) (2990)</a></li>\n<li><a href=\"/browse/authors/c#a505\">Cervantes Saavedra, Miguel de (2936)</a></li>\n<li><a href=\"/browse/authors/b#a73\">Burnett, Frances Hodgson (2919)</a></li>\n<li><a href=\"/browse/authors/b#a408\">Brontë, Charlotte (2859)</a></li>\n<li><a href=\"/browse/authors/c#a708\">Chekhov, Anton Pavlovich (2843)</a></li>\n<li><a href=\"/browse/authors/m#a1355\">Morley, Henry (2829)</a></li>\n<li><a href=\"/browse/authors/p#a907\">Pope, Alexander (2810)</a></li>\n<li><a href=\"/browse/authors/t#a54\">Thoreau, Henry David (2809)</a></li>\n<li><a href=\"/browse/authors/b#a898\">Burton, Richard Francis, Sir (2807)</a></li>\n<li><a href=\"/browse/authors/g#a27\">Gilman, Charlotte Perkins (2789)</a></li>\n<li><a href=\"/browse/authors/s#a59\">Scott, Walter (2783)</a></li>\n<li><a href=\"/browse/authors/m#a563\">Machiavelli, Niccolò (2690)</a></li>\n<li><a href=\"/browse/authors/s#a467\">Shaw, Bernard (2662)</a></li>\n<li><a href=\"/browse/authors/b#a251\">Balzac, Honoré de (2536)</a></li>\n<li><a href=\"/browse/authors/t#a9854\">Townsend, F. H. (Frederick Henry) (2495)</a></li>\n<li><a href=\"/browse/authors/m#a564\">Marriott, W. K. (William Kenaz) (2470)</a></li>\n<li><a href=\"/browse/authors/d#a204\">Defoe, Daniel (2450)</a></li>\n<li><a href=\"/browse/authors/m#a306\">Maupassant, Guy de (2357)</a></li>\n<li><a href=\"/browse/authors/p#a292\">Potter, Beatrix (2349)</a></li>\n<li><a href=\"/browse/authors/l#a9473\">Leech, John (2336)</a></li>\n<li><a href=\"/browse/authors/s#a35927\">Swain, Dwight V. (2332)</a></li>\n<li><a href=\"/browse/authors/g#a586\">Goethe, Johann Wolfgang von (2332)</a></li>\n<li><a href=\"/browse/authors/h#a23\">Hardy, Thomas (2244)</a></li>\n<li><a href=\"/browse/authors/w#a5765\">Wells-Barnett, Ida B. (2216)</a></li>\n<li><a href=\"/browse/authors/c#a3622\">Cary, Henry Francis (2212)</a></li>\n<li><a href=\"/browse/authors/w#a783\">Wodehouse, P. G. (Pelham Grenville) (2187)</a></li>\n<li><a href=\"/browse/authors/t#a942\">Tagore, Rabindranath (2168)</a></li>\n<li><a href=\"/browse/authors/o#a506\">Ormsby, John (2156)</a></li>\n<li><a href=\"/browse/authors/h#a33608\">Hapgood, Isabel Florence (2144)</a></li>\n<li><a href=\"/browse/authors/b#a748\">Butler, Samuel (2114)</a></li>\n<li><a href=\"/browse/authors/g#a1813\">Gibran, Kahlil (2104)</a></li>\n<li><a href=\"/browse/authors/b#a717\">Burgess, Thornton W. (Thornton Waldo) (2085)</a></li>\n<li><a href=\"/browse/authors/h#a365\">Haggard, H. Rider (Henry Rider) (2048)</a></li>\n<li><a href=\"/browse/authors/b#a25301\">Buckley, Theodore Alois (2026)</a></li>\n<li><a href=\"/browse/authors/d#a4931\">Derbyshire, Charles E. (2009)</a></li>\n<li><a href=\"/browse/authors/w#a104\">Wharton, Edith (1945)</a></li>\n<li><a href=\"/browse/authors/i#a34\">Irving, Washington (1929)</a></li>\n<li><a href=\"/browse/authors/e#a90\">Eliot, George (1899)</a></li>\n<li><a href=\"/browse/authors/b#a48\">Burroughs, Edgar Rice (1885)</a></li>\n<li><a href=\"/browse/authors/d#a226\">Du Bois, W. E. B. (William Edward Burghardt) (1808)</a></li>\n<li><a href=\"/browse/authors/g#a850\">Galsworthy, John (1796)</a></li>\n<li><a href=\"/browse/authors/b#a206\">Bierce, Ambrose (1779)</a></li>\n<li><a href=\"/browse/authors/o#a36795\">Ogden, C. K. (Charles Kay) (1774)</a></li>\n<li><a href=\"/browse/authors/w#a1861\">Wittgenstein, Ludwig (1760)</a></li>\n<li><a href=\"/browse/authors/v#a5593\">Vatsyayana (1752)</a></li>\n<li><a href=\"/browse/authors/i#a32930\">Indrajit, Bhagavanlal (1723)</a></li>\n<li><a href=\"/browse/authors/b#a32931\">Bhide, Shivaram Parashuram (1723)</a></li>\n<li><a href=\"/browse/authors/k#a37155\">Kemble, E. W. (Edward Windsor) (1722)</a></li>\n<li><a href=\"/browse/authors/r#a6335\">Rackham, Arthur (1683)</a></li>\n<li><a href=\"/browse/authors/y#a38503\">Yeto, Genjiro (1676)</a></li>\n</ol>\n<div class=\"padded\">\n<ul>\n<li><a href=\"#books-last1\">Top 100 EBooks yesterday</a></li>\n<li><a href=\"#authors-last1\">Top 100 Authors yesterday</a></li>\n<li><a href=\"#books-last7\">Top 100 EBooks last 7 days</a></li>\n<li><a href=\"#authors-last7\">Top 100 Authors last 7 days</a></li>\n<li><a href=\"#books-last30\">Top 100 EBooks last 30 days</a></li>\n<li><a href=\"#authors-last30\">Top 100 Authors last 30 days</a></li>\n</ul>\n</div>\n<h2 id=\"books-last30\">Top 100 EBooks last 30 days</h2>\n<ol>\n<li><a href=\"/ebooks/1342\">Pride and Prejudice by Jane Austen (45500)</a></li>\n<li><a href=\"/ebooks/11\">Alice's Adventures in Wonderland by Lewis Carroll (23035)</a></li>\n<li><a href=\"/ebooks/1661\">The Adventures of Sherlock Holmes by Arthur Conan Doyle (19814)</a></li>\n<li><a href=\"/ebooks/84\">Frankenstein; Or, The Modern Prometheus by Mary Wollstonecraft Shelley (19348)</a></li>\n<li><a href=\"/ebooks/2701\">Moby Dick; Or, The Whale by Herman Melville (17210)</a></li>\n<li><a href=\"/ebooks/98\">A Tale of Two Cities by Charles Dickens (15525)</a></li>\n<li><a href=\"/ebooks/174\">The Picture of Dorian Gray by Oscar Wilde (14062)</a></li>\n<li><a href=\"/ebooks/2600\">War and Peace by graf Leo Tolstoy (12476)</a></li>\n<li><a href=\"/ebooks/1952\">The Yellow Wallpaper by Charlotte Perkins Gilman (11969)</a></li>\n<li><a href=\"/ebooks/64317\">The Great Gatsby by F. Scott  Fitzgerald (11602)</a></li>\n<li><a href=\"/ebooks/345\">Dracula by Bram Stoker (11548)</a></li>\n<li><a href=\"/ebooks/25942\">The Translations of Beowulf: A Critical Bibliography by Chauncey Brewster Tinker (10781)</a></li>\n<li><a href=\"/ebooks/4300\">Ulysses by James Joyce (10646)</a></li>\n<li><a href=\"/ebooks/5200\">Metamorphosis by Franz Kafka (10355)</a></li>\n<li><a href=\"/ebooks/1232\">The Prince by Niccolò Machiavelli (10320)</a></li>\n<li><a href=\"/ebooks/1260\">Jane Eyre: An Autobiography by Charlotte Brontë (10249)</a></li>\n<li><a href=\"/ebooks/6133\">The Extraordinary Adventures of Arsene Lupin, Gentleman-Burglar by Maurice Leblanc (10158)</a></li>\n<li><a href=\"/ebooks/2591\">Grimms' Fairy Tales by Jacob Grimm and Wilhelm Grimm (10132)</a></li>\n<li><a href=\"/ebooks/43\">The Strange Case of Dr. Jekyll and Mr. Hyde by Robert Louis Stevenson (10047)</a></li>\n<li><a href=\"/ebooks/2554\">Crime and Punishment by Fyodor Dostoyevsky (9561)</a></li>\n<li><a href=\"/ebooks/46\">A Christmas Carol in Prose; Being a Ghost Story of Christmas by Charles Dickens (9466)</a></li>\n<li><a href=\"/ebooks/2542\">A Doll's House : a play by Henrik Ibsen (9443)</a></li>\n<li><a href=\"/ebooks/74\">The Adventures of Tom Sawyer, Complete by Mark Twain (8532)</a></li>\n<li><a href=\"/ebooks/16\">Peter Pan by J. M.  Barrie (8489)</a></li>\n<li><a href=\"/ebooks/1400\">Great Expectations by Charles Dickens (8480)</a></li>\n<li><a href=\"/ebooks/58585\">The Prophet by Kahlil Gibran (8017)</a></li>\n<li><a href=\"/ebooks/205\">Walden, and On The Duty Of Civil Disobedience by Henry David Thoreau (7899)</a></li>\n<li><a href=\"/ebooks/1184\">The Count of Monte Cristo, Illustrated by Alexandre Dumas (7830)</a></li>\n<li><a href=\"/ebooks/55\">The Wonderful Wizard of Oz by L. Frank  Baum (7770)</a></li>\n<li><a href=\"/ebooks/26184\">Simple Sabotage Field Manual by United States. Office of Strategic Services (7699)</a></li>\n<li><a href=\"/ebooks/45\">Anne of Green Gables by L. M.  Montgomery (7681)</a></li>\n<li><a href=\"/ebooks/5740\">Tractatus Logico-Philosophicus by Ludwig Wittgenstein (7638)</a></li>\n<li><a href=\"/ebooks/6130\">The Iliad by Homer (7616)</a></li>\n<li><a href=\"/ebooks/844\">The Importance of Being Earnest: A Trivial Comedy for Serious People by Oscar Wilde (7593)</a></li>\n<li><a href=\"/ebooks/996\">Don Quixote by Miguel de Cervantes Saavedra (7521)</a></li>\n<li><a href=\"/ebooks/120\">Treasure Island by Robert Louis Stevenson (7117)</a></li>\n<li><a href=\"/ebooks/27827\">The Kama Sutra of Vatsyayana by Vatsyayana (7095)</a></li>\n<li><a href=\"/ebooks/514\">Little Women by Louisa May Alcott (6958)</a></li>\n<li><a href=\"/ebooks/5739\">Korean—English Dictionary by Leon Kuperman (6814)</a></li>\n<li><a href=\"/ebooks/63256\">The American Diary of a Japanese Girl by Yoné Noguchi (6796)</a></li>\n<li><a href=\"/ebooks/902\">The Happy Prince, and Other Tales by Oscar Wilde (6668)</a></li>\n<li><a href=\"/ebooks/219\">Heart of Darkness by Joseph Conrad (6628)</a></li>\n<li><a href=\"/ebooks/30254\">The Romance of Lust: A classic Victorian erotic novel by Anonymous (6624)</a></li>\n<li><a href=\"/ebooks/76\">Adventures of Huckleberry Finn by Mark Twain (6611)</a></li>\n<li><a href=\"/ebooks/244\">A Study in Scarlet by Arthur Conan Doyle (6602)</a></li>\n<li><a href=\"/ebooks/1497\">The Republic by Plato (6510)</a></li>\n<li><a href=\"/ebooks/158\">Emma by Jane Austen (6376)</a></li>\n<li><a href=\"/ebooks/1080\">A Modest Proposal by Jonathan Swift (6297)</a></li>\n<li><a href=\"/ebooks/2852\">The Hound of the Baskervilles by Arthur Conan Doyle (6285)</a></li>\n<li><a href=\"/ebooks/135\">Les Misérables by Victor Hugo (6121)</a></li>\n<li><a href=\"/ebooks/23042\">The Tempest by William Shakespeare (5904)</a></li>\n<li><a href=\"/ebooks/768\">Wuthering Heights by Emily Brontë (5805)</a></li>\n<li><a href=\"/ebooks/1998\">Thus Spake Zarathustra: A Book for All and None by Friedrich Wilhelm Nietzsche (5736)</a></li>\n<li><a href=\"/ebooks/863\">The Mysterious Affair at Styles by Agatha Christie (5646)</a></li>\n<li><a href=\"/ebooks/203\">Uncle Tom's Cabin by Harriet Beecher Stowe (5583)</a></li>\n<li><a href=\"/ebooks/236\">The Jungle Book by Rudyard Kipling (5537)</a></li>\n<li><a href=\"/ebooks/28054\">The Brothers Karamazov by Fyodor Dostoyevsky (5505)</a></li>\n<li><a href=\"/ebooks/36\">The War of the Worlds by H. G.  Wells (5386)</a></li>\n<li><a href=\"/ebooks/14975\">Southern Horrors: Lynch Law in All Its Phases by Ida B. Wells-Barnett (5322)</a></li>\n<li><a href=\"/ebooks/829\">Gulliver's Travels into Several Remote Nations of the World by Jonathan Swift (5181)</a></li>\n<li><a href=\"/ebooks/1727\">The Odyssey by Homer (5119)</a></li>\n<li><a href=\"/ebooks/766\">David Copperfield by Charles Dickens (5087)</a></li>\n<li><a href=\"/ebooks/1399\">Anna Karenina by graf Leo Tolstoy (5077)</a></li>\n<li><a href=\"/ebooks/16328\">Beowulf: An Anglo-Saxon Epic Poem (5076)</a></li>\n<li><a href=\"/ebooks/42108\">The Slang Dictionary: Etymological, Historical and Andecdotal by John Camden Hotten (5034)</a></li>\n<li><a href=\"/ebooks/25344\">The Scarlet Letter by Nathaniel Hawthorne (4970)</a></li>\n<li><a href=\"/ebooks/730\">Oliver Twist by Charles Dickens (4927)</a></li>\n<li><a href=\"/ebooks/408\">The Souls of Black Folk by W. E. B.  Du Bois (4893)</a></li>\n<li><a href=\"/ebooks/4363\">Beyond Good and Evil by Friedrich Wilhelm Nietzsche (4891)</a></li>\n<li><a href=\"/ebooks/20228\">Noli Me Tangere by José Rizal (4878)</a></li>\n<li><a href=\"/ebooks/113\">The Secret Garden by Frances Hodgson Burnett (4813)</a></li>\n<li><a href=\"/ebooks/2814\">Dubliners by James Joyce (4687)</a></li>\n<li><a href=\"/ebooks/3600\">Essays of Michel de Montaigne — Complete by Michel de Montaigne (4654)</a></li>\n<li><a href=\"/ebooks/33283\">Calculus Made Easy by Silvanus P.  Thompson (4613)</a></li>\n<li><a href=\"/ebooks/2680\">Meditations by Emperor of Rome Marcus Aurelius (4519)</a></li>\n<li><a href=\"/ebooks/160\">The Awakening, and Selected Short Stories by Kate Chopin (4487)</a></li>\n<li><a href=\"/ebooks/4980\">Old Granny Fox by Thornton W.  Burgess (4467)</a></li>\n<li><a href=\"/ebooks/308\">Three Men in a Boat (To Say Nothing of the Dog) by Jerome K.  Jerome (4456)</a></li>\n<li><a href=\"/ebooks/43453\">A Pickle for the Knowing Ones by Timothy Dexter (4356)</a></li>\n<li><a href=\"/ebooks/35\">The Time Machine by H. G.  Wells (4339)</a></li>\n<li><a href=\"/ebooks/147\">Common Sense by Thomas Paine (4317)</a></li>\n<li><a href=\"/ebooks/132\">The Art of War by active 6th century B.C. Sunzi (4308)</a></li>\n<li><a href=\"/ebooks/105\">Persuasion by Jane Austen (4208)</a></li>\n<li><a href=\"/ebooks/20203\">Autobiography of Benjamin Franklin by Benjamin Franklin (4103)</a></li>\n<li><a href=\"/ebooks/2500\">Siddhartha by Hermann Hesse (4100)</a></li>\n<li><a href=\"/ebooks/8800\">An Index of The Divine Comedy by Dante by Dante Alighieri (4095)</a></li>\n<li><a href=\"/ebooks/61\">The Communist Manifesto by Friedrich Engels and Karl Marx (4053)</a></li>\n<li><a href=\"/ebooks/103\">Around the World in Eighty Days by Jules Verne (4043)</a></li>\n<li><a href=\"/ebooks/100\">The Complete Works of William Shakespeare by William Shakespeare (3978)</a></li>\n<li><a href=\"/ebooks/3090\">Complete Original Short Stories of Guy De Maupassant by Guy de Maupassant (3934)</a></li>\n<li><a href=\"/ebooks/2148\">The Works of Edgar Allan Poe — Volume 2 by Edgar Allan Poe (3921)</a></li>\n<li><a href=\"/ebooks/161\">Sense and Sensibility by Jane Austen (3854)</a></li>\n<li><a href=\"/ebooks/25717\">The History of the Decline and Fall of the Roman Empire by Edward Gibbon (3844)</a></li>\n<li><a href=\"/ebooks/10\">The King James Version of the Bible (3834)</a></li>\n<li><a href=\"/ebooks/23\">Narrative of the Life of Frederick Douglass, an American Slave by Frederick Douglass (3769)</a></li>\n<li><a href=\"/ebooks/35899\">The Philippines a Century Hence by José Rizal (3750)</a></li>\n<li><a href=\"/ebooks/215\">The Call of the Wild by Jack London (3719)</a></li>\n<li><a href=\"/ebooks/2097\">The Sign of the Four by Arthur Conan Doyle (3695)</a></li>\n<li><a href=\"/ebooks/41\">The Legend of Sleepy Hollow by Washington Irving (3616)</a></li>\n<li><a href=\"/ebooks/1250\">Anthem by Ayn Rand (3597)</a></li>\n</ol>\n<div class=\"padded\">\n<ul>\n<li><a href=\"#books-last1\">Top 100 EBooks yesterday</a></li>\n<li><a href=\"#authors-last1\">Top 100 Authors yesterday</a></li>\n<li><a href=\"#books-last7\">Top 100 EBooks last 7 days</a></li>\n<li><a href=\"#authors-last7\">Top 100 Authors last 7 days</a></li>\n<li><a href=\"#books-last30\">Top 100 EBooks last 30 days</a></li>\n<li><a href=\"#authors-last30\">Top 100 Authors last 30 days</a></li>\n</ul>\n</div>\n<h2 id=\"authors-last30\">Top 100 Authors last 30 days</h2>\n<ol>\n<li><a href=\"/browse/authors/a#a68\">Austen, Jane (71856)</a></li>\n<li><a href=\"/browse/authors/d#a37\">Dickens, Charles (70820)</a></li>\n<li><a href=\"/browse/authors/d#a69\">Doyle, Arthur Conan (55477)</a></li>\n<li><a href=\"/browse/authors/t#a53\">Twain, Mark (43729)</a></li>\n<li><a href=\"/browse/authors/w#a111\">Wilde, Oscar (38618)</a></li>\n<li><a href=\"/browse/authors/c#a7\">Carroll, Lewis (35636)</a></li>\n<li><a href=\"/browse/authors/s#a65\">Shakespeare, William (32182)</a></li>\n<li><a href=\"/browse/authors/d#a314\">Dostoyevsky, Fyodor (29500)</a></li>\n<li><a href=\"/browse/authors/s#a35\">Stevenson, Robert Louis (28937)</a></li>\n<li><a href=\"/browse/authors/t#a136\">Tolstoy, Leo, graf (28396)</a></li>\n<li><a href=\"/browse/authors/w#a30\">Wells, H. G. (Herbert George) (24583)</a></li>\n<li><a href=\"/browse/authors/s#a61\">Shelley, Mary Wollstonecraft (23428)</a></li>\n<li><a href=\"/browse/authors/n#a779\">Nietzsche, Friedrich Wilhelm (22997)</a></li>\n<li><a href=\"/browse/authors/g#a2858\">Garnett, Constance (22551)</a></li>\n<li><a href=\"/browse/authors/m#a9\">Melville, Herman (22284)</a></li>\n<li><a href=\"/browse/authors/h#a705\">Homer (20100)</a></li>\n<li><a href=\"/browse/authors/b#a42\">Baum, L. Frank (Lyman Frank) (19811)</a></li>\n<li><a href=\"/browse/authors/l#a1358\">Leblanc, Maurice (19512)</a></li>\n<li><a href=\"/browse/authors/v#a60\">Verne, Jules (19456)</a></li>\n<li><a href=\"/browse/authors/d#a492\">Dumas, Alexandre (18837)</a></li>\n<li><a href=\"/browse/authors/k#a132\">Kipling, Rudyard (18784)</a></li>\n<li><a href=\"/browse/authors/j#a1039\">Joyce, James (18510)</a></li>\n<li><a href=\"/browse/authors/p#a93\">Plato (18203)</a></li>\n<li><a href=\"/browse/authors/r#a2183\">Rizal, José (18010)</a></li>\n<li><a href=\"/browse/authors/p#a481\">Poe, Edgar Allan (17713)</a></li>\n<li><a href=\"/browse/authors/m#a36\">Montgomery, L. M. (Lucy Maud) (17673)</a></li>\n<li><a href=\"/browse/authors/j#a94\">Jowett, Benjamin (17214)</a></li>\n<li><a href=\"/browse/authors/c#a451\">Christie, Agatha (16554)</a></li>\n<li><a href=\"/browse/authors/l#a120\">London, Jack (16296)</a></li>\n<li><a href=\"/browse/authors/d#a1896\">Doré, Gustave (15794)</a></li>\n<li><a href=\"/browse/authors/d#a507\">Dante Alighieri (15754)</a></li>\n<li><a href=\"/browse/authors/m#a4589\">Maude, Aylmer (15442)</a></li>\n<li><a href=\"/browse/authors/m#a500\">Maude, Louise (15322)</a></li>\n<li><a href=\"/browse/authors/c#a80\">Chesterton, G. K. (Gilbert Keith) (15193)</a></li>\n<li><a href=\"/browse/authors/s#a190\">Stoker, Bram (15130)</a></li>\n<li><a href=\"/browse/authors/l#a79\">Lang, Andrew (14847)</a></li>\n<li><a href=\"/browse/authors/f#a420\">Fitzgerald, F. Scott (Francis Scott) (14719)</a></li>\n<li><a href=\"/browse/authors/c#a125\">Conrad, Joseph (14643)</a></li>\n<li><a href=\"/browse/authors/s#a326\">Swift, Jonathan (14609)</a></li>\n<li><a href=\"/browse/authors/w#a1961\">Widger, David (14361)</a></li>\n<li><a href=\"/browse/authors/k#a1735\">Kafka, Franz (14318)</a></li>\n<li><a href=\"/browse/authors/i#a861\">Ibsen, Henrik (14184)</a></li>\n<li><a href=\"/browse/authors/r#a355\">Russell, Bertrand (14096)</a></li>\n<li><a href=\"/browse/authors/g#a972\">Grimm, Wilhelm (13799)</a></li>\n<li><a href=\"/browse/authors/g#a971\">Grimm, Jacob (13799)</a></li>\n<li><a href=\"/browse/authors/h#a28\">Hawthorne, Nathaniel (13700)</a></li>\n<li><a href=\"/browse/authors/j#a113\">James, Henry (13469)</a></li>\n<li><a href=\"/browse/authors/h#a85\">Hugo, Victor (13454)</a></li>\n<li><a href=\"/browse/authors/a#a102\">Alcott, Louisa May (13383)</a></li>\n<li><a href=\"/browse/authors/g#a27\">Gilman, Charlotte Perkins (13334)</a></li>\n<li><a href=\"/browse/authors/b#a10\">Barrie, J. M. (James Matthew) (12827)</a></li>\n<li><a href=\"/browse/authors/c#a505\">Cervantes Saavedra, Miguel de (12548)</a></li>\n<li><a href=\"/browse/authors/w#a1736\">Wyllie, David (Translator) (12499)</a></li>\n<li><a href=\"/browse/authors/b#a408\">Brontë, Charlotte (12413)</a></li>\n<li><a href=\"/browse/authors/p#a907\">Pope, Alexander (12211)</a></li>\n<li><a href=\"/browse/authors/t#a54\">Thoreau, Henry David (12165)</a></li>\n<li><a href=\"/browse/authors/c#a708\">Chekhov, Anton Pavlovich (12050)</a></li>\n<li><a href=\"/browse/authors/b#a73\">Burnett, Frances Hodgson (11716)</a></li>\n<li><a href=\"/browse/authors/b#a898\">Burton, Richard Francis, Sir (11593)</a></li>\n<li><a href=\"/browse/authors/m#a563\">Machiavelli, Niccolò (11501)</a></li>\n<li><a href=\"/browse/authors/m#a1355\">Morley, Henry (11292)</a></li>\n<li><a href=\"/browse/authors/s#a467\">Shaw, Bernard (11204)</a></li>\n<li><a href=\"/browse/authors/b#a251\">Balzac, Honoré de (11158)</a></li>\n<li><a href=\"/browse/authors/l#a9473\">Leech, John (10999)</a></li>\n<li><a href=\"/browse/authors/t#a31682\">Tinker, Chauncey Brewster (10902)</a></li>\n<li><a href=\"/browse/authors/t#a9854\">Townsend, F. H. (Frederick Henry) (10854)</a></li>\n<li><a href=\"/browse/authors/d#a204\">Defoe, Daniel (10691)</a></li>\n<li><a href=\"/browse/authors/s#a59\">Scott, Walter (10564)</a></li>\n<li><a href=\"/browse/authors/m#a564\">Marriott, W. K. (William Kenaz) (10377)</a></li>\n<li><a href=\"/browse/authors/p#a292\">Potter, Beatrix (9898)</a></li>\n<li><a href=\"/browse/authors/g#a586\">Goethe, Johann Wolfgang von (9810)</a></li>\n<li><a href=\"/browse/authors/m#a306\">Maupassant, Guy de (9731)</a></li>\n<li><a href=\"/browse/authors/h#a23\">Hardy, Thomas (9599)</a></li>\n<li><a href=\"/browse/authors/w#a783\">Wodehouse, P. G. (Pelham Grenville) (9403)</a></li>\n<li><a href=\"/browse/authors/c#a3622\">Cary, Henry Francis (9392)</a></li>\n<li><a href=\"/browse/authors/o#a506\">Ormsby, John (9272)</a></li>\n<li><a href=\"/browse/authors/b#a748\">Butler, Samuel (8999)</a></li>\n<li><a href=\"/browse/authors/h#a33608\">Hapgood, Isabel Florence (8963)</a></li>\n<li><a href=\"/browse/authors/t#a942\">Tagore, Rabindranath (8706)</a></li>\n<li><a href=\"/browse/authors/g#a1813\">Gibran, Kahlil (8450)</a></li>\n<li><a href=\"/browse/authors/b#a25301\">Buckley, Theodore Alois (8359)</a></li>\n<li><a href=\"/browse/authors/d#a4931\">Derbyshire, Charles E. (8308)</a></li>\n<li><a href=\"/browse/authors/g#a25267\">Garrett, Randall (8185)</a></li>\n<li><a href=\"/browse/authors/b#a48\">Burroughs, Edgar Rice (8130)</a></li>\n<li><a href=\"/browse/authors/b#a206\">Bierce, Ambrose (8106)</a></li>\n<li><a href=\"/browse/authors/b#a717\">Burgess, Thornton W. (Thornton Waldo) (8061)</a></li>\n<li><a href=\"/browse/authors/i#a34\">Irving, Washington (7926)</a></li>\n<li><a href=\"/browse/authors/e#a90\">Eliot, George (7911)</a></li>\n<li><a href=\"/browse/authors/w#a104\">Wharton, Edith (7904)</a></li>\n<li><a href=\"/browse/authors/u#a31855\">United States. Office of Strategic Services (7699)</a></li>\n<li><a href=\"/browse/authors/o#a36795\">Ogden, C. K. (Charles Kay) (7687)</a></li>\n<li><a href=\"/browse/authors/w#a1861\">Wittgenstein, Ludwig (7638)</a></li>\n<li><a href=\"/browse/authors/s#a28358\">Silverberg, Robert (7595)</a></li>\n<li><a href=\"/browse/authors/g#a850\">Galsworthy, John (7499)</a></li>\n<li><a href=\"/browse/authors/s#a3648\">Schopenhauer, Arthur (7499)</a></li>\n<li><a href=\"/browse/authors/r#a6335\">Rackham, Arthur (7468)</a></li>\n<li><a href=\"/browse/authors/k#a37155\">Kemble, E. W. (Edward Windsor) (7396)</a></li>\n<li><a href=\"/browse/authors/t#a34265\">Terry, W. E. (7329)</a></li>\n<li><a href=\"/browse/authors/s#a115\">Stowe, Harriet Beecher (7273)</a></li>\n<li><a href=\"/browse/authors/v#a5593\">Vatsyayana (7201)</a></li>\n</ol>\n<div class=\"padded\">\n<ul>\n<li><a href=\"#books-last1\">Top 100 EBooks yesterday</a></li>\n<li><a href=\"#authors-last1\">Top 100 Authors yesterday</a></li>\n<li><a href=\"#books-last7\">Top 100 EBooks last 7 days</a></li>\n<li><a href=\"#authors-last7\">Top 100 Authors last 7 days</a></li>\n<li><a href=\"#books-last30\">Top 100 EBooks last 30 days</a></li>\n<li><a href=\"#authors-last30\">Top 100 Authors last 30 days</a></li>\n</ul>\n</div>\n</div><!--content ending-->\n</div>\n<div class=\"footer\"><!-- start footer --> <ul>\n<li>\n<a href=\"/policy/privacy_policy.html\" title=\"Privacy Policy\">Privacy policy</a>\n</li>\n<li>\n<a href=\"/about/\" title=\"About Project Gutenberg\">About Project Gutenberg</a>\n</li>\n<li>\n<a href=\"/policy/terms_of_use.html\" title=\"Terms of Use\">Terms of Use</a>\n</li>\n<li>\n<a href=\"/about/contact_information.html\" title=\"Contact Information\">Contact Information</a>\n</li>\n<li><a href=\"/help/\" title=\"Get Help\">Get Help</a></li>\n</ul>\n<a href=\"https://www.ibiblio.org/\" title=\"Project Gutenberg is hosted by ibiblio\">\n<img alt=\"iBiblio\" src=\"/gutenberg/ibiblio-logo.png\"/>\n</a>\n</div><!-- footer ending-->\n<!-- body ending -->\n</body>\n</html>>"
     },
     "execution_count": 4,
     "metadata": {},
     "output_type": "execute_result"
    }
   ],
   "metadata": {
    "collapsed": false,
    "pycharm": {
     "name": "#%%\n"
    }
   }
  },
  {
   "cell_type": "code",
   "execution_count": 5,
   "source": [
    "# 4. Write a small function to check the status of the web request.\n",
    "def status_check(site):\n",
    "    the_response = requests.get(site)\n",
    "    if the_response:\n",
    "        print('Success!')\n",
    "        return 1\n",
    "    else:\n",
    "        print('Failure!')\n",
    "        return -1\n",
    "\n",
    "status_check(url)"
   ],
   "outputs": [
    {
     "name": "stdout",
     "output_type": "stream",
     "text": [
      "Success!\n"
     ]
    },
    {
     "data": {
      "text/plain": "1"
     },
     "execution_count": 5,
     "metadata": {},
     "output_type": "execute_result"
    }
   ],
   "metadata": {
    "collapsed": false,
    "pycharm": {
     "name": "#%%\n"
    }
   }
  },
  {
   "cell_type": "code",
   "execution_count": 6,
   "source": [
    "# 5. Decode the response and pass this on to BeautifulSoup for HTML parsing.\n",
    "def decode_content(r, encoding):\n",
    "    print(r.encoding)\n",
    "    return r.content.decode(encoding)\n",
    "\n",
    "type(decode_content(response, response.encoding))"
   ],
   "outputs": [
    {
     "name": "stdout",
     "output_type": "stream",
     "text": [
      "UTF-8\n"
     ]
    },
    {
     "data": {
      "text/plain": "str"
     },
     "execution_count": 6,
     "metadata": {},
     "output_type": "execute_result"
    }
   ],
   "metadata": {
    "collapsed": false,
    "pycharm": {
     "name": "#%%\n"
    }
   }
  },
  {
   "cell_type": "code",
   "execution_count": 7,
   "source": [
    "'''\n",
    "6. Find all the href tags and store them in the list of links. Check what the list looks like - print the first 30\n",
    "elements.\n",
    "'''\n",
    "href_list = []\n",
    "hrefs = soup.find('ol')\n",
    "for i in hrefs.find_all('a'):\n",
    "    href_list.append(i)\n",
    "\n",
    "print(href_list[:30])\n",
    "\n"
   ],
   "outputs": [
    {
     "name": "stdout",
     "output_type": "stream",
     "text": [
      "[<a href=\"/ebooks/1342\">Pride and Prejudice by Jane Austen (1513)</a>, <a href=\"/ebooks/11\">Alice's Adventures in Wonderland by Lewis Carroll (653)</a>, <a href=\"/ebooks/1661\">The Adventures of Sherlock Holmes by Arthur Conan Doyle (633)</a>, <a href=\"/ebooks/84\">Frankenstein; Or, The Modern Prometheus by Mary Wollstonecraft Shelley (581)</a>, <a href=\"/ebooks/2701\">Moby Dick; Or, The Whale by Herman Melville (522)</a>, <a href=\"/ebooks/98\">A Tale of Two Cities by Charles Dickens (480)</a>, <a href=\"/ebooks/65910\">Norse mythology; or The religion of our forefathers, containing all the myths of the Eddas, systemat (451)</a>, <a href=\"/ebooks/174\">The Picture of Dorian Gray by Oscar Wilde (444)</a>, <a href=\"/ebooks/65903\">Psychology of the Unconscious by C. G.  Jung (391)</a>, <a href=\"/ebooks/2600\">War and Peace by graf Leo Tolstoy (386)</a>, <a href=\"/ebooks/65908\">Illuminated illustrations of Froissart by Jean Froissart (384)</a>, <a href=\"/ebooks/1232\">The Prince by Niccolò Machiavelli (377)</a>, <a href=\"/ebooks/345\">Dracula by Bram Stoker (374)</a>, <a href=\"/ebooks/65912\">\"Swat the Fly!\" by Eleanor Gates (372)</a>, <a href=\"/ebooks/64317\">The Great Gatsby by F. Scott  Fitzgerald (362)</a>, <a href=\"/ebooks/60559\">The Chaldean Account of Genesis by George Smith (353)</a>, <a href=\"/ebooks/1952\">The Yellow Wallpaper by Charlotte Perkins Gilman (340)</a>, <a href=\"/ebooks/4300\">Ulysses by James Joyce (335)</a>, <a href=\"/ebooks/2591\">Grimms' Fairy Tales by Jacob Grimm and Wilhelm Grimm (333)</a>, <a href=\"/ebooks/5200\">Metamorphosis by Franz Kafka (332)</a>, <a href=\"/ebooks/1260\">Jane Eyre: An Autobiography by Charlotte Brontë (332)</a>, <a href=\"/ebooks/58585\">The Prophet by Kahlil Gibran (318)</a>, <a href=\"/ebooks/2542\">A Doll's House : a play by Henrik Ibsen (305)</a>, <a href=\"/ebooks/63256\">The American Diary of a Japanese Girl by Yoné Noguchi (297)</a>, <a href=\"/ebooks/205\">Walden, and On The Duty Of Civil Disobedience by Henry David Thoreau (278)</a>, <a href=\"/ebooks/2554\">Crime and Punishment by Fyodor Dostoyevsky (273)</a>, <a href=\"/ebooks/30254\">The Romance of Lust: A classic Victorian erotic novel by Anonymous (270)</a>, <a href=\"/ebooks/65907\">Wounded Souls by Philip Gibbs (266)</a>, <a href=\"/ebooks/27827\">The Kama Sutra of Vatsyayana by Vatsyayana (266)</a>, <a href=\"/ebooks/45\">Anne of Green Gables by L. M.  Montgomery (263)</a>]\n"
     ]
    }
   ],
   "metadata": {
    "collapsed": false,
    "pycharm": {
     "name": "#%%\n"
    }
   }
  },
  {
   "cell_type": "code",
   "execution_count": 8,
   "source": [
    "'''\n",
    "7. Use a regular expression to find the numeric digits in these links.  These are the file numbers for the top 100\n",
    "eBooks.\n",
    "8.  Initialize the empty list to hold the file numbers over an appropriate range and use regex to find the numeric\n",
    "digits in the link href string.  Use the findall method.\n",
    "'''\n",
    "import re\n",
    "ebook_file_list = []\n",
    "for links in href_list:    \n",
    "    res = re.findall('(?<=s\\/)(.*?)(?=\\\"\\>)', str(links))    \n",
    "    ebook_file_list.append(''.join(res))\n",
    "\n",
    "print(ebook_file_list)\n"
   ],
   "outputs": [
    {
     "name": "stdout",
     "output_type": "stream",
     "text": [
      "['1342', '11', '1661', '84', '2701', '98', '65910', '174', '65903', '2600', '65908', '1232', '345', '65912', '64317', '60559', '1952', '4300', '2591', '5200', '1260', '58585', '2542', '63256', '205', '2554', '30254', '65907', '27827', '45', '1184', '65918', '43', '65909', '996', '1400', '6133', '16', '55', '6130', '135', '514', '844', '74', '244', '46', '1998', '219', '5740', '408', '76', '1497', '5739', '65913', '28054', '1727', '1080', '768', '35899', '863', '203', '16328', '730', '120', '158', '4363', '2680', '902', '236', '2852', '41568', '1399', '132', '33283', '65919', '62370', '3600', '113', '829', '10', '8800', '2814', '42108', '36', '215', '19942', '25344', '766', '972', '25717', '29728', '4980', '26184', '308', '161', '3176', '160', '35', '43453', '2500']\n"
     ]
    }
   ],
   "metadata": {
    "collapsed": false,
    "pycharm": {
     "name": "#%%\n"
    }
   }
  },
  {
   "cell_type": "code",
   "execution_count": 9,
   "source": [
    "'''\n",
    "9.  What does the soup object's text look like?  Use the .text method and print only the first 2,000 characters (do not\n",
    "print the whole thing, as it is too long).\n",
    "'''\n",
    "print(soup.get_text()[:2000])"
   ],
   "outputs": [
    {
     "name": "stdout",
     "output_type": "stream",
     "text": [
      "\n",
      "\n",
      "\n",
      "Top 100 | Project Gutenberg\n",
      "\n",
      "\n",
      "\n",
      "\n",
      "\n",
      "\n",
      "\n",
      "\n",
      "\n",
      "\n",
      "\n",
      "\n",
      "\n",
      "\n",
      "\n",
      "\n",
      "\n",
      "\n",
      "\n",
      "\n",
      "\n",
      "\n",
      "\n",
      "\n",
      "\n",
      "\n",
      "\n",
      "Menu▾\n",
      "\n",
      "\n",
      "\n",
      "About\n",
      "          ▾\n",
      "\n",
      "▾\n",
      "\n",
      "\n",
      "About Project Gutenberg\n",
      "Collection Development\n",
      "Contact Us\n",
      "History & Philosophy\n",
      "Permissions & License\n",
      "Privacy Policy\n",
      "Terms of Use\n",
      "\n",
      "\n",
      "\n",
      "Search and Browse\n",
      "      \t  ▾\n",
      "\n",
      "▾\n",
      "\n",
      "\n",
      "Book Search\n",
      "Bookshelves\n",
      "Frequently Downloaded\n",
      "Offline Catalogs\n",
      "\n",
      "\n",
      "\n",
      "Help\n",
      "          ▾\n",
      "\n",
      "▾\n",
      "\n",
      "\n",
      "All help topics →\n",
      "Copyright Procedures\n",
      "Errata, Fixes and Bug Reports\n",
      "File Formats\n",
      "Frequently Asked Questions\n",
      "Policies →\n",
      "Public Domain eBook Submission\n",
      "Submitting Your Own Work\n",
      "Tablets, Phones and eReaders\n",
      "The Attic →\n",
      "\n",
      "\n",
      "Donate\n",
      "\n",
      "\n",
      "\n",
      "\n",
      "\n",
      "\n",
      "\n",
      "\n",
      "\n",
      "\n",
      "Donation\n",
      "\n",
      "\n",
      "\n",
      "\n",
      "\n",
      "\n",
      "\n",
      "Frequently Viewed or Downloaded\n",
      "These listings are based on the number of times each eBook gets downloaded.\n",
      "      Multiple downloads from the same Internet address on the same day count as one download, and addresses that download more than 100 eBooks in a day are considered robots and are not counted.\n",
      "\n",
      "Downloaded Books\n",
      "2021-07-25124408\n",
      "last 7 days955894\n",
      "last 30 days4003272\n",
      "\n",
      "\n",
      "\n",
      "Top 100 EBooks yesterday\n",
      "Top 100 Authors yesterday\n",
      "Top 100 EBooks last 7 days\n",
      "Top 100 Authors last 7 days\n",
      "Top 100 EBooks last 30 days\n",
      "Top 100 Authors last 30 days\n",
      "\n",
      "\n",
      "Top 100 EBooks yesterday\n",
      "\n",
      "Pride and Prejudice by Jane Austen (1513)\n",
      "Alice's Adventures in Wonderland by Lewis Carroll (653)\n",
      "The Adventures of Sherlock Holmes by Arthur Conan Doyle (633)\n",
      "Frankenstein; Or, The Modern Prometheus by Mary Wollstonecraft Shelley (581)\n",
      "Moby Dick; Or, The Whale by Herman Melville (522)\n",
      "A Tale of Two Cities by Charles Dickens (480)\n",
      "Norse mythology; or The religion of our forefathers, containing all the myths of the Eddas, systemat (451)\n",
      "The Picture of Dorian Gray by Oscar Wilde (444)\n",
      "Psychology of the Unconscious by C. G.  Jung (391)\n",
      "War and Peace by graf Leo Tolstoy (386)\n",
      "Illuminated illustrations of Froissart by Jean Froissart (384)\n",
      "The Prince by Niccolò Machiavelli (377)\n",
      "Dracula by Bram Stoker (374)\n",
      "\"Swat the Fly!\" by Eleanor Gates (372)\n",
      "The Great Gatsby by F. Scott  Fitzgerald (362)\n",
      "The Chaldean Account of Genesis by G\n"
     ]
    }
   ],
   "metadata": {
    "collapsed": false,
    "pycharm": {
     "name": "#%%\n"
    }
   }
  },
  {
   "cell_type": "code",
   "execution_count": 10,
   "source": [
    "'''\n",
    "10.  Search in the extracted text (using a regular expression) from the soup object to find the names of the top 100\n",
    "eBooks (yesterday's ranking).\n",
    "'''\n",
    "\n",
    "matching_exp = '(.*?)\\(\\d'\n",
    "names = re.findall(matching_exp, soup.get_text())\n",
    "print(names[:100])"
   ],
   "outputs": [
    {
     "name": "stdout",
     "output_type": "stream",
     "text": [
      "['Pride and Prejudice by Jane Austen ', \"Alice's Adventures in Wonderland by Lewis Carroll \", 'The Adventures of Sherlock Holmes by Arthur Conan Doyle ', 'Frankenstein; Or, The Modern Prometheus by Mary Wollstonecraft Shelley ', 'Moby Dick; Or, The Whale by Herman Melville ', 'A Tale of Two Cities by Charles Dickens ', 'Norse mythology; or The religion of our forefathers, containing all the myths of the Eddas, systemat ', 'The Picture of Dorian Gray by Oscar Wilde ', 'Psychology of the Unconscious by C. G.  Jung ', 'War and Peace by graf Leo Tolstoy ', 'Illuminated illustrations of Froissart by Jean Froissart ', 'The Prince by Niccolò Machiavelli ', 'Dracula by Bram Stoker ', '\"Swat the Fly!\" by Eleanor Gates ', 'The Great Gatsby by F. Scott  Fitzgerald ', 'The Chaldean Account of Genesis by George Smith ', 'The Yellow Wallpaper by Charlotte Perkins Gilman ', 'Ulysses by James Joyce ', \"Grimms' Fairy Tales by Jacob Grimm and Wilhelm Grimm \", 'Metamorphosis by Franz Kafka ', 'Jane Eyre: An Autobiography by Charlotte Brontë ', 'The Prophet by Kahlil Gibran ', \"A Doll's House : a play by Henrik Ibsen \", 'The American Diary of a Japanese Girl by Yoné Noguchi ', 'Walden, and On The Duty Of Civil Disobedience by Henry David Thoreau ', 'Crime and Punishment by Fyodor Dostoyevsky ', 'The Romance of Lust: A classic Victorian erotic novel by Anonymous ', 'Wounded Souls by Philip Gibbs ', 'The Kama Sutra of Vatsyayana by Vatsyayana ', 'Anne of Green Gables by L. M.  Montgomery ', 'The Count of Monte Cristo, Illustrated by Alexandre Dumas ', 'Guide to the Bayeux tapestry by F. F. L. Birrell ', 'The Strange Case of Dr. Jekyll and Mr. Hyde by Robert Louis Stevenson ', 'A Smaller Dictionary of Greek and Roman Antiquities by William Smith ', 'Don Quixote by Miguel de Cervantes Saavedra ', 'Great Expectations by Charles Dickens ', 'The Extraordinary Adventures of Arsene Lupin, Gentleman-Burglar by Maurice Leblanc ', 'Peter Pan by J. M.  Barrie ', 'The Wonderful Wizard of Oz by L. Frank  Baum ', 'The Iliad by Homer ', 'Les Misérables by Victor Hugo ', 'Little Women by Louisa May Alcott ', 'The Importance of Being Earnest: A Trivial Comedy for Serious People by Oscar Wilde ', 'The Adventures of Tom Sawyer, Complete by Mark Twain ', 'A Study in Scarlet by Arthur Conan Doyle ', 'A Christmas Carol in Prose; Being a Ghost Story of Christmas by Charles Dickens ', 'Thus Spake Zarathustra: A Book for All and None by Friedrich Wilhelm Nietzsche ', 'Heart of Darkness by Joseph Conrad ', 'Tractatus Logico-Philosophicus by Ludwig Wittgenstein ', 'The Souls of Black Folk by W. E. B.  Du Bois ', 'Adventures of Huckleberry Finn by Mark Twain ', 'The Republic by Plato ', 'Korean—English Dictionary by Leon Kuperman ', 'Tirant lo Blanch; a study of its authorship, principal sources and historical setting by Vaeth ', 'The Brothers Karamazov by Fyodor Dostoyevsky ', 'The Odyssey by Homer ', 'A Modest Proposal by Jonathan Swift ', 'Wuthering Heights by Emily Brontë ', 'The Philippines a Century Hence by José Rizal ', 'The Mysterious Affair at Styles by Agatha Christie ', \"Uncle Tom's Cabin by Harriet Beecher Stowe \", 'Beowulf: An Anglo-Saxon Epic Poem ', 'Oliver Twist by Charles Dickens ', 'Treasure Island by Robert Louis Stevenson ', 'Emma by Jane Austen ', 'Beyond Good and Evil by Friedrich Wilhelm Nietzsche ', 'Meditations by Emperor of Rome Marcus Aurelius ', 'The Happy Prince, and Other Tales by Oscar Wilde ', 'The Jungle Book by Rudyard Kipling ', 'The Hound of the Baskervilles by Arthur Conan Doyle ', 'An Introduction to Mathematics by Alfred North Whitehead ', 'Anna Karenina by graf Leo Tolstoy ', 'The Art of War by active 6th century B.C. Sunzi ', 'Calculus Made Easy by Silvanus P.  Thompson ', 'History of the Fylde of Lancashire by John Porter ', 'Folk-Speech of Cumberland and Some Districts Adjacent by Alexander Craig Gibson ', 'Essays of Michel de Montaigne — Complete by Michel de Montaigne ', 'The Secret Garden by Frances Hodgson Burnett ', \"Gulliver's Travels into Several Remote Nations of the World by Jonathan Swift \", 'The King James Version of the Bible ', 'An Index of The Divine Comedy by Dante by Dante Alighieri ', 'Dubliners by James Joyce ', 'The Slang Dictionary: Etymological, Historical and Andecdotal by John Camden Hotten ', 'The War of the Worlds by H. G.  Wells ', 'The Call of the Wild by Jack London ', 'Candide by Voltaire ', 'The Scarlet Letter by Nathaniel Hawthorne ', 'David Copperfield by Charles Dickens ', \"The Devil's Dictionary by Ambrose Bierce \", 'The History of the Decline and Fall of the Roman Empire by Edward Gibbon ', 'Cookery and Dining in Imperial Rome by Apicius ', 'Old Granny Fox by Thornton W.  Burgess ', 'Simple Sabotage Field Manual by United States. Office of Strategic Services ', 'Three Men in a Boat (To Say Nothing of the Dog) by Jerome K.  Jerome ', 'Sense and Sensibility by Jane Austen ', 'The Innocents Abroad by Mark Twain ', 'The Awakening, and Selected Short Stories by Kate Chopin ', 'The Time Machine by H. G.  Wells ', 'A Pickle for the Knowing Ones by Timothy Dexter ', 'Siddhartha by Hermann Hesse ']\n"
     ]
    }
   ],
   "metadata": {
    "collapsed": false,
    "pycharm": {
     "name": "#%%\n"
    }
   }
  },
  {
   "cell_type": "code",
   "execution_count": 11,
   "source": [
    "'''\n",
    "11.  Create a starting index.  It should point at the Top 100 Ebooks yesterday.  Use the splitlines method of soup.text.\n",
    "It splits the lines of text of the soup object.\n",
    "'''\n",
    "idx = soup.text.splitlines().index('Top 100 EBooks yesterday')\n",
    "print(idx)"
   ],
   "outputs": [
    {
     "name": "stdout",
     "output_type": "stream",
     "text": [
      "112\n"
     ]
    }
   ],
   "metadata": {
    "collapsed": false,
    "pycharm": {
     "name": "#%%\n"
    }
   }
  },
  {
   "cell_type": "code",
   "execution_count": 12,
   "source": [
    "# 12. Loop 1-100 to add the strings of the next 100 lines to this temporary list.  Hint: use the splitlines method.\n",
    "temp_title_list = [soup.text.splitlines()[idx+i+10] for i in range(100) if soup.text.splitlines()[idx+1+10]]\n",
    "print(temp_title_list)\n"
   ],
   "outputs": [
    {
     "name": "stdout",
     "output_type": "stream",
     "text": [
      "['Pride and Prejudice by Jane Austen (1513)', \"Alice's Adventures in Wonderland by Lewis Carroll (653)\", 'The Adventures of Sherlock Holmes by Arthur Conan Doyle (633)', 'Frankenstein; Or, The Modern Prometheus by Mary Wollstonecraft Shelley (581)', 'Moby Dick; Or, The Whale by Herman Melville (522)', 'A Tale of Two Cities by Charles Dickens (480)', 'Norse mythology; or The religion of our forefathers, containing all the myths of the Eddas, systemat (451)', 'The Picture of Dorian Gray by Oscar Wilde (444)', 'Psychology of the Unconscious by C. G.  Jung (391)', 'War and Peace by graf Leo Tolstoy (386)', 'Illuminated illustrations of Froissart by Jean Froissart (384)', 'The Prince by Niccolò Machiavelli (377)', 'Dracula by Bram Stoker (374)', '\"Swat the Fly!\" by Eleanor Gates (372)', 'The Great Gatsby by F. Scott  Fitzgerald (362)', 'The Chaldean Account of Genesis by George Smith (353)', 'The Yellow Wallpaper by Charlotte Perkins Gilman (340)', 'Ulysses by James Joyce (335)', \"Grimms' Fairy Tales by Jacob Grimm and Wilhelm Grimm (333)\", 'Metamorphosis by Franz Kafka (332)', 'Jane Eyre: An Autobiography by Charlotte Brontë (332)', 'The Prophet by Kahlil Gibran (318)', \"A Doll's House : a play by Henrik Ibsen (305)\", 'The American Diary of a Japanese Girl by Yoné Noguchi (297)', 'Walden, and On The Duty Of Civil Disobedience by Henry David Thoreau (278)', 'Crime and Punishment by Fyodor Dostoyevsky (273)', 'The Romance of Lust: A classic Victorian erotic novel by Anonymous (270)', 'Wounded Souls by Philip Gibbs (266)', 'The Kama Sutra of Vatsyayana by Vatsyayana (266)', 'Anne of Green Gables by L. M.  Montgomery (263)', 'The Count of Monte Cristo, Illustrated by Alexandre Dumas (263)', 'Guide to the Bayeux tapestry by F. F. L. Birrell (260)', 'The Strange Case of Dr. Jekyll and Mr. Hyde by Robert Louis Stevenson (257)', 'A Smaller Dictionary of Greek and Roman Antiquities by William Smith (256)', 'Don Quixote by Miguel de Cervantes Saavedra (255)', 'Great Expectations by Charles Dickens (254)', 'The Extraordinary Adventures of Arsene Lupin, Gentleman-Burglar by Maurice Leblanc (249)', 'Peter Pan by J. M.  Barrie (247)', 'The Wonderful Wizard of Oz by L. Frank  Baum (242)', 'The Iliad by Homer (233)', 'Les Misérables by Victor Hugo (230)', 'Little Women by Louisa May Alcott (225)', 'The Importance of Being Earnest: A Trivial Comedy for Serious People by Oscar Wilde (224)', 'The Adventures of Tom Sawyer, Complete by Mark Twain (222)', 'A Study in Scarlet by Arthur Conan Doyle (217)', 'A Christmas Carol in Prose; Being a Ghost Story of Christmas by Charles Dickens (214)', 'Thus Spake Zarathustra: A Book for All and None by Friedrich Wilhelm Nietzsche (209)', 'Heart of Darkness by Joseph Conrad (208)', 'Tractatus Logico-Philosophicus by Ludwig Wittgenstein (206)', 'The Souls of Black Folk by W. E. B.  Du Bois (205)', 'Adventures of Huckleberry Finn by Mark Twain (201)', 'The Republic by Plato (201)', 'Korean—English Dictionary by Leon Kuperman (200)', 'Tirant lo Blanch; a study of its authorship, principal sources and historical setting by Vaeth (193)', 'The Brothers Karamazov by Fyodor Dostoyevsky (187)', 'The Odyssey by Homer (186)', 'A Modest Proposal by Jonathan Swift (180)', 'Wuthering Heights by Emily Brontë (180)', 'The Philippines a Century Hence by José Rizal (179)', 'The Mysterious Affair at Styles by Agatha Christie (177)', \"Uncle Tom's Cabin by Harriet Beecher Stowe (176)\", 'Beowulf: An Anglo-Saxon Epic Poem (172)', 'Oliver Twist by Charles Dickens (172)', 'Treasure Island by Robert Louis Stevenson (172)', 'Emma by Jane Austen (170)', 'Beyond Good and Evil by Friedrich Wilhelm Nietzsche (168)', 'Meditations by Emperor of Rome Marcus Aurelius (164)', 'The Happy Prince, and Other Tales by Oscar Wilde (162)', 'The Jungle Book by Rudyard Kipling (161)', 'The Hound of the Baskervilles by Arthur Conan Doyle (161)', 'An Introduction to Mathematics by Alfred North Whitehead (161)', 'Anna Karenina by graf Leo Tolstoy (160)', 'The Art of War by active 6th century B.C. Sunzi (158)', 'Calculus Made Easy by Silvanus P.  Thompson (156)', 'History of the Fylde of Lancashire by John Porter (156)', 'Folk-Speech of Cumberland and Some Districts Adjacent by Alexander Craig Gibson (155)', 'Essays of Michel de Montaigne — Complete by Michel de Montaigne (154)', 'The Secret Garden by Frances Hodgson Burnett (154)', \"Gulliver's Travels into Several Remote Nations of the World by Jonathan Swift (153)\", 'The King James Version of the Bible (140)', 'An Index of The Divine Comedy by Dante by Dante Alighieri (139)', 'Dubliners by James Joyce (138)', 'The Slang Dictionary: Etymological, Historical and Andecdotal by John Camden Hotten (134)', 'The War of the Worlds by H. G.  Wells (133)', 'The Call of the Wild by Jack London (133)', 'Candide by Voltaire (133)', 'The Scarlet Letter by Nathaniel Hawthorne (132)', 'David Copperfield by Charles Dickens (132)', \"The Devil's Dictionary by Ambrose Bierce (131)\", 'The History of the Decline and Fall of the Roman Empire by Edward Gibbon (131)', 'Cookery and Dining in Imperial Rome by Apicius (129)', 'Old Granny Fox by Thornton W.  Burgess (125)', 'Simple Sabotage Field Manual by United States. Office of Strategic Services (123)', 'Three Men in a Boat (To Say Nothing of the Dog) by Jerome K.  Jerome (123)', 'Sense and Sensibility by Jane Austen (122)', 'The Innocents Abroad by Mark Twain (119)', 'The Awakening, and Selected Short Stories by Kate Chopin (119)', 'The Time Machine by H. G.  Wells (117)', 'A Pickle for the Knowing Ones by Timothy Dexter (117)', 'Siddhartha by Hermann Hesse (113)']\n"
     ]
    }
   ],
   "metadata": {
    "collapsed": false,
    "pycharm": {
     "name": "#%%\n"
    }
   }
  },
  {
   "cell_type": "code",
   "execution_count": 22,
   "source": [
    "'''\n",
    "13.  Use a regular expression to extract only text from the name strings and append it to an empty list.  Use match and\n",
    "span to find the indices and use them.\n",
    "'''\n",
    "\n",
    "title_list = []\n",
    "for i in range(100):\n",
    "    beg_index, end_index = re.match('^[a-zA-Z ]*', temp_title_list[i]).span()\n",
    "    title_list.append(temp_title_list[i][beg_index:end_index])\n",
    "print(title_list)"
   ],
   "outputs": [
    {
     "name": "stdout",
     "output_type": "stream",
     "text": [
      "['Pride and Prejudice by Jane Austen ', 'Alice', 'The Adventures of Sherlock Holmes by Arthur Conan Doyle ', 'Frankenstein', 'Moby Dick', 'A Tale of Two Cities by Charles Dickens ', 'Norse mythology', 'The Picture of Dorian Gray by Oscar Wilde ', 'Psychology of the Unconscious by C', 'War and Peace by graf Leo Tolstoy ', 'Illuminated illustrations of Froissart by Jean Froissart ', 'The Prince by Niccol', 'Dracula by Bram Stoker ', '', 'The Great Gatsby by F', 'The Chaldean Account of Genesis by George Smith ', 'The Yellow Wallpaper by Charlotte Perkins Gilman ', 'Ulysses by James Joyce ', 'Grimms', 'Metamorphosis by Franz Kafka ', 'Jane Eyre', 'The Prophet by Kahlil Gibran ', 'A Doll', 'The American Diary of a Japanese Girl by Yon', 'Walden', 'Crime and Punishment by Fyodor Dostoyevsky ', 'The Romance of Lust', 'Wounded Souls by Philip Gibbs ', 'The Kama Sutra of Vatsyayana by Vatsyayana ', 'Anne of Green Gables by L', 'The Count of Monte Cristo', 'Guide to the Bayeux tapestry by F', 'The Strange Case of Dr', 'A Smaller Dictionary of Greek and Roman Antiquities by William Smith ', 'Don Quixote by Miguel de Cervantes Saavedra ', 'Great Expectations by Charles Dickens ', 'The Extraordinary Adventures of Arsene Lupin', 'Peter Pan by J', 'The Wonderful Wizard of Oz by L', 'The Iliad by Homer ', 'Les Mis', 'Little Women by Louisa May Alcott ', 'The Importance of Being Earnest', 'The Adventures of Tom Sawyer', 'A Study in Scarlet by Arthur Conan Doyle ', 'A Christmas Carol in Prose', 'Thus Spake Zarathustra', 'Heart of Darkness by Joseph Conrad ', 'Tractatus Logico', 'The Souls of Black Folk by W', 'Adventures of Huckleberry Finn by Mark Twain ', 'The Republic by Plato ', 'Korean', 'Tirant lo Blanch', 'The Brothers Karamazov by Fyodor Dostoyevsky ', 'The Odyssey by Homer ', 'A Modest Proposal by Jonathan Swift ', 'Wuthering Heights by Emily Bront', 'The Philippines a Century Hence by Jos', 'The Mysterious Affair at Styles by Agatha Christie ', 'Uncle Tom', 'Beowulf', 'Oliver Twist by Charles Dickens ', 'Treasure Island by Robert Louis Stevenson ', 'Emma by Jane Austen ', 'Beyond Good and Evil by Friedrich Wilhelm Nietzsche ', 'Meditations by Emperor of Rome Marcus Aurelius ', 'The Happy Prince', 'The Jungle Book by Rudyard Kipling ', 'The Hound of the Baskervilles by Arthur Conan Doyle ', 'An Introduction to Mathematics by Alfred North Whitehead ', 'Anna Karenina by graf Leo Tolstoy ', 'The Art of War by active ', 'Calculus Made Easy by Silvanus P', 'History of the Fylde of Lancashire by John Porter ', 'Folk', 'Essays of Michel de Montaigne ', 'The Secret Garden by Frances Hodgson Burnett ', 'Gulliver', 'The King James Version of the Bible ', 'An Index of The Divine Comedy by Dante by Dante Alighieri ', 'Dubliners by James Joyce ', 'The Slang Dictionary', 'The War of the Worlds by H', 'The Call of the Wild by Jack London ', 'Candide by Voltaire ', 'The Scarlet Letter by Nathaniel Hawthorne ', 'David Copperfield by Charles Dickens ', 'The Devil', 'The History of the Decline and Fall of the Roman Empire by Edward Gibbon ', 'Cookery and Dining in Imperial Rome by Apicius ', 'Old Granny Fox by Thornton W', 'Simple Sabotage Field Manual by United States', 'Three Men in a Boat ', 'Sense and Sensibility by Jane Austen ', 'The Innocents Abroad by Mark Twain ', 'The Awakening', 'The Time Machine by H', 'A Pickle for the Knowing Ones by Timothy Dexter ', 'Siddhartha by Hermann Hesse ']\n"
     ]
    }
   ],
   "metadata": {
    "collapsed": false,
    "pycharm": {
     "name": "#%%\n"
    }
   }
  },
  {
   "cell_type": "markdown",
   "source": [
    "## Data Wrangling with Python: Activity 10 (pg 295) Building Your Own Movie Database by Reading an API\n",
    "\n",
    "### You will build a complete movie database by communicating and interfacing with a free API.\n",
    "### The aims of this activity are as follows:  To retrieve and print basic data about a movie (the title is entered\n",
    "### by the user) from the web (OMDb database)\n",
    "### If a poster of the movie is found, it downloads the file and saves it at a user-specified location"
   ],
   "metadata": {
    "collapsed": false
   }
  },
  {
   "cell_type": "code",
   "execution_count": null,
   "outputs": [],
   "source": [
    "'''\n",
    "1.  Import urllib.request, urlib.parse, urlib.error and json.\n",
    "'''\n",
    "import urllib.request\n",
    "import urllib.parse\n",
    "import urllib.error\n",
    "import json\n"
   ],
   "metadata": {
    "collapsed": false,
    "pycharm": {
     "name": "#%%\n"
    }
   }
  },
  {
   "cell_type": "code",
   "execution_count": 43,
   "outputs": [
    {
     "ename": "AttributeError",
     "evalue": "'str' object has no attribute 'decode'",
     "output_type": "error",
     "traceback": [
      "\u001B[0;31m---------------------------------------------------------------------------\u001B[0m",
      "\u001B[0;31mAttributeError\u001B[0m                            Traceback (most recent call last)",
      "\u001B[0;32m<ipython-input-43-a67f9b8e0c2a>\u001B[0m in \u001B[0;36m<module>\u001B[0;34m\u001B[0m\n\u001B[1;32m      5\u001B[0m '''\n\u001B[1;32m      6\u001B[0m \u001B[0mf\u001B[0m \u001B[0;34m=\u001B[0m \u001B[0mopen\u001B[0m\u001B[0;34m(\u001B[0m\u001B[0;34m'APIkeys.json'\u001B[0m\u001B[0;34m,\u001B[0m \u001B[0;34m\"r\"\u001B[0m\u001B[0;34m)\u001B[0m\u001B[0;34m\u001B[0m\u001B[0;34m\u001B[0m\u001B[0m\n\u001B[0;32m----> 7\u001B[0;31m \u001B[0minfo\u001B[0m \u001B[0;34m=\u001B[0m \u001B[0mjson\u001B[0m\u001B[0;34m.\u001B[0m\u001B[0mloads\u001B[0m\u001B[0;34m(\u001B[0m\u001B[0mf\u001B[0m\u001B[0;34m.\u001B[0m\u001B[0mread\u001B[0m\u001B[0;34m(\u001B[0m\u001B[0;34m)\u001B[0m\u001B[0;34m.\u001B[0m\u001B[0mdecode\u001B[0m\u001B[0;34m(\u001B[0m\u001B[0;34m)\u001B[0m\u001B[0;34m)\u001B[0m\u001B[0;34m\u001B[0m\u001B[0;34m\u001B[0m\u001B[0m\n\u001B[0m\u001B[1;32m      8\u001B[0m \u001B[0mtype\u001B[0m\u001B[0;34m(\u001B[0m\u001B[0minfo\u001B[0m\u001B[0;34m)\u001B[0m\u001B[0;34m\u001B[0m\u001B[0;34m\u001B[0m\u001B[0m\n\u001B[1;32m      9\u001B[0m \u001B[0;34m\u001B[0m\u001B[0m\n",
      "\u001B[0;31mAttributeError\u001B[0m: 'str' object has no attribute 'decode'"
     ]
    }
   ],
   "source": [
    "'''\n",
    "2.  Load the secret API key (you have to get one from the OMDb website and use that; it has a daily limit of 1,000) from\n",
    "a JSON file stored in the same folder in a variable, by using json.loads.\n",
    "3.  Obtain a key and store it in JSON as APIkeys.json\n",
    "'''\n",
    "f = open('APIkeys.json', \"r\")\n",
    "info = json.loads(f.read())\n",
    "type(info)"
   ],
   "metadata": {
    "collapsed": false,
    "pycharm": {
     "name": "#%%\n"
    }
   }
  },
  {
   "cell_type": "code",
   "execution_count": null,
   "outputs": [],
   "source": [
    "'''\n",
    "4.  Open the APIkeys.json file.\n",
    "'''\n"
   ],
   "metadata": {
    "collapsed": false,
    "pycharm": {
     "name": "#%%\n"
    }
   }
  },
  {
   "cell_type": "code",
   "execution_count": null,
   "outputs": [],
   "source": [
    "'''\n",
    "5.  Assign the OMDb portal as a string to a variable.\n",
    "'''\n"
   ],
   "metadata": {
    "collapsed": false,
    "pycharm": {
     "name": "#%%\n"
    }
   }
  },
  {
   "cell_type": "code",
   "execution_count": null,
   "outputs": [],
   "source": [
    "'''\n",
    "6.  Create a variable called apikey with the last portion of the URL (&apikey=secretapikey), where secretapikey is your\n",
    "own API key.\n",
    "'''\n"
   ],
   "metadata": {
    "collapsed": false,
    "pycharm": {
     "name": "#%%\n"
    }
   }
  },
  {
   "cell_type": "code",
   "execution_count": null,
   "outputs": [],
   "source": [
    "'''\n",
    "7.  Write a utility function called print_json to print the movie data from a JSON file (which we will get from the\n",
    "portal).\n",
    "'''\n"
   ],
   "metadata": {
    "collapsed": false,
    "pycharm": {
     "name": "#%%\n"
    }
   }
  },
  {
   "cell_type": "code",
   "execution_count": null,
   "outputs": [],
   "source": [
    "'''\n",
    "8.  Write a utility function to download a poster of the movie based on the inf from the JSON dataset and sae it to your\n",
    "local folder.  Use the os module.  The poster data is stored in the JSON key Poster.  Use the Python command to open a\n",
    "file and write the poster data.  Close the file after you're done.  This function will save the poster data as an image\n",
    "file.\n",
    "'''"
   ],
   "metadata": {
    "collapsed": false,
    "pycharm": {
     "name": "#%%\n"
    }
   }
  },
  {
   "cell_type": "code",
   "execution_count": null,
   "outputs": [],
   "source": [
    "'''\n",
    "9.  Write a utility function called search_movie to search for a movie by its name, print the downloaded JSON data, and\n",
    "save the movie poster in the local folder.  Use a try-except loop for this.  Use the previously created serviceurl and\n",
    "apikey variables.  You have to pass on a dictionary with key, t, and the movie name as the corresponding value to the\n",
    "urllib.parse.urlencode() function and then add the servieurl and apikey to the output of the function to construct the\n",
    "full URL.  This URL will be use to access the data.  The JSON data has a key called Response.  If it is True, that means\n",
    "the read was successful.  Check this before processing the data.  If it's not successful, then print the JSON key Error,\n",
    "which will contain the appropriate error message returned by the movie database.\n",
    "'''"
   ],
   "metadata": {
    "collapsed": false,
    "pycharm": {
     "name": "#%%\n"
    }
   }
  },
  {
   "cell_type": "code",
   "execution_count": null,
   "outputs": [],
   "source": [
    "'''\n",
    "10.  Test the search_movie function by entering Titanic.\n",
    "'''\n"
   ],
   "metadata": {
    "collapsed": false,
    "pycharm": {
     "name": "#%%\n"
    }
   }
  },
  {
   "cell_type": "code",
   "execution_count": null,
   "outputs": [],
   "source": [
    "'''\n",
    "11.  Test the search_movie function by entering \"Random_error\" (obviously, this will not be found, and you should be\n",
    "able to check whether your error catching code is working properly).\n",
    "'''"
   ],
   "metadata": {
    "collapsed": false,
    "pycharm": {
     "name": "#%%\n"
    }
   }
  }
 ],
 "metadata": {
  "kernelspec": {
   "display_name": "Python 3",
   "language": "python",
   "name": "python3"
  },
  "language_info": {
   "codemirror_mode": {
    "name": "ipython",
    "version": 2
   },
   "file_extension": ".py",
   "mimetype": "text/x-python",
   "name": "python",
   "nbconvert_exporter": "python",
   "pygments_lexer": "ipython2",
   "version": "2.7.6"
  }
 },
 "nbformat": 4,
 "nbformat_minor": 2
}