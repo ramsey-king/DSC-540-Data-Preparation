{
 "cells": [
  {
   "cell_type": "markdown",
   "metadata": {},
   "source": [
    "# Ramsey King\n",
    "# DSC 540 - Data Preparation\n",
    "# Week 3 & 4 Assignment\n",
    "# July 3, 2021"
   ]
  },
  {
   "cell_type": "markdown",
   "metadata": {},
   "source": [
    "## Data Wrangling with Python: Activity 5 (pg 116)"
   ]
  },
  {
   "cell_type": "code",
   "execution_count": 72,
   "metadata": {
    "scrolled": true
   },
   "outputs": [],
   "source": [
    "# 1. Load the ncessary libraries.\n",
    "# 2. Read in the Boston housing dataset (given as a .csv file) from the local directory.\n",
    "\n",
    "import numpy as np\n",
    "import pandas as pd\n",
    "import matplotlib.pyplot as plt\n",
    "\n",
    "boston_data = pd.read_csv('Boston.csv', sep=\",\")\n"
   ]
  },
  {
   "cell_type": "markdown",
   "metadata": {},
   "source": [
    "#### The dataset columns described as found at https://www.kaggle.com/prasadperera/the-boston-housing-dataset:\n",
    "\n",
    "- CRIM: per capita crime rate by town\n",
    "- ZN: proportion of residential land zoned for lots over 25,000 sq.ft.\n",
    "- INDUS: proportion of non-retail business acres per town.\n",
    "- CHAS: Charles River dummy variable (1 if tract bounds river; 0 otherwise)\n",
    "- NOX: nitric oxides concentration (parts per 10 million)\n",
    "- RM: average number of rooms per dwelling\n",
    "- AGE: proportion of owner-occupied units built prior to 1940\n",
    "- DIS: weighted distances to five Boston employment centres\n",
    "- RAD: index of accessibility to radial highways\n",
    "- TAX: full-value property-tax rate per \\\\$10,000\n",
    "- PTRATIO: pupil-teacher ratio by town\n",
    "- B: 1000(Bk - 0.63)^2 where Bk is the proportion of blacks by town\n",
    "- LSTAT: percentage of lower status of the population\n",
    "- MEDV: Median value of owner-occupied homes in $1000's"
   ]
  },
  {
   "cell_type": "code",
   "execution_count": 73,
   "metadata": {},
   "outputs": [
    {
     "name": "stdout",
     "output_type": "stream",
     "text": [
      "   Unnamed: 0     crim    zn  indus  chas    nox     rm    age     dis  rad  \\\n",
      "0           1  0.00632  18.0   2.31     0  0.538  6.575   65.2  4.0900    1   \n",
      "1           2  0.02731   0.0   7.07     0  0.469  6.421   78.9  4.9671    2   \n",
      "2           3  0.02729   0.0   7.07     0  0.469  7.185   61.1  4.9671    2   \n",
      "3           4  0.03237   0.0   2.18     0  0.458  6.998   45.8  6.0622    3   \n",
      "4           5  0.06905   0.0   2.18     0  0.458  7.147   54.2  6.0622    3   \n",
      "5           6  0.02985   0.0   2.18     0  0.458  6.430   58.7  6.0622    3   \n",
      "6           7  0.08829  12.5   7.87     0  0.524  6.012   66.6  5.5605    5   \n",
      "7           8  0.14455  12.5   7.87     0  0.524  6.172   96.1  5.9505    5   \n",
      "8           9  0.21124  12.5   7.87     0  0.524  5.631  100.0  6.0821    5   \n",
      "9          10  0.17004  12.5   7.87     0  0.524  6.004   85.9  6.5921    5   \n",
      "\n",
      "   tax  ptratio   black  lstat  medv  \n",
      "0  296     15.3  396.90   4.98  24.0  \n",
      "1  242     17.8  396.90   9.14  21.6  \n",
      "2  242     17.8  392.83   4.03  34.7  \n",
      "3  222     18.7  394.63   2.94  33.4  \n",
      "4  222     18.7  396.90   5.33  36.2  \n",
      "5  222     18.7  394.12   5.21  28.7  \n",
      "6  311     15.2  395.60  12.43  22.9  \n",
      "7  311     15.2  396.90  19.15  27.1  \n",
      "8  311     15.2  386.63  29.93  16.5  \n",
      "9  311     15.2  386.71  17.10  18.9  \n",
      "506\n"
     ]
    }
   ],
   "source": [
    "# 3. Check the first 10 records.  Find the total number of records.\n",
    "print(boston_data.head(10))\n",
    "print(len(boston_data))\n",
    "\n"
   ]
  },
  {
   "cell_type": "code",
   "execution_count": 74,
   "metadata": {},
   "outputs": [
    {
     "name": "stdout",
     "output_type": "stream",
     "text": [
      "        crim   zn  indus     rm   age     dis  rad  tax  ptratio  medv\n",
      "499  0.17783  0.0   9.69  5.569  73.5  2.3999    6  391     19.2  17.5\n",
      "500  0.22438  0.0   9.69  6.027  79.7  2.4982    6  391     19.2  16.8\n",
      "501  0.06263  0.0  11.93  6.593  69.1  2.4786    1  273     21.0  22.4\n",
      "502  0.04527  0.0  11.93  6.120  76.7  2.2875    1  273     21.0  20.6\n",
      "503  0.06076  0.0  11.93  6.976  91.0  2.1675    1  273     21.0  23.9\n",
      "504  0.10959  0.0  11.93  6.794  89.3  2.3889    1  273     21.0  22.0\n",
      "505  0.04741  0.0  11.93  6.030  80.8  2.5050    1  273     21.0  11.9\n"
     ]
    }
   ],
   "source": [
    "# 4. Create a smaller DataFrame with columns that DO NOT include CHAS, NOX, B, and LSTAT.\n",
    "# 5. Check the last seven records of the new DataFrame you just created.\n",
    "\n",
    "small_boston_data = boston_data.drop(columns=['chas', 'nox', 'black', 'lstat', 'Unnamed: 0'])\n",
    "print(small_boston_data.tail(7))\n",
    "\n"
   ]
  },
  {
   "cell_type": "code",
   "execution_count": 75,
   "metadata": {
    "scrolled": false
   },
   "outputs": [
    {
     "data": {
      "image/png": "[encoded data removed]",
      "text/plain": [
       "<Figure size 432x288 with 1 Axes>"
      ]
     },
     "metadata": {
      "needs_background": "light"
     },
     "output_type": "display_data"
    },
    {
     "data": {
      "image/png": "[encoded data removed]",
      "text/plain": [
       "<Figure size 432x288 with 1 Axes>"
      ]
     },
     "metadata": {
      "needs_background": "light"
     },
     "output_type": "display_data"
    },
    {
     "data": {
      "image/png": "[encoded data removed]",
      "text/plain": [
       "<Figure size 432x288 with 1 Axes>"
      ]
     },
     "metadata": {
      "needs_background": "light"
     },
     "output_type": "display_data"
    },
    {
     "data": {
      "image/png": "[encoded data removed]",
      "text/plain": [
       "<Figure size 432x288 with 1 Axes>"
      ]
     },
     "metadata": {
      "needs_background": "light"
     },
     "output_type": "display_data"
    },
    {
     "data": {
      "image/png": "[encoded data removed]",
      "text/plain": [
       "<Figure size 432x288 with 1 Axes>"
      ]
     },
     "metadata": {
      "needs_background": "light"
     },
     "output_type": "display_data"
    },
    {
     "data": {
      "image/png": "[encoded data removed]",
      "text/plain": [
       "<Figure size 432x288 with 1 Axes>"
      ]
     },
     "metadata": {
      "needs_background": "light"
     },
     "output_type": "display_data"
    },
    {
     "data": {
      "image/png": "[encoded data removed]",
      "text/plain": [
       "<Figure size 432x288 with 1 Axes>"
      ]
     },
     "metadata": {
      "needs_background": "light"
     },
     "output_type": "display_data"
    },
    {
     "data": {
      "image/png": "[encoded data removed]",
      "text/plain": [
       "<Figure size 432x288 with 1 Axes>"
      ]
     },
     "metadata": {
      "needs_background": "light"
     },
     "output_type": "display_data"
    },
    {
     "data": {
      "image/png": "[encoded data removed]",
      "text/plain": [
       "<Figure size 432x288 with 1 Axes>"
      ]
     },
     "metadata": {
      "needs_background": "light"
     },
     "output_type": "display_data"
    },
    {
     "data": {
      "image/png": "[encoded data removed]",
      "text/plain": [
       "<Figure size 432x288 with 1 Axes>"
      ]
     },
     "metadata": {
      "needs_background": "light"
     },
     "output_type": "display_data"
    }
   ],
   "source": [
    "# 6. Plot the histograms of all the variable (columns) in the new DataFrame\n",
    "# 7. Plot them all at once using a for loop.  Try to add a unique title to a plot.\n",
    "\n",
    "for column in small_boston_data.columns:\n",
    "    small_boston_data[column].hist()\n",
    "    plt.title(column)\n",
    "    plt.show()\n",
    "\n"
   ]
  },
  {
   "cell_type": "code",
   "execution_count": 76,
   "metadata": {},
   "outputs": [
    {
     "data": {
      "image/png": "[encoded data removed]",
      "text/plain": [
       "<Figure size 432x288 with 1 Axes>"
      ]
     },
     "metadata": {
      "needs_background": "light"
     },
     "output_type": "display_data"
    }
   ],
   "source": [
    "# 8. Create a scatter plot of crime rate versus price.\n",
    "# 9. Plot using log10 (crime) versus price.\n",
    "small_boston_data.plot.scatter('crim', 'medv', logx=True)\n",
    "plt.show()"
   ]
  },
  {
   "cell_type": "code",
   "execution_count": 77,
   "metadata": {
    "scrolled": true
   },
   "outputs": [
    {
     "name": "stdout",
     "output_type": "stream",
     "text": [
      "The mean rooms per dwelling is 6.284634387351787\n",
      "The median home age is 77.5\n",
      "The mean distances to the five Boston employment centers is 3.795042687747034\n",
      "The percentage of houses with a low price (< $20,000) is 41.50%\n"
     ]
    }
   ],
   "source": [
    "# 10. Calculate some useful statistics, such as mean rooms per dwelling, median age, mean distances to five Boston\n",
    "# employment centers, and the percentage of houses with a low price (< $20,000).\n",
    "\n",
    "print('The mean rooms per dwelling is', small_boston_data['rm'].mean())\n",
    "print('The median home age is', small_boston_data['age'].median())\n",
    "print('The mean distances to the five Boston employment centers is', small_boston_data['dis'].mean())\n",
    "print('The percentage of houses with a low price (< $20,000) is', \n",
    "      \"{:.2%}\".format(len(small_boston_data[(small_boston_data['medv'] < 20)])/len(small_boston_data['medv'])))\n",
    "\n",
    "   "
   ]
  },
  {
   "cell_type": "markdown",
   "metadata": {},
   "source": [
    "## Data Wrangling with Python: Activity 6 (pg 171)"
   ]
  },
  {
   "cell_type": "code",
   "execution_count": 78,
   "metadata": {},
   "outputs": [],
   "source": [
    "'''\n",
    "1. Load the necessary libraries.\n",
    "2. Read the adult income dataset from the following URL: \n",
    "    https://github.com/TrainingByPackt/Data-Wrangling-with-Python/blob/master/Chapter04/Activity06/.\n",
    "3. Create a script that will read a text file line by line. (The text file contains the header names.)\n",
    "4. Add a name of Income for the response variable to the dataset.\n",
    "'''\n",
    "adult_income_data = pd.read_csv('https://raw.githubusercontent.com/TrainingByPackt/Data-Wrangling-with-Python/master/Lesson04/Activity06/adult_income_data.csv', sep=\",\")\n",
    "header_list = []\n",
    "with open(\"adult_income_names.txt\", \"r\") as fd:    \n",
    "    for line in fd:        \n",
    "        column_list = line.split(\":\")\n",
    "        header_list.append(column_list[0])\n",
    "        \n",
    "    header_list = [i for i in header_list if i != '\\n']\n",
    "    \n",
    "header_list.append('Income')\n",
    "adult_income_data.columns = header_list\n"
   ]
  },
  {
   "cell_type": "code",
   "execution_count": 79,
   "metadata": {},
   "outputs": [
    {
     "name": "stdout",
     "output_type": "stream",
     "text": [
      "age has no missing values.\n",
      "workclass has no missing values.\n",
      "fnlwgt has no missing values.\n",
      "education has no missing values.\n",
      "education-num has no missing values.\n",
      "marital-status has no missing values.\n",
      "occupation has no missing values.\n",
      "relationship has no missing values.\n",
      "sex has no missing values.\n",
      "capital-gain has no missing values.\n",
      "capital-loss has no missing values.\n",
      "hours-per-week has no missing values.\n",
      "native-country has no missing values.\n",
      "Income has no missing values.\n"
     ]
    }
   ],
   "source": [
    "# 5. Find the missing values.\n",
    "for c in adult_income_data.columns:\n",
    "    miss = adult_income_data[c].isnull().sum()\n",
    "    if miss>0:\n",
    "        print(\"{} has {} missing value(s)\".format(c,miss))\n",
    "    else:\n",
    "        print(\"{} has no missing values.\".format(c))\n"
   ]
  },
  {
   "cell_type": "code",
   "execution_count": 80,
   "metadata": {},
   "outputs": [
    {
     "data": {
      "text/html": [
       "<div>\n",
       "<style scoped>\n",
       "    .dataframe tbody tr th:only-of-type {\n",
       "        vertical-align: middle;\n",
       "    }\n",
       "\n",
       "    .dataframe tbody tr th {\n",
       "        vertical-align: top;\n",
       "    }\n",
       "\n",
       "    .dataframe thead th {\n",
       "        text-align: right;\n",
       "    }\n",
       "</style>\n",
       "<table border=\"1\" class=\"dataframe\">\n",
       "  <thead>\n",
       "    <tr style=\"text-align: right;\">\n",
       "      <th></th>\n",
       "      <th>age</th>\n",
       "      <th>education</th>\n",
       "      <th>occupation</th>\n",
       "    </tr>\n",
       "  </thead>\n",
       "  <tbody>\n",
       "    <tr>\n",
       "      <th>0</th>\n",
       "      <td>50</td>\n",
       "      <td>Bachelors</td>\n",
       "      <td>Exec-managerial</td>\n",
       "    </tr>\n",
       "    <tr>\n",
       "      <th>1</th>\n",
       "      <td>38</td>\n",
       "      <td>HS-grad</td>\n",
       "      <td>Handlers-cleaners</td>\n",
       "    </tr>\n",
       "    <tr>\n",
       "      <th>2</th>\n",
       "      <td>53</td>\n",
       "      <td>11th</td>\n",
       "      <td>Handlers-cleaners</td>\n",
       "    </tr>\n",
       "    <tr>\n",
       "      <th>3</th>\n",
       "      <td>28</td>\n",
       "      <td>Bachelors</td>\n",
       "      <td>Prof-specialty</td>\n",
       "    </tr>\n",
       "    <tr>\n",
       "      <th>4</th>\n",
       "      <td>37</td>\n",
       "      <td>Masters</td>\n",
       "      <td>Exec-managerial</td>\n",
       "    </tr>\n",
       "  </tbody>\n",
       "</table>\n",
       "</div>"
      ],
      "text/plain": [
       "   age   education          occupation\n",
       "0   50   Bachelors     Exec-managerial\n",
       "1   38     HS-grad   Handlers-cleaners\n",
       "2   53        11th   Handlers-cleaners\n",
       "3   28   Bachelors      Prof-specialty\n",
       "4   37     Masters     Exec-managerial"
      ]
     },
     "execution_count": 80,
     "metadata": {},
     "output_type": "execute_result"
    }
   ],
   "source": [
    "# 6. Create a DataFrame with only age, education, and occupation by using subsetting.\n",
    "adult_income_subset = adult_income_data[['age', 'education', 'occupation']]\n",
    "adult_income_subset.head()"
   ]
  },
  {
   "cell_type": "code",
   "execution_count": 81,
   "metadata": {
    "scrolled": true
   },
   "outputs": [
    {
     "data": {
      "text/plain": [
       "<matplotlib.axes._subplots.AxesSubplot at 0x2456c2b6c88>"
      ]
     },
     "execution_count": 81,
     "metadata": {},
     "output_type": "execute_result"
    },
    {
     "data": {
      "image/png": "[encoded data removed]",
      "text/plain": [
       "<Figure size 432x288 with 1 Axes>"
      ]
     },
     "metadata": {
      "needs_background": "light"
     },
     "output_type": "display_data"
    }
   ],
   "source": [
    "# 7. Plot a histogram of age with a bin size of 20.\n",
    "adult_income_subset['age'].plot.hist(bins=20)\n"
   ]
  },
  {
   "cell_type": "code",
   "execution_count": 82,
   "metadata": {},
   "outputs": [],
   "source": [
    "# 8. Create a function to strip the whitespace characters.\n",
    "def white_space_strip(column):\n",
    "    return column.strip()\n"
   ]
  },
  {
   "cell_type": "code",
   "execution_count": 83,
   "metadata": {},
   "outputs": [
    {
     "name": "stdout",
     "output_type": "stream",
     "text": [
      "Index(['age', 'education', 'occupation', 'education_copy', 'occupation_copy'], dtype='object')\n",
      "Index(['age', 'education', 'occupation'], dtype='object')\n"
     ]
    },
    {
     "name": "stderr",
     "output_type": "stream",
     "text": [
      "C:\\Users\\Ramsey\\anaconda3\\lib\\site-packages\\ipykernel_launcher.py:6: SettingWithCopyWarning: \n",
      "A value is trying to be set on a copy of a slice from a DataFrame.\n",
      "Try using .loc[row_indexer,col_indexer] = value instead\n",
      "\n",
      "See the caveats in the documentation: https://pandas.pydata.org/pandas-docs/stable/user_guide/indexing.html#returning-a-view-versus-a-copy\n",
      "  \n",
      "C:\\Users\\Ramsey\\anaconda3\\lib\\site-packages\\ipykernel_launcher.py:7: SettingWithCopyWarning: \n",
      "A value is trying to be set on a copy of a slice from a DataFrame.\n",
      "Try using .loc[row_indexer,col_indexer] = value instead\n",
      "\n",
      "See the caveats in the documentation: https://pandas.pydata.org/pandas-docs/stable/user_guide/indexing.html#returning-a-view-versus-a-copy\n",
      "  import sys\n",
      "C:\\Users\\Ramsey\\anaconda3\\lib\\site-packages\\ipykernel_launcher.py:11: SettingWithCopyWarning: \n",
      "A value is trying to be set on a copy of a slice from a DataFrame.\n",
      "Try using .loc[row_indexer,col_indexer] = value instead\n",
      "\n",
      "See the caveats in the documentation: https://pandas.pydata.org/pandas-docs/stable/user_guide/indexing.html#returning-a-view-versus-a-copy\n",
      "  # This is added back by InteractiveShellApp.init_path()\n",
      "C:\\Users\\Ramsey\\anaconda3\\lib\\site-packages\\ipykernel_launcher.py:12: SettingWithCopyWarning: \n",
      "A value is trying to be set on a copy of a slice from a DataFrame.\n",
      "Try using .loc[row_indexer,col_indexer] = value instead\n",
      "\n",
      "See the caveats in the documentation: https://pandas.pydata.org/pandas-docs/stable/user_guide/indexing.html#returning-a-view-versus-a-copy\n",
      "  if sys.path[0] == '':\n"
     ]
    }
   ],
   "source": [
    "'''\n",
    "9. Use the apply method to apply this function to all the columns with string values, create a new column, \n",
    "copy the values from this new column to the old column, and drop the new column.\n",
    "'''\n",
    "# education\n",
    "adult_income_subset['education_copy'] = adult_income_subset['education'].apply(white_space_strip)\n",
    "adult_income_subset['education'] = adult_income_subset['education_copy']\n",
    "\n",
    "\n",
    "# occupation\n",
    "adult_income_subset['occupation_copy'] = adult_income_subset['occupation'].apply(white_space_strip)\n",
    "adult_income_subset['occupation'] = adult_income_subset['occupation_copy']\n",
    "\n",
    "# dropping the created columns\n",
    "print(adult_income_subset.columns)\n",
    "del adult_income_subset['occupation_copy']\n",
    "del adult_income_subset['education_copy']\n",
    "print(adult_income_subset.columns)\n"
   ]
  },
  {
   "cell_type": "code",
   "execution_count": 84,
   "metadata": {},
   "outputs": [
    {
     "name": "stdout",
     "output_type": "stream",
     "text": [
      "The number of people between the ages of 30 and 50 is 16389\n"
     ]
    }
   ],
   "source": [
    "# 10.  Find the number of people who are aged between 30 and 50.\n",
    "print('The number of people between the ages of 30 and 50 is', \n",
    "      len(adult_income_subset[(adult_income_subset['age'] >= 30) & (adult_income_subset['age']<=50)]))\n"
   ]
  },
  {
   "cell_type": "code",
   "execution_count": 85,
   "metadata": {
    "scrolled": true
   },
   "outputs": [
    {
     "data": {
      "text/html": [
       "<div>\n",
       "<style scoped>\n",
       "    .dataframe tbody tr th:only-of-type {\n",
       "        vertical-align: middle;\n",
       "    }\n",
       "\n",
       "    .dataframe tbody tr th {\n",
       "        vertical-align: top;\n",
       "    }\n",
       "\n",
       "    .dataframe thead th {\n",
       "        text-align: right;\n",
       "    }\n",
       "</style>\n",
       "<table border=\"1\" class=\"dataframe\">\n",
       "  <thead>\n",
       "    <tr style=\"text-align: right;\">\n",
       "      <th></th>\n",
       "      <th>age</th>\n",
       "    </tr>\n",
       "    <tr>\n",
       "      <th>education</th>\n",
       "      <th></th>\n",
       "    </tr>\n",
       "  </thead>\n",
       "  <tbody>\n",
       "    <tr>\n",
       "      <th>10th</th>\n",
       "      <td>37.429796</td>\n",
       "    </tr>\n",
       "    <tr>\n",
       "      <th>11th</th>\n",
       "      <td>32.355745</td>\n",
       "    </tr>\n",
       "    <tr>\n",
       "      <th>12th</th>\n",
       "      <td>32.000000</td>\n",
       "    </tr>\n",
       "    <tr>\n",
       "      <th>1st-4th</th>\n",
       "      <td>46.142857</td>\n",
       "    </tr>\n",
       "    <tr>\n",
       "      <th>5th-6th</th>\n",
       "      <td>42.885886</td>\n",
       "    </tr>\n",
       "    <tr>\n",
       "      <th>7th-8th</th>\n",
       "      <td>48.445820</td>\n",
       "    </tr>\n",
       "    <tr>\n",
       "      <th>9th</th>\n",
       "      <td>41.060311</td>\n",
       "    </tr>\n",
       "    <tr>\n",
       "      <th>Assoc-acdm</th>\n",
       "      <td>37.381443</td>\n",
       "    </tr>\n",
       "    <tr>\n",
       "      <th>Assoc-voc</th>\n",
       "      <td>38.553546</td>\n",
       "    </tr>\n",
       "    <tr>\n",
       "      <th>Bachelors</th>\n",
       "      <td>38.904931</td>\n",
       "    </tr>\n",
       "    <tr>\n",
       "      <th>Doctorate</th>\n",
       "      <td>47.702179</td>\n",
       "    </tr>\n",
       "    <tr>\n",
       "      <th>HS-grad</th>\n",
       "      <td>38.974479</td>\n",
       "    </tr>\n",
       "    <tr>\n",
       "      <th>Masters</th>\n",
       "      <td>44.049913</td>\n",
       "    </tr>\n",
       "    <tr>\n",
       "      <th>Preschool</th>\n",
       "      <td>42.764706</td>\n",
       "    </tr>\n",
       "    <tr>\n",
       "      <th>Prof-school</th>\n",
       "      <td>44.746528</td>\n",
       "    </tr>\n",
       "    <tr>\n",
       "      <th>Some-college</th>\n",
       "      <td>35.756275</td>\n",
       "    </tr>\n",
       "  </tbody>\n",
       "</table>\n",
       "</div>"
      ],
      "text/plain": [
       "                    age\n",
       "education              \n",
       "10th          37.429796\n",
       "11th          32.355745\n",
       "12th          32.000000\n",
       "1st-4th       46.142857\n",
       "5th-6th       42.885886\n",
       "7th-8th       48.445820\n",
       "9th           41.060311\n",
       "Assoc-acdm    37.381443\n",
       "Assoc-voc     38.553546\n",
       "Bachelors     38.904931\n",
       "Doctorate     47.702179\n",
       "HS-grad       38.974479\n",
       "Masters       44.049913\n",
       "Preschool     42.764706\n",
       "Prof-school   44.746528\n",
       "Some-college  35.756275"
      ]
     },
     "execution_count": 85,
     "metadata": {},
     "output_type": "execute_result"
    }
   ],
   "source": [
    "# 11. Group the records based on age and education to find how the mean age is distributed.\n",
    "adult_income_subset.pivot_table(values=['age'], index=['education'],aggfunc='mean')\n"
   ]
  },
  {
   "cell_type": "code",
   "execution_count": 86,
   "metadata": {},
   "outputs": [
    {
     "data": {
      "text/html": [
       "<div>\n",
       "<style scoped>\n",
       "    .dataframe tbody tr th:only-of-type {\n",
       "        vertical-align: middle;\n",
       "    }\n",
       "\n",
       "    .dataframe tbody tr th {\n",
       "        vertical-align: top;\n",
       "    }\n",
       "\n",
       "    .dataframe thead tr th {\n",
       "        text-align: left;\n",
       "    }\n",
       "\n",
       "    .dataframe thead tr:last-of-type th {\n",
       "        text-align: right;\n",
       "    }\n",
       "</style>\n",
       "<table border=\"1\" class=\"dataframe\">\n",
       "  <thead>\n",
       "    <tr>\n",
       "      <th></th>\n",
       "      <th colspan=\"8\" halign=\"left\">age</th>\n",
       "    </tr>\n",
       "    <tr>\n",
       "      <th></th>\n",
       "      <th>count</th>\n",
       "      <th>mean</th>\n",
       "      <th>std</th>\n",
       "      <th>min</th>\n",
       "      <th>25%</th>\n",
       "      <th>50%</th>\n",
       "      <th>75%</th>\n",
       "      <th>max</th>\n",
       "    </tr>\n",
       "    <tr>\n",
       "      <th>occupation</th>\n",
       "      <th></th>\n",
       "      <th></th>\n",
       "      <th></th>\n",
       "      <th></th>\n",
       "      <th></th>\n",
       "      <th></th>\n",
       "      <th></th>\n",
       "      <th></th>\n",
       "    </tr>\n",
       "  </thead>\n",
       "  <tbody>\n",
       "    <tr>\n",
       "      <th>?</th>\n",
       "      <td>1843.0</td>\n",
       "      <td>40.882800</td>\n",
       "      <td>20.336350</td>\n",
       "      <td>17.0</td>\n",
       "      <td>21.0</td>\n",
       "      <td>35.0</td>\n",
       "      <td>61.0</td>\n",
       "      <td>90.0</td>\n",
       "    </tr>\n",
       "    <tr>\n",
       "      <th>Adm-clerical</th>\n",
       "      <td>3769.0</td>\n",
       "      <td>36.963916</td>\n",
       "      <td>13.364730</td>\n",
       "      <td>17.0</td>\n",
       "      <td>26.0</td>\n",
       "      <td>35.0</td>\n",
       "      <td>46.0</td>\n",
       "      <td>90.0</td>\n",
       "    </tr>\n",
       "    <tr>\n",
       "      <th>Armed-Forces</th>\n",
       "      <td>9.0</td>\n",
       "      <td>30.222222</td>\n",
       "      <td>8.089774</td>\n",
       "      <td>23.0</td>\n",
       "      <td>24.0</td>\n",
       "      <td>29.0</td>\n",
       "      <td>34.0</td>\n",
       "      <td>46.0</td>\n",
       "    </tr>\n",
       "    <tr>\n",
       "      <th>Craft-repair</th>\n",
       "      <td>4099.0</td>\n",
       "      <td>39.031471</td>\n",
       "      <td>11.606436</td>\n",
       "      <td>17.0</td>\n",
       "      <td>30.0</td>\n",
       "      <td>38.0</td>\n",
       "      <td>47.0</td>\n",
       "      <td>90.0</td>\n",
       "    </tr>\n",
       "    <tr>\n",
       "      <th>Exec-managerial</th>\n",
       "      <td>4066.0</td>\n",
       "      <td>42.169208</td>\n",
       "      <td>11.974548</td>\n",
       "      <td>17.0</td>\n",
       "      <td>33.0</td>\n",
       "      <td>41.0</td>\n",
       "      <td>50.0</td>\n",
       "      <td>90.0</td>\n",
       "    </tr>\n",
       "    <tr>\n",
       "      <th>Farming-fishing</th>\n",
       "      <td>994.0</td>\n",
       "      <td>41.211268</td>\n",
       "      <td>15.070283</td>\n",
       "      <td>17.0</td>\n",
       "      <td>29.0</td>\n",
       "      <td>39.0</td>\n",
       "      <td>52.0</td>\n",
       "      <td>90.0</td>\n",
       "    </tr>\n",
       "    <tr>\n",
       "      <th>Handlers-cleaners</th>\n",
       "      <td>1370.0</td>\n",
       "      <td>32.165693</td>\n",
       "      <td>12.372635</td>\n",
       "      <td>17.0</td>\n",
       "      <td>23.0</td>\n",
       "      <td>29.0</td>\n",
       "      <td>39.0</td>\n",
       "      <td>90.0</td>\n",
       "    </tr>\n",
       "    <tr>\n",
       "      <th>Machine-op-inspct</th>\n",
       "      <td>2002.0</td>\n",
       "      <td>37.715285</td>\n",
       "      <td>12.068266</td>\n",
       "      <td>17.0</td>\n",
       "      <td>28.0</td>\n",
       "      <td>36.0</td>\n",
       "      <td>46.0</td>\n",
       "      <td>90.0</td>\n",
       "    </tr>\n",
       "    <tr>\n",
       "      <th>Other-service</th>\n",
       "      <td>3295.0</td>\n",
       "      <td>34.949621</td>\n",
       "      <td>14.521508</td>\n",
       "      <td>17.0</td>\n",
       "      <td>22.0</td>\n",
       "      <td>32.0</td>\n",
       "      <td>45.0</td>\n",
       "      <td>90.0</td>\n",
       "    </tr>\n",
       "    <tr>\n",
       "      <th>Priv-house-serv</th>\n",
       "      <td>149.0</td>\n",
       "      <td>41.724832</td>\n",
       "      <td>18.633688</td>\n",
       "      <td>17.0</td>\n",
       "      <td>24.0</td>\n",
       "      <td>40.0</td>\n",
       "      <td>57.0</td>\n",
       "      <td>81.0</td>\n",
       "    </tr>\n",
       "    <tr>\n",
       "      <th>Prof-specialty</th>\n",
       "      <td>4140.0</td>\n",
       "      <td>40.517633</td>\n",
       "      <td>12.016676</td>\n",
       "      <td>17.0</td>\n",
       "      <td>31.0</td>\n",
       "      <td>40.0</td>\n",
       "      <td>48.0</td>\n",
       "      <td>90.0</td>\n",
       "    </tr>\n",
       "    <tr>\n",
       "      <th>Protective-serv</th>\n",
       "      <td>649.0</td>\n",
       "      <td>38.953775</td>\n",
       "      <td>12.822062</td>\n",
       "      <td>17.0</td>\n",
       "      <td>29.0</td>\n",
       "      <td>36.0</td>\n",
       "      <td>47.0</td>\n",
       "      <td>90.0</td>\n",
       "    </tr>\n",
       "    <tr>\n",
       "      <th>Sales</th>\n",
       "      <td>3650.0</td>\n",
       "      <td>37.353973</td>\n",
       "      <td>14.186352</td>\n",
       "      <td>17.0</td>\n",
       "      <td>25.0</td>\n",
       "      <td>35.0</td>\n",
       "      <td>47.0</td>\n",
       "      <td>90.0</td>\n",
       "    </tr>\n",
       "    <tr>\n",
       "      <th>Tech-support</th>\n",
       "      <td>928.0</td>\n",
       "      <td>37.022629</td>\n",
       "      <td>11.316594</td>\n",
       "      <td>17.0</td>\n",
       "      <td>28.0</td>\n",
       "      <td>36.0</td>\n",
       "      <td>44.0</td>\n",
       "      <td>73.0</td>\n",
       "    </tr>\n",
       "    <tr>\n",
       "      <th>Transport-moving</th>\n",
       "      <td>1597.0</td>\n",
       "      <td>40.197871</td>\n",
       "      <td>12.450792</td>\n",
       "      <td>17.0</td>\n",
       "      <td>30.0</td>\n",
       "      <td>39.0</td>\n",
       "      <td>49.0</td>\n",
       "      <td>90.0</td>\n",
       "    </tr>\n",
       "  </tbody>\n",
       "</table>\n",
       "</div>"
      ],
      "text/plain": [
       "                      age                                                    \n",
       "                    count       mean        std   min   25%   50%   75%   max\n",
       "occupation                                                                   \n",
       "?                  1843.0  40.882800  20.336350  17.0  21.0  35.0  61.0  90.0\n",
       "Adm-clerical       3769.0  36.963916  13.364730  17.0  26.0  35.0  46.0  90.0\n",
       "Armed-Forces          9.0  30.222222   8.089774  23.0  24.0  29.0  34.0  46.0\n",
       "Craft-repair       4099.0  39.031471  11.606436  17.0  30.0  38.0  47.0  90.0\n",
       "Exec-managerial    4066.0  42.169208  11.974548  17.0  33.0  41.0  50.0  90.0\n",
       "Farming-fishing     994.0  41.211268  15.070283  17.0  29.0  39.0  52.0  90.0\n",
       "Handlers-cleaners  1370.0  32.165693  12.372635  17.0  23.0  29.0  39.0  90.0\n",
       "Machine-op-inspct  2002.0  37.715285  12.068266  17.0  28.0  36.0  46.0  90.0\n",
       "Other-service      3295.0  34.949621  14.521508  17.0  22.0  32.0  45.0  90.0\n",
       "Priv-house-serv     149.0  41.724832  18.633688  17.0  24.0  40.0  57.0  81.0\n",
       "Prof-specialty     4140.0  40.517633  12.016676  17.0  31.0  40.0  48.0  90.0\n",
       "Protective-serv     649.0  38.953775  12.822062  17.0  29.0  36.0  47.0  90.0\n",
       "Sales              3650.0  37.353973  14.186352  17.0  25.0  35.0  47.0  90.0\n",
       "Tech-support        928.0  37.022629  11.316594  17.0  28.0  36.0  44.0  73.0\n",
       "Transport-moving   1597.0  40.197871  12.450792  17.0  30.0  39.0  49.0  90.0"
      ]
     },
     "execution_count": 86,
     "metadata": {},
     "output_type": "execute_result"
    }
   ],
   "source": [
    "'''\n",
    "12. Group by occupation and show the summary statistics of age.  \n",
    "Find which profession has the oldest workers on average and which profession has its largest share of the workforce\n",
    "above the 75th percentile\n",
    "'''\n",
    "by_occupation = adult_income_subset.groupby('occupation')\n",
    "by_occupation.describe()\n",
    "\n",
    "# The profession with the oldest workers on average is Exec-managerial with a mean of 42.16.\n",
    "# The profession with its largest share of the workforce above the 75th percentile is the unknown category.  \n",
    "# The known category with its largest share above the 75th percentile is the Priv-house-serv category.\n",
    "\n"
   ]
  },
  {
   "cell_type": "code",
   "execution_count": 87,
   "metadata": {
    "scrolled": true
   },
   "outputs": [
    {
     "data": {
      "image/png": "[encoded data removed]",
      "text/plain": [
       "<Figure size 432x288 with 1 Axes>"
      ]
     },
     "metadata": {
      "needs_background": "light"
     },
     "output_type": "display_data"
    }
   ],
   "source": [
    "# 13. Use subset and grouby to find outliers.\n",
    "# 14. Plot the values on a bar chart.\n",
    "adult_income_subset['occupation'].value_counts().plot.barh()\n",
    "plt.title(\"Occupation Count\")\n",
    "plt.show()\n",
    "\n",
    "# It appears that the count of Armed-Forces and Priv-house-serv are fairly low in comparison to the number of other\n",
    "# occupants.  If I were to do analysis on this data set, I would exclude these two categories (as well as the ? category)."
   ]
  },
  {
   "cell_type": "code",
   "execution_count": 88,
   "metadata": {},
   "outputs": [],
   "source": [
    "# 15. Merge the data using common keys.\n",
    "\n",
    "'''\n",
    "# For this problem, I am going to split the original data set into 2 separate, with the common key being an ID number\n",
    "# that will be created.\n",
    "# After splitting the two data sets, I will merge them back together.\n",
    "'''\n",
    "adult_income_data.insert(0, 'ID_num', range(len(adult_income_data)))\n",
    "\n",
    "aid_one = adult_income_data[['ID_num', 'age', 'workclass', 'fnlwgt', 'education', \n",
    "                             'education-num', 'marital-status', 'occupation']]\n",
    "\n",
    "aid_two = adult_income_data[['ID_num', 'relationship', 'sex', 'capital-gain', \n",
    "                             'capital-loss', 'hours-per-week', 'native-country', 'Income']]\n",
    "\n",
    "original_aid = pd.merge(aid_one, aid_two, on='ID_num', how='left').drop_duplicates()\n"
   ]
  },
  {
   "cell_type": "markdown",
   "metadata": {},
   "source": [
    "## Create a series and practice basic arithmetic steps"
   ]
  },
  {
   "cell_type": "code",
   "execution_count": 89,
   "metadata": {
    "scrolled": true
   },
   "outputs": [
    {
     "name": "stdout",
     "output_type": "stream",
     "text": [
      "a    5.2\n",
      "c    1.1\n",
      "d    NaN\n",
      "e    0.0\n",
      "f    NaN\n",
      "g    NaN\n",
      "dtype: float64\n",
      "\n",
      "a    9.4\n",
      "c   -6.1\n",
      "d    NaN\n",
      "e    3.0\n",
      "f    NaN\n",
      "g    NaN\n",
      "dtype: float64\n"
     ]
    }
   ],
   "source": [
    "'''\n",
    "a. Series 1 = 7.3, -2.5, 3.4, 1.5\n",
    "i. Index = ‘a’, ‘c’, ‘d’, ‘e’\n",
    "b. Series 2 = -2.1, 3.6, -1.5, 4, 3.1\n",
    "i. Index = ‘a’, ‘c’, ‘e’, ‘f’, ‘g’\n",
    "c. Add Series 1 and Series 2 together and print the results\n",
    "d. Subtract Series 1 from Series 2 and print the results\n",
    "'''\n",
    "series_one = pd.Series([7.3, -2.5, 3.4, 1.5], index = ['a', 'c', 'd', 'e'])\n",
    "series_two = pd.Series([-2.1, 3.6, -1.5, 4, 3.1], index = ['a', 'c', 'e', 'f', 'g'])\n",
    "\n",
    "print(series_one.add(series_two))\n",
    "print()\n",
    "print(series_one.subtract(series_two))"
   ]
  },
  {
   "cell_type": "markdown",
   "metadata": {},
   "source": [
    "## Data Wrangling with Python: Activity 7 (pg 207)\n",
    "### Reading Tabular Data from a Web Page and Creating DataFrames"
   ]
  },
  {
   "cell_type": "code",
   "execution_count": 90,
   "metadata": {},
   "outputs": [],
   "source": [
    "'''\n",
    "1. Open the page in a separate Chrome tab and use something like an Inspect Element tool to view the source HTML\n",
    "and understand its structure.\n",
    "2. Read the page using bs4.\n",
    "'''\n",
    "from bs4 import BeautifulSoup\n",
    "import requests\n",
    "\n",
    "url = 'https://en.wikipedia.org/wiki/List_of_countries_by_GDP_(nominal)'\n",
    "webpage_contents = requests.get(url).text\n",
    "\n",
    "soup = BeautifulSoup(webpage_contents)"
   ]
  },
  {
   "cell_type": "code",
   "execution_count": 91,
   "metadata": {},
   "outputs": [
    {
     "name": "stdout",
     "output_type": "stream",
     "text": [
      "The total number of <table> = 7\n",
      "['Country (or territory)', 'Subregion', 'Region', 'IMF[1]', 'UN[12]', 'World Bank[13]', 'GDP', 'Year', 'GDP', 'Year', 'GDP', 'Year']\n"
     ]
    }
   ],
   "source": [
    "'''\n",
    "3. Find the table structure you will need to deal with (how many tables are there?)\n",
    "4. find the right table using bs4\n",
    "5. Separate the source names and their corresponding data\n",
    "'''\n",
    "num_tables = soup.find_all('table')\n",
    "print('The total number of <table> = {}'.format(len(num_tables)))\n",
    "table = soup.find('table', attrs={'class':'wikitable'})\n",
    "\n",
    "table_data = table.tbody.find_all('th')\n",
    "\n",
    "headings = []\n",
    "for th in table_data:\n",
    "    headings.append(th.text.strip())\n",
    "    \n",
    "print(headings)\n",
    "\n"
   ]
  },
  {
   "cell_type": "code",
   "execution_count": 92,
   "metadata": {
    "scrolled": false
   },
   "outputs": [
    {
     "name": "stdout",
     "output_type": "stream",
     "text": [
      "  Country (or territory)         Subregion    Region         GDP  Year\n",
      "0          United States  Northern America  Americas  22,675,271  2021\n",
      "1                  China      Eastern Asia      Asia  16,642,318  2021\n",
      "2                  Japan      Eastern Asia      Asia   5,378,136  2021\n",
      "3                Germany    Western Europe    Europe   4,319,286  2021\n",
      "4         United Kingdom   Northern Europe    Europe   3,124,650  2021\n",
      "\n",
      "  Country (or territory)         Subregion    Region         GDP  Year\n",
      "0          United States  Northern America  Americas  21,433,226  2020\n",
      "1                  China      Eastern Asia      Asia  14,342,933  2020\n",
      "2                  Japan      Eastern Asia      Asia   5,082,465  2020\n",
      "3                Germany    Western Europe    Europe   3,861,123  2020\n",
      "4         United Kingdom   Northern Europe    Europe   2,826,441  2020\n",
      "\n",
      "  Country (or territory)         Subregion    Region         GDP  Year\n",
      "0          United States  Northern America  Americas  21,433,226  2019\n",
      "1                  China      Eastern Asia      Asia  14,342,903  2019\n",
      "2                  Japan      Eastern Asia      Asia   5,081,770  2019\n",
      "3                Germany    Western Europe    Europe   3,861,124  2019\n",
      "4         United Kingdom   Northern Europe    Europe   2,829,108  2019\n"
     ]
    }
   ],
   "source": [
    "'''\n",
    "6. Get the source names from the list of sources you have created\n",
    "7.  Separate the header and data from the data that you separated before for the first source only, and then create\n",
    "    a DataFrame using that\n",
    "8.  Repeat the last task for the other two data sources.\n",
    "'''\n",
    "table_info = table.tbody.find_all('tr')\n",
    "data = []\n",
    "for td in table_info:\n",
    "    data.append(td.text.split('\\n'))\n",
    "\n",
    "chars = '\\xa0'\n",
    "symbol = '†'\n",
    "n_3 = '[n 3]'\n",
    "n_2 = '[n 2]'\n",
    "n_5 = '[n 5]'\n",
    "\n",
    "\n",
    "for i in range(len(data)):\n",
    "    data[i] = [a for a in data[i] if a]\n",
    "    data[i] = [a.replace(chars,\"\") for a in data[i] if a]\n",
    "    data[i] = [a.replace(symbol,\"\") for a in data[i] if a]\n",
    "    data[i] = [a.replace(n_3,\"\") for a in data[i] if a]\n",
    "    data[i] = [a.replace(n_2,\"\") for a in data[i] if a]\n",
    "    data[i] = [a.replace(n_5,\"\") for a in data[i] if a]\n",
    "\n",
    "    \n",
    "big_df = pd.DataFrame(data[3:], columns=[headings[0], headings[1], headings[2], headings[6], headings[7], \n",
    "                                    headings[8], headings[9], headings[10], headings[11]])\n",
    "    \n",
    "imf_df = big_df.iloc[:, 0:5]\n",
    "un_df = big_df.iloc[:, [0,1,2,5,6]]\n",
    "world_bank_df = big_df.iloc[:, [0,1,2,7,8]]\n",
    "\n",
    "print(imf_df.head())\n",
    "print()\n",
    "print(un_df.head())\n",
    "print()\n",
    "print(world_bank_df.head())"
   ]
  },
  {
   "cell_type": "markdown",
   "metadata": {},
   "source": [
    "## Data Wrangling with Python: Activity 8 (pg 233)\n",
    "### Handling Outliers and Missing Data"
   ]
  },
  {
   "cell_type": "code",
   "execution_count": 95,
   "metadata": {},
   "outputs": [
    {
     "name": "stdout",
     "output_type": "stream",
     "text": [
      "Empty DataFrame\n",
      "Columns: [id, first_name, last_name, email, gender, ip_address, visit]\n",
      "Index: []\n"
     ]
    }
   ],
   "source": [
    "'''\n",
    "1. Read the visit_data.csv file\n",
    "2. Check for duplicates.\n",
    "'''\n",
    "visit_data = pd.read_csv('visit_data.csv', sep=\",\")\n",
    "# print(visit_data.head())\n",
    "\n",
    "duplicates = visit_data[visit_data.duplicated(['first_name', 'last_name', 'email'])]\n",
    "\n",
    "print(duplicates)"
   ]
  },
  {
   "cell_type": "code",
   "execution_count": 96,
   "metadata": {},
   "outputs": [
    {
     "name": "stdout",
     "output_type": "stream",
     "text": [
      "id has no missing values.\n",
      "first_name has 296 missing value(s).\n",
      "last_name has 296 missing value(s).\n",
      "email has no missing values.\n",
      "gender has 505 missing value(s).\n",
      "ip_address has no missing values.\n",
      "visit has 26 missing value(s).\n"
     ]
    }
   ],
   "source": [
    "'''\n",
    "3. Check if any essential column contains NaN\n",
    "'''\n",
    "for c in visit_data.columns:\n",
    "    miss = visit_data[c].isnull().sum()\n",
    "    if miss>0:\n",
    "        print(\"{} has {} missing value(s).\".format(c,miss))\n",
    "    else:\n",
    "        print(\"{} has no missing values.\".format(c))\n"
   ]
  },
  {
   "cell_type": "code",
   "execution_count": 116,
   "metadata": {
    "scrolled": true
   },
   "outputs": [
    {
     "data": {
      "text/plain": [
       "{'whiskers': [<matplotlib.lines.Line2D at 0x245746def48>,\n",
       "  <matplotlib.lines.Line2D at 0x245746deb48>],\n",
       " 'caps': [<matplotlib.lines.Line2D at 0x245746e5c48>,\n",
       "  <matplotlib.lines.Line2D at 0x245746e5d48>],\n",
       " 'boxes': [<matplotlib.lines.Line2D at 0x245746de908>],\n",
       " 'medians': [<matplotlib.lines.Line2D at 0x245746e5dc8>],\n",
       " 'fliers': [<matplotlib.lines.Line2D at 0x245746ebc88>],\n",
       " 'means': []}"
      ]
     },
     "execution_count": 116,
     "metadata": {},
     "output_type": "execute_result"
    },
    {
     "data": {
      "image/png": "[encoded data removed]",
      "text/plain": [
       "<Figure size 432x288 with 1 Axes>"
      ]
     },
     "metadata": {
      "needs_background": "light"
     },
     "output_type": "display_data"
    }
   ],
   "source": [
    "'''\n",
    "4. Get rid of the outliers.\n",
    "5. Report the size difference.\n",
    "6. Create a box plot to check for outliers.\n",
    "7. Get rid of any outliers.\n",
    "'''\n",
    "print(visit_data.shape)\n",
    "from scipy import stats\n",
    "\n",
    "\n",
    "z_score = stats.zscore(visit_data['visit'].dropna())\n",
    "#print(z_score)\n",
    "plt.boxplot(z_score)"
   ]
  },
  {
   "cell_type": "markdown",
   "metadata": {},
   "source": [
    "## Insert data into a SQL Lite database – create a table with the following data (Hint: Python for Data Analysis page 191 - 33% - location 6585):"
   ]
  },
  {
   "cell_type": "code",
   "execution_count": 118,
   "metadata": {},
   "outputs": [],
   "source": [
    "'''\n",
    "a. Name, Address, City, State, Zip, Phone Number\n",
    "b. Add at least 10 rows of data and submit your code with a query generating your results.\n",
    "'''\n",
    "import sqlite3\n",
    "query = \"\"\" CREATE TABLE test\n",
    "    (a VARCHAR(40), b VARCHAR(40),\n",
    "     c VARCHAR(40), d VARCHAR(2),\n",
    "     e INTEGER, f VARCHAR(15)\n",
    "    );\"\"\"\n",
    "con = sqlite3.connect('phonebook.sqlite')\n",
    "con.execute(query)\n",
    "con.commit()"
   ]
  },
  {
   "cell_type": "code",
   "execution_count": null,
   "metadata": {},
   "outputs": [],
   "source": [
    "data = [('John Doe', '123 Easy St', 'Florence', 'AL', 35360, '938-555-1234'),\n",
    "       ('Jane Doe', '456 Medium St', 'Florence', 'SC', 29502, '843-555-4567'),\n",
    "       ('John Smith', '12312 Hard St', 'Florence', 'CA', 35252, '256-123-4567'),\n",
    "       ('John Doe', '123 Easy St', 'Florence', 'CO', 35252, '256-123-4567'),\n",
    "       ('John Doe', '123 Easy St', 'Florence', 'KS', 35252, '256-123-4567'),\n",
    "       ('John Doe', '123 Easy St', 'Florence', 'KY', 35252, '256-123-4567'),\n",
    "       ('John Doe', '123 Easy St', 'Florence', 'LA', 35252, '256-123-4567'),\n",
    "       ('John Doe', '123 Easy St', 'Florence', 'MD', 35252, '256-123-4567'),\n",
    "       ('John Doe', '123 Easy St', 'Florence', 'MS', 35252, '256-123-4567'),\n",
    "       ('John Doe', '123 Easy St', 'Florence', 'NE', 35252, '256-123-4567'),]"
   ]
  }
 ],
 "metadata": {
  "kernelspec": {
   "display_name": "Python 3",
   "language": "python",
   "name": "python3"
  },
  "language_info": {
   "codemirror_mode": {
    "name": "ipython",
    "version": 3
   },
   "file_extension": ".py",
   "mimetype": "text/x-python",
   "name": "python",
   "nbconvert_exporter": "python",
   "pygments_lexer": "ipython3",
   "version": "3.7.6"
  }
 },
 "nbformat": 4,
 "nbformat_minor": 4
}
