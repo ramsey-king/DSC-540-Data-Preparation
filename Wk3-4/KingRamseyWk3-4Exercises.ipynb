{
 "cells": [
  {
   "cell_type": "markdown",
   "metadata": {},
   "source": [
    "# Ramsey King\n",
    "# DSC 540 - Data Preparation\n",
    "# Week 3 & 4 Assignment\n",
    "# July 3, 2021"
   ]
  },
  {
   "cell_type": "markdown",
   "metadata": {},
   "source": [
    "## Data Wrangling with Python: Activity 5 (pg 116)"
   ]
  },
  {
   "cell_type": "code",
   "execution_count": 2,
   "metadata": {
    "scrolled": true
   },
   "outputs": [
    {
     "name": "stdout",
     "output_type": "stream",
     "text": [
      "     Unnamed: 0     crim    zn  indus  chas    nox     rm   age     dis  rad  \\\n",
      "0             1  0.00632  18.0   2.31     0  0.538  6.575  65.2  4.0900    1   \n",
      "1             2  0.02731   0.0   7.07     0  0.469  6.421  78.9  4.9671    2   \n",
      "2             3  0.02729   0.0   7.07     0  0.469  7.185  61.1  4.9671    2   \n",
      "3             4  0.03237   0.0   2.18     0  0.458  6.998  45.8  6.0622    3   \n",
      "4             5  0.06905   0.0   2.18     0  0.458  7.147  54.2  6.0622    3   \n",
      "..          ...      ...   ...    ...   ...    ...    ...   ...     ...  ...   \n",
      "501         502  0.06263   0.0  11.93     0  0.573  6.593  69.1  2.4786    1   \n",
      "502         503  0.04527   0.0  11.93     0  0.573  6.120  76.7  2.2875    1   \n",
      "503         504  0.06076   0.0  11.93     0  0.573  6.976  91.0  2.1675    1   \n",
      "504         505  0.10959   0.0  11.93     0  0.573  6.794  89.3  2.3889    1   \n",
      "505         506  0.04741   0.0  11.93     0  0.573  6.030  80.8  2.5050    1   \n",
      "\n",
      "     tax  ptratio   black  lstat  medv  \n",
      "0    296     15.3  396.90   4.98  24.0  \n",
      "1    242     17.8  396.90   9.14  21.6  \n",
      "2    242     17.8  392.83   4.03  34.7  \n",
      "3    222     18.7  394.63   2.94  33.4  \n",
      "4    222     18.7  396.90   5.33  36.2  \n",
      "..   ...      ...     ...    ...   ...  \n",
      "501  273     21.0  391.99   9.67  22.4  \n",
      "502  273     21.0  396.90   9.08  20.6  \n",
      "503  273     21.0  396.90   5.64  23.9  \n",
      "504  273     21.0  393.45   6.48  22.0  \n",
      "505  273     21.0  396.90   7.88  11.9  \n",
      "\n",
      "[506 rows x 15 columns]\n"
     ]
    }
   ],
   "source": [
    "# 1. Load the ncessary libraries.\n",
    "# 2. Read in the Boston housing dataset (given as a .csv file) from the local directory.\n",
    "\n",
    "import numpy as np\n",
    "import pandas as pd\n",
    "\n",
    "boston_data = pd.read_csv('Boston.csv', sep=\",\")\n",
    "print(boston_data)\n"
   ]
  },
  {
   "cell_type": "code",
   "execution_count": null,
   "metadata": {},
   "outputs": [],
   "source": [
    "# 3. Check the first 10 records.  Find the total number of records.\n",
    "# 4. Create a smaller DataFrame with columns that DO NOT include CHAS, NOX, B, and LSTAT.\n",
    "# 5. Check the last seven records of the new DataFrame you just created.\n",
    "# 6. Plot the histograms of all the variable (columns) in the new DataFrame\n",
    "# 7. Plot them all at once using a for loop.  Try to add a unique title to a plot.\n",
    "# 8. Create a scatter plot of crime rate versus price.\n",
    "# 9. Plot using log10 (crime) versus price.\n",
    "# 10. Calculate some useful statistics, such as mean rooms per dwelling, median age, mean distances to five Boston\n",
    "# employment centers, and the percentage of houses with a low price (< $20,000)."
   ]
  }
 ],
 "metadata": {
  "kernelspec": {
   "display_name": "Python 3",
   "language": "python",
   "name": "python3"
  },
  "language_info": {
   "codemirror_mode": {
    "name": "ipython",
    "version": 3
   },
   "file_extension": ".py",
   "mimetype": "text/x-python",
   "name": "python",
   "nbconvert_exporter": "python",
   "pygments_lexer": "ipython3",
   "version": "3.8.3"
  }
 },
 "nbformat": 4,
 "nbformat_minor": 4
}
