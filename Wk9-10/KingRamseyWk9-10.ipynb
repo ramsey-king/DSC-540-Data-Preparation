{
 "cells": [
  {
   "cell_type": "markdown",
   "source": [
    "## Task 1: (Connect to the supplied petsDB, and (OPTIONAL) write a function to check if the connection is done)"
   ],
   "metadata": {}
  },
  {
   "cell_type": "code",
   "execution_count": 91,
   "source": [
    "### Write your code below this comment\r\n",
    "import sqlite3\r\n",
    "with sqlite3.connect('petsdb') as conn:\r\n",
    "    cursor = conn.cursor()\r\n",
    "    cursor.execute(\"SELECT name FROM sqlite_master WHERE type='table';\")\r\n",
    "    print(cursor.fetchall())"
   ],
   "outputs": [
    {
     "output_type": "stream",
     "name": "stdout",
     "text": [
      "[('persons',), ('pets',)]\n"
     ]
    }
   ],
   "metadata": {}
  },
  {
   "cell_type": "markdown",
   "source": [
    "### With the table names being returned, this shows that the connection was made to the database.\r\n",
    "## Task 2:  (What are the different age groups in the persons database)"
   ],
   "metadata": {}
  },
  {
   "cell_type": "code",
   "execution_count": 93,
   "source": [
    "### Write your code below this comment\r\n",
    "rows = cursor.execute(\"SELECT COUNT(*), age FROM persons GROUP BY age\")\r\n",
    "for row in rows:\r\n",
    "    print(row)"
   ],
   "outputs": [
    {
     "output_type": "stream",
     "name": "stdout",
     "text": [
      "(2, 5)\n",
      "(1, 6)\n",
      "(1, 7)\n",
      "(3, 8)\n",
      "(1, 9)\n",
      "(2, 11)\n",
      "(3, 12)\n",
      "(1, 13)\n",
      "(4, 14)\n",
      "(2, 16)\n",
      "(2, 17)\n",
      "(3, 18)\n",
      "(1, 19)\n",
      "(3, 22)\n",
      "(2, 23)\n",
      "(3, 24)\n",
      "(2, 25)\n",
      "(1, 27)\n",
      "(1, 30)\n",
      "(3, 31)\n",
      "(1, 32)\n",
      "(1, 33)\n",
      "(2, 34)\n",
      "(3, 35)\n",
      "(3, 36)\n",
      "(1, 37)\n",
      "(2, 39)\n",
      "(1, 40)\n",
      "(1, 42)\n",
      "(2, 44)\n",
      "(2, 48)\n",
      "(1, 49)\n",
      "(1, 50)\n",
      "(2, 51)\n",
      "(2, 52)\n",
      "(2, 53)\n",
      "(2, 54)\n",
      "(1, 58)\n",
      "(1, 59)\n",
      "(1, 60)\n",
      "(1, 61)\n",
      "(2, 62)\n",
      "(1, 63)\n",
      "(2, 65)\n",
      "(2, 66)\n",
      "(1, 67)\n",
      "(3, 68)\n",
      "(1, 69)\n",
      "(1, 70)\n",
      "(4, 71)\n",
      "(1, 72)\n",
      "(5, 73)\n",
      "(3, 74)\n"
     ]
    }
   ],
   "metadata": {}
  },
  {
   "cell_type": "markdown",
   "source": [
    "## Task 3: Which age group has maximum number of people?"
   ],
   "metadata": {}
  },
  {
   "cell_type": "code",
   "execution_count": 89,
   "source": [
    "### Write your code below this comment\r\n",
    "cursor.execute(\"SELECT COUNT(*), age FROM persons GROUP BY age ORDER BY COUNT(*) desc\")\r\n",
    "\r\n",
    "rows = cursor.fetchall()\r\n",
    "i = [row for row in rows]\r\n",
    "print(i[0])\r\n",
    "\r\n"
   ],
   "outputs": [
    {
     "output_type": "stream",
     "name": "stdout",
     "text": [
      "(5, 73)\n"
     ]
    }
   ],
   "metadata": {}
  },
  {
   "cell_type": "markdown",
   "source": [
    "### First row will contain the max value (5 entries of age 73).\r\n",
    "\r\n",
    "## Task 4: How many people do not have a full name (Last name is blank/null)"
   ],
   "metadata": {}
  },
  {
   "cell_type": "code",
   "execution_count": 34,
   "source": [
    "### Write your code below this comment\r\n",
    "### column names: 'id', 'first_name', 'last_name', 'age', 'city', 'zip_code'\r\n",
    "\r\n",
    "null_values = cursor.execute(\"SELECT COUNT(*), last_name FROM persons WHERE last_name IS NULL\")\r\n",
    "\r\n",
    "for vals in null_values:\r\n",
    "    print(vals)"
   ],
   "outputs": [
    {
     "output_type": "stream",
     "name": "stdout",
     "text": [
      "(60, None)\n"
     ]
    }
   ],
   "metadata": {}
  },
  {
   "cell_type": "markdown",
   "source": [
    "## Task 5: How many people has more than one pet? (Count of owner_id > 1)"
   ],
   "metadata": {}
  },
  {
   "cell_type": "code",
   "execution_count": 81,
   "source": [
    "### Write your code below this comment\r\n",
    "### column names: 'owner_id', 'pet_name', 'pet_type', 'treatment_done'\r\n",
    "\r\n",
    "# rows = cursor.execute(\"SELECT COUNT(*), owner_id FROM pets GROUP BY owner_id HAVING COUNT(owner_id) > 1\")\r\n",
    "rows = cursor.execute(\"SELECT COUNT(*), owner_id FROM pets GROUP BY owner_id HAVING COUNT(owner_id) > 1\")\r\n",
    "i = []\r\n",
    "for row in rows:    \r\n",
    "  i.append(row)\r\n",
    "print(len(i))"
   ],
   "outputs": [
    {
     "output_type": "stream",
     "name": "stdout",
     "text": [
      "43\n"
     ]
    }
   ],
   "metadata": {}
  },
  {
   "cell_type": "markdown",
   "source": [
    "## Task 6: How many pets have received treatments?"
   ],
   "metadata": {}
  },
  {
   "cell_type": "code",
   "execution_count": 63,
   "source": [
    "### Write your code below this comment\r\n",
    "rows = cursor.execute(\"SELECT COUNT(*) FROM pets WHERE treatment_done = 1\")\r\n",
    "for row in rows:\r\n",
    "    print(row)"
   ],
   "outputs": [
    {
     "output_type": "stream",
     "name": "stdout",
     "text": [
      "(36,)\n"
     ]
    }
   ],
   "metadata": {}
  },
  {
   "cell_type": "markdown",
   "source": [
    "## Task 7: How many pets have received treatment that we know the type of?"
   ],
   "metadata": {}
  },
  {
   "cell_type": "code",
   "execution_count": 95,
   "source": [
    "### Write your code below this comment\r\n",
    "rows = cursor.execute(\"SELECT COUNT(*) FROM pets WHERE treatment_done = 1 and pet_type IS NOT NULL\")\r\n",
    "for row in rows:\r\n",
    "    print(row)"
   ],
   "outputs": [
    {
     "output_type": "stream",
     "name": "stdout",
     "text": [
      "(16,)\n"
     ]
    }
   ],
   "metadata": {}
  },
  {
   "cell_type": "markdown",
   "source": [
    "## Task 8: How many pets are there from the city called \"east port\""
   ],
   "metadata": {}
  },
  {
   "cell_type": "code",
   "execution_count": 96,
   "source": [
    "### Write your code below this comment\r\n",
    "cursor.execute(\"PRAGMA foreign_keys = 1\")\r\n",
    "sql_string = \"\"\"SELECT COUNT(*), city FROM persons LEFT JOIN pets ON persons.id = pets.owner_id WHERE city = 'east port'\"\"\"\r\n",
    "cursor.execute(sql_string)\r\n",
    "rows = cursor.fetchall()\r\n",
    "print(rows)"
   ],
   "outputs": [
    {
     "output_type": "stream",
     "name": "stdout",
     "text": [
      "[(53, 'east port')]\n"
     ]
    }
   ],
   "metadata": {}
  },
  {
   "cell_type": "markdown",
   "source": [
    "## Task 9: How many pets are there from the city called \"east port\" and who received a treatment?"
   ],
   "metadata": {}
  },
  {
   "cell_type": "code",
   "execution_count": 97,
   "source": [
    "### Write your code below this comment\r\n",
    "cursor.execute(\"PRAGMA foreign_keys = 1\")\r\n",
    "sql_string = \"\"\"SELECT COUNT(*), city, treatment_done \r\n",
    "                FROM persons \r\n",
    "                LEFT JOIN pets \r\n",
    "                ON persons.id = pets.owner_id \r\n",
    "                WHERE city = 'east port' AND treatment_done = 1\"\"\"\r\n",
    "cursor.execute(sql_string)\r\n",
    "rows = cursor.fetchall()\r\n",
    "print(rows)"
   ],
   "outputs": [
    {
     "output_type": "stream",
     "name": "stdout",
     "text": [
      "[(11, 'east port', 1)]\n"
     ]
    }
   ],
   "metadata": {}
  }
 ],
 "metadata": {
  "orig_nbformat": 4,
  "language_info": {
   "name": "python",
   "version": "3.7.6",
   "mimetype": "text/x-python",
   "codemirror_mode": {
    "name": "ipython",
    "version": 3
   },
   "pygments_lexer": "ipython3",
   "nbconvert_exporter": "python",
   "file_extension": ".py"
  },
  "kernelspec": {
   "name": "python3",
   "display_name": "Python 3.7.6 64-bit ('base': conda)"
  },
  "interpreter": {
   "hash": "bf60427b139290154779a7e38fd0f127f78e5a9dfc17b4a4bd1d849158c5fa70"
  }
 },
 "nbformat": 4,
 "nbformat_minor": 2
}