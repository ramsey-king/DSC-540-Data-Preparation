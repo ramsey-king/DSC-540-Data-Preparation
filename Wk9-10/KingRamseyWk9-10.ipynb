{
 "cells": [
  {
   "cell_type": "markdown",
   "source": [
    "## Task 1: (Connect to the supplied petsDB, and (OPTIONAL) write a function to check if the connection is done)"
   ],
   "metadata": {}
  },
  {
   "cell_type": "code",
   "execution_count": 8,
   "source": [
    "### Write your code below this comment\r\n",
    "import sqlite3\r\n",
    "with sqlite3.connect('petsdb') as conn:\r\n",
    "    cursor = conn.cursor()\r\n",
    "    cursor.execute(\"SELECT name FROM sqlite_master WHERE type='table';\")\r\n",
    "    print(cursor.fetchall())"
   ],
   "outputs": [
    {
     "output_type": "stream",
     "name": "stdout",
     "text": [
      "[('persons',), ('pets',)]\n"
     ]
    }
   ],
   "metadata": {}
  },
  {
   "cell_type": "markdown",
   "source": [
    "### With the table names being returned, this shows that the connection was made to the database.\r\n",
    "## Task 2:  (What are the different age groups in the persons database)"
   ],
   "metadata": {}
  },
  {
   "cell_type": "code",
   "execution_count": 9,
   "source": [
    "### Write your code below this comment\r\n",
    "rows = cursor.execute(\"SELECT COUNT(*), age FROM persons GROUP BY age\")\r\n",
    "for row in rows:\r\n",
    "    print(row)"
   ],
   "outputs": [
    {
     "output_type": "stream",
     "name": "stdout",
     "text": [
      "(2, 5)\n",
      "(1, 6)\n",
      "(1, 7)\n",
      "(3, 8)\n",
      "(1, 9)\n",
      "(2, 11)\n",
      "(3, 12)\n",
      "(1, 13)\n",
      "(4, 14)\n",
      "(2, 16)\n",
      "(2, 17)\n",
      "(3, 18)\n",
      "(1, 19)\n",
      "(3, 22)\n",
      "(2, 23)\n",
      "(3, 24)\n",
      "(2, 25)\n",
      "(1, 27)\n",
      "(1, 30)\n",
      "(3, 31)\n",
      "(1, 32)\n",
      "(1, 33)\n",
      "(2, 34)\n",
      "(3, 35)\n",
      "(3, 36)\n",
      "(1, 37)\n",
      "(2, 39)\n",
      "(1, 40)\n",
      "(1, 42)\n",
      "(2, 44)\n",
      "(2, 48)\n",
      "(1, 49)\n",
      "(1, 50)\n",
      "(2, 51)\n",
      "(2, 52)\n",
      "(2, 53)\n",
      "(2, 54)\n",
      "(1, 58)\n",
      "(1, 59)\n",
      "(1, 60)\n",
      "(1, 61)\n",
      "(2, 62)\n",
      "(1, 63)\n",
      "(2, 65)\n",
      "(2, 66)\n",
      "(1, 67)\n",
      "(3, 68)\n",
      "(1, 69)\n",
      "(1, 70)\n",
      "(4, 71)\n",
      "(1, 72)\n",
      "(5, 73)\n",
      "(3, 74)\n"
     ]
    }
   ],
   "metadata": {}
  },
  {
   "cell_type": "markdown",
   "source": [
    "## Task 3: Which age group has maximum number of people?"
   ],
   "metadata": {}
  },
  {
   "cell_type": "code",
   "execution_count": 29,
   "source": [
    "### Write your code below this comment\r\n",
    "rows = cursor.execute(\"SELECT COUNT(*), age FROM persons GROUP BY age ORDER BY COUNT(*) desc\")\r\n",
    "for row in rows:\r\n",
    "    print(row)\r\n"
   ],
   "outputs": [
    {
     "output_type": "stream",
     "name": "stdout",
     "text": [
      "(5, 73)\n",
      "(4, 71)\n",
      "(4, 14)\n",
      "(3, 74)\n",
      "(3, 68)\n",
      "(3, 36)\n",
      "(3, 35)\n",
      "(3, 31)\n",
      "(3, 24)\n",
      "(3, 22)\n",
      "(3, 18)\n",
      "(3, 12)\n",
      "(3, 8)\n",
      "(2, 66)\n",
      "(2, 65)\n",
      "(2, 62)\n",
      "(2, 54)\n",
      "(2, 53)\n",
      "(2, 52)\n",
      "(2, 51)\n",
      "(2, 48)\n",
      "(2, 44)\n",
      "(2, 39)\n",
      "(2, 34)\n",
      "(2, 25)\n",
      "(2, 23)\n",
      "(2, 17)\n",
      "(2, 16)\n",
      "(2, 11)\n",
      "(2, 5)\n",
      "(1, 72)\n",
      "(1, 70)\n",
      "(1, 69)\n",
      "(1, 67)\n",
      "(1, 63)\n",
      "(1, 61)\n",
      "(1, 60)\n",
      "(1, 59)\n",
      "(1, 58)\n",
      "(1, 50)\n",
      "(1, 49)\n",
      "(1, 42)\n",
      "(1, 40)\n",
      "(1, 37)\n",
      "(1, 33)\n",
      "(1, 32)\n",
      "(1, 30)\n",
      "(1, 27)\n",
      "(1, 19)\n",
      "(1, 13)\n",
      "(1, 9)\n",
      "(1, 7)\n",
      "(1, 6)\n"
     ]
    }
   ],
   "metadata": {}
  },
  {
   "cell_type": "markdown",
   "source": [
    "### First row will contain the max value (5 entries of age 73).\r\n",
    "\r\n",
    "## Task 4: How many people do not have a full name (Last name is blank/null)"
   ],
   "metadata": {}
  },
  {
   "cell_type": "code",
   "execution_count": 34,
   "source": [
    "### Write your code below this comment\r\n",
    "### column names: 'id', 'first_name', 'last_name', 'age', 'city', 'zip_code'\r\n",
    "\r\n",
    "null_values = cursor.execute(\"SELECT COUNT(*), last_name FROM persons WHERE last_name IS NULL\")\r\n",
    "\r\n",
    "for vals in null_values:\r\n",
    "    print(vals)"
   ],
   "outputs": [
    {
     "output_type": "stream",
     "name": "stdout",
     "text": [
      "(60, None)\n"
     ]
    }
   ],
   "metadata": {}
  },
  {
   "cell_type": "markdown",
   "source": [
    "## Task 5: How many people has more than one pet? (Count of owner_id > 1)"
   ],
   "metadata": {}
  },
  {
   "cell_type": "code",
   "execution_count": 61,
   "source": [
    "### Write your code below this comment\r\n",
    "### column names: 'owner_id', 'pet_name', 'pet_type', 'treatment_done'\r\n",
    "\r\n",
    "rows = cursor.execute(\"SELECT COUNT(*), owner_id FROM pets GROUP BY owner_id HAVING COUNT(owner_id) > 1\")\r\n",
    "i = 0\r\n",
    "for row in rows:    \r\n",
    "    i+=1\r\n",
    "print(i)"
   ],
   "outputs": [
    {
     "output_type": "stream",
     "name": "stdout",
     "text": [
      "43\n"
     ]
    }
   ],
   "metadata": {}
  },
  {
   "cell_type": "markdown",
   "source": [
    "## Task 6: How many pets have received treatments?"
   ],
   "metadata": {}
  },
  {
   "cell_type": "code",
   "execution_count": 63,
   "source": [
    "### Write your code below this comment\r\n",
    "rows = cursor.execute(\"SELECT COUNT(*) FROM pets WHERE treatment_done = 1\")\r\n",
    "for row in rows:\r\n",
    "    print(row)"
   ],
   "outputs": [
    {
     "output_type": "stream",
     "name": "stdout",
     "text": [
      "(36,)\n"
     ]
    }
   ],
   "metadata": {}
  },
  {
   "cell_type": "markdown",
   "source": [
    "## Task 7: How many pets have received treatment that we know the type of?"
   ],
   "metadata": {}
  },
  {
   "cell_type": "code",
   "execution_count": 65,
   "source": [
    "### Write your code below this comment\r\n",
    "rows = cursor.execute(\"SELECT COUNT(*) FROM pets WHERE treatment_done = 1 and pet_type IS NOT NULL\")\r\n",
    "for row in rows:\r\n",
    "    print(row)"
   ],
   "outputs": [
    {
     "output_type": "stream",
     "name": "stdout",
     "text": [
      "(20,)\n"
     ]
    }
   ],
   "metadata": {}
  },
  {
   "cell_type": "markdown",
   "source": [
    "## Task 8: How many pets are there from the city called \"east port\""
   ],
   "metadata": {}
  },
  {
   "cell_type": "code",
   "execution_count": 67,
   "source": [
    "### Write your code below this comment\r\n",
    "rows = cursor.execute(\"SELECT * from persons\")\r\n",
    "for row in rows:\r\n",
    "    print(row)"
   ],
   "outputs": [
    {
     "output_type": "stream",
     "name": "stdout",
     "text": [
      "(1, 'Erica', None, 22, 'south port', 2345678)\n",
      "(2, 'Jordi', None, 73, 'east port', 123456)\n",
      "(3, 'Chasity', None, 70, 'new port', 76856785)\n",
      "(4, 'Gregg', None, 31, 'new port', 76856785)\n",
      "(5, 'Tony', 'Lindgren', 7, 'west port', 2345678)\n",
      "(6, 'Cary', None, 73, 'new port', 76856785)\n",
      "(7, 'Gabe', 'Thompson', 54, 'new port', 9756543)\n",
      "(8, 'Francisca', None, 14, 'west port', 123456)\n",
      "(9, 'Katelyn', 'Torphy', 49, 'east port', 9756543)\n",
      "(10, 'Raleigh', None, 68, 'new port', 2345678)\n",
      "(11, 'Maria', None, 42, 'west port', 123456)\n",
      "(12, 'Mariane', None, 62, 'south port', 9756543)\n",
      "(13, 'Mona', None, 44, 'south port', 76856785)\n",
      "(14, 'Kayla', None, 36, 'south port', 2345678)\n",
      "(15, 'Karlie', None, 35, 'west port', 123456)\n",
      "(16, 'Morris', None, 71, 'west port', 76856785)\n",
      "(17, 'Sandy', None, 23, 'east port', 2345678)\n",
      "(18, 'Hector', None, 63, 'east port', 9756543)\n",
      "(19, 'Hiram', None, 52, 'west port', 2345678)\n",
      "(20, 'Tressa', None, 59, 'new port', 123456)\n",
      "(21, 'Berry', None, 22, 'south port', 2345678)\n",
      "(22, 'Pearline', None, 73, 'new port', 9756543)\n",
      "(23, 'Maynard', None, 25, 'east port', 123456)\n",
      "(24, 'Dorian', None, 40, 'east port', 123456)\n",
      "(25, 'Mylene', None, 5, 'east port', 76856785)\n",
      "(26, 'Lafayette', None, 34, 'new port', 2345678)\n",
      "(27, 'Friedrich', 'Wunsch', 48, 'east port', 9756543)\n",
      "(28, 'Domenica', 'Lakin', 13, 'west port', 76856785)\n",
      "(29, 'Tara', None, 39, 'west port', 123456)\n",
      "(30, 'Destiny', None, 18, 'south port', 2345678)\n",
      "(31, 'Lesly', None, 31, 'west port', 123456)\n",
      "(32, 'Perry', None, 19, 'south port', 76856785)\n",
      "(33, 'Keyon', 'Upton', 51, 'south port', 123456)\n",
      "(34, 'Jacquelyn', 'Bradtke', 54, 'south port', 123456)\n",
      "(35, 'Maritza', None, 73, 'east port', 9756543)\n",
      "(36, 'Ivory', 'Sawayn', 8, 'south port', 76856785)\n",
      "(37, 'Grant', None, 61, 'east port', 76856785)\n",
      "(38, 'Salma', 'Terry', 71, 'west port', 123456)\n",
      "(39, 'Laury', None, 17, 'east port', 9756543)\n",
      "(40, 'Name', None, 52, 'east port', 9756543)\n",
      "(41, 'Estefania', None, 32, 'new port', 76856785)\n",
      "(42, 'Destiney', None, 65, 'west port', 2345678)\n",
      "(43, 'Jaquelin', None, 73, 'west port', 9756543)\n",
      "(44, 'Brenda', 'Murray', 62, 'south port', 2345678)\n",
      "(45, 'Alfonzo', None, 16, 'east port', 2345678)\n",
      "(46, 'Lisandro', None, 11, 'new port', 76856785)\n",
      "(47, 'Lurline', 'Becker', 24, 'west port', 76856785)\n",
      "(48, 'Timmothy', 'Tillman', 12, 'new port', 76856785)\n",
      "(49, 'Priscilla', None, 65, 'east port', 76856785)\n",
      "(50, 'Elenora', None, 11, 'new port', 76856785)\n",
      "(51, 'Wendell', 'Sauer', 39, 'south port', 76856785)\n",
      "(52, 'Rudolph', None, 14, 'east port', 76856785)\n",
      "(53, 'Gabriella', 'Kertzmann', 30, 'south port', 76856785)\n",
      "(54, 'Citlalli', 'Pollich', 18, 'west port', 2345678)\n",
      "(55, 'Dax', 'Romaguera', 23, 'west port', 123456)\n",
      "(56, 'Ona', None, 35, 'east port', 9756543)\n",
      "(57, 'Rebeca', None, 50, 'new port', 76856785)\n",
      "(58, 'Lou', 'Bradtke', 71, 'south port', 2345678)\n",
      "(59, 'Sigurd', None, 12, 'west port', 76856785)\n",
      "(60, 'Nicklaus', 'Purdy', 72, 'new port', 2345678)\n",
      "(61, 'Destiney', 'Sauer', 24, 'west port', 2345678)\n",
      "(62, 'Cassidy', 'Crona', 18, 'east port', 123456)\n",
      "(63, 'Alice', None, 8, 'west port', 76856785)\n",
      "(64, 'Dane', None, 24, 'west port', 9756543)\n",
      "(65, 'Judge', None, 17, 'south port', 76856785)\n",
      "(66, 'Allene', None, 9, 'new port', 9756543)\n",
      "(67, 'Jalen', None, 33, 'new port', 2345678)\n",
      "(68, 'Aniyah', 'Grant', 27, 'new port', 9756543)\n",
      "(69, 'Ashton', 'Schaden', 25, 'west port', 2345678)\n",
      "(70, 'Myron', None, 36, 'new port', 9756543)\n",
      "(71, 'Presley', 'Gleason', 58, 'new port', 9756543)\n",
      "(72, 'Ephraim', 'Kihn', 67, 'south port', 123456)\n",
      "(73, 'Travon', None, 16, 'south port', 2345678)\n",
      "(74, 'Shayna', None, 60, 'new port', 2345678)\n",
      "(75, 'Myah', None, 14, 'east port', 2345678)\n",
      "(76, 'Sammy', 'Franecki', 53, 'south port', 76856785)\n",
      "(77, 'Ebba', 'Kihn', 34, 'west port', 2345678)\n",
      "(78, 'Leilani', 'Gislason', 53, 'south port', 123456)\n",
      "(79, 'Isabel', 'Beier', 74, 'west port', 2345678)\n",
      "(80, 'Jo', 'DuBuque', 68, 'west port', 76856785)\n",
      "(81, 'Angel', 'Mraz', 37, 'west port', 123456)\n",
      "(82, 'Letha', None, 44, 'new port', 9756543)\n",
      "(83, 'Lily', 'Hegmann', 12, 'east port', 123456)\n",
      "(84, 'Felton', None, 74, 'east port', 2345678)\n",
      "(85, 'London', None, 66, 'east port', 9756543)\n",
      "(86, 'Koby', None, 31, 'west port', 9756543)\n",
      "(87, 'Golden', None, 35, 'east port', 76856785)\n",
      "(88, 'Elfrieda', 'Nikolaus', 36, 'west port', 2345678)\n",
      "(89, 'Anissa', None, 8, 'south port', 76856785)\n",
      "(90, 'Mathew', 'Luettgen', 71, 'east port', 2345678)\n",
      "(91, 'Sid', None, 22, 'west port', 123456)\n",
      "(92, 'Micheal', 'Schuppe', 6, 'west port', 9756543)\n",
      "(93, 'Joanie', 'Cassin', 68, 'new port', 76856785)\n",
      "(94, 'Jerad', 'Pfeffer', 74, 'west port', 123456)\n",
      "(95, 'Benjamin', 'Lowe', 51, 'south port', 9756543)\n",
      "(96, 'Ernesto', None, 69, 'east port', 9756543)\n",
      "(97, 'Josianne', None, 14, 'west port', 76856785)\n",
      "(98, 'Hilma', 'Waelchi', 48, 'east port', 9756543)\n",
      "(99, 'Otilia', 'Gleason', 66, 'new port', 9756543)\n",
      "(100, 'Adrian', 'Schinner', 5, 'south port', 76856785)\n"
     ]
    }
   ],
   "metadata": {}
  },
  {
   "cell_type": "markdown",
   "source": [
    "## Task 9: How many pets are there from the city called \"east port\" and who received a treatment?"
   ],
   "metadata": {}
  },
  {
   "cell_type": "code",
   "execution_count": null,
   "source": [
    "### Write your code below this comment"
   ],
   "outputs": [],
   "metadata": {}
  }
 ],
 "metadata": {
  "orig_nbformat": 4,
  "language_info": {
   "name": "python",
   "version": "3.7.6",
   "mimetype": "text/x-python",
   "codemirror_mode": {
    "name": "ipython",
    "version": 3
   },
   "pygments_lexer": "ipython3",
   "nbconvert_exporter": "python",
   "file_extension": ".py"
  },
  "kernelspec": {
   "name": "python3",
   "display_name": "Python 3.7.6 64-bit ('base': conda)"
  },
  "interpreter": {
   "hash": "bf60427b139290154779a7e38fd0f127f78e5a9dfc17b4a4bd1d849158c5fa70"
  }
 },
 "nbformat": 4,
 "nbformat_minor": 2
}