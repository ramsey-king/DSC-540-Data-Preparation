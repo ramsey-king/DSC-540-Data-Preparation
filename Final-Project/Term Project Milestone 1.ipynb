{
 "cells": [
  {
   "cell_type": "markdown",
   "metadata": {},
   "source": [
    "# Ramsey King\n",
    "# DSC 540 - Data Preparation\n",
    "# June 19, 2021\n",
    "# Milestone 1"
   ]
  },
  {
   "cell_type": "markdown",
   "metadata": {},
   "source": [
    "## Data Sources Used:\n",
    "\n",
    "1. csv file - King James Version of the Bible (Taken from the R package 'scriptuRs' and converted to a csv file in RStudio)\n",
    "2. Websites  \n",
    "- LDS General Conference Corpus https://www.lds-general-conference.org/\n",
    "- World History Project https://worldhistoryproject.org/\n",
    "- Scripture Citation Index https://scriptures.byu.edu/\n",
    "3. API - api.nephi.org"
   ]
  },
  {
   "cell_type": "markdown",
   "metadata": {},
   "source": [
    "## The relationships that I will make between the datasets:\n",
    "\n",
    "The King James Version of the Bible (KJV Bible) has **Book names, Chapter numbers, and verse numbers**.\n",
    "\n",
    "The LDS General Conference Corpus can return a frequency of words used in talks/lectures given by **year**.\n",
    "\n",
    "The World History Project has events categorized by month and **year**.\n",
    "\n",
    "The Scripture Citation Index has talks/lectures given with references to Bible and other scriptural **Book names, Chapter numbers, and verse numbers**.\n",
    "\n",
    "The API contains other religious texts and they are categorized by **Book names, Chapter numbers, and verse numbers**.\n",
    "\n"
   ]
  },
  {
   "cell_type": "markdown",
   "metadata": {},
   "source": [
    "## What I will have to do to accomplish the 5 Milestones and Interpretation of the data\n",
    "\n",
    "The intent of my term project is to see if there is a relationship between current events and what leaders of the church I attend discuss.  Also within this project I would like to explore if there are any recurring themes in the subjects that have been discussed by those church leaders.\n",
    "\n",
    "To give some background, every year, The Church of Jesus Christ of Latter-Day Saints holds a worldwide conference for all of its members in April and in October.  Church leaders give sermons that speak about Jesus Christ and what we can do to increase our faith.  These conferences have been taking place since 1830.\n",
    "\n",
    "As members of The Church of Jesus Christ of Latter-Day Saints, we believe the Bible to be scripture.  In addition, we believe the Book of Mormon to be scripture and another testament of Jesus Christ.  We believe that Christ's church was brought back to the earth through a man named Joseph Smith, and we believe that in addition to the Book of Mormon, Joseph Smith brought forth additional teachings that are considered scripture.  Those teachings are contained in texts called the Doctrine and Covenants and the Pearl of Great Price. \n",
    "\n",
    "One of the information sources - The LDS General Conference Corpus, contains all the talks from these general conferences dating back to 1851.  Where this information source will come to be helpful is that you can look at the word/topic usage over time.  This will relate to the World History Project to see if there are any themes that a particular year or decade in history take that may be a leading or lagging indicator of what the church leaders speak about in general conference.  \n",
    "\n",
    "In just about every lecture/sermon given in general conference references to scriptures are given.  My term project will also explore if there are any patterns that exists with the scriptural references given by these speakers and their relation to the events of the current time.\n",
    "\n",
    "With this explanation of the interpretation of the data, I will now discuss what I think I will have to do to accomplish the five milestones for this term project.\n",
    "\n",
    "For the first milestone, this document is needed to satisfy that requirement.\n",
    "\n",
    "For milestones two, three and four, there are several additions/modifications to the datasets that I will be accessing.  For example, in the KJV Bible data set, the book name is its own separate column from the chapter number and the verse number.  On the Scripture Citation Index site, These Bible verse references are presented all together. The data from the Scripture Citation Index will need to be manipulated in order to create a relationship between it and the KJV Bible dataset.  In addition, modifications and other transformations will be needed to create a relationship between the API data and the Scripture Citation Index.  The data from the Scripture Citation Index, the World History Project, and potentially the LDS General Conference Corpus will need to be scraped and put into a succinct data format similar to the KJV Bible data set with clean columns and rows.  I suspect I will become very familiar with Beautiful Soup and its functionality.\n",
    "\n",
    "For the fifth milestone, some research will need to be done to get the data into a database.  I do not have much experience exporting data frames to databases, so I look forward to learning how to do this.  For the visualization aspect, depending on the data that is found, I may use PowerBI, or a Jupyter notebook with the Python packages that allow for visualizations.\n",
    "\n",
    "I am looking forward to seeing what I find with this project.\n",
    "\n",
    "\n",
    "References:\n",
    "\n",
    "_General Conference_.  (n. d.).  The Church of Jesus Christ.  Retrieved June 19, 2021 from:\n",
    "> https://www.churchofjesuschrist.org/learn/general-conference?lang=eng\n",
    "\n",
    "_LDS General Conference Corpus_.  (n.d.).  LDS General Conference.  Retrieved June 19, 2021 from:\n",
    "> https://www.lds-general-conference.org/\n",
    "\n"
   ]
  }
 ],
 "metadata": {
  "kernelspec": {
   "display_name": "Python 3",
   "language": "python",
   "name": "python3"
  },
  "language_info": {
   "codemirror_mode": {
    "name": "ipython",
    "version": 3
   },
   "file_extension": ".py",
   "mimetype": "text/x-python",
   "name": "python",
   "nbconvert_exporter": "python",
   "pygments_lexer": "ipython3",
   "version": "3.8.3"
  }
 },
 "nbformat": 4,
 "nbformat_minor": 4
}
