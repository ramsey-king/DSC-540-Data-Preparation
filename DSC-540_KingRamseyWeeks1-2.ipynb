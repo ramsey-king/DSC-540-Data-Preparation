{
 "cells": [
  {
   "cell_type": "markdown",
   "metadata": {},
   "source": [
    "# Ramsey King\n",
    "# DSC 540 - Data Preparation\n",
    "# Weeks 1 & 2\n",
    "# June 19, 2021\n",
    "## Exercise 1.1\n",
    "### Create a Jupyter notebook where you create a list, iterate over the list and sort your results, generate random numbers, add to the list, and then print your results."
   ]
  },
  {
   "cell_type": "code",
   "execution_count": 13,
   "metadata": {},
   "outputs": [
    {
     "data": {
      "text/plain": [
       "[4554,\n",
       " 7791,\n",
       " 4807,\n",
       " 2477,\n",
       " 2650,\n",
       " 3417,\n",
       " 6971,\n",
       " 2867,\n",
       " 1116,\n",
       " 4773,\n",
       " 2241,\n",
       " 4096,\n",
       " 2928,\n",
       " 7141,\n",
       " 9150,\n",
       " 4125,\n",
       " 3572,\n",
       " 7836,\n",
       " 8262,\n",
       " 5667,\n",
       " 6387,\n",
       " 8732,\n",
       " 6458,\n",
       " 1632,\n",
       " 6550]"
      ]
     },
     "execution_count": 13,
     "metadata": {},
     "output_type": "execute_result"
    }
   ],
   "source": [
    "import random\n",
    "random.seed(2468)\n",
    "# Create a list and add 25 random numbers to the list between the numbers 0 and 10,000.\n",
    "the_list = random.sample(range(10000), k=25)\n",
    "the_list"
   ]
  },
  {
   "cell_type": "code",
   "execution_count": 12,
   "metadata": {},
   "outputs": [
    {
     "data": {
      "text/plain": [
       "[1116,\n",
       " 1632,\n",
       " 2241,\n",
       " 2477,\n",
       " 2650,\n",
       " 2867,\n",
       " 2928,\n",
       " 3417,\n",
       " 3572,\n",
       " 4096,\n",
       " 4125,\n",
       " 4554,\n",
       " 4773,\n",
       " 4807,\n",
       " 5667,\n",
       " 6387,\n",
       " 6458,\n",
       " 6550,\n",
       " 6971,\n",
       " 7141,\n",
       " 7791,\n",
       " 7836,\n",
       " 8262,\n",
       " 8732,\n",
       " 9150]"
      ]
     },
     "execution_count": 12,
     "metadata": {},
     "output_type": "execute_result"
    }
   ],
   "source": [
    "# iterate over the list and sort the results\n",
    "the_sorted_list = sorted(the_list)\n",
    "the_sorted_list"
   ]
  },
  {
   "cell_type": "markdown",
   "metadata": {},
   "source": [
    "## Create a line chart with Matplotlib and the \"world-population.xlsm\" file."
   ]
  },
  {
   "cell_type": "code",
   "execution_count": null,
   "metadata": {},
   "outputs": [],
   "source": [
    "%matplotlib inline"
   ]
  },
  {
   "cell_type": "code",
   "execution_count": null,
   "metadata": {},
   "outputs": [],
   "source": [
    "import matplotlib.pyplot as plt\n"
   ]
  }
 ],
 "metadata": {
  "kernelspec": {
   "display_name": "Python 3",
   "language": "python",
   "name": "python3"
  },
  "language_info": {
   "codemirror_mode": {
    "name": "ipython",
    "version": 3
   },
   "file_extension": ".py",
   "mimetype": "text/x-python",
   "name": "python",
   "nbconvert_exporter": "python",
   "pygments_lexer": "ipython3",
   "version": "3.8.3"
  }
 },
 "nbformat": 4,
 "nbformat_minor": 4
}
