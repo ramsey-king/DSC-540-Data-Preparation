{
 "cells": [
  {
   "cell_type": "markdown",
   "metadata": {
    "collapsed": true,
    "pycharm": {
     "name": "#%% md\n"
    }
   },
   "source": [
    "# Ramsey King\n",
    "# DSC 540 - Data Preparation\n",
    "# Weeks 5 & 6\n",
    "# July 16, 2021\n",
    "## For this assignment you need to complete 8 of the following exercises against this data.  You must select at least 2 methods from Chapters 7, 8, 10 & 11."
   ]
  },
  {
   "cell_type": "code",
   "execution_count": 1,
   "outputs": [
    {
     "data": {
      "text/plain": "(1259, 123)"
     },
     "execution_count": 1,
     "metadata": {},
     "output_type": "execute_result"
    }
   ],
   "source": [
    "import matplotlib.pyplot as plt\n",
    "import pandas as pd\n",
    "import numpy as np\n",
    "\n",
    "candy_2016_df = pd.read_excel('BOING-BOING-CANDY-HIERARCHY-2016-SURVEY-Responses.xlsx')\n",
    "candy_2016_df.shape"
   ],
   "metadata": {
    "collapsed": false,
    "pycharm": {
     "name": "#%%\n"
    }
   }
  },
  {
   "cell_type": "markdown",
   "source": [
    "### The 2 method from Chapter 7 that I will chose are filtering out missing data and binning. This will be done by filtering out the rows where the column 'How old are you?' is non-numeric.  From there, the ages will be binned."
   ],
   "metadata": {
    "collapsed": false,
    "pycharm": {
     "name": "#%% md\n"
    }
   }
  },
  {
   "cell_type": "code",
   "execution_count": 2,
   "outputs": [
    {
     "data": {
      "text/plain": "(1191, 123)"
     },
     "execution_count": 2,
     "metadata": {},
     "output_type": "execute_result"
    }
   ],
   "source": [
    "# rename the 'How old are you?' column to 'age'\n",
    "candy_2016_df = candy_2016_df.rename(columns={candy_2016_df.columns[3]:'age'})\n",
    "\n",
    "# remove rows where 'age' column does not contain a number\n",
    "candy_2016_df = candy_2016_df[pd.to_numeric(candy_2016_df['age'], errors='coerce').notnull()]\n",
    "candy_2016_df.shape"
   ],
   "metadata": {
    "collapsed": false,
    "pycharm": {
     "name": "#%%\n"
    }
   }
  },
  {
   "cell_type": "code",
   "execution_count": 3,
   "outputs": [
    {
     "data": {
      "text/plain": "(34, 44]     382\n(24, 34]     317\n(44, 54]     292\n(54, 64]     121\n(17, 24]      37\n(0, 17]       21\n(64, 140]     19\nName: age, dtype: int64"
     },
     "execution_count": 3,
     "metadata": {},
     "output_type": "execute_result"
    }
   ],
   "source": [
    "# bin 'age' column based on age ranges (<17, 18-25, 26-34, 35-44, 45-54, 55-64, >65)\n",
    "bins = [0,17,24,34,44,54,64,140]\n",
    "cats = pd.cut(candy_2016_df['age'], bins)\n",
    "pd.value_counts(cats)\n",
    "# candy_2016_df.plot.bar(x=cats,y=pd.value_counts(cats))"
   ],
   "metadata": {
    "collapsed": false,
    "pycharm": {
     "name": "#%%\n"
    }
   }
  },
  {
   "cell_type": "markdown",
   "source": [
    "### The 2 methods that I will chose from Chapter 8 are combining/merging datasets and pivoting data.  This will be achieved as follows:\n",
    "1. Create a subset of the 2016 and 2017 candy datasets based on all participants who gave a response in the '[100 Grand Bar]' column\n",
    "2. Merge these subset datasets together (adding the rows of the 2016 dataset to the 2017 dataset).\n",
    "3. Creating a pivot table based on the 100 Grand Bar response type by gender"
   ],
   "metadata": {
    "collapsed": false,
    "pycharm": {
     "name": "#%% md\n"
    }
   }
  },
  {
   "cell_type": "code",
   "execution_count": 4,
   "outputs": [
    {
     "name": "stdout",
     "output_type": "stream",
     "text": [
      "2016 dimensions: (1259, 123) \n",
      "2017 dimensions: (2460, 120)\n"
     ]
    }
   ],
   "source": [
    "# Load the 2016 and 2017 datasets (since I've re-written over the 2016 dataset above)\n",
    "\n",
    "candy_2016_df = pd.read_excel('BOING-BOING-CANDY-HIERARCHY-2016-SURVEY-Responses.xlsx')\n",
    "candy_2017_df = pd.read_excel('candyhierarchy2017.xlsx')\n",
    "\n",
    "print(\"2016 dimensions:\", candy_2016_df.shape, \"\\n2017 dimensions:\", candy_2017_df.shape)"
   ],
   "metadata": {
    "collapsed": false,
    "pycharm": {
     "name": "#%%\n"
    }
   }
  },
  {
   "cell_type": "code",
   "execution_count": 5,
   "outputs": [
    {
     "name": "stdout",
     "output_type": "stream",
     "text": [
      "hundred_grand_bar has 78 missing value(s)\n"
     ]
    }
   ],
   "source": [
    "# rename the '100 Grand Bar' column '100_grand_bar', 'Your gender:' column 'gender', and 'How old are you?' 'age'\n",
    "candy_2016_df = candy_2016_df.rename(columns={candy_2016_df.columns[2]:'gender',\n",
    "                                              candy_2016_df.columns[3]:'age',\n",
    "                                              candy_2016_df.columns[6]:'hundred_grand_bar'})\n",
    "#candy_2016_df.columns\n",
    "\n",
    "\n",
    "# check for empty values in the hundred_grand_bar column in the 2016 dataset.\n",
    "miss = candy_2016_df['hundred_grand_bar'].isnull().sum()\n",
    "if miss>0:\n",
    "    print(\"hundred_grand_bar has {} missing value(s)\".format(miss))\n",
    "else:\n",
    "    print(\"hundred_grand_bar has no missing values.\")\n"
   ],
   "metadata": {
    "collapsed": false,
    "pycharm": {
     "name": "#%%\n"
    }
   }
  },
  {
   "cell_type": "code",
   "execution_count": 6,
   "outputs": [
    {
     "data": {
      "text/plain": "(1181, 123)"
     },
     "execution_count": 6,
     "metadata": {},
     "output_type": "execute_result"
    }
   ],
   "source": [
    "# remove rows where the 100 Grand Bar value is null\n",
    "candy_2016_df = candy_2016_df[candy_2016_df['hundred_grand_bar'].isnull() == False]\n",
    "candy_2016_df.shape"
   ],
   "metadata": {
    "collapsed": false,
    "pycharm": {
     "name": "#%%\n"
    }
   }
  },
  {
   "cell_type": "code",
   "execution_count": 7,
   "outputs": [
    {
     "name": "stdout",
     "output_type": "stream",
     "text": [
      "hundred_grand_bar has 747 missing value(s)\n"
     ]
    }
   ],
   "source": [
    "# rename the '100 Grand Bar' column '100_grand_bar', 'Your gender:' column 'gender', and 'How old are you?' 'age'\n",
    "candy_2017_df = candy_2017_df.rename(columns={candy_2017_df.columns[2]:'gender',\n",
    "                                              candy_2017_df.columns[3]:'age',\n",
    "                                              candy_2017_df.columns[6]:'hundred_grand_bar'})\n",
    "#candy_2017_df.columns\n",
    "\n",
    "\n",
    "# check for empty values in the hundred_grand_bar column in the 2016 dataset.\n",
    "miss = candy_2017_df['hundred_grand_bar'].isnull().sum()\n",
    "if miss>0:\n",
    "    print(\"hundred_grand_bar has {} missing value(s)\".format(miss))\n",
    "else:\n",
    "    print(\"hundred_grand_bar has no missing values.\")"
   ],
   "metadata": {
    "collapsed": false,
    "pycharm": {
     "name": "#%%\n"
    }
   }
  },
  {
   "cell_type": "code",
   "execution_count": 8,
   "outputs": [
    {
     "data": {
      "text/plain": "(1713, 120)"
     },
     "execution_count": 8,
     "metadata": {},
     "output_type": "execute_result"
    }
   ],
   "source": [
    "# remove rows where the 100 Grand Bar value is null\n",
    "candy_2017_df = candy_2017_df[candy_2017_df['hundred_grand_bar'].isnull() == False]\n",
    "candy_2017_df.shape"
   ],
   "metadata": {
    "collapsed": false,
    "pycharm": {
     "name": "#%%\n"
    }
   }
  },
  {
   "cell_type": "code",
   "execution_count": 9,
   "outputs": [
    {
     "data": {
      "text/plain": "      gender age hundred_grand_bar\n0       Male  22               JOY\n1       Male  45               MEH\n2     Female  48               JOY\n3       Male  57               JOY\n4       Male  42               MEH\n...      ...  ..               ...\n2454  Female  26               JOY\n2455    Male  24               JOY\n2456  Female  33               MEH\n2457  Female  26               MEH\n2459  Female  66           DESPAIR\n\n[2894 rows x 3 columns]",
      "text/html": "<div>\n<style scoped>\n    .dataframe tbody tr th:only-of-type {\n        vertical-align: middle;\n    }\n\n    .dataframe tbody tr th {\n        vertical-align: top;\n    }\n\n    .dataframe thead th {\n        text-align: right;\n    }\n</style>\n<table border=\"1\" class=\"dataframe\">\n  <thead>\n    <tr style=\"text-align: right;\">\n      <th></th>\n      <th>gender</th>\n      <th>age</th>\n      <th>hundred_grand_bar</th>\n    </tr>\n  </thead>\n  <tbody>\n    <tr>\n      <th>0</th>\n      <td>Male</td>\n      <td>22</td>\n      <td>JOY</td>\n    </tr>\n    <tr>\n      <th>1</th>\n      <td>Male</td>\n      <td>45</td>\n      <td>MEH</td>\n    </tr>\n    <tr>\n      <th>2</th>\n      <td>Female</td>\n      <td>48</td>\n      <td>JOY</td>\n    </tr>\n    <tr>\n      <th>3</th>\n      <td>Male</td>\n      <td>57</td>\n      <td>JOY</td>\n    </tr>\n    <tr>\n      <th>4</th>\n      <td>Male</td>\n      <td>42</td>\n      <td>MEH</td>\n    </tr>\n    <tr>\n      <th>...</th>\n      <td>...</td>\n      <td>...</td>\n      <td>...</td>\n    </tr>\n    <tr>\n      <th>2454</th>\n      <td>Female</td>\n      <td>26</td>\n      <td>JOY</td>\n    </tr>\n    <tr>\n      <th>2455</th>\n      <td>Male</td>\n      <td>24</td>\n      <td>JOY</td>\n    </tr>\n    <tr>\n      <th>2456</th>\n      <td>Female</td>\n      <td>33</td>\n      <td>MEH</td>\n    </tr>\n    <tr>\n      <th>2457</th>\n      <td>Female</td>\n      <td>26</td>\n      <td>MEH</td>\n    </tr>\n    <tr>\n      <th>2459</th>\n      <td>Female</td>\n      <td>66</td>\n      <td>DESPAIR</td>\n    </tr>\n  </tbody>\n</table>\n<p>2894 rows × 3 columns</p>\n</div>"
     },
     "execution_count": 9,
     "metadata": {},
     "output_type": "execute_result"
    }
   ],
   "source": [
    "'''\n",
    "merge the 2016 and 2017 candy datasets together by adding rows.  Before we do this, we will grab only the gender, age,\n",
    "and hundred_grand_bar columns and put them into a new dataframe\n",
    "'''\n",
    "candy_2016_subset = candy_2016_df[['gender', 'age', 'hundred_grand_bar']]\n",
    "candy_2017_subset = candy_2017_df[['gender', 'age', 'hundred_grand_bar']]\n",
    "\n",
    "combined_candy_subset = candy_2016_subset.append(candy_2017_subset)\n",
    "combined_candy_subset"
   ],
   "metadata": {
    "collapsed": false,
    "pycharm": {
     "name": "#%%\n"
    }
   }
  },
  {
   "cell_type": "code",
   "execution_count": 10,
   "outputs": [
    {
     "data": {
      "text/plain": "                                               age\ngender             hundred_grand_bar              \nFemale             DESPAIR            3.726923e+01\n                   JOY                4.143659e+01\n                   MEH                3.930000e+01\nI'd rather not say DESPAIR            3.433333e+01\n                   JOY                3.935294e+01\n                   MEH                8.688462e+01\nMale               DESPAIR            4.137333e+01\n                   JOY                4.360352e+01\n                   MEH                1.329787e+15\nOther              DESPAIR            3.566667e+01\n                   JOY                3.537500e+01\n                   MEH                4.755556e+01",
      "text/html": "<div>\n<style scoped>\n    .dataframe tbody tr th:only-of-type {\n        vertical-align: middle;\n    }\n\n    .dataframe tbody tr th {\n        vertical-align: top;\n    }\n\n    .dataframe thead th {\n        text-align: right;\n    }\n</style>\n<table border=\"1\" class=\"dataframe\">\n  <thead>\n    <tr style=\"text-align: right;\">\n      <th></th>\n      <th></th>\n      <th>age</th>\n    </tr>\n    <tr>\n      <th>gender</th>\n      <th>hundred_grand_bar</th>\n      <th></th>\n    </tr>\n  </thead>\n  <tbody>\n    <tr>\n      <th rowspan=\"3\" valign=\"top\">Female</th>\n      <th>DESPAIR</th>\n      <td>3.726923e+01</td>\n    </tr>\n    <tr>\n      <th>JOY</th>\n      <td>4.143659e+01</td>\n    </tr>\n    <tr>\n      <th>MEH</th>\n      <td>3.930000e+01</td>\n    </tr>\n    <tr>\n      <th rowspan=\"3\" valign=\"top\">I'd rather not say</th>\n      <th>DESPAIR</th>\n      <td>3.433333e+01</td>\n    </tr>\n    <tr>\n      <th>JOY</th>\n      <td>3.935294e+01</td>\n    </tr>\n    <tr>\n      <th>MEH</th>\n      <td>8.688462e+01</td>\n    </tr>\n    <tr>\n      <th rowspan=\"3\" valign=\"top\">Male</th>\n      <th>DESPAIR</th>\n      <td>4.137333e+01</td>\n    </tr>\n    <tr>\n      <th>JOY</th>\n      <td>4.360352e+01</td>\n    </tr>\n    <tr>\n      <th>MEH</th>\n      <td>1.329787e+15</td>\n    </tr>\n    <tr>\n      <th rowspan=\"3\" valign=\"top\">Other</th>\n      <th>DESPAIR</th>\n      <td>3.566667e+01</td>\n    </tr>\n    <tr>\n      <th>JOY</th>\n      <td>3.537500e+01</td>\n    </tr>\n    <tr>\n      <th>MEH</th>\n      <td>4.755556e+01</td>\n    </tr>\n  </tbody>\n</table>\n</div>"
     },
     "execution_count": 10,
     "metadata": {},
     "output_type": "execute_result"
    }
   ],
   "source": [
    "'''\n",
    "Now we are ready to pivot the data based on gender.\n",
    "'''\n",
    "# drop the rows with missing values for age\n",
    "combined_candy_subset = combined_candy_subset[combined_candy_subset['age'].isnull() == False]\n",
    "combined_candy_subset = combined_candy_subset[pd.to_numeric(combined_candy_subset['age'], errors='coerce').notnull()]\n",
    "\n",
    "# convert age column to numeric\n",
    "combined_candy_subset['age'] = pd.to_numeric(combined_candy_subset['age'])\n",
    "combined_candy_subset.dtypes\n",
    "combined_candy_subset.pivot_table(values='age', index=['gender','hundred_grand_bar'],aggfunc=np.mean)"
   ],
   "metadata": {
    "collapsed": false,
    "pycharm": {
     "name": "#%%\n"
    }
   }
  },
  {
   "cell_type": "markdown",
   "source": [
    "### The 2 methods that I will chose from Chapter 10 are Grouping with Dicts and <ENTER HERE> This will be achieved as follows:\n",
    "1. Grouping with Dicts -- create a mapping of different types of candy according to 'genre' i.e. chocolate, hard, soft, etc.\n",
    "2. List the top 5 candies with the most 'JOY' responses."
   ],
   "metadata": {
    "collapsed": false,
    "pycharm": {
     "name": "#%% md\n"
    }
   }
  },
  {
   "cell_type": "code",
   "execution_count": 29,
   "outputs": [
    {
     "data": {
      "text/plain": "Candy Bar              13\nCaramels                1\nChewing Gum             3\nChewy                   9\nChocolate              18\nGummies                 1\nHard                   10\nLicorice                3\nLollipops and Sours     3\nN/A                    25\nUnknown                 5\ndtype: int64"
     },
     "execution_count": 29,
     "metadata": {},
     "output_type": "execute_result"
    }
   ],
   "source": [
    "'''\n",
    "1. Grouping with Dicts -- create a mapping of different types of candy according to 'genre' i.e. chocolate, hard, soft, etc.\n",
    "'''\n",
    "candy_2015_df = pd.read_excel('CANDY-HIERARCHY-2015-SURVEY-Responses.xlsx')\n",
    "# Create a mapping dictionary of almost all the columns included in the survey\n",
    "mapping = {' [Butterfinger]': 'Candy Bar',\n",
    "           ' [100 Grand Bar]': 'Candy Bar',\n",
    "           ' [Anonymous brown globs that come in black and orange wrappers]': 'Unknown',\n",
    "           ' [Any full-sized candy bar]': 'Candy Bar',\n",
    "           ' [Black Jacks]': 'Chewy',\n",
    "           ' [Bonkers]': 'Chewy',\n",
    "           ' [Bottle Caps]': 'Hard',\n",
    "           ' [Box’o’ Raisins]': 'Chocolate',\n",
    "           ' [Brach products (not including candy corn)]': 'Unknown',\n",
    "           ' [Bubble Gum]': 'Chewing Gum',\n",
    "           ' [Cadbury Creme Eggs]': 'Chocolate',\n",
    "           ' [Candy Corn]': 'Unknown',\n",
    "           ' [Chiclets]': 'Chewing Gum',\n",
    "           ' [Caramellos]': 'Caramels',\n",
    "           ' [Snickers]': 'Candy Bar',\n",
    "           ' [Dark Chocolate Hershey]': 'Candy Bar',\n",
    "           ' [Dots]': 'Chewy',\n",
    "           ' [Fuzzy Peaches]': 'N/A',\n",
    "           ' [Generic Brand Acetaminophen]': 'N/A',\n",
    "           ' [Glow sticks]': 'N/A',\n",
    "           ' [Broken glow stick]': 'N/A',\n",
    "           ' [Goo Goo Clusters]': 'Candy Bar',\n",
    "           ' [Good N\\' Plenty]': 'Licorice',\n",
    "           ' [Gum from baseball cards]': 'Chewing Gum',\n",
    "           ' [Gummy Bears straight up]': 'Gummies',\n",
    "           ' [Creepy Religious comics/Chick Tracts]': 'N/A',\n",
    "           ' [Healthy Fruit]': 'N/A',\n",
    "           ' [Heath Bar]': 'Candy Bar',\n",
    "           ' [Hershey’s Kissables]': 'Chocolate',\n",
    "           ' [Hershey’s Milk Chocolate]': 'Chocolate',\n",
    "           ' [Hugs (actual physical hugs)]': 'N/A',\n",
    "           ' [Jolly Rancher (bad flavor)]': 'Hard',\n",
    "           ' [Jolly Ranchers (good flavor)]': 'Hard',\n",
    "           ' [Kale smoothie]': 'N/A',\n",
    "           ' [Kinder Happy Hippo]': 'Chocolate',\n",
    "           ' [Kit Kat]': 'Chocolate',\n",
    "           ' [Hard Candy]': 'Hard',\n",
    "           ' [Lapel Pins]': 'N/A',\n",
    "           ' [LemonHeads]': 'Hard',\n",
    "           ' [Licorice]': 'Licorice',\n",
    "           ' [Licorice (not black)]': 'Licorice',\n",
    "           ' [Lindt Truffle]': 'Chocolate',\n",
    "           ' [Lollipops]': 'Lollipops and Sours',\n",
    "           ' [Mars]': 'Candy Bar',\n",
    "           ' [Mary Janes]': 'Chewy',\n",
    "           ' [Maynards]': 'Lollipops and Sours',\n",
    "           ' [Milk Duds]': 'Chocolate',\n",
    "           ' [LaffyTaffy]': 'Chewy',\n",
    "           ' [Minibags of chips]': 'N/A',\n",
    "           ' [JoyJoy (Mit Iodine)]': 'N/A',\n",
    "           ' [Reggie Jackson Bar]': 'Candy Bar',\n",
    "           ' [Pixy Stix]': 'Unknown',\n",
    "           ' [Nerds]': 'Hard',\n",
    "           ' [Nestle Crunch]': 'Chocolate',\n",
    "           ' [Now\\'n\\'Laters]': 'Chewy',\n",
    "           ' [Pencils]': 'N/A',\n",
    "           ' [Milky Way]': 'Candy Bar',\n",
    "           ' [Reese’s Peanut Butter Cups]': 'Chocolate',\n",
    "           ' [Tolberone something or other]': 'N/A',\n",
    "           ' [Runts]': 'Hard',\n",
    "           ' [Junior Mints]': 'Chocolate',\n",
    "           ' [Senior Mints]': 'N/A',\n",
    "           ' [Mint Kisses]': 'Chocolate',\n",
    "           ' [Mint Juleps]': 'Chewy',\n",
    "           ' [Mint Leaves]': 'N/A',\n",
    "           ' [Peanut M&M’s]': 'Chocolate',\n",
    "           ' [Regular M&Ms]': 'Chocolate',\n",
    "           ' [Mint M&Ms]': 'Chocolate',\n",
    "           ' [Ribbon candy]': 'N/A',\n",
    "           ' [Rolos]': 'Chocolate',\n",
    "           ' [Skittles]': 'Hard',\n",
    "           ' [Smarties (American)]': 'Hard',\n",
    "           ' [Smarties (Commonwealth)]': 'Hard',\n",
    "           ' [Chick-o-Sticks (we don’t know what that is)]': 'N/A',\n",
    "           ' [Spotted Dick]': 'N/A',\n",
    "           ' [Starburst]': 'Chewy',\n",
    "           ' [Swedish Fish]': 'Chewy',\n",
    "           ' [Sweetums]': 'Lollipops and Sours',\n",
    "           ' [Those odd marshmallow circus peanut things]': 'N/A',\n",
    "           ' [Three Musketeers]': 'Candy Bar',\n",
    "           ' [Peterson Brand Sidewalk Chalk]': 'N/A',\n",
    "           ' [Peanut Butter Bars]': 'Candy Bar',\n",
    "           ' [Peanut Butter Jars]': 'N/A',\n",
    "           ' [Trail Mix]': 'N/A',\n",
    "           ' [Twix]': 'Candy Bar',\n",
    "           ' [Vicodin]': 'N/A',\n",
    "           ' [White Bread]': 'N/A',\n",
    "           ' [Whole Wheat anything]': 'N/A',\n",
    "           ' [York Peppermint Patties]': 'Chocolate',\n",
    "           ' [Sea-salt flavored stuff, probably chocolate, since this is the \"it\" flavor of the year]': 'Chocolate',\n",
    "           ' [Necco Wafers]': 'Unknown'}\n",
    "# Create a subset to include only those columns that are in the mapping variable\n",
    "candy_2015_subset = candy_2015_df[mapping.keys()]\n",
    "by_column = candy_2015_subset.groupby(mapping, axis=1)\n",
    "by_column.size()"
   ],
   "metadata": {
    "collapsed": false,
    "pycharm": {
     "name": "#%%\n"
    }
   }
  },
  {
   "cell_type": "code",
   "execution_count": 48,
   "outputs": [
    {
     "ename": "TypeError",
     "evalue": "object of type 'int' has no len()",
     "output_type": "error",
     "traceback": [
      "\u001B[0;31m---------------------------------------------------------------------------\u001B[0m",
      "\u001B[0;31mTypeError\u001B[0m                                 Traceback (most recent call last)",
      "\u001B[0;32m<ipython-input-48-efa306cec0b7>\u001B[0m in \u001B[0;36m<module>\u001B[0;34m\u001B[0m\n\u001B[1;32m      5\u001B[0m \u001B[0mcandy_data_df\u001B[0m \u001B[0;34m=\u001B[0m \u001B[0mcandy_data_df\u001B[0m\u001B[0;34m.\u001B[0m\u001B[0mdrop\u001B[0m\u001B[0;34m(\u001B[0m\u001B[0;34m[\u001B[0m\u001B[0;36m86\u001B[0m\u001B[0;34m]\u001B[0m\u001B[0;34m)\u001B[0m \u001B[0;31m# This is a summary row and is not needed for our purposes.\u001B[0m\u001B[0;34m\u001B[0m\u001B[0;34m\u001B[0m\u001B[0m\n\u001B[1;32m      6\u001B[0m \u001B[0mcandy_data_df\u001B[0m\u001B[0;34m.\u001B[0m\u001B[0mset_index\u001B[0m\u001B[0;34m(\u001B[0m\u001B[0;34m'ITEM'\u001B[0m\u001B[0;34m)\u001B[0m\u001B[0;34m\u001B[0m\u001B[0;34m\u001B[0m\u001B[0m\n\u001B[0;32m----> 7\u001B[0;31m \u001B[0mmapping\u001B[0m \u001B[0;34m=\u001B[0m \u001B[0mcandy_data_df\u001B[0m\u001B[0;34m.\u001B[0m\u001B[0mgroupby\u001B[0m\u001B[0;34m(\u001B[0m\u001B[0mlen\u001B[0m\u001B[0;34m)\u001B[0m\u001B[0;34m.\u001B[0m\u001B[0msum\u001B[0m\u001B[0;34m(\u001B[0m\u001B[0;34m)\u001B[0m\u001B[0;34m\u001B[0m\u001B[0;34m\u001B[0m\u001B[0m\n\u001B[0m\u001B[1;32m      8\u001B[0m \u001B[0;32mdef\u001B[0m \u001B[0mtop\u001B[0m\u001B[0;34m(\u001B[0m\u001B[0mdf\u001B[0m\u001B[0;34m,\u001B[0m \u001B[0mn\u001B[0m\u001B[0;34m=\u001B[0m\u001B[0;36m5\u001B[0m\u001B[0;34m,\u001B[0m \u001B[0mcolumn\u001B[0m\u001B[0;34m=\u001B[0m\u001B[0;34m'JOY'\u001B[0m\u001B[0;34m)\u001B[0m\u001B[0;34m:\u001B[0m\u001B[0;34m\u001B[0m\u001B[0;34m\u001B[0m\u001B[0m\n\u001B[1;32m      9\u001B[0m     \u001B[0;32mreturn\u001B[0m \u001B[0mdf\u001B[0m\u001B[0;34m.\u001B[0m\u001B[0msort_values\u001B[0m\u001B[0;34m(\u001B[0m\u001B[0mby\u001B[0m\u001B[0;34m=\u001B[0m\u001B[0mcolumn\u001B[0m\u001B[0;34m[\u001B[0m\u001B[0;34m-\u001B[0m\u001B[0mn\u001B[0m\u001B[0;34m:\u001B[0m\u001B[0;34m]\u001B[0m\u001B[0;34m,\u001B[0m \u001B[0mascending\u001B[0m\u001B[0;34m=\u001B[0m\u001B[0;32mFalse\u001B[0m\u001B[0;34m)\u001B[0m\u001B[0;34m\u001B[0m\u001B[0;34m\u001B[0m\u001B[0m\n",
      "\u001B[0;32m~/anaconda3/lib/python3.8/site-packages/pandas/core/frame.py\u001B[0m in \u001B[0;36mgroupby\u001B[0;34m(self, by, axis, level, as_index, sort, group_keys, squeeze, observed)\u001B[0m\n\u001B[1;32m   5799\u001B[0m         \u001B[0maxis\u001B[0m \u001B[0;34m=\u001B[0m \u001B[0mself\u001B[0m\u001B[0;34m.\u001B[0m\u001B[0m_get_axis_number\u001B[0m\u001B[0;34m(\u001B[0m\u001B[0maxis\u001B[0m\u001B[0;34m)\u001B[0m\u001B[0;34m\u001B[0m\u001B[0;34m\u001B[0m\u001B[0m\n\u001B[1;32m   5800\u001B[0m \u001B[0;34m\u001B[0m\u001B[0m\n\u001B[0;32m-> 5801\u001B[0;31m         return groupby_generic.DataFrameGroupBy(\n\u001B[0m\u001B[1;32m   5802\u001B[0m             \u001B[0mobj\u001B[0m\u001B[0;34m=\u001B[0m\u001B[0mself\u001B[0m\u001B[0;34m,\u001B[0m\u001B[0;34m\u001B[0m\u001B[0;34m\u001B[0m\u001B[0m\n\u001B[1;32m   5803\u001B[0m             \u001B[0mkeys\u001B[0m\u001B[0;34m=\u001B[0m\u001B[0mby\u001B[0m\u001B[0;34m,\u001B[0m\u001B[0;34m\u001B[0m\u001B[0;34m\u001B[0m\u001B[0m\n",
      "\u001B[0;32m~/anaconda3/lib/python3.8/site-packages/pandas/core/groupby/groupby.py\u001B[0m in \u001B[0;36m__init__\u001B[0;34m(self, obj, keys, axis, level, grouper, exclusions, selection, as_index, sort, group_keys, squeeze, observed, mutated)\u001B[0m\n\u001B[1;32m    401\u001B[0m             \u001B[0;32mfrom\u001B[0m \u001B[0mpandas\u001B[0m\u001B[0;34m.\u001B[0m\u001B[0mcore\u001B[0m\u001B[0;34m.\u001B[0m\u001B[0mgroupby\u001B[0m\u001B[0;34m.\u001B[0m\u001B[0mgrouper\u001B[0m \u001B[0;32mimport\u001B[0m \u001B[0mget_grouper\u001B[0m\u001B[0;34m\u001B[0m\u001B[0;34m\u001B[0m\u001B[0m\n\u001B[1;32m    402\u001B[0m \u001B[0;34m\u001B[0m\u001B[0m\n\u001B[0;32m--> 403\u001B[0;31m             grouper, exclusions, obj = get_grouper(\n\u001B[0m\u001B[1;32m    404\u001B[0m                 \u001B[0mobj\u001B[0m\u001B[0;34m,\u001B[0m\u001B[0;34m\u001B[0m\u001B[0;34m\u001B[0m\u001B[0m\n\u001B[1;32m    405\u001B[0m                 \u001B[0mkeys\u001B[0m\u001B[0;34m,\u001B[0m\u001B[0;34m\u001B[0m\u001B[0;34m\u001B[0m\u001B[0m\n",
      "\u001B[0;32m~/anaconda3/lib/python3.8/site-packages/pandas/core/groupby/grouper.py\u001B[0m in \u001B[0;36mget_grouper\u001B[0;34m(obj, key, axis, level, sort, observed, mutated, validate)\u001B[0m\n\u001B[1;32m    615\u001B[0m         \u001B[0;31m# allow us to passing the actual Grouping as the gpr\u001B[0m\u001B[0;34m\u001B[0m\u001B[0;34m\u001B[0m\u001B[0;34m\u001B[0m\u001B[0m\n\u001B[1;32m    616\u001B[0m         ping = (\n\u001B[0;32m--> 617\u001B[0;31m             Grouping(\n\u001B[0m\u001B[1;32m    618\u001B[0m                 \u001B[0mgroup_axis\u001B[0m\u001B[0;34m,\u001B[0m\u001B[0;34m\u001B[0m\u001B[0;34m\u001B[0m\u001B[0m\n\u001B[1;32m    619\u001B[0m                 \u001B[0mgpr\u001B[0m\u001B[0;34m,\u001B[0m\u001B[0;34m\u001B[0m\u001B[0;34m\u001B[0m\u001B[0m\n",
      "\u001B[0;32m~/anaconda3/lib/python3.8/site-packages/pandas/core/groupby/grouper.py\u001B[0m in \u001B[0;36m__init__\u001B[0;34m(self, index, grouper, obj, name, level, sort, observed, in_axis)\u001B[0m\n\u001B[1;32m    344\u001B[0m                     \u001B[0mt\u001B[0m \u001B[0;34m=\u001B[0m \u001B[0mself\u001B[0m\u001B[0;34m.\u001B[0m\u001B[0mname\u001B[0m \u001B[0;32mor\u001B[0m \u001B[0mstr\u001B[0m\u001B[0;34m(\u001B[0m\u001B[0mtype\u001B[0m\u001B[0;34m(\u001B[0m\u001B[0mself\u001B[0m\u001B[0;34m.\u001B[0m\u001B[0mgrouper\u001B[0m\u001B[0;34m)\u001B[0m\u001B[0;34m)\u001B[0m\u001B[0;34m\u001B[0m\u001B[0;34m\u001B[0m\u001B[0m\n\u001B[1;32m    345\u001B[0m                     \u001B[0;32mraise\u001B[0m \u001B[0mValueError\u001B[0m\u001B[0;34m(\u001B[0m\u001B[0;34mf\"Grouper for '{t}' not 1-dimensional\"\u001B[0m\u001B[0;34m)\u001B[0m\u001B[0;34m\u001B[0m\u001B[0;34m\u001B[0m\u001B[0m\n\u001B[0;32m--> 346\u001B[0;31m                 \u001B[0mself\u001B[0m\u001B[0;34m.\u001B[0m\u001B[0mgrouper\u001B[0m \u001B[0;34m=\u001B[0m \u001B[0mself\u001B[0m\u001B[0;34m.\u001B[0m\u001B[0mindex\u001B[0m\u001B[0;34m.\u001B[0m\u001B[0mmap\u001B[0m\u001B[0;34m(\u001B[0m\u001B[0mself\u001B[0m\u001B[0;34m.\u001B[0m\u001B[0mgrouper\u001B[0m\u001B[0;34m)\u001B[0m\u001B[0;34m\u001B[0m\u001B[0;34m\u001B[0m\u001B[0m\n\u001B[0m\u001B[1;32m    347\u001B[0m                 if not (\n\u001B[1;32m    348\u001B[0m                     \u001B[0mhasattr\u001B[0m\u001B[0;34m(\u001B[0m\u001B[0mself\u001B[0m\u001B[0;34m.\u001B[0m\u001B[0mgrouper\u001B[0m\u001B[0;34m,\u001B[0m \u001B[0;34m\"__len__\"\u001B[0m\u001B[0;34m)\u001B[0m\u001B[0;34m\u001B[0m\u001B[0;34m\u001B[0m\u001B[0m\n",
      "\u001B[0;32m~/anaconda3/lib/python3.8/site-packages/pandas/core/indexes/base.py\u001B[0m in \u001B[0;36mmap\u001B[0;34m(self, mapper, na_action)\u001B[0m\n\u001B[1;32m   4563\u001B[0m         \u001B[0;32mfrom\u001B[0m \u001B[0mpandas\u001B[0m\u001B[0;34m.\u001B[0m\u001B[0mcore\u001B[0m\u001B[0;34m.\u001B[0m\u001B[0mindexes\u001B[0m\u001B[0;34m.\u001B[0m\u001B[0mmulti\u001B[0m \u001B[0;32mimport\u001B[0m \u001B[0mMultiIndex\u001B[0m\u001B[0;34m\u001B[0m\u001B[0;34m\u001B[0m\u001B[0m\n\u001B[1;32m   4564\u001B[0m \u001B[0;34m\u001B[0m\u001B[0m\n\u001B[0;32m-> 4565\u001B[0;31m         \u001B[0mnew_values\u001B[0m \u001B[0;34m=\u001B[0m \u001B[0msuper\u001B[0m\u001B[0;34m(\u001B[0m\u001B[0;34m)\u001B[0m\u001B[0;34m.\u001B[0m\u001B[0m_map_values\u001B[0m\u001B[0;34m(\u001B[0m\u001B[0mmapper\u001B[0m\u001B[0;34m,\u001B[0m \u001B[0mna_action\u001B[0m\u001B[0;34m=\u001B[0m\u001B[0mna_action\u001B[0m\u001B[0;34m)\u001B[0m\u001B[0;34m\u001B[0m\u001B[0;34m\u001B[0m\u001B[0m\n\u001B[0m\u001B[1;32m   4566\u001B[0m \u001B[0;34m\u001B[0m\u001B[0m\n\u001B[1;32m   4567\u001B[0m         \u001B[0mattributes\u001B[0m \u001B[0;34m=\u001B[0m \u001B[0mself\u001B[0m\u001B[0;34m.\u001B[0m\u001B[0m_get_attributes_dict\u001B[0m\u001B[0;34m(\u001B[0m\u001B[0;34m)\u001B[0m\u001B[0;34m\u001B[0m\u001B[0;34m\u001B[0m\u001B[0m\n",
      "\u001B[0;32m~/anaconda3/lib/python3.8/site-packages/pandas/core/base.py\u001B[0m in \u001B[0;36m_map_values\u001B[0;34m(self, mapper, na_action)\u001B[0m\n\u001B[1;32m   1143\u001B[0m \u001B[0;34m\u001B[0m\u001B[0m\n\u001B[1;32m   1144\u001B[0m         \u001B[0;31m# mapper is a function\u001B[0m\u001B[0;34m\u001B[0m\u001B[0;34m\u001B[0m\u001B[0;34m\u001B[0m\u001B[0m\n\u001B[0;32m-> 1145\u001B[0;31m         \u001B[0mnew_values\u001B[0m \u001B[0;34m=\u001B[0m \u001B[0mmap_f\u001B[0m\u001B[0;34m(\u001B[0m\u001B[0mvalues\u001B[0m\u001B[0;34m,\u001B[0m \u001B[0mmapper\u001B[0m\u001B[0;34m)\u001B[0m\u001B[0;34m\u001B[0m\u001B[0;34m\u001B[0m\u001B[0m\n\u001B[0m\u001B[1;32m   1146\u001B[0m \u001B[0;34m\u001B[0m\u001B[0m\n\u001B[1;32m   1147\u001B[0m         \u001B[0;32mreturn\u001B[0m \u001B[0mnew_values\u001B[0m\u001B[0;34m\u001B[0m\u001B[0;34m\u001B[0m\u001B[0m\n",
      "\u001B[0;32mpandas/_libs/lib.pyx\u001B[0m in \u001B[0;36mpandas._libs.lib.map_infer\u001B[0;34m()\u001B[0m\n",
      "\u001B[0;31mTypeError\u001B[0m: object of type 'int' has no len()"
     ]
    }
   ],
   "source": [
    "'''\n",
    "2.  List the top 5 candies with the most 'JOY' responses of the FINISH THIS SENTENCE.\n",
    "'''\n",
    "candy_data_df = pd.read_excel('CANDYDATA.xlsx')\n",
    "candy_data_df = candy_data_df.drop([86]) # This is a summary row and is not needed for our purposes.\n",
    "candy_data_df.set_index('ITEM')\n",
    "mapping = candy_data_df.groupby(len).sum()\n",
    "def top(df, n=5, column='JOY'):\n",
    "    return df.sort_values(by=column[-n:], ascending=False)\n",
    "\n",
    "# top(candy_data_df)\n",
    "candy_data_df.groupby(mapping).apply(top)\n"
   ],
   "metadata": {
    "collapsed": false,
    "pycharm": {
     "name": "#%%\n"
    }
   }
  },
  {
   "cell_type": "code",
   "execution_count": 23,
   "outputs": [],
   "source": [
    "candy_2015_df = pd.read_excel('CANDY-HIERARCHY-2015-SURVEY-Responses.xlsx')\n",
    "candy_2015_df.columns\n",
    "mapping = {'[Butterfinger]': 'Candy Bar',\n",
    "           '[100 Grand Bar]': 'Candy Bar',\n",
    "           '[Anonymous brown globs that come in black and orange wrappers]': 'Unknown',\n",
    "           '[Any full-sized candy bar]': 'Candy Bar',\n",
    "           '[Black Jacks]': 'Chewy',\n",
    "           '[Bonkers]': 'Chewy',\n",
    "           '[Bottle Caps]': 'Hard',\n",
    "           '[Box’o’ Raisins]': 'Chocolate',\n",
    "           '[Brach products (not including candy corn)]': 'Unknown',\n",
    "           '[Bubble Gum]': 'Chewing Gum',\n",
    "           '[Cadbury Creme Eggs]': 'Chocolate',\n",
    "           '[Candy Corn]': 'Unknown',\n",
    "           '[Chiclets]': 'Chewing Gum',\n",
    "           '[Caramellos]': 'Caramels',\n",
    "           '[Snickers]': 'Candy Bar',\n",
    "           '[Dark Chocolate Hershey]': 'Candy Bar',\n",
    "           '[Dots]': 'Chewy',\n",
    "           '[Fuzzy Peaches]': 'N/A',\n",
    "           '[Generic Brand Acetaminophen]': 'N/A',\n",
    "           '[Glow sticks]': 'N/A',\n",
    "           '[Broken glow stick]': 'N/A',\n",
    "           '[Goo Goo Clusters]': 'Candy Bar',\n",
    "           '[Good N\\' Plenty]': 'Licorice',\n",
    "           '[Gum from baseball cards]': 'Chewing Gum',\n",
    "           '[Gummy Bears straight up]': 'Gummies',\n",
    "           '[Creepy Religious comics/Chick Tracts]': 'N/A',\n",
    "           '[Healthy Fruit]': 'N/A',\n",
    "           '[Heath Bar]': 'Candy Bar',\n",
    "           '[Hershey’s Kissables]': 'Chocolate',\n",
    "           '[Hershey’s Milk Chocolate]': 'Chocolate',\n",
    "           '[Hugs (actual physical hugs)]': 'N/A',\n",
    "           '[Jolly Rancher (bad flavor)]': 'Hard',\n",
    "           '[Jolly Ranchers (good flavor)]': 'Hard',\n",
    "           '[Kale smoothie]': 'N/A',\n",
    "           '[Kinder Happy Hippo]': 'Chocolate',\n",
    "           '[Kit Kat]': 'Chocolate',\n",
    "           '[Hard Candy]': 'Hard',\n",
    "           '[Lapel Pins]': 'N/A',\n",
    "           '[LemonHeads]': 'Hard',\n",
    "           '[Licorice]': 'Licorice',\n",
    "           '[Licorice (not black)]': 'Licorice',\n",
    "           '[Lindt Truffle]': 'Chocolate',\n",
    "           '[Lollipops]': 'Lollipops and Sours',\n",
    "           '[Mars]': 'Candy Bar',\n",
    "           '[Mary Janes]': 'Chewy',\n",
    "           '[Maynards]': 'Lollipops and Sours',\n",
    "           '[Milk Duds]': 'Chocolate',\n",
    "           '[LaffyTaffy]': 'Chewy',\n",
    "           '[Minibags of chips]': 'N/A',\n",
    "           '[JoyJoy (Mit Iodine)]': 'N/A',\n",
    "           '[Reggie Jackson Bar]': 'Candy Bar',\n",
    "           '[Pixy Stix]': 'Unknown',\n",
    "           '[Nerds]': 'Hard',\n",
    "           '[Nestle Crunch]': 'Chocolate',\n",
    "           '[Now\\'n\\'Laters]': 'Chewy',\n",
    "           '[Pencils]': 'N/A',\n",
    "           '[Milky Way]': 'Candy Bar',\n",
    "           '[Reese’s Peanut Butter Cups]': 'Chocolate',\n",
    "           '[Tolberone something or other]': 'N/A',\n",
    "           '[Runts]': 'Hard',\n",
    "           '[Junior Mints]': 'Chocolate',\n",
    "           '[Senior Mints]': 'N/A',\n",
    "           '[Mint Kisses]': 'Chocolate',\n",
    "           '[Mint Juleps]': 'Chewy',\n",
    "           '[Mint Leaves]': 'N/A',\n",
    "           '[Peanut M&M’s]': 'Chocolate',\n",
    "           '[Regular M&Ms]': 'Chocolate',\n",
    "           '[Mint M&Ms]': 'Chocolate',\n",
    "           '[Ribbon candy]': 'N/A',\n",
    "           '[Rolos]': 'Chocolate',\n",
    "           '[Skittles]': 'Hard',\n",
    "           '[Smarties (American)]': 'Hard',\n",
    "           '[Smarties (Commonwealth)]': 'Hard',\n",
    "           '[Chick-o-Sticks (we don’t know what that is)]': 'N/A',\n",
    "           '[Spotted Dick]': 'N/A',\n",
    "           '[Starburst]': 'Chewy',\n",
    "           '[Swedish Fish]': 'Chewy',\n",
    "           '[Sweetums]': 'Lollipops and Sours',\n",
    "           '[Those odd marshmallow circus peanut things]': 'N/A',\n",
    "           '[Three Musketeers]': 'Candy Bar',\n",
    "           '[Peterson Brand Sidewalk Chalk]': 'N/A',\n",
    "           '[Peanut Butter Bars]': 'Candy Bar',\n",
    "           '[Peanut Butter Jars]': 'N/A',\n",
    "           '[Trail Mix]': 'N/A',\n",
    "           '[Twix]': 'Candy Bar',\n",
    "           '[Vicodin]': 'N/A',\n",
    "           'TEST':'TEST',\n",
    "           '[White Bread]': 'N/A',\n",
    "           '[Whole Wheat anything]': 'N/A',\n",
    "           '[York Peppermint Patties]': 'Chocolate',\n",
    "           '[Sea-salt flavored stuff, probably chocolate, since this is the \"it\" flavor of the year]': 'Chocolate',\n",
    "           '[Necco Wafers]': 'Unknown'}"
   ],
   "metadata": {
    "collapsed": false,
    "pycharm": {
     "name": "#%%\n"
    }
   }
  }
 ],
 "metadata": {
  "kernelspec": {
   "name": "python3",
   "language": "python",
   "display_name": "Python 3"
  },
  "language_info": {
   "codemirror_mode": {
    "name": "ipython",
    "version": 2
   },
   "file_extension": ".py",
   "mimetype": "text/x-python",
   "name": "python",
   "nbconvert_exporter": "python",
   "pygments_lexer": "ipython2",
   "version": "2.7.6"
  }
 },
 "nbformat": 4,
 "nbformat_minor": 0
}