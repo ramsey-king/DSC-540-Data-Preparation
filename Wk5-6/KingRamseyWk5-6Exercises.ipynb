{
 "cells": [
  {
   "cell_type": "markdown",
   "metadata": {
    "collapsed": true,
    "pycharm": {
     "name": "#%% md\n"
    }
   },
   "source": [
    "# Ramsey King\n",
    "# DSC 540 - Data Preparation\n",
    "# Weeks 5 & 6\n",
    "# July 16, 2021\n",
    "## For this assignment you need to complete 8 of the following exercises against this data.  You must select at least 2 methods from Chapters 7, 8, 10 & 11.\n",
    "\n",
    "\n",
    "\n"
   ]
  },
  {
   "cell_type": "code",
   "execution_count": 5,
   "outputs": [
    {
     "data": {
      "text/plain": "(1259, 123)"
     },
     "execution_count": 5,
     "metadata": {},
     "output_type": "execute_result"
    }
   ],
   "source": [
    "import matplotlib.pyplot as plt\n",
    "import pandas as pd\n",
    "\n",
    "candy_2016_df = pd.read_excel('BOING-BOING-CANDY-HIERARCHY-2016-SURVEY-Responses.xlsx')\n",
    "candy_2016_df.shape"
   ],
   "metadata": {
    "collapsed": false,
    "pycharm": {
     "name": "#%%\n"
    }
   }
  },
  {
   "cell_type": "markdown",
   "source": [
    "### The 2 method from Chapter 7 that I will chose are filtering out missing data and binning. This will be done by filtering out the rows where the column 'How old are you?' is non-numeric.  From there, the ages will be binned.\n",
    "\n"
   ],
   "metadata": {
    "collapsed": false,
    "pycharm": {
     "name": "#%% md\n"
    }
   }
  },
  {
   "cell_type": "code",
   "execution_count": 22,
   "outputs": [
    {
     "data": {
      "text/plain": "(1191, 123)"
     },
     "execution_count": 22,
     "metadata": {},
     "output_type": "execute_result"
    }
   ],
   "source": [
    "# rename the 'How old are you?' column to 'age'\n",
    "candy_2016_df = candy_2016_df.rename(columns={candy_2016_df.columns[3]:'age'})\n",
    "\n",
    "# remove rows where 'age' column does not contain a number\n",
    "candy_2016_df = candy_2016_df[pd.to_numeric(candy_2016_df['age'], errors='coerce').notnull()]\n",
    "candy_2016_df.shape"
   ],
   "metadata": {
    "collapsed": false,
    "pycharm": {
     "name": "#%%\n"
    }
   }
  },
  {
   "cell_type": "code",
   "execution_count": 37,
   "outputs": [
    {
     "data": {
      "text/plain": "(34, 44]     382\n(24, 34]     317\n(44, 54]     292\n(54, 64]     121\n(17, 24]      37\n(0, 17]       21\n(64, 140]     19\nName: age, dtype: int64"
     },
     "execution_count": 37,
     "metadata": {},
     "output_type": "execute_result"
    }
   ],
   "source": [
    "# bin 'age' column based on age ranges (<17, 18-25, 26-34, 35-44, 45-54, 55-64, >65)\n",
    "bins = [0,17,24,34,44,54,64,140]\n",
    "cats = pd.cut(candy_2016_df['age'], bins)\n",
    "pd.value_counts(cats)\n",
    "# candy_2016_df.plot.bar(x=cats,y=pd.value_counts(cats))"
   ],
   "metadata": {
    "collapsed": false,
    "pycharm": {
     "name": "#%%\n"
    }
   }
  },
  {
   "cell_type": "markdown",
   "source": [
    "### The 2 methods that I will chose from Chapter 8 are combining/merging datasets and pivoting data.  This will be acheived as follows:\n",
    "1. Create a subset of the 2015 and 2016 candy datasets based on all participants who gave a response in the '[100 Grand Bar]' column\n",
    "2. Merge these subset datasets together (adding the rows of the 2016 dataset to the 2015 dataset).\n",
    "3. Creating a pivot table based on the 100 Grand Bar response type by gender"
   ],
   "metadata": {
    "collapsed": false,
    "pycharm": {
     "name": "#%% md\n"
    }
   }
  },
  {
   "cell_type": "code",
   "execution_count": 42,
   "outputs": [
    {
     "name": "stdout",
     "output_type": "stream",
     "text": [
      "2015 dimensions: (5630, 124) \n",
      "2016 dimensions: (1259, 123)\n"
     ]
    }
   ],
   "source": [
    "# Load the 2015 and 2016 datasets (since I've re-written over the 2016 dataset above)\n",
    "candy_2015_df = pd.read_excel('CANDY-HIERARCHY-2015-SURVEY-Responses.xlsx')\n",
    "candy_2016_df = pd.read_excel('BOING-BOING-CANDY-HIERARCHY-2016-SURVEY-Responses.xlsx')\n",
    "\n",
    "print(\"2015 dimensions:\", candy_2015_df.shape, \"\\n2016 dimensions:\", candy_2016_df.shape)"
   ],
   "metadata": {
    "collapsed": false,
    "pycharm": {
     "name": "#%%\n"
    }
   }
  },
  {
   "cell_type": "code",
   "execution_count": 49,
   "outputs": [
    {
     "name": "stdout",
     "output_type": "stream",
     "text": [
      "100 Grand Bar has 656 missing value(s)\n"
     ]
    }
   ],
   "source": [
    "# rename the 100 Grand Bar column '100_grand_bar'\n",
    "candy_2015_df = candy_2015_df.rename(columns={candy_2015_df.columns[4]:'hundred_grand_bar'})\n",
    "candy_2015_df.columns\n",
    "\n",
    "# check for empty values in the 100 Grand Bar column in the 2015 dataset.\n",
    "miss = candy_2015_df['hundred_grand_bar'].isnull().sum()\n",
    "if miss>0:\n",
    "    print(\"100 Grand Bar has {} missing value(s)\".format(miss))\n",
    "else:\n",
    "    print(\"100 Grand Bar has no missing values.\")"
   ],
   "metadata": {
    "collapsed": false,
    "pycharm": {
     "name": "#%%\n"
    }
   }
  },
  {
   "cell_type": "code",
   "execution_count": 52,
   "outputs": [
    {
     "name": "stdout",
     "output_type": "stream",
     "text": [
      "656\n"
     ]
    }
   ],
   "source": [
    "# remove rows where the 100 Grand Bar value is null\n",
    "\n",
    "candy_2015_df = candy_2015_df[candy_2015_df['hundred_grand_bar'].isnull() == False]\n",
    "candy_2015_df.shape\n"
   ],
   "metadata": {
    "collapsed": false,
    "pycharm": {
     "name": "#%%\n"
    }
   }
  }
 ],
 "metadata": {
  "kernelspec": {
   "display_name": "Python 3",
   "language": "python",
   "name": "python3"
  },
  "language_info": {
   "codemirror_mode": {
    "name": "ipython",
    "version": 2
   },
   "file_extension": ".py",
   "mimetype": "text/x-python",
   "name": "python",
   "nbconvert_exporter": "python",
   "pygments_lexer": "ipython2",
   "version": "2.7.6"
  }
 },
 "nbformat": 4,
 "nbformat_minor": 0
}