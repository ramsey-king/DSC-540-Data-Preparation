{
 "cells": [
  {
   "cell_type": "markdown",
   "metadata": {
    "collapsed": true,
    "pycharm": {
     "name": "#%% md\n"
    }
   },
   "source": [
    "# Ramsey King\n",
    "# DSC 540 - Data Preparation\n",
    "# Weeks 5 & 6\n",
    "# July 16, 2021\n",
    "## For this assignment you need to complete 8 of the following exercises against this data.  You must select at least 2 methods from Chapters 7, 8, 10 & 11."
   ]
  },
  {
   "cell_type": "code",
   "execution_count": 1,
   "metadata": {
    "collapsed": false,
    "pycharm": {
     "name": "#%%\n"
    }
   },
   "outputs": [
    {
     "data": {
      "text/plain": "(1259, 123)"
     },
     "execution_count": 1,
     "metadata": {},
     "output_type": "execute_result"
    }
   ],
   "source": [
    "import matplotlib.pyplot as plt\n",
    "import pandas as pd\n",
    "import numpy as np\n",
    "\n",
    "candy_2016_df = pd.read_excel('BOING-BOING-CANDY-HIERARCHY-2016-SURVEY-Responses.xlsx')\n",
    "candy_2016_df.shape"
   ]
  },
  {
   "cell_type": "markdown",
   "metadata": {
    "collapsed": false,
    "pycharm": {
     "name": "#%% md\n"
    }
   },
   "source": [
    "### The 2 method from Chapter 7 that I will chose are filtering out missing data and binning. This will be done by filtering out the rows where the column 'How old are you?' is non-numeric.  From there, the ages will be binned."
   ]
  },
  {
   "cell_type": "code",
   "execution_count": 2,
   "metadata": {
    "collapsed": false,
    "pycharm": {
     "name": "#%%\n"
    }
   },
   "outputs": [
    {
     "data": {
      "text/plain": "(1191, 123)"
     },
     "execution_count": 2,
     "metadata": {},
     "output_type": "execute_result"
    }
   ],
   "source": [
    "# rename the 'How old are you?' column to 'age'\n",
    "candy_2016_df = candy_2016_df.rename(columns={candy_2016_df.columns[3]:'age'})\n",
    "\n",
    "# remove rows where 'age' column does not contain a number\n",
    "candy_2016_df = candy_2016_df[pd.to_numeric(candy_2016_df['age'], errors='coerce').notnull()]\n",
    "candy_2016_df.shape"
   ]
  },
  {
   "cell_type": "code",
   "execution_count": 3,
   "metadata": {
    "collapsed": false,
    "pycharm": {
     "name": "#%%\n"
    }
   },
   "outputs": [
    {
     "data": {
      "text/plain": "(34, 44]     382\n(24, 34]     317\n(44, 54]     292\n(54, 64]     121\n(17, 24]      37\n(0, 17]       21\n(64, 140]     19\nName: age, dtype: int64"
     },
     "execution_count": 3,
     "metadata": {},
     "output_type": "execute_result"
    }
   ],
   "source": [
    "# bin 'age' column based on age ranges (<17, 18-25, 26-34, 35-44, 45-54, 55-64, >65)\n",
    "bins = [0,17,24,34,44,54,64,140]\n",
    "cats = pd.cut(candy_2016_df['age'], bins)\n",
    "pd.value_counts(cats)\n",
    "# candy_2016_df.plot.bar(x=cats,y=pd.value_counts(cats))"
   ]
  },
  {
   "cell_type": "markdown",
   "metadata": {
    "collapsed": false,
    "pycharm": {
     "name": "#%% md\n"
    }
   },
   "source": [
    "### The 2 methods that I will chose from Chapter 8 are combining/merging datasets and pivoting data.  This will be achieved as follows:\n",
    "1. Create a subset of the 2016 and 2017 candy datasets based on all participants who gave a response in the '[100 Grand Bar]' column\n",
    "2. Merge these subset datasets together (adding the rows of the 2016 dataset to the 2017 dataset).\n",
    "3. Creating a pivot table based on the 100 Grand Bar response type by gender"
   ]
  },
  {
   "cell_type": "code",
   "execution_count": 4,
   "metadata": {
    "collapsed": false,
    "pycharm": {
     "name": "#%%\n"
    }
   },
   "outputs": [
    {
     "name": "stdout",
     "output_type": "stream",
     "text": [
      "2016 dimensions: (1259, 123) \n",
      "2017 dimensions: (2460, 120)\n"
     ]
    }
   ],
   "source": [
    "# Load the 2016 and 2017 datasets (since I've re-written over the 2016 dataset above)\n",
    "\n",
    "candy_2016_df = pd.read_excel('BOING-BOING-CANDY-HIERARCHY-2016-SURVEY-Responses.xlsx')\n",
    "candy_2017_df = pd.read_excel('candyhierarchy2017.xlsx')\n",
    "\n",
    "print(\"2016 dimensions:\", candy_2016_df.shape, \"\\n2017 dimensions:\", candy_2017_df.shape)"
   ]
  },
  {
   "cell_type": "code",
   "execution_count": 5,
   "metadata": {
    "collapsed": false,
    "pycharm": {
     "name": "#%%\n"
    }
   },
   "outputs": [
    {
     "name": "stdout",
     "output_type": "stream",
     "text": [
      "hundred_grand_bar has 78 missing value(s)\n"
     ]
    }
   ],
   "source": [
    "# rename the '100 Grand Bar' column '100_grand_bar', 'Your gender:' column 'gender', and 'How old are you?' 'age'\n",
    "candy_2016_df = candy_2016_df.rename(columns={candy_2016_df.columns[2]:'gender',\n",
    "                                              candy_2016_df.columns[3]:'age',\n",
    "                                              candy_2016_df.columns[6]:'hundred_grand_bar'})\n",
    "\n",
    "# check for empty values in the hundred_grand_bar column in the 2016 dataset.\n",
    "miss = candy_2016_df['hundred_grand_bar'].isnull().sum()\n",
    "if miss>0:\n",
    "    print(\"hundred_grand_bar has {} missing value(s)\".format(miss))\n",
    "else:\n",
    "    print(\"hundred_grand_bar has no missing values.\")\n"
   ]
  },
  {
   "cell_type": "code",
   "execution_count": 6,
   "metadata": {
    "collapsed": false,
    "pycharm": {
     "name": "#%%\n"
    }
   },
   "outputs": [
    {
     "data": {
      "text/plain": "(1181, 123)"
     },
     "execution_count": 6,
     "metadata": {},
     "output_type": "execute_result"
    }
   ],
   "source": [
    "# remove rows where the 100 Grand Bar value is null\n",
    "candy_2016_df = candy_2016_df[candy_2016_df['hundred_grand_bar'].isnull() == False]\n",
    "candy_2016_df.shape"
   ]
  },
  {
   "cell_type": "code",
   "execution_count": 7,
   "metadata": {
    "collapsed": false,
    "pycharm": {
     "name": "#%%\n"
    }
   },
   "outputs": [
    {
     "name": "stdout",
     "output_type": "stream",
     "text": [
      "hundred_grand_bar has 747 missing value(s)\n"
     ]
    }
   ],
   "source": [
    "# rename the '100 Grand Bar' column '100_grand_bar', 'Your gender:' column 'gender', and 'How old are you?' 'age'\n",
    "candy_2017_df = candy_2017_df.rename(columns={candy_2017_df.columns[2]:'gender',\n",
    "                                              candy_2017_df.columns[3]:'age',\n",
    "                                              candy_2017_df.columns[6]:'hundred_grand_bar'})\n",
    "\n",
    "# check for empty values in the hundred_grand_bar column in the 2016 dataset.\n",
    "miss = candy_2017_df['hundred_grand_bar'].isnull().sum()\n",
    "if miss>0:\n",
    "    print(\"hundred_grand_bar has {} missing value(s)\".format(miss))\n",
    "else:\n",
    "    print(\"hundred_grand_bar has no missing values.\")"
   ]
  },
  {
   "cell_type": "code",
   "execution_count": 8,
   "metadata": {
    "collapsed": false,
    "pycharm": {
     "name": "#%%\n"
    }
   },
   "outputs": [
    {
     "data": {
      "text/plain": "(1713, 120)"
     },
     "execution_count": 8,
     "metadata": {},
     "output_type": "execute_result"
    }
   ],
   "source": [
    "# remove rows where the 100 Grand Bar value is null\n",
    "candy_2017_df = candy_2017_df[candy_2017_df['hundred_grand_bar'].isnull() == False]\n",
    "candy_2017_df.shape"
   ]
  },
  {
   "cell_type": "code",
   "execution_count": 9,
   "metadata": {
    "collapsed": false,
    "pycharm": {
     "name": "#%%\n"
    }
   },
   "outputs": [
    {
     "data": {
      "text/plain": "      gender age hundred_grand_bar\n0       Male  22               JOY\n1       Male  45               MEH\n2     Female  48               JOY\n3       Male  57               JOY\n4       Male  42               MEH\n...      ...  ..               ...\n2454  Female  26               JOY\n2455    Male  24               JOY\n2456  Female  33               MEH\n2457  Female  26               MEH\n2459  Female  66           DESPAIR\n\n[2894 rows x 3 columns]",
      "text/html": "<div>\n<style scoped>\n    .dataframe tbody tr th:only-of-type {\n        vertical-align: middle;\n    }\n\n    .dataframe tbody tr th {\n        vertical-align: top;\n    }\n\n    .dataframe thead th {\n        text-align: right;\n    }\n</style>\n<table border=\"1\" class=\"dataframe\">\n  <thead>\n    <tr style=\"text-align: right;\">\n      <th></th>\n      <th>gender</th>\n      <th>age</th>\n      <th>hundred_grand_bar</th>\n    </tr>\n  </thead>\n  <tbody>\n    <tr>\n      <th>0</th>\n      <td>Male</td>\n      <td>22</td>\n      <td>JOY</td>\n    </tr>\n    <tr>\n      <th>1</th>\n      <td>Male</td>\n      <td>45</td>\n      <td>MEH</td>\n    </tr>\n    <tr>\n      <th>2</th>\n      <td>Female</td>\n      <td>48</td>\n      <td>JOY</td>\n    </tr>\n    <tr>\n      <th>3</th>\n      <td>Male</td>\n      <td>57</td>\n      <td>JOY</td>\n    </tr>\n    <tr>\n      <th>4</th>\n      <td>Male</td>\n      <td>42</td>\n      <td>MEH</td>\n    </tr>\n    <tr>\n      <th>...</th>\n      <td>...</td>\n      <td>...</td>\n      <td>...</td>\n    </tr>\n    <tr>\n      <th>2454</th>\n      <td>Female</td>\n      <td>26</td>\n      <td>JOY</td>\n    </tr>\n    <tr>\n      <th>2455</th>\n      <td>Male</td>\n      <td>24</td>\n      <td>JOY</td>\n    </tr>\n    <tr>\n      <th>2456</th>\n      <td>Female</td>\n      <td>33</td>\n      <td>MEH</td>\n    </tr>\n    <tr>\n      <th>2457</th>\n      <td>Female</td>\n      <td>26</td>\n      <td>MEH</td>\n    </tr>\n    <tr>\n      <th>2459</th>\n      <td>Female</td>\n      <td>66</td>\n      <td>DESPAIR</td>\n    </tr>\n  </tbody>\n</table>\n<p>2894 rows × 3 columns</p>\n</div>"
     },
     "execution_count": 9,
     "metadata": {},
     "output_type": "execute_result"
    }
   ],
   "source": [
    "'''\n",
    "merge the 2016 and 2017 candy datasets together by adding rows.  Before we do this, we will grab only the gender, age,\n",
    "and hundred_grand_bar columns and put them into a new dataframe\n",
    "'''\n",
    "candy_2016_subset = candy_2016_df[['gender', 'age', 'hundred_grand_bar']]\n",
    "candy_2017_subset = candy_2017_df[['gender', 'age', 'hundred_grand_bar']]\n",
    "\n",
    "combined_candy_subset = candy_2016_subset.append(candy_2017_subset)\n",
    "combined_candy_subset"
   ]
  },
  {
   "cell_type": "code",
   "execution_count": 10,
   "metadata": {
    "collapsed": false,
    "pycharm": {
     "name": "#%%\n"
    }
   },
   "outputs": [
    {
     "data": {
      "text/plain": "                                               age\ngender             hundred_grand_bar              \nFemale             DESPAIR            3.726923e+01\n                   JOY                4.143659e+01\n                   MEH                3.930000e+01\nI'd rather not say DESPAIR            3.433333e+01\n                   JOY                3.935294e+01\n                   MEH                8.688462e+01\nMale               DESPAIR            4.137333e+01\n                   JOY                4.360352e+01\n                   MEH                1.329787e+15\nOther              DESPAIR            3.566667e+01\n                   JOY                3.537500e+01\n                   MEH                4.755556e+01",
      "text/html": "<div>\n<style scoped>\n    .dataframe tbody tr th:only-of-type {\n        vertical-align: middle;\n    }\n\n    .dataframe tbody tr th {\n        vertical-align: top;\n    }\n\n    .dataframe thead th {\n        text-align: right;\n    }\n</style>\n<table border=\"1\" class=\"dataframe\">\n  <thead>\n    <tr style=\"text-align: right;\">\n      <th></th>\n      <th></th>\n      <th>age</th>\n    </tr>\n    <tr>\n      <th>gender</th>\n      <th>hundred_grand_bar</th>\n      <th></th>\n    </tr>\n  </thead>\n  <tbody>\n    <tr>\n      <th rowspan=\"3\" valign=\"top\">Female</th>\n      <th>DESPAIR</th>\n      <td>3.726923e+01</td>\n    </tr>\n    <tr>\n      <th>JOY</th>\n      <td>4.143659e+01</td>\n    </tr>\n    <tr>\n      <th>MEH</th>\n      <td>3.930000e+01</td>\n    </tr>\n    <tr>\n      <th rowspan=\"3\" valign=\"top\">I'd rather not say</th>\n      <th>DESPAIR</th>\n      <td>3.433333e+01</td>\n    </tr>\n    <tr>\n      <th>JOY</th>\n      <td>3.935294e+01</td>\n    </tr>\n    <tr>\n      <th>MEH</th>\n      <td>8.688462e+01</td>\n    </tr>\n    <tr>\n      <th rowspan=\"3\" valign=\"top\">Male</th>\n      <th>DESPAIR</th>\n      <td>4.137333e+01</td>\n    </tr>\n    <tr>\n      <th>JOY</th>\n      <td>4.360352e+01</td>\n    </tr>\n    <tr>\n      <th>MEH</th>\n      <td>1.329787e+15</td>\n    </tr>\n    <tr>\n      <th rowspan=\"3\" valign=\"top\">Other</th>\n      <th>DESPAIR</th>\n      <td>3.566667e+01</td>\n    </tr>\n    <tr>\n      <th>JOY</th>\n      <td>3.537500e+01</td>\n    </tr>\n    <tr>\n      <th>MEH</th>\n      <td>4.755556e+01</td>\n    </tr>\n  </tbody>\n</table>\n</div>"
     },
     "execution_count": 10,
     "metadata": {},
     "output_type": "execute_result"
    }
   ],
   "source": [
    "'''\n",
    "Now we are ready to pivot the data based on gender.\n",
    "'''\n",
    "# drop the rows with missing values for age\n",
    "combined_candy_subset = combined_candy_subset[combined_candy_subset['age'].isnull() == False]\n",
    "combined_candy_subset = combined_candy_subset[pd.to_numeric(combined_candy_subset['age'], errors='coerce').notnull()]\n",
    "\n",
    "# convert age column to numeric\n",
    "combined_candy_subset['age'] = pd.to_numeric(combined_candy_subset['age'])\n",
    "combined_candy_subset.dtypes\n",
    "combined_candy_subset.pivot_table(values='age', index=['gender','hundred_grand_bar'],aggfunc=np.mean)"
   ]
  },
  {
   "cell_type": "markdown",
   "metadata": {
    "collapsed": false,
    "pycharm": {
     "name": "#%% md\n"
    }
   },
   "source": [
    "### The 2 methods that I will chose from Chapter 10 are Grouping with Dicts and <ENTER HERE> This will be achieved as follows:\n",
    "1. Grouping with Dicts -- create a mapping of different types of candy according to 'genre' i.e. chocolate, hard, soft, etc.\n",
    "2. List the top 5 candies with the most 'JOY' responses."
   ]
  },
  {
   "cell_type": "code",
   "execution_count": 11,
   "metadata": {
    "collapsed": false,
    "pycharm": {
     "name": "#%%\n"
    }
   },
   "outputs": [
    {
     "data": {
      "text/plain": "Candy Bar              13\nCaramels                1\nChewing Gum             3\nChewy                   9\nChocolate              18\nGummies                 1\nHard                   10\nLicorice                3\nLollipops and Sours     3\nN/A                    25\nUnknown                 5\ndtype: int64"
     },
     "execution_count": 11,
     "metadata": {},
     "output_type": "execute_result"
    }
   ],
   "source": [
    "'''\n",
    "1. Grouping with Dicts -- create a mapping of different types of candy according to 'genre' i.e. chocolate, hard, soft, etc.\n",
    "'''\n",
    "candy_2015_df = pd.read_excel('CANDY-HIERARCHY-2015-SURVEY-Responses.xlsx')\n",
    "# Create a mapping dictionary of almost all the columns included in the survey\n",
    "mapping = {' [Butterfinger]': 'Candy Bar',\n",
    "           ' [100 Grand Bar]': 'Candy Bar',\n",
    "           ' [Anonymous brown globs that come in black and orange wrappers]': 'Unknown',\n",
    "           ' [Any full-sized candy bar]': 'Candy Bar',\n",
    "           ' [Black Jacks]': 'Chewy',\n",
    "           ' [Bonkers]': 'Chewy',\n",
    "           ' [Bottle Caps]': 'Hard',\n",
    "           ' [Box’o’ Raisins]': 'Chocolate',\n",
    "           ' [Brach products (not including candy corn)]': 'Unknown',\n",
    "           ' [Bubble Gum]': 'Chewing Gum',\n",
    "           ' [Cadbury Creme Eggs]': 'Chocolate',\n",
    "           ' [Candy Corn]': 'Unknown',\n",
    "           ' [Chiclets]': 'Chewing Gum',\n",
    "           ' [Caramellos]': 'Caramels',\n",
    "           ' [Snickers]': 'Candy Bar',\n",
    "           ' [Dark Chocolate Hershey]': 'Candy Bar',\n",
    "           ' [Dots]': 'Chewy',\n",
    "           ' [Fuzzy Peaches]': 'N/A',\n",
    "           ' [Generic Brand Acetaminophen]': 'N/A',\n",
    "           ' [Glow sticks]': 'N/A',\n",
    "           ' [Broken glow stick]': 'N/A',\n",
    "           ' [Goo Goo Clusters]': 'Candy Bar',\n",
    "           ' [Good N\\' Plenty]': 'Licorice',\n",
    "           ' [Gum from baseball cards]': 'Chewing Gum',\n",
    "           ' [Gummy Bears straight up]': 'Gummies',\n",
    "           ' [Creepy Religious comics/Chick Tracts]': 'N/A',\n",
    "           ' [Healthy Fruit]': 'N/A',\n",
    "           ' [Heath Bar]': 'Candy Bar',\n",
    "           ' [Hershey’s Kissables]': 'Chocolate',\n",
    "           ' [Hershey’s Milk Chocolate]': 'Chocolate',\n",
    "           ' [Hugs (actual physical hugs)]': 'N/A',\n",
    "           ' [Jolly Rancher (bad flavor)]': 'Hard',\n",
    "           ' [Jolly Ranchers (good flavor)]': 'Hard',\n",
    "           ' [Kale smoothie]': 'N/A',\n",
    "           ' [Kinder Happy Hippo]': 'Chocolate',\n",
    "           ' [Kit Kat]': 'Chocolate',\n",
    "           ' [Hard Candy]': 'Hard',\n",
    "           ' [Lapel Pins]': 'N/A',\n",
    "           ' [LemonHeads]': 'Hard',\n",
    "           ' [Licorice]': 'Licorice',\n",
    "           ' [Licorice (not black)]': 'Licorice',\n",
    "           ' [Lindt Truffle]': 'Chocolate',\n",
    "           ' [Lollipops]': 'Lollipops and Sours',\n",
    "           ' [Mars]': 'Candy Bar',\n",
    "           ' [Mary Janes]': 'Chewy',\n",
    "           ' [Maynards]': 'Lollipops and Sours',\n",
    "           ' [Milk Duds]': 'Chocolate',\n",
    "           ' [LaffyTaffy]': 'Chewy',\n",
    "           ' [Minibags of chips]': 'N/A',\n",
    "           ' [JoyJoy (Mit Iodine)]': 'N/A',\n",
    "           ' [Reggie Jackson Bar]': 'Candy Bar',\n",
    "           ' [Pixy Stix]': 'Unknown',\n",
    "           ' [Nerds]': 'Hard',\n",
    "           ' [Nestle Crunch]': 'Chocolate',\n",
    "           ' [Now\\'n\\'Laters]': 'Chewy',\n",
    "           ' [Pencils]': 'N/A',\n",
    "           ' [Milky Way]': 'Candy Bar',\n",
    "           ' [Reese’s Peanut Butter Cups]': 'Chocolate',\n",
    "           ' [Tolberone something or other]': 'N/A',\n",
    "           ' [Runts]': 'Hard',\n",
    "           ' [Junior Mints]': 'Chocolate',\n",
    "           ' [Senior Mints]': 'N/A',\n",
    "           ' [Mint Kisses]': 'Chocolate',\n",
    "           ' [Mint Juleps]': 'Chewy',\n",
    "           ' [Mint Leaves]': 'N/A',\n",
    "           ' [Peanut M&M’s]': 'Chocolate',\n",
    "           ' [Regular M&Ms]': 'Chocolate',\n",
    "           ' [Mint M&Ms]': 'Chocolate',\n",
    "           ' [Ribbon candy]': 'N/A',\n",
    "           ' [Rolos]': 'Chocolate',\n",
    "           ' [Skittles]': 'Hard',\n",
    "           ' [Smarties (American)]': 'Hard',\n",
    "           ' [Smarties (Commonwealth)]': 'Hard',\n",
    "           ' [Chick-o-Sticks (we don’t know what that is)]': 'N/A',\n",
    "           ' [Spotted Dick]': 'N/A',\n",
    "           ' [Starburst]': 'Chewy',\n",
    "           ' [Swedish Fish]': 'Chewy',\n",
    "           ' [Sweetums]': 'Lollipops and Sours',\n",
    "           ' [Those odd marshmallow circus peanut things]': 'N/A',\n",
    "           ' [Three Musketeers]': 'Candy Bar',\n",
    "           ' [Peterson Brand Sidewalk Chalk]': 'N/A',\n",
    "           ' [Peanut Butter Bars]': 'Candy Bar',\n",
    "           ' [Peanut Butter Jars]': 'N/A',\n",
    "           ' [Trail Mix]': 'N/A',\n",
    "           ' [Twix]': 'Candy Bar',\n",
    "           ' [Vicodin]': 'N/A',\n",
    "           ' [White Bread]': 'N/A',\n",
    "           ' [Whole Wheat anything]': 'N/A',\n",
    "           ' [York Peppermint Patties]': 'Chocolate',\n",
    "           ' [Sea-salt flavored stuff, probably chocolate, since this is the \"it\" flavor of the year]': 'Chocolate',\n",
    "           ' [Necco Wafers]': 'Unknown'}\n",
    "# Create a subset to include only those columns that are in the mapping variable\n",
    "candy_2015_subset = candy_2015_df[mapping.keys()]\n",
    "by_column = candy_2015_subset.groupby(mapping, axis=1)\n",
    "by_column.size()"
   ]
  },
  {
   "cell_type": "code",
   "execution_count": 12,
   "metadata": {
    "collapsed": false,
    "pycharm": {
     "name": "#%%\n"
    }
   },
   "outputs": [
    {
     "data": {
      "text/plain": " [Butterfinger]                                     DESPAIR   JOY   All\nAre you going actually going trick or treating ...                     \nNo                                                      990  3763  4753\nYes                                                     128   366   494\nAll                                                    1118  4129  5247",
      "text/html": "<div>\n<style scoped>\n    .dataframe tbody tr th:only-of-type {\n        vertical-align: middle;\n    }\n\n    .dataframe tbody tr th {\n        vertical-align: top;\n    }\n\n    .dataframe thead th {\n        text-align: right;\n    }\n</style>\n<table border=\"1\" class=\"dataframe\">\n  <thead>\n    <tr style=\"text-align: right;\">\n      <th>[Butterfinger]</th>\n      <th>DESPAIR</th>\n      <th>JOY</th>\n      <th>All</th>\n    </tr>\n    <tr>\n      <th>Are you going actually going trick or treating yourself?</th>\n      <th></th>\n      <th></th>\n      <th></th>\n    </tr>\n  </thead>\n  <tbody>\n    <tr>\n      <th>No</th>\n      <td>990</td>\n      <td>3763</td>\n      <td>4753</td>\n    </tr>\n    <tr>\n      <th>Yes</th>\n      <td>128</td>\n      <td>366</td>\n      <td>494</td>\n    </tr>\n    <tr>\n      <th>All</th>\n      <td>1118</td>\n      <td>4129</td>\n      <td>5247</td>\n    </tr>\n  </tbody>\n</table>\n</div>"
     },
     "execution_count": 12,
     "metadata": {},
     "output_type": "execute_result"
    }
   ],
   "source": [
    "'''\n",
    "2.  Cross tab summarizing data by those trick or treating themselves and their responses to the Butterfinger question.\n",
    "'''\n",
    "pd.crosstab(candy_2015_df['Are you going actually going trick or treating yourself?'], candy_2015_df[' [Butterfinger]'], margins=True)\n"
   ]
  },
  {
   "cell_type": "markdown",
   "metadata": {
    "collapsed": false,
    "pycharm": {
     "name": "#%% md\n"
    }
   },
   "source": [
    "### The 2 methods that I will chose from Chapter 11 are convert between string date and time and period frequency conversions:\n",
    "1. Convert between string date and time.\n",
    "2. Frequency conversions."
   ]
  },
  {
   "cell_type": "code",
   "execution_count": 21,
   "metadata": {},
   "outputs": [
    {
     "data": {
      "text/plain": "'2015-10-23'"
     },
     "execution_count": 21,
     "metadata": {},
     "output_type": "execute_result"
    }
   ],
   "source": [
    "'''\n",
    "1.  Convert between string and time.\n",
    "Staying with the 2015 candy data frame, we will create a new column 'date_formatted' which will convert the Timestamp\n",
    "column to a string with the Year-Month-Day format.\n",
    "'''\n",
    "import datetime as dt\n",
    "candy_2015_df.dtypes\n",
    "candy_2015_df['date_formatted'] = candy_2015_df['Timestamp'].dt.strftime('%Y-%m-%d')\n",
    "candy_2015_df['date_formatted'].iloc[0]"
   ]
  },
  {
   "cell_type": "code",
   "execution_count": 30,
   "outputs": [
    {
     "name": "stdout",
     "output_type": "stream",
     "text": [
      "How old are you?                                                                                 5431\n",
      "Are you going actually going trick or treating yourself?                                         5630\n",
      " [Butterfinger]                                                                                  5247\n",
      " [100 Grand Bar]                                                                                 4974\n",
      " [Anonymous brown globs that come in black and orange wrappers]                                  5332\n",
      "                                                                                                 ... \n",
      "Please estimate the degrees of separation you have from the following folks [JJ Abrams]             0\n",
      "Please estimate the degrees of separation you have from the following folks [Hillary Clinton]       0\n",
      "Please estimate the degrees of separation you have from the following folks [Donald Trump]          0\n",
      "Please estimate the degrees of separation you have from the following folks [Beyoncé Knowles]       0\n",
      "date_formatted                                                                                   5630\n",
      "Length: 124, dtype: int64\n"
     ]
    },
    {
     "data": {
      "text/plain": "                     How old are you?  \\\nTimestamp                               \n2015-10-23 08:00:00                23   \n2015-10-23 09:00:00               106   \n2015-10-23 10:00:00               124   \n2015-10-23 11:00:00               102   \n2015-10-23 12:00:00                81   \n...                               ...   \n2015-10-31 02:00:00                 1   \n2015-10-31 03:00:00                 0   \n2015-10-31 04:00:00                 0   \n2015-10-31 05:00:00                 4   \n2015-10-31 06:00:00                 3   \n\n                     Are you going actually going trick or treating yourself?  \\\nTimestamp                                                                       \n2015-10-23 08:00:00                                                 23          \n2015-10-23 09:00:00                                                114          \n2015-10-23 10:00:00                                                128          \n2015-10-23 11:00:00                                                109          \n2015-10-23 12:00:00                                                 87          \n...                                                                ...          \n2015-10-31 02:00:00                                                  1          \n2015-10-31 03:00:00                                                  0          \n2015-10-31 04:00:00                                                  0          \n2015-10-31 05:00:00                                                  4          \n2015-10-31 06:00:00                                                  3          \n\n                      [Butterfinger]   [100 Grand Bar]  \\\nTimestamp                                                \n2015-10-23 08:00:00               22                21   \n2015-10-23 09:00:00              110               102   \n2015-10-23 10:00:00              111               104   \n2015-10-23 11:00:00               96                90   \n2015-10-23 12:00:00               83                80   \n...                              ...               ...   \n2015-10-31 02:00:00                1                 1   \n2015-10-31 03:00:00                0                 0   \n2015-10-31 04:00:00                0                 0   \n2015-10-31 05:00:00                3                 3   \n2015-10-31 06:00:00                2                 3   \n\n                      [Anonymous brown globs that come in black and orange wrappers]  \\\nTimestamp                                                                              \n2015-10-23 08:00:00                                                 23                 \n2015-10-23 09:00:00                                                109                 \n2015-10-23 10:00:00                                                119                 \n2015-10-23 11:00:00                                                103                 \n2015-10-23 12:00:00                                                 84                 \n...                                                                ...                 \n2015-10-31 02:00:00                                                  1                 \n2015-10-31 03:00:00                                                  0                 \n2015-10-31 04:00:00                                                  0                 \n2015-10-31 05:00:00                                                  3                 \n2015-10-31 06:00:00                                                  3                 \n\n                      [Any full-sized candy bar]   [Black Jacks]   [Bonkers]  \\\nTimestamp                                                                      \n2015-10-23 08:00:00                           21              19          18   \n2015-10-23 09:00:00                          111              97          88   \n2015-10-23 10:00:00                          123             100          99   \n2015-10-23 11:00:00                          101              82          83   \n2015-10-23 12:00:00                           85              76          71   \n...                                          ...             ...         ...   \n2015-10-31 02:00:00                            1               1           1   \n2015-10-31 03:00:00                            0               0           0   \n2015-10-31 04:00:00                            0               0           0   \n2015-10-31 05:00:00                            3               3           3   \n2015-10-31 06:00:00                            3               2           2   \n\n                      [Bottle Caps]   [Box’o’ Raisins]  ...  \\\nTimestamp                                               ...   \n2015-10-23 08:00:00              20                 20  ...   \n2015-10-23 09:00:00             101                106  ...   \n2015-10-23 10:00:00             107                113  ...   \n2015-10-23 11:00:00              91                102  ...   \n2015-10-23 12:00:00              82                 81  ...   \n...                             ...                ...  ...   \n2015-10-31 02:00:00               1                  1  ...   \n2015-10-31 03:00:00               0                  0  ...   \n2015-10-31 04:00:00               0                  0  ...   \n2015-10-31 05:00:00               3                  3  ...   \n2015-10-31 06:00:00               3                  2  ...   \n\n                     Which day do you prefer, Friday or Sunday?  \\\nTimestamp                                                         \n2015-10-23 08:00:00                                           0   \n2015-10-23 09:00:00                                           0   \n2015-10-23 10:00:00                                           0   \n2015-10-23 11:00:00                                           0   \n2015-10-23 12:00:00                                           0   \n...                                                         ...   \n2015-10-31 02:00:00                                           0   \n2015-10-31 03:00:00                                           0   \n2015-10-31 04:00:00                                           0   \n2015-10-31 05:00:00                                           3   \n2015-10-31 06:00:00                                           3   \n\n                     Please estimate the degrees of separation you have from the following folks [Bruce Lee]  \\\nTimestamp                                                                                                      \n2015-10-23 08:00:00                                                  0                                         \n2015-10-23 09:00:00                                                  0                                         \n2015-10-23 10:00:00                                                  0                                         \n2015-10-23 11:00:00                                                  0                                         \n2015-10-23 12:00:00                                                  0                                         \n...                                                                ...                                         \n2015-10-31 02:00:00                                                  0                                         \n2015-10-31 03:00:00                                                  0                                         \n2015-10-31 04:00:00                                                  0                                         \n2015-10-31 05:00:00                                                  0                                         \n2015-10-31 06:00:00                                                  0                                         \n\n                     Please estimate the degrees of separation you have from the following folks [JK Rowling]  \\\nTimestamp                                                                                                       \n2015-10-23 08:00:00                                                  0                                          \n2015-10-23 09:00:00                                                  0                                          \n2015-10-23 10:00:00                                                  0                                          \n2015-10-23 11:00:00                                                  0                                          \n2015-10-23 12:00:00                                                  0                                          \n...                                                                ...                                          \n2015-10-31 02:00:00                                                  0                                          \n2015-10-31 03:00:00                                                  0                                          \n2015-10-31 04:00:00                                                  0                                          \n2015-10-31 05:00:00                                                  0                                          \n2015-10-31 06:00:00                                                  0                                          \n\n                     Please estimate the degrees of separation you have from the following folks [Malala Yousafzai]  \\\nTimestamp                                                                                                             \n2015-10-23 08:00:00                                                  0                                                \n2015-10-23 09:00:00                                                  0                                                \n2015-10-23 10:00:00                                                  0                                                \n2015-10-23 11:00:00                                                  0                                                \n2015-10-23 12:00:00                                                  0                                                \n...                                                                ...                                                \n2015-10-31 02:00:00                                                  0                                                \n2015-10-31 03:00:00                                                  0                                                \n2015-10-31 04:00:00                                                  0                                                \n2015-10-31 05:00:00                                                  0                                                \n2015-10-31 06:00:00                                                  0                                                \n\n                     Please estimate the degrees of separation you have from the following folks [Thom Yorke]  \\\nTimestamp                                                                                                       \n2015-10-23 08:00:00                                                  0                                          \n2015-10-23 09:00:00                                                  0                                          \n2015-10-23 10:00:00                                                  0                                          \n2015-10-23 11:00:00                                                  0                                          \n2015-10-23 12:00:00                                                  0                                          \n...                                                                ...                                          \n2015-10-31 02:00:00                                                  0                                          \n2015-10-31 03:00:00                                                  0                                          \n2015-10-31 04:00:00                                                  0                                          \n2015-10-31 05:00:00                                                  0                                          \n2015-10-31 06:00:00                                                  0                                          \n\n                     Please estimate the degrees of separation you have from the following folks [JJ Abrams]  \\\nTimestamp                                                                                                      \n2015-10-23 08:00:00                                                  0                                         \n2015-10-23 09:00:00                                                  0                                         \n2015-10-23 10:00:00                                                  0                                         \n2015-10-23 11:00:00                                                  0                                         \n2015-10-23 12:00:00                                                  0                                         \n...                                                                ...                                         \n2015-10-31 02:00:00                                                  0                                         \n2015-10-31 03:00:00                                                  0                                         \n2015-10-31 04:00:00                                                  0                                         \n2015-10-31 05:00:00                                                  0                                         \n2015-10-31 06:00:00                                                  0                                         \n\n                     Please estimate the degrees of separation you have from the following folks [Hillary Clinton]  \\\nTimestamp                                                                                                            \n2015-10-23 08:00:00                                                  0                                               \n2015-10-23 09:00:00                                                  0                                               \n2015-10-23 10:00:00                                                  0                                               \n2015-10-23 11:00:00                                                  0                                               \n2015-10-23 12:00:00                                                  0                                               \n...                                                                ...                                               \n2015-10-31 02:00:00                                                  0                                               \n2015-10-31 03:00:00                                                  0                                               \n2015-10-31 04:00:00                                                  0                                               \n2015-10-31 05:00:00                                                  0                                               \n2015-10-31 06:00:00                                                  0                                               \n\n                     Please estimate the degrees of separation you have from the following folks [Donald Trump]  \\\nTimestamp                                                                                                         \n2015-10-23 08:00:00                                                  0                                            \n2015-10-23 09:00:00                                                  0                                            \n2015-10-23 10:00:00                                                  0                                            \n2015-10-23 11:00:00                                                  0                                            \n2015-10-23 12:00:00                                                  0                                            \n...                                                                ...                                            \n2015-10-31 02:00:00                                                  0                                            \n2015-10-31 03:00:00                                                  0                                            \n2015-10-31 04:00:00                                                  0                                            \n2015-10-31 05:00:00                                                  0                                            \n2015-10-31 06:00:00                                                  0                                            \n\n                     Please estimate the degrees of separation you have from the following folks [Beyoncé Knowles]  \\\nTimestamp                                                                                                            \n2015-10-23 08:00:00                                                  0                                               \n2015-10-23 09:00:00                                                  0                                               \n2015-10-23 10:00:00                                                  0                                               \n2015-10-23 11:00:00                                                  0                                               \n2015-10-23 12:00:00                                                  0                                               \n...                                                                ...                                               \n2015-10-31 02:00:00                                                  0                                               \n2015-10-31 03:00:00                                                  0                                               \n2015-10-31 04:00:00                                                  0                                               \n2015-10-31 05:00:00                                                  0                                               \n2015-10-31 06:00:00                                                  0                                               \n\n                     date_formatted  \nTimestamp                            \n2015-10-23 08:00:00              23  \n2015-10-23 09:00:00             114  \n2015-10-23 10:00:00             128  \n2015-10-23 11:00:00             109  \n2015-10-23 12:00:00              87  \n...                             ...  \n2015-10-31 02:00:00               1  \n2015-10-31 03:00:00               0  \n2015-10-31 04:00:00               0  \n2015-10-31 05:00:00               4  \n2015-10-31 06:00:00               3  \n\n[191 rows x 124 columns]",
      "text/html": "<div>\n<style scoped>\n    .dataframe tbody tr th:only-of-type {\n        vertical-align: middle;\n    }\n\n    .dataframe tbody tr th {\n        vertical-align: top;\n    }\n\n    .dataframe thead th {\n        text-align: right;\n    }\n</style>\n<table border=\"1\" class=\"dataframe\">\n  <thead>\n    <tr style=\"text-align: right;\">\n      <th></th>\n      <th>How old are you?</th>\n      <th>Are you going actually going trick or treating yourself?</th>\n      <th>[Butterfinger]</th>\n      <th>[100 Grand Bar]</th>\n      <th>[Anonymous brown globs that come in black and orange wrappers]</th>\n      <th>[Any full-sized candy bar]</th>\n      <th>[Black Jacks]</th>\n      <th>[Bonkers]</th>\n      <th>[Bottle Caps]</th>\n      <th>[Box’o’ Raisins]</th>\n      <th>...</th>\n      <th>Which day do you prefer, Friday or Sunday?</th>\n      <th>Please estimate the degrees of separation you have from the following folks [Bruce Lee]</th>\n      <th>Please estimate the degrees of separation you have from the following folks [JK Rowling]</th>\n      <th>Please estimate the degrees of separation you have from the following folks [Malala Yousafzai]</th>\n      <th>Please estimate the degrees of separation you have from the following folks [Thom Yorke]</th>\n      <th>Please estimate the degrees of separation you have from the following folks [JJ Abrams]</th>\n      <th>Please estimate the degrees of separation you have from the following folks [Hillary Clinton]</th>\n      <th>Please estimate the degrees of separation you have from the following folks [Donald Trump]</th>\n      <th>Please estimate the degrees of separation you have from the following folks [Beyoncé Knowles]</th>\n      <th>date_formatted</th>\n    </tr>\n    <tr>\n      <th>Timestamp</th>\n      <th></th>\n      <th></th>\n      <th></th>\n      <th></th>\n      <th></th>\n      <th></th>\n      <th></th>\n      <th></th>\n      <th></th>\n      <th></th>\n      <th></th>\n      <th></th>\n      <th></th>\n      <th></th>\n      <th></th>\n      <th></th>\n      <th></th>\n      <th></th>\n      <th></th>\n      <th></th>\n      <th></th>\n    </tr>\n  </thead>\n  <tbody>\n    <tr>\n      <th>2015-10-23 08:00:00</th>\n      <td>23</td>\n      <td>23</td>\n      <td>22</td>\n      <td>21</td>\n      <td>23</td>\n      <td>21</td>\n      <td>19</td>\n      <td>18</td>\n      <td>20</td>\n      <td>20</td>\n      <td>...</td>\n      <td>0</td>\n      <td>0</td>\n      <td>0</td>\n      <td>0</td>\n      <td>0</td>\n      <td>0</td>\n      <td>0</td>\n      <td>0</td>\n      <td>0</td>\n      <td>23</td>\n    </tr>\n    <tr>\n      <th>2015-10-23 09:00:00</th>\n      <td>106</td>\n      <td>114</td>\n      <td>110</td>\n      <td>102</td>\n      <td>109</td>\n      <td>111</td>\n      <td>97</td>\n      <td>88</td>\n      <td>101</td>\n      <td>106</td>\n      <td>...</td>\n      <td>0</td>\n      <td>0</td>\n      <td>0</td>\n      <td>0</td>\n      <td>0</td>\n      <td>0</td>\n      <td>0</td>\n      <td>0</td>\n      <td>0</td>\n      <td>114</td>\n    </tr>\n    <tr>\n      <th>2015-10-23 10:00:00</th>\n      <td>124</td>\n      <td>128</td>\n      <td>111</td>\n      <td>104</td>\n      <td>119</td>\n      <td>123</td>\n      <td>100</td>\n      <td>99</td>\n      <td>107</td>\n      <td>113</td>\n      <td>...</td>\n      <td>0</td>\n      <td>0</td>\n      <td>0</td>\n      <td>0</td>\n      <td>0</td>\n      <td>0</td>\n      <td>0</td>\n      <td>0</td>\n      <td>0</td>\n      <td>128</td>\n    </tr>\n    <tr>\n      <th>2015-10-23 11:00:00</th>\n      <td>102</td>\n      <td>109</td>\n      <td>96</td>\n      <td>90</td>\n      <td>103</td>\n      <td>101</td>\n      <td>82</td>\n      <td>83</td>\n      <td>91</td>\n      <td>102</td>\n      <td>...</td>\n      <td>0</td>\n      <td>0</td>\n      <td>0</td>\n      <td>0</td>\n      <td>0</td>\n      <td>0</td>\n      <td>0</td>\n      <td>0</td>\n      <td>0</td>\n      <td>109</td>\n    </tr>\n    <tr>\n      <th>2015-10-23 12:00:00</th>\n      <td>81</td>\n      <td>87</td>\n      <td>83</td>\n      <td>80</td>\n      <td>84</td>\n      <td>85</td>\n      <td>76</td>\n      <td>71</td>\n      <td>82</td>\n      <td>81</td>\n      <td>...</td>\n      <td>0</td>\n      <td>0</td>\n      <td>0</td>\n      <td>0</td>\n      <td>0</td>\n      <td>0</td>\n      <td>0</td>\n      <td>0</td>\n      <td>0</td>\n      <td>87</td>\n    </tr>\n    <tr>\n      <th>...</th>\n      <td>...</td>\n      <td>...</td>\n      <td>...</td>\n      <td>...</td>\n      <td>...</td>\n      <td>...</td>\n      <td>...</td>\n      <td>...</td>\n      <td>...</td>\n      <td>...</td>\n      <td>...</td>\n      <td>...</td>\n      <td>...</td>\n      <td>...</td>\n      <td>...</td>\n      <td>...</td>\n      <td>...</td>\n      <td>...</td>\n      <td>...</td>\n      <td>...</td>\n      <td>...</td>\n    </tr>\n    <tr>\n      <th>2015-10-31 02:00:00</th>\n      <td>1</td>\n      <td>1</td>\n      <td>1</td>\n      <td>1</td>\n      <td>1</td>\n      <td>1</td>\n      <td>1</td>\n      <td>1</td>\n      <td>1</td>\n      <td>1</td>\n      <td>...</td>\n      <td>0</td>\n      <td>0</td>\n      <td>0</td>\n      <td>0</td>\n      <td>0</td>\n      <td>0</td>\n      <td>0</td>\n      <td>0</td>\n      <td>0</td>\n      <td>1</td>\n    </tr>\n    <tr>\n      <th>2015-10-31 03:00:00</th>\n      <td>0</td>\n      <td>0</td>\n      <td>0</td>\n      <td>0</td>\n      <td>0</td>\n      <td>0</td>\n      <td>0</td>\n      <td>0</td>\n      <td>0</td>\n      <td>0</td>\n      <td>...</td>\n      <td>0</td>\n      <td>0</td>\n      <td>0</td>\n      <td>0</td>\n      <td>0</td>\n      <td>0</td>\n      <td>0</td>\n      <td>0</td>\n      <td>0</td>\n      <td>0</td>\n    </tr>\n    <tr>\n      <th>2015-10-31 04:00:00</th>\n      <td>0</td>\n      <td>0</td>\n      <td>0</td>\n      <td>0</td>\n      <td>0</td>\n      <td>0</td>\n      <td>0</td>\n      <td>0</td>\n      <td>0</td>\n      <td>0</td>\n      <td>...</td>\n      <td>0</td>\n      <td>0</td>\n      <td>0</td>\n      <td>0</td>\n      <td>0</td>\n      <td>0</td>\n      <td>0</td>\n      <td>0</td>\n      <td>0</td>\n      <td>0</td>\n    </tr>\n    <tr>\n      <th>2015-10-31 05:00:00</th>\n      <td>4</td>\n      <td>4</td>\n      <td>3</td>\n      <td>3</td>\n      <td>3</td>\n      <td>3</td>\n      <td>3</td>\n      <td>3</td>\n      <td>3</td>\n      <td>3</td>\n      <td>...</td>\n      <td>3</td>\n      <td>0</td>\n      <td>0</td>\n      <td>0</td>\n      <td>0</td>\n      <td>0</td>\n      <td>0</td>\n      <td>0</td>\n      <td>0</td>\n      <td>4</td>\n    </tr>\n    <tr>\n      <th>2015-10-31 06:00:00</th>\n      <td>3</td>\n      <td>3</td>\n      <td>2</td>\n      <td>3</td>\n      <td>3</td>\n      <td>3</td>\n      <td>2</td>\n      <td>2</td>\n      <td>3</td>\n      <td>2</td>\n      <td>...</td>\n      <td>3</td>\n      <td>0</td>\n      <td>0</td>\n      <td>0</td>\n      <td>0</td>\n      <td>0</td>\n      <td>0</td>\n      <td>0</td>\n      <td>0</td>\n      <td>3</td>\n    </tr>\n  </tbody>\n</table>\n<p>191 rows × 124 columns</p>\n</div>"
     },
     "execution_count": 30,
     "metadata": {},
     "output_type": "execute_result"
    }
   ],
   "source": [
    "'''\n",
    "2.  Frequency conversions.  We will convert the downsample the time from minutes to hours\n",
    "'''\n",
    "# Shows the count of responses within the hourly timeframe.\n",
    "candy_2015_df.resample('60T').count()"
   ],
   "metadata": {
    "collapsed": false,
    "pycharm": {
     "name": "#%%\n"
    }
   }
  }
 ],
 "metadata": {
  "interpreter": {
   "hash": "bf60427b139290154779a7e38fd0f127f78e5a9dfc17b4a4bd1d849158c5fa70"
  },
  "kernelspec": {
   "name": "python3",
   "language": "python",
   "display_name": "Python 3"
  },
  "language_info": {
   "codemirror_mode": {
    "name": "ipython",
    "version": 3
   },
   "file_extension": ".py",
   "mimetype": "text/x-python",
   "name": "python",
   "nbconvert_exporter": "python",
   "pygments_lexer": "ipython3",
   "version": "3.7.6"
  }
 },
 "nbformat": 4,
 "nbformat_minor": 0
}