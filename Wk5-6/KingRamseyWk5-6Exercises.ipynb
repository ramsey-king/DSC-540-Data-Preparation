{
 "cells": [
  {
   "cell_type": "markdown",
   "metadata": {
    "collapsed": true,
    "pycharm": {
     "name": "#%% md\n"
    }
   },
   "source": [
    "# Ramsey King\n",
    "# DSC 540 - Data Preparation\n",
    "# Weeks 5 & 6\n",
    "# July 16, 2021\n",
    "## For this assignment you need to complete 8 of the following exercises against this data.  You must select at least 2 methods from Chapters 7, 8, 10 & 11."
   ]
  },
  {
   "cell_type": "code",
   "execution_count": 12,
   "outputs": [
    {
     "data": {
      "text/plain": "(1259, 123)"
     },
     "execution_count": 12,
     "metadata": {},
     "output_type": "execute_result"
    }
   ],
   "source": [
    "import matplotlib.pyplot as plt\n",
    "import pandas as pd\n",
    "import numpy as np\n",
    "\n",
    "candy_2016_df = pd.read_excel('BOING-BOING-CANDY-HIERARCHY-2016-SURVEY-Responses.xlsx')\n",
    "candy_2016_df.shape"
   ],
   "metadata": {
    "collapsed": false,
    "pycharm": {
     "name": "#%%\n"
    }
   }
  },
  {
   "cell_type": "markdown",
   "source": [
    "### The 2 method from Chapter 7 that I will chose are filtering out missing data and binning. This will be done by filtering out the rows where the column 'How old are you?' is non-numeric.  From there, the ages will be binned."
   ],
   "metadata": {
    "collapsed": false,
    "pycharm": {
     "name": "#%% md\n"
    }
   }
  },
  {
   "cell_type": "code",
   "execution_count": 13,
   "outputs": [
    {
     "data": {
      "text/plain": "(1191, 123)"
     },
     "execution_count": 13,
     "metadata": {},
     "output_type": "execute_result"
    }
   ],
   "source": [
    "# rename the 'How old are you?' column to 'age'\n",
    "candy_2016_df = candy_2016_df.rename(columns={candy_2016_df.columns[3]:'age'})\n",
    "\n",
    "# remove rows where 'age' column does not contain a number\n",
    "candy_2016_df = candy_2016_df[pd.to_numeric(candy_2016_df['age'], errors='coerce').notnull()]\n",
    "candy_2016_df.shape"
   ],
   "metadata": {
    "collapsed": false,
    "pycharm": {
     "name": "#%%\n"
    }
   }
  },
  {
   "cell_type": "code",
   "execution_count": 14,
   "outputs": [
    {
     "data": {
      "text/plain": "(34, 44]     382\n(24, 34]     317\n(44, 54]     292\n(54, 64]     121\n(17, 24]      37\n(0, 17]       21\n(64, 140]     19\nName: age, dtype: int64"
     },
     "execution_count": 14,
     "metadata": {},
     "output_type": "execute_result"
    }
   ],
   "source": [
    "# bin 'age' column based on age ranges (<17, 18-25, 26-34, 35-44, 45-54, 55-64, >65)\n",
    "bins = [0,17,24,34,44,54,64,140]\n",
    "cats = pd.cut(candy_2016_df['age'], bins)\n",
    "pd.value_counts(cats)\n",
    "# candy_2016_df.plot.bar(x=cats,y=pd.value_counts(cats))"
   ],
   "metadata": {
    "collapsed": false,
    "pycharm": {
     "name": "#%%\n"
    }
   }
  },
  {
   "cell_type": "markdown",
   "source": [
    "### The 2 methods that I will chose from Chapter 8 are combining/merging datasets and pivoting data.  This will be achieved as follows:\n",
    "1. Create a subset of the 2016 and 2017 candy datasets based on all participants who gave a response in the '[100 Grand Bar]' column\n",
    "2. Merge these subset datasets together (adding the rows of the 2016 dataset to the 2017 dataset).\n",
    "3. Creating a pivot table based on the 100 Grand Bar response type by gender"
   ],
   "metadata": {
    "collapsed": false,
    "pycharm": {
     "name": "#%% md\n"
    }
   }
  },
  {
   "cell_type": "code",
   "execution_count": 15,
   "outputs": [
    {
     "name": "stdout",
     "output_type": "stream",
     "text": [
      "2016 dimensions: (1259, 123) \n",
      "2017 dimensions: (2460, 120)\n"
     ]
    },
    {
     "name": "stderr",
     "output_type": "stream",
     "text": [
      "C:\\Users\\Ramsey\\anaconda3\\lib\\site-packages\\openpyxl\\worksheet\\_reader.py:300: UserWarning: Unknown extension is not supported and will be removed\n",
      "  warn(msg)\n"
     ]
    }
   ],
   "source": [
    "# Load the 2016 and 2017 datasets (since I've re-written over the 2016 dataset above)\n",
    "\n",
    "candy_2016_df = pd.read_excel('BOING-BOING-CANDY-HIERARCHY-2016-SURVEY-Responses.xlsx')\n",
    "candy_2017_df = pd.read_excel('candyhierarchy2017.xlsx')\n",
    "\n",
    "print(\"2016 dimensions:\", candy_2016_df.shape, \"\\n2017 dimensions:\", candy_2017_df.shape)"
   ],
   "metadata": {
    "collapsed": false,
    "pycharm": {
     "name": "#%%\n"
    }
   }
  },
  {
   "cell_type": "code",
   "execution_count": 16,
   "outputs": [
    {
     "name": "stdout",
     "output_type": "stream",
     "text": [
      "hundred_grand_bar has 78 missing value(s)\n"
     ]
    }
   ],
   "source": [
    "# rename the '100 Grand Bar' column '100_grand_bar', 'Your gender:' column 'gender', and 'How old are you?' 'age'\n",
    "candy_2016_df = candy_2016_df.rename(columns={candy_2016_df.columns[2]:'gender',\n",
    "                                              candy_2016_df.columns[3]:'age',\n",
    "                                              candy_2016_df.columns[6]:'hundred_grand_bar'})\n",
    "#candy_2016_df.columns\n",
    "\n",
    "\n",
    "# check for empty values in the hundred_grand_bar column in the 2016 dataset.\n",
    "miss = candy_2016_df['hundred_grand_bar'].isnull().sum()\n",
    "if miss>0:\n",
    "    print(\"hundred_grand_bar has {} missing value(s)\".format(miss))\n",
    "else:\n",
    "    print(\"hundred_grand_bar has no missing values.\")\n"
   ],
   "metadata": {
    "collapsed": false,
    "pycharm": {
     "name": "#%%\n"
    }
   }
  },
  {
   "cell_type": "code",
   "execution_count": 17,
   "outputs": [
    {
     "data": {
      "text/plain": "(1181, 123)"
     },
     "execution_count": 17,
     "metadata": {},
     "output_type": "execute_result"
    }
   ],
   "source": [
    "# remove rows where the 100 Grand Bar value is null\n",
    "candy_2016_df = candy_2016_df[candy_2016_df['hundred_grand_bar'].isnull() == False]\n",
    "candy_2016_df.shape"
   ],
   "metadata": {
    "collapsed": false,
    "pycharm": {
     "name": "#%%\n"
    }
   }
  },
  {
   "cell_type": "code",
   "execution_count": 18,
   "outputs": [
    {
     "name": "stdout",
     "output_type": "stream",
     "text": [
      "hundred_grand_bar has 747 missing value(s)\n"
     ]
    }
   ],
   "source": [
    "# rename the '100 Grand Bar' column '100_grand_bar', 'Your gender:' column 'gender', and 'How old are you?' 'age'\n",
    "candy_2017_df = candy_2017_df.rename(columns={candy_2017_df.columns[2]:'gender',\n",
    "                                              candy_2017_df.columns[3]:'age',\n",
    "                                              candy_2017_df.columns[6]:'hundred_grand_bar'})\n",
    "#candy_2017_df.columns\n",
    "\n",
    "\n",
    "# check for empty values in the hundred_grand_bar column in the 2016 dataset.\n",
    "miss = candy_2017_df['hundred_grand_bar'].isnull().sum()\n",
    "if miss>0:\n",
    "    print(\"hundred_grand_bar has {} missing value(s)\".format(miss))\n",
    "else:\n",
    "    print(\"hundred_grand_bar has no missing values.\")"
   ],
   "metadata": {
    "collapsed": false,
    "pycharm": {
     "name": "#%%\n"
    }
   }
  },
  {
   "cell_type": "code",
   "execution_count": 19,
   "outputs": [
    {
     "data": {
      "text/plain": "(1713, 120)"
     },
     "execution_count": 19,
     "metadata": {},
     "output_type": "execute_result"
    }
   ],
   "source": [
    "# remove rows where the 100 Grand Bar value is null\n",
    "candy_2017_df = candy_2017_df[candy_2017_df['hundred_grand_bar'].isnull() == False]\n",
    "candy_2017_df.shape"
   ],
   "metadata": {
    "collapsed": false,
    "pycharm": {
     "name": "#%%\n"
    }
   }
  },
  {
   "cell_type": "code",
   "execution_count": 20,
   "outputs": [
    {
     "data": {
      "text/plain": "      gender age hundred_grand_bar\n0       Male  22               JOY\n1       Male  45               MEH\n2     Female  48               JOY\n3       Male  57               JOY\n4       Male  42               MEH\n...      ...  ..               ...\n2454  Female  26               JOY\n2455    Male  24               JOY\n2456  Female  33               MEH\n2457  Female  26               MEH\n2459  Female  66           DESPAIR\n\n[2894 rows x 3 columns]",
      "text/html": "<div>\n<style scoped>\n    .dataframe tbody tr th:only-of-type {\n        vertical-align: middle;\n    }\n\n    .dataframe tbody tr th {\n        vertical-align: top;\n    }\n\n    .dataframe thead th {\n        text-align: right;\n    }\n</style>\n<table border=\"1\" class=\"dataframe\">\n  <thead>\n    <tr style=\"text-align: right;\">\n      <th></th>\n      <th>gender</th>\n      <th>age</th>\n      <th>hundred_grand_bar</th>\n    </tr>\n  </thead>\n  <tbody>\n    <tr>\n      <th>0</th>\n      <td>Male</td>\n      <td>22</td>\n      <td>JOY</td>\n    </tr>\n    <tr>\n      <th>1</th>\n      <td>Male</td>\n      <td>45</td>\n      <td>MEH</td>\n    </tr>\n    <tr>\n      <th>2</th>\n      <td>Female</td>\n      <td>48</td>\n      <td>JOY</td>\n    </tr>\n    <tr>\n      <th>3</th>\n      <td>Male</td>\n      <td>57</td>\n      <td>JOY</td>\n    </tr>\n    <tr>\n      <th>4</th>\n      <td>Male</td>\n      <td>42</td>\n      <td>MEH</td>\n    </tr>\n    <tr>\n      <th>...</th>\n      <td>...</td>\n      <td>...</td>\n      <td>...</td>\n    </tr>\n    <tr>\n      <th>2454</th>\n      <td>Female</td>\n      <td>26</td>\n      <td>JOY</td>\n    </tr>\n    <tr>\n      <th>2455</th>\n      <td>Male</td>\n      <td>24</td>\n      <td>JOY</td>\n    </tr>\n    <tr>\n      <th>2456</th>\n      <td>Female</td>\n      <td>33</td>\n      <td>MEH</td>\n    </tr>\n    <tr>\n      <th>2457</th>\n      <td>Female</td>\n      <td>26</td>\n      <td>MEH</td>\n    </tr>\n    <tr>\n      <th>2459</th>\n      <td>Female</td>\n      <td>66</td>\n      <td>DESPAIR</td>\n    </tr>\n  </tbody>\n</table>\n<p>2894 rows × 3 columns</p>\n</div>"
     },
     "execution_count": 20,
     "metadata": {},
     "output_type": "execute_result"
    }
   ],
   "source": [
    "'''\n",
    "merge the 2016 and 2017 candy datasets together by adding rows.  Before we do this, we will grab only the gender, age,\n",
    "and hundred_grand_bar columns and put them into a new dataframe\n",
    "'''\n",
    "candy_2016_subset = candy_2016_df[['gender', 'age', 'hundred_grand_bar']]\n",
    "candy_2017_subset = candy_2017_df[['gender', 'age', 'hundred_grand_bar']]\n",
    "\n",
    "combined_candy_subset = candy_2016_subset.append(candy_2017_subset)\n",
    "combined_candy_subset"
   ],
   "metadata": {
    "collapsed": false,
    "pycharm": {
     "name": "#%%\n"
    }
   }
  },
  {
   "cell_type": "code",
   "execution_count": 21,
   "outputs": [
    {
     "data": {
      "text/plain": "                                               age\ngender             hundred_grand_bar              \nFemale             DESPAIR            3.726923e+01\n                   JOY                4.143659e+01\n                   MEH                3.930000e+01\nI'd rather not say DESPAIR            3.433333e+01\n                   JOY                3.935294e+01\n                   MEH                8.688462e+01\nMale               DESPAIR            4.137333e+01\n                   JOY                4.360352e+01\n                   MEH                1.329787e+15\nOther              DESPAIR            3.566667e+01\n                   JOY                3.537500e+01\n                   MEH                4.755556e+01",
      "text/html": "<div>\n<style scoped>\n    .dataframe tbody tr th:only-of-type {\n        vertical-align: middle;\n    }\n\n    .dataframe tbody tr th {\n        vertical-align: top;\n    }\n\n    .dataframe thead th {\n        text-align: right;\n    }\n</style>\n<table border=\"1\" class=\"dataframe\">\n  <thead>\n    <tr style=\"text-align: right;\">\n      <th></th>\n      <th></th>\n      <th>age</th>\n    </tr>\n    <tr>\n      <th>gender</th>\n      <th>hundred_grand_bar</th>\n      <th></th>\n    </tr>\n  </thead>\n  <tbody>\n    <tr>\n      <th rowspan=\"3\" valign=\"top\">Female</th>\n      <th>DESPAIR</th>\n      <td>3.726923e+01</td>\n    </tr>\n    <tr>\n      <th>JOY</th>\n      <td>4.143659e+01</td>\n    </tr>\n    <tr>\n      <th>MEH</th>\n      <td>3.930000e+01</td>\n    </tr>\n    <tr>\n      <th rowspan=\"3\" valign=\"top\">I'd rather not say</th>\n      <th>DESPAIR</th>\n      <td>3.433333e+01</td>\n    </tr>\n    <tr>\n      <th>JOY</th>\n      <td>3.935294e+01</td>\n    </tr>\n    <tr>\n      <th>MEH</th>\n      <td>8.688462e+01</td>\n    </tr>\n    <tr>\n      <th rowspan=\"3\" valign=\"top\">Male</th>\n      <th>DESPAIR</th>\n      <td>4.137333e+01</td>\n    </tr>\n    <tr>\n      <th>JOY</th>\n      <td>4.360352e+01</td>\n    </tr>\n    <tr>\n      <th>MEH</th>\n      <td>1.329787e+15</td>\n    </tr>\n    <tr>\n      <th rowspan=\"3\" valign=\"top\">Other</th>\n      <th>DESPAIR</th>\n      <td>3.566667e+01</td>\n    </tr>\n    <tr>\n      <th>JOY</th>\n      <td>3.537500e+01</td>\n    </tr>\n    <tr>\n      <th>MEH</th>\n      <td>4.755556e+01</td>\n    </tr>\n  </tbody>\n</table>\n</div>"
     },
     "execution_count": 21,
     "metadata": {},
     "output_type": "execute_result"
    }
   ],
   "source": [
    "'''\n",
    "Now we are ready to pivot the data based on gender.\n",
    "'''\n",
    "# drop the rows with missing values for age\n",
    "combined_candy_subset = combined_candy_subset[combined_candy_subset['age'].isnull() == False]\n",
    "combined_candy_subset = combined_candy_subset[pd.to_numeric(combined_candy_subset['age'], errors='coerce').notnull()]\n",
    "\n",
    "# convert age column to numeric\n",
    "combined_candy_subset['age'] = pd.to_numeric(combined_candy_subset['age'])\n",
    "combined_candy_subset.dtypes\n",
    "combined_candy_subset.pivot_table(values='age', index=['gender','hundred_grand_bar'],aggfunc=np.mean)"
   ],
   "metadata": {
    "collapsed": false,
    "pycharm": {
     "name": "#%%\n"
    }
   }
  },
  {
   "cell_type": "markdown",
   "source": [
    "### The 2 methods that I will chose from Chapter 10 are Grouping with Dicts and <ENTER HERE> This will be achieved as follows:\n",
    "1. Grouping with Dicts -- create a mapping of different types of candy according to manufacturer (or genre-chocolate,\n",
    "hard, soft, sugar. Create a subset of the datasets, and use the 2015 dataset for this exercise. Ex:\n",
    "mapping = {'COLUMN NAME': 'GENRE/MANUFACTURER', 'COLUMN NAME': 'GENRE/MANUFACTURER} PAGE 442 OF PYTHON FOR DATA ANALYSIS\n",
    "2. PG 456. Spilt-Apply-Combine -- do something there."
   ],
   "metadata": {
    "collapsed": false,
    "pycharm": {
     "name": "#%% md\n"
    }
   }
  },
  {
   "cell_type": "code",
   "execution_count": 23,
   "outputs": [],
   "source": [
    "candy_2015_df = pd.read_excel('CANDY-HIERARCHY-2015-SURVEY-Responses.xlsx')\n",
    "candy_2015_df.columns\n",
    "mapping = {'[Butterfinger]': 'Candy Bar',\n",
    "           '[100 Grand Bar]': 'Candy Bar',\n",
    "           '[Anonymous brown globs that come in black and orange wrappers]': 'Unknown',\n",
    "           '[Any full-sized candy bar]': 'Candy Bar',\n",
    "           '[Black Jacks]': 'Chewy',\n",
    "           '[Bonkers]': 'Chewy',\n",
    "           '[Bottle Caps]': 'Hard',\n",
    "           '[Box’o’ Raisins]': 'Chocolate',\n",
    "           '[Brach products (not including candy corn)]': 'Unknown',\n",
    "           '[Bubble Gum]': 'Chewing Gum',\n",
    "           '[Cadbury Creme Eggs]': 'Chocolate',\n",
    "           '[Candy Corn]': 'Unknown',\n",
    "           '[Chiclets]': 'Chewing Gum',\n",
    "           '[Caramellos]': 'Caramels',\n",
    "           '[Snickers]': 'Candy Bar',\n",
    "           '[Dark Chocolate Hershey]': 'Candy Bar',\n",
    "           '[Dots]': 'Chewy',\n",
    "           '[Fuzzy Peaches]': 'N/A',\n",
    "           '[Generic Brand Acetaminophen]': 'N/A',\n",
    "           '[Glow sticks]': 'N/A',\n",
    "           '[Broken glow stick]': 'N/A',\n",
    "           '[Goo Goo Clusters]': 'Candy Bar',\n",
    "           '[Good N\\' Plenty]': 'Licorice',\n",
    "           '[Gum from baseball cards]': 'Chewing Gum',\n",
    "           '[Gummy Bears straight up]': 'Gummies',\n",
    "           '[Creepy Religious comics/Chick Tracts]': 'N/A',\n",
    "           '[Healthy Fruit]': 'N/A',\n",
    "           '[Heath Bar]': 'Candy Bar',\n",
    "           '[Hershey’s Kissables]': 'Chocolate',\n",
    "           '[Hershey’s Milk Chocolate]': 'Chocolate',\n",
    "           '[Hugs (actual physical hugs)]': 'N/A',\n",
    "           '[Jolly Rancher (bad flavor)]': 'Hard',\n",
    "           '[Jolly Ranchers (good flavor)]': 'Hard',\n",
    "           '[Kale smoothie]': 'N/A',\n",
    "           '[Kinder Happy Hippo]': 'Chocolate',\n",
    "           '[Kit Kat]': 'Chocolate',\n",
    "           '[Hard Candy]': 'Hard',\n",
    "           '[Lapel Pins]': 'N/A',\n",
    "           '[LemonHeads]': 'Hard',\n",
    "           '[Licorice]': 'Licorice',\n",
    "           '[Licorice (not black)]': 'Licorice',\n",
    "           '[Lindt Truffle]': 'Chocolate',\n",
    "           '[Lollipops]': 'Lollipops and Sours',\n",
    "           '[Mars]': 'Candy Bar',\n",
    "           '[Mary Janes]': 'Chewy',\n",
    "           '[Maynards]': 'Lollipops and Sours',\n",
    "           '[Milk Duds]': 'Chocolate',\n",
    "           '[LaffyTaffy]': 'Chewy',\n",
    "           '[Minibags of chips]': 'N/A',\n",
    "           '[JoyJoy (Mit Iodine)]': 'N/A',\n",
    "           '[Reggie Jackson Bar]': 'Candy Bar',\n",
    "           '[Pixy Stix]': 'Unknown',\n",
    "           '[Nerds]': 'Hard',\n",
    "           '[Nestle Crunch]': 'Chocolate',\n",
    "           '[Now\\'n\\'Laters]': 'Chewy',\n",
    "           '[Pencils]': 'N/A',\n",
    "           '[Milky Way]': 'Candy Bar',\n",
    "           '[Reese’s Peanut Butter Cups]': 'Chocolate',\n",
    "           '[Tolberone something or other]': 'N/A',\n",
    "           '[Runts]': 'Hard',\n",
    "           '[Junior Mints]': 'Chocolate',\n",
    "           '[Senior Mints]': 'N/A',\n",
    "           '[Mint Kisses]': 'Chocolate',\n",
    "           '[Mint Juleps]': 'Chewy',\n",
    "           '[Mint Leaves]': 'N/A',\n",
    "           '[Peanut M&M’s]': 'Chocolate',\n",
    "           '[Regular M&Ms]': 'Chocolate',\n",
    "           '[Mint M&Ms]': 'Chocolate',\n",
    "           '[Ribbon candy]': 'N/A',\n",
    "           '[Rolos]': 'Chocolate',\n",
    "           '[Skittles]': 'Hard',\n",
    "           '[Smarties (American)]': 'Hard',\n",
    "           '[Smarties (Commonwealth)]': 'Hard',\n",
    "           '[Chick-o-Sticks (we don’t know what that is)]': 'N/A',\n",
    "           '[Spotted Dick]': 'N/A',\n",
    "           '[Starburst]': 'Chewy',\n",
    "           '[Swedish Fish]': 'Chewy',\n",
    "           '[Sweetums]': 'Lollipops and Sours',\n",
    "           '[Those odd marshmallow circus peanut things]': 'N/A',\n",
    "           '[Three Musketeers]': 'Candy Bar',\n",
    "           '[Peterson Brand Sidewalk Chalk]': 'N/A',\n",
    "           '[Peanut Butter Bars]': 'Candy Bar',\n",
    "           '[Peanut Butter Jars]': 'N/A',\n",
    "           '[Trail Mix]': 'N/A',\n",
    "           '[Twix]': 'Candy Bar',\n",
    "           '[Vicodin]': 'N/A',\n",
    "           'TEST':'TEST',\n",
    "           '[White Bread]': 'N/A',\n",
    "           '[Whole Wheat anything]': 'N/A',\n",
    "           '[York Peppermint Patties]': 'Chocolate',\n",
    "           '[Sea-salt flavored stuff, probably chocolate, since this is the \"it\" flavor of the year]': 'Chocolate',\n",
    "           '[Necco Wafers]': 'Unknown'}"
   ],
   "metadata": {
    "collapsed": false,
    "pycharm": {
     "name": "#%%\n"
    }
   }
  }
 ],
 "metadata": {
  "kernelspec": {
   "name": "python3",
   "language": "python",
   "display_name": "Python 3"
  },
  "language_info": {
   "codemirror_mode": {
    "name": "ipython",
    "version": 2
   },
   "file_extension": ".py",
   "mimetype": "text/x-python",
   "name": "python",
   "nbconvert_exporter": "python",
   "pygments_lexer": "ipython2",
   "version": "2.7.6"
  }
 },
 "nbformat": 4,
 "nbformat_minor": 0
}