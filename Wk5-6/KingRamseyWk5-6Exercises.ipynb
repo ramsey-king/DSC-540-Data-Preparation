{
 "cells": [
  {
   "cell_type": "markdown",
   "metadata": {
    "collapsed": true,
    "pycharm": {
     "name": "#%% md\n"
    }
   },
   "source": [
    "# Ramsey King\n",
    "# DSC 540 - Data Preparation\n",
    "# Weeks 5 & 6\n",
    "# July 16, 2021\n",
    "## For this assignment you need to complete 8 of the following exercises against this data.  You must select at least 2 methods from Chapters 7, 8, 10 & 11."
   ]
  },
  {
   "cell_type": "code",
   "execution_count": 108,
   "outputs": [
    {
     "data": {
      "text/plain": "(1259, 123)"
     },
     "execution_count": 108,
     "metadata": {},
     "output_type": "execute_result"
    }
   ],
   "source": [
    "import matplotlib.pyplot as plt\n",
    "import pandas as pd\n",
    "import numpy as np\n",
    "\n",
    "candy_2016_df = pd.read_excel('BOING-BOING-CANDY-HIERARCHY-2016-SURVEY-Responses.xlsx')\n",
    "candy_2016_df.shape"
   ],
   "metadata": {
    "collapsed": false,
    "pycharm": {
     "name": "#%%\n"
    }
   }
  },
  {
   "cell_type": "markdown",
   "source": [
    "### The 2 method from Chapter 7 that I will chose are filtering out missing data and binning. This will be done by filtering out the rows where the column 'How old are you?' is non-numeric.  From there, the ages will be binned."
   ],
   "metadata": {
    "collapsed": false,
    "pycharm": {
     "name": "#%% md\n"
    }
   }
  },
  {
   "cell_type": "code",
   "execution_count": 86,
   "outputs": [
    {
     "data": {
      "text/plain": "(1191, 123)"
     },
     "execution_count": 86,
     "metadata": {},
     "output_type": "execute_result"
    }
   ],
   "source": [
    "# rename the 'How old are you?' column to 'age'\n",
    "candy_2016_df = candy_2016_df.rename(columns={candy_2016_df.columns[3]:'age'})\n",
    "\n",
    "# remove rows where 'age' column does not contain a number\n",
    "candy_2016_df = candy_2016_df[pd.to_numeric(candy_2016_df['age'], errors='coerce').notnull()]\n",
    "candy_2016_df.shape"
   ],
   "metadata": {
    "collapsed": false,
    "pycharm": {
     "name": "#%%\n"
    }
   }
  },
  {
   "cell_type": "code",
   "execution_count": 87,
   "outputs": [
    {
     "data": {
      "text/plain": "(34, 44]     382\n(24, 34]     317\n(44, 54]     292\n(54, 64]     121\n(17, 24]      37\n(0, 17]       21\n(64, 140]     19\nName: age, dtype: int64"
     },
     "execution_count": 87,
     "metadata": {},
     "output_type": "execute_result"
    }
   ],
   "source": [
    "# bin 'age' column based on age ranges (<17, 18-25, 26-34, 35-44, 45-54, 55-64, >65)\n",
    "bins = [0,17,24,34,44,54,64,140]\n",
    "cats = pd.cut(candy_2016_df['age'], bins)\n",
    "pd.value_counts(cats)\n",
    "# candy_2016_df.plot.bar(x=cats,y=pd.value_counts(cats))"
   ],
   "metadata": {
    "collapsed": false,
    "pycharm": {
     "name": "#%%\n"
    }
   }
  },
  {
   "cell_type": "markdown",
   "source": [
    "### The 2 methods that I will chose from Chapter 8 are combining/merging datasets and pivoting data.  This will be acheived as follows:\n",
    "1. Create a subset of the 2016 and 2017 candy datasets based on all participants who gave a response in the '[100 Grand Bar]' column\n",
    "2. Merge these subset datasets together (adding the rows of the 2016 dataset to the 2017 dataset).\n",
    "3. Creating a pivot table based on the 100 Grand Bar response type by gender"
   ],
   "metadata": {
    "collapsed": false,
    "pycharm": {
     "name": "#%% md\n"
    }
   }
  },
  {
   "cell_type": "code",
   "execution_count": 88,
   "outputs": [
    {
     "name": "stdout",
     "output_type": "stream",
     "text": [
      "2016 dimensions: (1259, 123) \n",
      "2017 dimensions: (2460, 120)\n"
     ]
    }
   ],
   "source": [
    "# Load the 2016 and 2017 datasets (since I've re-written over the 2016 dataset above)\n",
    "\n",
    "candy_2016_df = pd.read_excel('BOING-BOING-CANDY-HIERARCHY-2016-SURVEY-Responses.xlsx')\n",
    "candy_2017_df = pd.read_excel('candyhierarchy2017.xlsx')\n",
    "\n",
    "print(\"2016 dimensions:\", candy_2016_df.shape, \"\\n2017 dimensions:\", candy_2017_df.shape)"
   ],
   "metadata": {
    "collapsed": false,
    "pycharm": {
     "name": "#%%\n"
    }
   }
  },
  {
   "cell_type": "code",
   "execution_count": 89,
   "outputs": [
    {
     "name": "stdout",
     "output_type": "stream",
     "text": [
      "hundred_grand_bar has 78 missing value(s)\n"
     ]
    }
   ],
   "source": [
    "# rename the '100 Grand Bar' column '100_grand_bar', 'Your gender:' column 'gender', and 'How old are you?' 'age'\n",
    "candy_2016_df = candy_2016_df.rename(columns={candy_2016_df.columns[2]:'gender',\n",
    "                                              candy_2016_df.columns[3]:'age',\n",
    "                                              candy_2016_df.columns[6]:'hundred_grand_bar'})\n",
    "#candy_2016_df.columns\n",
    "\n",
    "\n",
    "# check for empty values in the hundred_grand_bar column in the 2016 dataset.\n",
    "miss = candy_2016_df['hundred_grand_bar'].isnull().sum()\n",
    "if miss>0:\n",
    "    print(\"hundred_grand_bar has {} missing value(s)\".format(miss))\n",
    "else:\n",
    "    print(\"hundred_grand_bar has no missing values.\")\n"
   ],
   "metadata": {
    "collapsed": false,
    "pycharm": {
     "name": "#%%\n"
    }
   }
  },
  {
   "cell_type": "code",
   "execution_count": 90,
   "outputs": [
    {
     "data": {
      "text/plain": "(1181, 123)"
     },
     "execution_count": 90,
     "metadata": {},
     "output_type": "execute_result"
    }
   ],
   "source": [
    "# remove rows where the 100 Grand Bar value is null\n",
    "candy_2016_df = candy_2016_df[candy_2016_df['hundred_grand_bar'].isnull() == False]\n",
    "candy_2016_df.shape"
   ],
   "metadata": {
    "collapsed": false,
    "pycharm": {
     "name": "#%%\n"
    }
   }
  },
  {
   "cell_type": "code",
   "execution_count": 91,
   "outputs": [
    {
     "name": "stdout",
     "output_type": "stream",
     "text": [
      "hundred_grand_bar has 747 missing value(s)\n"
     ]
    }
   ],
   "source": [
    "# rename the '100 Grand Bar' column '100_grand_bar', 'Your gender:' column 'gender', and 'How old are you?' 'age'\n",
    "candy_2017_df = candy_2017_df.rename(columns={candy_2017_df.columns[2]:'gender',\n",
    "                                              candy_2017_df.columns[3]:'age',\n",
    "                                              candy_2017_df.columns[6]:'hundred_grand_bar'})\n",
    "#candy_2017_df.columns\n",
    "\n",
    "\n",
    "# check for empty values in the hundred_grand_bar column in the 2016 dataset.\n",
    "miss = candy_2017_df['hundred_grand_bar'].isnull().sum()\n",
    "if miss>0:\n",
    "    print(\"hundred_grand_bar has {} missing value(s)\".format(miss))\n",
    "else:\n",
    "    print(\"hundred_grand_bar has no missing values.\")"
   ],
   "metadata": {
    "collapsed": false,
    "pycharm": {
     "name": "#%%\n"
    }
   }
  },
  {
   "cell_type": "code",
   "execution_count": 92,
   "outputs": [
    {
     "data": {
      "text/plain": "(1713, 120)"
     },
     "execution_count": 92,
     "metadata": {},
     "output_type": "execute_result"
    }
   ],
   "source": [
    "# remove rows where the 100 Grand Bar value is null\n",
    "candy_2017_df = candy_2017_df[candy_2017_df['hundred_grand_bar'].isnull() == False]\n",
    "candy_2017_df.shape"
   ],
   "metadata": {
    "collapsed": false,
    "pycharm": {
     "name": "#%%\n"
    }
   }
  },
  {
   "cell_type": "code",
   "execution_count": 106,
   "outputs": [
    {
     "data": {
      "text/plain": "   gender age hundred_grand_bar\n0    Male  22               JOY\n1    Male  45               MEH\n2  Female  48               JOY\n3    Male  57               JOY\n4    Male  42               MEH",
      "text/html": "<div>\n<style scoped>\n    .dataframe tbody tr th:only-of-type {\n        vertical-align: middle;\n    }\n\n    .dataframe tbody tr th {\n        vertical-align: top;\n    }\n\n    .dataframe thead th {\n        text-align: right;\n    }\n</style>\n<table border=\"1\" class=\"dataframe\">\n  <thead>\n    <tr style=\"text-align: right;\">\n      <th></th>\n      <th>gender</th>\n      <th>age</th>\n      <th>hundred_grand_bar</th>\n    </tr>\n  </thead>\n  <tbody>\n    <tr>\n      <th>0</th>\n      <td>Male</td>\n      <td>22</td>\n      <td>JOY</td>\n    </tr>\n    <tr>\n      <th>1</th>\n      <td>Male</td>\n      <td>45</td>\n      <td>MEH</td>\n    </tr>\n    <tr>\n      <th>2</th>\n      <td>Female</td>\n      <td>48</td>\n      <td>JOY</td>\n    </tr>\n    <tr>\n      <th>3</th>\n      <td>Male</td>\n      <td>57</td>\n      <td>JOY</td>\n    </tr>\n    <tr>\n      <th>4</th>\n      <td>Male</td>\n      <td>42</td>\n      <td>MEH</td>\n    </tr>\n  </tbody>\n</table>\n</div>"
     },
     "execution_count": 106,
     "metadata": {},
     "output_type": "execute_result"
    }
   ],
   "source": [
    "'''\n",
    "merge the 2016 and 2017 candy datasets together by adding rows.  Before we do this, we will grab only the gender, age,\n",
    "and hundred_grand_bar columns and put them into a new dataframe\n",
    "'''\n",
    "candy_2016_subset = candy_2016_df[['gender', 'age', 'hundred_grand_bar']]\n",
    "candy_2017_subset = candy_2017_df[['gender', 'age', 'hundred_grand_bar']]\n",
    "\n",
    "combined_candy_subset = candy_2016_subset.append(candy_2017_subset)\n",
    "combined_candy_subset"
   ],
   "metadata": {
    "collapsed": false,
    "pycharm": {
     "name": "#%%\n"
    }
   }
  },
  {
   "cell_type": "code",
   "execution_count": 117,
   "outputs": [
    {
     "name": "stdout",
     "output_type": "stream",
     "text": [
      "Empty DataFrame\n",
      "Columns: [gender, age, hundred_grand_bar]\n",
      "Index: []\n"
     ]
    }
   ],
   "source": [
    "'''\n",
    "Now we are ready to pivot the data based on gender.\n",
    "'''\n",
    "combined_candy_subset.dtypes\n",
    "# drop the rows with missing values for age\n",
    "combined_candy_subset = combined_candy_subset[combined_candy_subset['age'].isnull() == False]\n",
    "print(combined_candy_subset)\n",
    "# combined_candy_subset = combined_candy_subset[combined_candy_subset['age'].str.isnumeric() == True]\n",
    "#\n",
    "# # convert age column to numeric\n",
    "# pd.to_numeric(combined_candy_subset['age'])\n",
    "# combined_candy_subset.pivot_table(values=['age'], index=['hundred_grand_bar'],aggfunc=np.mean)\n",
    "\n"
   ],
   "metadata": {
    "collapsed": false,
    "pycharm": {
     "name": "#%%\n"
    }
   }
  }
 ],
 "metadata": {
  "kernelspec": {
   "display_name": "Python 3",
   "language": "python",
   "name": "python3"
  },
  "language_info": {
   "codemirror_mode": {
    "name": "ipython",
    "version": 2
   },
   "file_extension": ".py",
   "mimetype": "text/x-python",
   "name": "python",
   "nbconvert_exporter": "python",
   "pygments_lexer": "ipython2",
   "version": "2.7.6"
  }
 },
 "nbformat": 4,
 "nbformat_minor": 0
}